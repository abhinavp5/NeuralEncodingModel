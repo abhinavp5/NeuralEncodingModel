{
 "cells": [
  {
   "cell_type": "markdown",
   "metadata": {},
   "source": [
    "### This Code is specifically for generating Figures"
   ]
  },
  {
   "cell_type": "code",
   "execution_count": null,
   "metadata": {},
   "outputs": [],
   "source": [
    "import pandas as pd\n",
    "import numpy as np\n",
    "import matplotlib.pyplot as plt\n",
    "import logging\n",
    "from lmfit import minimize, fit_report, Parameters\n",
    "from aim2_population_model_spatial_aff_parallel import get_mod_spike\n",
    "from model_constants import (MC_GROUPS, LifConstants)"
   ]
  }
 ],
 "metadata": {
  "language_info": {
   "name": "python"
  }
 },
 "nbformat": 4,
 "nbformat_minor": 2
}
