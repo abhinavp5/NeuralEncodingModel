{
 "cells": [
  {
   "cell_type": "markdown",
   "metadata": {},
   "source": [
    "### Making the Aggregated Dataset"
   ]
  },
  {
   "cell_type": "code",
   "execution_count": 12,
   "metadata": {},
   "outputs": [],
   "source": [
    "import pandas as pd\n",
    "import numpy as np \n",
    "import os \n",
    "import logging\n",
    "import re\n",
    "import nbimporter\n",
    "from vf_popul_model import VF_Population_Model\n"
   ]
  },
  {
   "cell_type": "markdown",
   "metadata": {},
   "source": [
    "### Making the Spatial Dataset"
   ]
  },
  {
   "cell_type": "code",
   "execution_count": null,
   "metadata": {},
   "outputs": [],
   "source": [
    "vf_model = VF_Population_Model(3.61, \"RA\", scaling_factor= 1.0, density=\"Realistic\")\n",
    "vf_model.radial_stress_vf_model()\n",
    "vf_model.get_radial_iff_data()"
   ]
  },
  {
   "cell_type": "code",
   "execution_count": null,
   "metadata": {},
   "outputs": [
    {
     "name": "stdout",
     "output_type": "stream",
     "text": [
      "d\n",
      "a\n",
      "t\n",
      "a\n",
      "/\n",
      "a\n",
      "n\n",
      "i\n",
      "k\n",
      "a\n",
      "_\n",
      "n\n",
      "e\n",
      "w\n",
      "_\n",
      "d\n",
      "a\n",
      "t\n",
      "a\n"
     ]
    }
   ],
   "source": [
    "time = []\n",
    "density = []\n",
    "x_coord = []\n",
    "y_cord = []\n",
    "vf_tip_size = []\n",
    "stress_trace = []\n",
    "iff = []\n",
    "\n",
    "# Path to the main directory\n",
    "main_directory = \"data/anika_new_data\"\n",
    "\n",
    "# Iterate through each density folder\n",
    "for density_folder in os.listdir(main_directory):\n",
    "    density_path = os.path.join(main_directory, density_folder)\n",
    "    density_name = density_folder.lower()\n",
    "    \n",
    "\n",
    "    #iterating through each vf_tip folder\n",
    "    for vf_tip_folder in density_path:\n",
    "        # Check if the path is a directory\n",
    "        vf_tip_path = os.path.join(density_path, vf_tip_folder)\n",
    "        #iterating through each of the datafiles in the vf_tip folders\n",
    "        for file in vf_tip_path:\n",
    "            file_path = os.path.join(vf_tip_path, file)\n",
    "\n",
    "            #radial case(first column in time following columns distance from the center))\n",
    "            if file_path.endswith(f\"radial_stress_corr_{density_name}.csv\"):\n",
    "                pass\n",
    "\n",
    "            #all of the corrds on the spatial grid\n",
    "            elif file_path.endswith(f\"spatial_coords_corr_{density_name}.csv\"):\n",
    "                pass\n",
    "            \n",
    "            #contains the stress traces for the coordinates above\n",
    "            elif file_path.endswith(f\"3.61_spatial_stress_corr_{density_name}.csv\"):\n",
    "                pass\n",
    "\n",
    "            #one of the DIC graphics\n",
    "            else:\n",
    "                logging.warning(f\"Skipping because not one of the specified files.\")\n",
    "\n",
    "            "
   ]
  },
  {
   "cell_type": "markdown",
   "metadata": {},
   "source": [
    "### Making the Radial Dataset"
   ]
  },
  {
   "cell_type": "code",
   "execution_count": null,
   "metadata": {},
   "outputs": [],
   "source": []
  }
 ],
 "metadata": {
  "kernelspec": {
   "display_name": "Python 3",
   "language": "python",
   "name": "python3"
  },
  "language_info": {
   "codemirror_mode": {
    "name": "ipython",
    "version": 3
   },
   "file_extension": ".py",
   "mimetype": "text/x-python",
   "name": "python",
   "nbconvert_exporter": "python",
   "pygments_lexer": "ipython3",
   "version": "3.12.2"
  }
 },
 "nbformat": 4,
 "nbformat_minor": 2
}
