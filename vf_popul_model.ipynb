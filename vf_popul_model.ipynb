{
 "cells": [
  {
   "cell_type": "code",
   "execution_count": 1,
   "metadata": {},
   "outputs": [],
   "source": [
    "import pandas as pd\n",
    "import numpy as np\n",
    "import csv\n",
    "import re\n",
    "import matplotlib.pyplot as plt\n",
    "import matplotlib.patches as patches\n",
    "import logging\n",
    "from lmfit import minimize, fit_report, Parameters\n",
    "from aim2_population_model_spatial_aff_parallel import get_mod_spike\n",
    "from model_constants import (MC_GROUPS, LifConstants)\n",
    "from popul_model import pop_model"
   ]
  },
  {
   "cell_type": "code",
   "execution_count": 2,
   "metadata": {},
   "outputs": [],
   "source": [
    "#Global Variables\n",
    "lmpars_init_dict = {}\n",
    "lmpars = Parameters()\n",
    "lmpars.add('tau1', value=8, vary=False)\n",
    "lmpars.add('tau2', value=200, vary=False)\n",
    "lmpars.add('tau3', value=1744.6, vary=False)\n",
    "lmpars.add('tau4', value=np.inf, vary=False)\n",
    "lmpars.add('k1', value=.74, vary=False, min=0) #a constant\n",
    "lmpars.add('k2', value=2.75, vary=False, min=0) #b constant\n",
    "lmpars.add('k3', value=.07, vary=False, min=0) #c constant\n",
    "lmpars.add('k4', value=.0312, vary=False, min=0)\n",
    "lmpars_init_dict['t3f12v3final'] = lmpars\n"
   ]
  },
  {
   "cell_type": "code",
   "execution_count": 58,
   "metadata": {},
   "outputs": [],
   "source": [
    "class VF_Population_Model:\n",
    "    \n",
    "    def __init__(self, vf_tip_size, aff_type):\n",
    "        self.vf_tip_size = vf_tip_size\n",
    "        self.aff_type = aff_type\n",
    "        self.results = None\n",
    "        self.stress_data = None\n",
    "    \"\"\"\n",
    "        functino takes in a vf_tip_size (given that that there is data assicated with it) an\n",
    "        afferent type, and runs the single unit model for all of those coordinates with the data\n",
    "        \n",
    "    \"\"\"\n",
    "    def spatial_stress_vf_model(self, scaling_factor = 0.3):\n",
    "\n",
    "        #reading data in \n",
    "        coords = pd.read_csv(f\"data/vfspatial/{self.vf_tip_size}_spatial_coords.csv\", header = None)\n",
    "        x_coords = coords[0]\n",
    "        y_coords = coords[1]\n",
    "        stress_data = pd.read_csv(f\"data/vfspatial/3.61_spatial_stress.csv\", )\n",
    "        time = stress_data['Time (ms)'].to_numpy()\n",
    "\n",
    "        afferent_type = []\n",
    "        x_pos = []\n",
    "        y_pos = []\n",
    "        spikes = []\n",
    "        mean_firing_frequency = []\n",
    "        peak_firing_frequency = []\n",
    "        first_spike_time = []\n",
    "        last_spike_time = []\n",
    "\n",
    "        #iterating through each of the coordinates\n",
    "        for i, row in coords.iloc[1:].iterrows():\n",
    "            \n",
    "            #getting stress data\n",
    "            \n",
    "            if f\"Coord {i} Stress (kPa)\" in stress_data.columns:\n",
    "                stress = stress_data[f\"Coord {i} Stress (kPa)\"]\n",
    "            else:\n",
    "                logging.warning(\"STRESS VALUE COULD NOT BE INDEXED\")\n",
    "\n",
    "            lmpars = lmpars_init_dict['t3f12v3final']\n",
    "            if self.aff_type == \"RA\":\n",
    "                lmpars['tau1'].value = 2.5\n",
    "                lmpars['tau2'].value = 200\n",
    "                lmpars['tau3'].value = 1\n",
    "                lmpars['k1'].value = 35\n",
    "                lmpars['k2'].value = 0\n",
    "                lmpars['k3'].value = 0.0\n",
    "                lmpars['k4'].value = 0\n",
    "\n",
    "            groups = MC_GROUPS\n",
    "            mod_spike_time, mod_fr_inst = get_mod_spike(lmpars, groups, time, stress)\n",
    "\n",
    "            if len(mod_spike_time) == 0 or len(mod_fr_inst) == 0:\n",
    "                logging.warning(f\"SPIKES COULD NOT BE GENERATED FOR {self.vf_tip_size}\")\n",
    "                continue\n",
    "\n",
    "            if len(mod_spike_time) != len(mod_fr_inst):\n",
    "                if len(mod_fr_inst) > 1:\n",
    "                    mod_fr_inst_interp = np.interp(mod_spike_time, time, mod_fr_inst)\n",
    "                else:\n",
    "                    mod_fr_inst_interp = np.zeros_like(mod_spike_time)\n",
    "            else:\n",
    "                mod_fr_inst_interp = mod_fr_inst\n",
    "\n",
    "            features, _ = pop_model(mod_spike_time,mod_fr_inst_interp)\n",
    "\n",
    "            #appending stuff to lists\n",
    "            afferent_type.append(self.aff_type)\n",
    "            x_pos.append(row[0])\n",
    "            y_pos.append(row[1])\n",
    "            spikes.append(len(mod_spike_time) if len(mod_spike_time) !=0 else None)\n",
    "            mean_firing_frequency.append(features[\"Average Firing Rate\"])\n",
    "            peak_firing_frequency.append(np.max(mod_fr_inst_interp))\n",
    "            first_spike_time.append(mod_spike_time[0] if len(mod_spike_time) != None else None)\n",
    "            last_spike_time.append(mod_spike_time[-1])\n",
    "\n",
    "            \n",
    "        model_results = {\n",
    "            'afferent_type': self.aff_type,\n",
    "            'x_position': x_pos,\n",
    "            'y_position': y_pos,\n",
    "            'num_of_spikes' : spikes,\n",
    "            'mean_firing_frequency' : mean_firing_frequency,\n",
    "            'peak_firing_frequency' : peak_firing_frequency, \n",
    "            'first_spike_time': first_spike_time,\n",
    "            'last_spike_time' : last_spike_time\n",
    "        }\n",
    "\n",
    "        self.results = model_results\n",
    "        return model_results\n",
    "\n",
    "    def radial_stress_vf_model(self,scaling_factor = 0.3):\n",
    "        \"\"\" Read in the Radial which has sample stress traces for every 2mm from a center point\n",
    "        to calculate firing\"\"\"\n",
    "\n",
    "        #regex pattern for exstracting the distance from the middle point\n",
    "        distance_regex = r'\\d\\.\\d{2}'\n",
    "\n",
    "        #reading data from spatial stress data file for 50 (or n) data points in a grid\n",
    "        coords = pd.read_csv(f\"data/vfspatial/{self.vf_tip_size}_spatial_coords.csv\", header = None)\n",
    "        stress_df = pd.read_csv(f\"data/vfspatial/{self.vf_tip_size}_spatial_stress.csv\", )\n",
    "        time = stress_df['Time (ms)'].to_numpy()\n",
    "\n",
    "        #Reading in the radial stress file\n",
    "        radial_stress = pd.read_csv(f\"data/vfspatial/{self.vf_tip_size}_radial_stress.csv\")\n",
    "        radial_time = stress_df['Time (ms)'].to_numpy()\n",
    "        \n",
    "        stress_data = {}\n",
    "        iff_data = {}\n",
    "\n",
    "\n",
    "\n",
    "        #Outer loop top iterate through all n spatial points\n",
    "        for i, row in coords.iloc[1:].iterrows():\n",
    "            #Flag to ensure that only 0.00mm or only the first stress trace in the radial file gets a scaling factor calculated\n",
    "            radial_spatial_flag = True\n",
    "            stress_data[i] = {}\n",
    "            iff_data[i] = {}\n",
    "            afferent_type = []\n",
    "            x_pos = []\n",
    "            y_pos = []\n",
    "            spikes = []\n",
    "            mean_firing_frequency = []\n",
    "            peak_firing_frequency = []\n",
    "            first_spike_time = []\n",
    "            last_spike_time = []\n",
    "\n",
    "            distance_scaling_factor = 0 \n",
    "\n",
    "            if f\"Coord {i} Stress (kPa)\" in stress_df.columns:\n",
    "\n",
    "                spatial_stress = stress_df[f\"Coord {i} Stress (kPa)\"]\n",
    "                spatial_stress_max = np.max(spatial_stress)\n",
    "\n",
    "                #inner loop to iterate through all radial distances from the center\n",
    "                for col in radial_stress.columns[1:]:\n",
    "                    #stores the distacnef rom the cetner in mm\n",
    "                    distance_from_center = float(re.findall(distance_regex, col)[0])\n",
    "\n",
    "                    \n",
    "                    #scaling factor only calculated for the first stress trace in the radial file\n",
    "                    if radial_spatial_flag:\n",
    "                        #getting stress data\n",
    "                        radial_stress_vals = radial_stress[col]\n",
    "                        radial_stress_max = np.max(radial_stress_vals)\n",
    "                        distance_scaling_factor = spatial_stress_max / radial_stress_max\n",
    "                        radial_spatial_flag = False\n",
    "                    \n",
    "                    #Performing Scaling \n",
    "                    scaled_stress = radial_stress[col] * distance_scaling_factor * scaling_factor\n",
    "\n",
    "                    stress_data[i][distance_from_center] = {\n",
    "                        \"Time\": radial_time,\n",
    "                        distance_from_center: scaled_stress.to_numpy()\n",
    "                    }\n",
    "\n",
    "\n",
    "\n",
    "                    #Calculating spikes and IFFs\n",
    "                    lmpars = lmpars_init_dict['t3f12v3final']\n",
    "                    if self.aff_type == \"RA\":\n",
    "                        lmpars['tau1'].value = 2.5\n",
    "                        lmpars['tau2'].value = 200\n",
    "                        lmpars['tau3'].value = 1\n",
    "                        lmpars['k1'].value = 35\n",
    "                        lmpars['k2'].value = 0\n",
    "                        lmpars['k3'].value = 0.0\n",
    "                        lmpars['k4'].value = 0\n",
    "\n",
    "                    groups = MC_GROUPS\n",
    "                    mod_spike_time, mod_fr_inst = get_mod_spike(lmpars, groups, stress_data[i][distance_from_center][\"Time\"], stress_data[i][distance_from_center][distance_from_center])\n",
    "\n",
    "                    if len(mod_spike_time) == 0 or len(mod_fr_inst) == 0:\n",
    "                        logging.warning(f\"SPIKES COULD NOT BE GENERATED FOR {self.vf_tip_size}\")\n",
    "                        continue\n",
    "\n",
    "                    if len(mod_spike_time) != len(mod_fr_inst):\n",
    "                        if len(mod_fr_inst) > 1:\n",
    "                            mod_fr_inst_interp = np.interp(mod_spike_time, time, mod_fr_inst)\n",
    "                        else:\n",
    "                            mod_fr_inst_interp = np.zeros_like(mod_spike_time)\n",
    "                    else:\n",
    "                        mod_fr_inst_interp = mod_fr_inst\n",
    "\n",
    "                    features, _ = pop_model(mod_spike_time,mod_fr_inst_interp)\n",
    "\n",
    "                    #appending stuff to lists\n",
    "                    afferent_type.append(self.aff_type)\n",
    "                    x_pos.append(row[0])\n",
    "                    y_pos.append(row[1])\n",
    "                    spikes.append(len(mod_spike_time) if len(mod_spike_time) !=0 else None)\n",
    "                    mean_firing_frequency.append(features[\"Average Firing Rate\"])\n",
    "                    peak_firing_frequency.append(np.max(mod_fr_inst_interp))\n",
    "                    first_spike_time.append(mod_spike_time[0] if len(mod_spike_time) != None else None)\n",
    "                    last_spike_time.append(mod_spike_time[-1])\n",
    "\n",
    "                    iff_data[i][distance_from_center] = {\n",
    "                        'afferent_type': self.aff_type,\n",
    "                        'x_position': x_pos,\n",
    "                        'y_position': y_pos,\n",
    "                        'num_of_spikes' : spikes,\n",
    "                        'mean_firing_frequency' : mean_firing_frequency,\n",
    "                        'peak_firing_frequency' : peak_firing_frequency, \n",
    "                        'first_spike_time': first_spike_time,\n",
    "                        'last_spike_time' : last_spike_time\n",
    "                    }\n",
    "            else:\n",
    "                logging.warning(\"STRESS VALUE COULD NOT BE INDEXED\")\n",
    "        self.stress_data = stress_data\n",
    "        self.results = iff_data\n",
    "\n",
    "        \n",
    "\n",
    "    def aggregate_results(self):\n",
    "        df = pd.DataFrame(self.results)\n",
    "        file_path = f\"generated_csv_files/{self.vf_tip_size}_vf_popul_model.csv\"\n",
    "        df.to_csv(file_path, index = False)\n",
    "        return file_path \n",
    "    \n",
    "    def plot(self):\n",
    "        \"\"\"\n",
    "        Plots the iffs on a grid for the original n points, the magniude of the peak firing\n",
    "        frequency directly affects the size of the circle plotted, and the opacity\n",
    "        \"\"\"\n",
    "        #colors for differnet afferents\n",
    "        colors = {'SA': '#31a354', 'RA': '#3182bd'}\n",
    "        plt.figure(figsize=(10, 5))\n",
    "\n",
    "        # Plot the stimulus locations as circles\n",
    "        x_positions = self.results.get(\"x_position\")\n",
    "        y_positions = self.results.get(\"y_position\")\n",
    "        mean_iffs = self.results.get(\"mean_firing_frequency\")\n",
    "        peak_iffs = self.results.get(\"peak_firing_frequency\")\n",
    "        \n",
    "        x_positions = [float(value) for value in x_positions]\n",
    "        y_positions = [float(value) for value in y_positions]\n",
    "        #scaling peak_iffs so it looks better when plotting\n",
    "    \n",
    "        alphas = [float(value)/max(peak_iffs) for value in peak_iffs]\n",
    "\n",
    "        #Scatter plot\n",
    "                # Plot the stimulus locations as circles\n",
    "        for x_pos, y_pos, radius, alpha in zip(x_positions, y_positions, peak_iffs, alphas):\n",
    "            plt.gca().add_patch(\n",
    "                patches.Circle((x_pos, y_pos), radius*2, edgecolor='black', facecolor = colors.get(self.aff_type) , linewidth=1, alpha = 0.5)\n",
    "            )\n",
    "        plt.xlabel('Length (mm)')\n",
    "        plt.ylabel('Width (mm)')\n",
    "        plt.title(\"VF Afferent Stress Distribution\")\n",
    "        plt.gca().set_aspect('equal', adjustable='box')\n",
    "        plt.xlim(min(x_positions) - 1, max(x_positions) + 1)\n",
    "        plt.ylim(min(y_positions) - 1, max(y_positions) + 1)\n",
    "        plt.savefig(f\"vf_graphs/aggregated_results_on_grid/{self.vf_tip_size}_{self.aff_type}_constant_opacity.png\")\n",
    "\n",
    "    def get_iffs(self):\n",
    "        return self.results\n",
    "    \n",
    "    def get_stress_traces(self):\n",
    "        return self.stress_data\n"
   ]
  },
  {
   "cell_type": "code",
   "execution_count": 42,
   "metadata": {},
   "outputs": [
    {
     "name": "stdout",
     "output_type": "stream",
     "text": [
      "MAX SCALED STRESS 84.797187\n",
      "MEAN SCALED STRESS 69.28609257967786\n",
      "MAX SCALED STRESS 53.77216799999999\n",
      "MEAN SCALED STRESS 43.936168907033036\n",
      "MAX SCALED STRESS 43.411254\n",
      "MEAN SCALED STRESS 35.47047056587238\n",
      "MAX SCALED STRESS 37.249344\n",
      "MEAN SCALED STRESS 30.435696705905652\n",
      "MAX SCALED STRESS 30.080990999999997\n",
      "MEAN SCALED STRESS 24.5785800210557\n",
      "MAX SCALED STRESS 24.0818019\n",
      "MEAN SCALED STRESS 19.676760870497702\n",
      "MAX SCALED STRESS 18.4435335\n",
      "MEAN SCALED STRESS 15.069844003048706\n",
      "MAX SCALED STRESS 14.719182\n",
      "MEAN SCALED STRESS 12.026750705582996\n",
      "MAX SCALED STRESS 11.550413099999998\n",
      "MEAN SCALED STRESS 9.437612577335944\n",
      "MAX SCALED STRESS 8.5017126\n",
      "MEAN SCALED STRESS 6.946580208637918\n",
      "MAX SCALED STRESS 5.772590999999999\n",
      "MEAN SCALED STRESS 4.716669257952389\n",
      "MAX SCALED STRESS 4.2675879\n",
      "MEAN SCALED STRESS 3.486961104245319\n",
      "MAX SCALED STRESS 3.2812913999999997\n",
      "MEAN SCALED STRESS 2.6810779888142555\n",
      "MAX SCALED STRESS 2.7725279099999995\n"
     ]
    },
    {
     "name": "stderr",
     "output_type": "stream",
     "text": [
      "WARNING:root:SPIKES COULD NOT BE GENERATED FOR 4.17\n"
     ]
    },
    {
     "name": "stdout",
     "output_type": "stream",
     "text": [
      "MEAN SCALED STRESS 2.2653773547928293\n",
      "MAX SCALED STRESS 3.1950068999999996\n",
      "MEAN SCALED STRESS 2.610576493856729\n",
      "MAX SCALED STRESS 2.38658382\n",
      "MEAN SCALED STRESS 1.9500301181517894\n",
      "MAX SCALED STRESS 2.79395901\n",
      "MEAN SCALED STRESS 2.282888288128717\n",
      "MAX SCALED STRESS 3.8459409\n",
      "MEAN SCALED STRESS 3.1424417168210885\n",
      "MAX SCALED STRESS 4.3475538\n",
      "MEAN SCALED STRESS 3.5522997390380207\n",
      "MAX SCALED STRESS 3.1891107\n",
      "MEAN SCALED STRESS 2.605758823364648\n",
      "MAX SCALED STRESS 3.1507520999999996\n",
      "MEAN SCALED STRESS 2.5744169030359014\n",
      "MAX SCALED STRESS 3.2635602\n",
      "MEAN SCALED STRESS 2.666590125342275\n",
      "MAX SCALED STRESS 3.4709844\n",
      "MEAN SCALED STRESS 2.836072294143654\n",
      "MAX SCALED STRESS 3.538935\n",
      "MEAN SCALED STRESS 2.891593226610141\n",
      "MAX SCALED STRESS 2.80346226\n",
      "MEAN SCALED STRESS 2.290653198769764\n",
      "MAX SCALED STRESS 16.3320117\n",
      "MEAN SCALED STRESS 13.344561472995348\n",
      "MAX SCALED STRESS 10.356566154846215\n",
      "MEAN SCALED STRESS 8.462144205831258\n",
      "MAX SCALED STRESS 8.361045139854365\n",
      "MEAN SCALED STRESS 6.8316433690935225\n",
      "MAX SCALED STRESS 7.174255934047963\n",
      "MEAN SCALED STRESS 5.861941560614535\n",
      "MAX SCALED STRESS 5.793624934275175\n",
      "MEAN SCALED STRESS 4.733855811434734\n",
      "MAX SCALED STRESS 4.638175914819936\n",
      "MEAN SCALED STRESS 3.78976119520416\n",
      "MAX SCALED STRESS 3.5522405349524386\n",
      "MEAN SCALED STRESS 2.9024650142576816\n",
      "MAX SCALED STRESS 2.8349272085927733\n",
      "MEAN SCALED STRESS 2.3163626080728923\n",
      "MAX SCALED STRESS 2.2246195724515396\n"
     ]
    },
    {
     "name": "stderr",
     "output_type": "stream",
     "text": [
      "WARNING:root:SPIKES COULD NOT BE GENERATED FOR 4.17\n",
      "WARNING:root:SPIKES COULD NOT BE GENERATED FOR 4.17\n",
      "WARNING:root:SPIKES COULD NOT BE GENERATED FOR 4.17\n"
     ]
    },
    {
     "name": "stdout",
     "output_type": "stream",
     "text": [
      "MEAN SCALED STRESS 1.8176923608694446\n",
      "MAX SCALED STRESS 1.6374372141995395\n",
      "MEAN SCALED STRESS 1.3379173679719225\n",
      "MAX SCALED STRESS 1.1118060290291787\n",
      "MEAN SCALED STRESS 0.9084345864669867\n",
      "MAX SCALED STRESS 0.8219411277590898\n",
      "MEAN SCALED STRESS 0.671591730418834\n"
     ]
    },
    {
     "name": "stderr",
     "output_type": "stream",
     "text": [
      "WARNING:root:SPIKES COULD NOT BE GENERATED FOR 4.17\n",
      "WARNING:root:SPIKES COULD NOT BE GENERATED FOR 4.17\n",
      "WARNING:root:SPIKES COULD NOT BE GENERATED FOR 4.17\n",
      "WARNING:root:SPIKES COULD NOT BE GENERATED FOR 4.17\n"
     ]
    },
    {
     "name": "stdout",
     "output_type": "stream",
     "text": [
      "MAX SCALED STRESS 0.6319795671513181\n",
      "MEAN SCALED STRESS 0.5163779440222102\n",
      "MAX SCALED STRESS 0.5339912780915308\n",
      "MEAN SCALED STRESS 0.43631364167058434\n",
      "MAX SCALED STRESS 0.6153610976786379\n",
      "MEAN SCALED STRESS 0.5027992949979943\n",
      "MAX SCALED STRESS 0.45965811190494676\n",
      "MEAN SCALED STRESS 0.37557749061896833\n"
     ]
    },
    {
     "name": "stderr",
     "output_type": "stream",
     "text": [
      "WARNING:root:SPIKES COULD NOT BE GENERATED FOR 4.17\n",
      "WARNING:root:SPIKES COULD NOT BE GENERATED FOR 4.17\n",
      "WARNING:root:SPIKES COULD NOT BE GENERATED FOR 4.17\n",
      "WARNING:root:SPIKES COULD NOT BE GENERATED FOR 4.17\n"
     ]
    },
    {
     "name": "stdout",
     "output_type": "stream",
     "text": [
      "MAX SCALED STRESS 0.5381189265233576\n",
      "MEAN SCALED STRESS 0.4396862626057534\n",
      "MAX SCALED STRESS 0.740731550166971\n",
      "MEAN SCALED STRESS 0.6052369978462859\n",
      "MAX SCALED STRESS 0.8373426293961788\n",
      "MEAN SCALED STRESS 0.684176008101258\n",
      "MAX SCALED STRESS 0.6142254844490913\n",
      "MEAN SCALED STRESS 0.5018714074863081\n"
     ]
    },
    {
     "name": "stderr",
     "output_type": "stream",
     "text": [
      "WARNING:root:SPIKES COULD NOT BE GENERATED FOR 4.17\n",
      "WARNING:root:SPIKES COULD NOT BE GENERATED FOR 4.17\n",
      "WARNING:root:SPIKES COULD NOT BE GENERATED FOR 4.17\n",
      "WARNING:root:SPIKES COULD NOT BE GENERATED FOR 4.17\n"
     ]
    },
    {
     "name": "stdout",
     "output_type": "stream",
     "text": [
      "MAX SCALED STRESS 0.606837584848181\n",
      "MEAN SCALED STRESS 0.49583492647061633\n",
      "MAX SCALED STRESS 0.6285645226657618\n",
      "MEAN SCALED STRESS 0.5135875689625707\n",
      "MAX SCALED STRESS 0.6685146033360455\n",
      "MEAN SCALED STRESS 0.5462299815440811\n",
      "MAX SCALED STRESS 0.6816019477808798\n",
      "MEAN SCALED STRESS 0.5569233612506224\n"
     ]
    },
    {
     "name": "stderr",
     "output_type": "stream",
     "text": [
      "WARNING:root:SPIKES COULD NOT BE GENERATED FOR 4.17\n",
      "WARNING:root:SPIKES COULD NOT BE GENERATED FOR 4.17\n"
     ]
    },
    {
     "name": "stdout",
     "output_type": "stream",
     "text": [
      "MAX SCALED STRESS 0.5399492607087124\n",
      "MEAN SCALED STRESS 0.4411817911241585\n",
      "MAX SCALED STRESS 18.2251638\n",
      "MEAN SCALED STRESS 14.891418347717046\n",
      "MAX SCALED STRESS 11.55706461914967\n",
      "MEAN SCALED STRESS 9.443047622265395\n",
      "MAX SCALED STRESS 9.330229491143442\n",
      "MEAN SCALED STRESS 7.623544589115944\n",
      "MAX SCALED STRESS 8.005871655182938\n",
      "MEAN SCALED STRESS 6.541438194550617\n",
      "MAX SCALED STRESS 6.465202533679871\n",
      "MEAN SCALED STRESS 5.2825885233097125\n",
      "MAX SCALED STRESS 5.175817733513392\n",
      "MEAN SCALED STRESS 4.229057620959186\n",
      "MAX SCALED STRESS 3.9640043612329654\n",
      "MEAN SCALED STRESS 3.238909038291688\n"
     ]
    },
    {
     "name": "stderr",
     "output_type": "stream",
     "text": [
      "WARNING:root:SPIKES COULD NOT BE GENERATED FOR 4.17\n",
      "WARNING:root:SPIKES COULD NOT BE GENERATED FOR 4.17\n"
     ]
    },
    {
     "name": "stdout",
     "output_type": "stream",
     "text": [
      "MAX SCALED STRESS 3.1635424763796895\n",
      "MEAN SCALED STRESS 2.5848676040517202\n",
      "MAX SCALED STRESS 2.482490022990571\n",
      "MEAN SCALED STRESS 2.028393171850002\n",
      "MAX SCALED STRESS 1.8272434522565457\n",
      "MEAN SCALED STRESS 1.493004268552732\n",
      "MAX SCALED STRESS 1.2406828604515596\n",
      "MEAN SCALED STRESS 1.0137372813629624\n"
     ]
    },
    {
     "name": "stderr",
     "output_type": "stream",
     "text": [
      "WARNING:root:SPIKES COULD NOT BE GENERATED FOR 4.17\n",
      "WARNING:root:SPIKES COULD NOT BE GENERATED FOR 4.17\n",
      "WARNING:root:SPIKES COULD NOT BE GENERATED FOR 4.17\n",
      "WARNING:root:SPIKES COULD NOT BE GENERATED FOR 4.17\n"
     ]
    },
    {
     "name": "stdout",
     "output_type": "stream",
     "text": [
      "MAX SCALED STRESS 0.9172177905901291\n",
      "MEAN SCALED STRESS 0.7494403946336076\n",
      "MAX SCALED STRESS 0.7052365220621212\n",
      "MEAN SCALED STRESS 0.5762347459322487\n",
      "MAX SCALED STRESS 0.5958897586994443\n",
      "MEAN SCALED STRESS 0.4868896577891201\n",
      "MAX SCALED STRESS 0.6866916952637853\n",
      "MEAN SCALED STRESS 0.5610821053883378\n"
     ]
    },
    {
     "name": "stderr",
     "output_type": "stream",
     "text": [
      "WARNING:root:SPIKES COULD NOT BE GENERATED FOR 4.17\n",
      "WARNING:root:SPIKES COULD NOT BE GENERATED FOR 4.17\n",
      "WARNING:root:SPIKES COULD NOT BE GENERATED FOR 4.17\n",
      "WARNING:root:SPIKES COULD NOT BE GENERATED FOR 4.17\n"
     ]
    },
    {
     "name": "stdout",
     "output_type": "stream",
     "text": [
      "MAX SCALED STRESS 0.512940140831909\n",
      "MEAN SCALED STRESS 0.41911317551429755\n",
      "MAX SCALED STRESS 0.6004958703139037\n",
      "MEAN SCALED STRESS 0.49065322164811276\n",
      "MAX SCALED STRESS 0.8265946707361816\n",
      "MEAN SCALED STRESS 0.6753940436846987\n",
      "MAX SCALED STRESS 0.9344045827170239\n",
      "MEAN SCALED STRESS 0.7634833996399573\n"
     ]
    },
    {
     "name": "stderr",
     "output_type": "stream",
     "text": [
      "WARNING:root:SPIKES COULD NOT BE GENERATED FOR 4.17\n",
      "WARNING:root:SPIKES COULD NOT BE GENERATED FOR 4.17\n",
      "WARNING:root:SPIKES COULD NOT BE GENERATED FOR 4.17\n",
      "WARNING:root:SPIKES COULD NOT BE GENERATED FOR 4.17\n"
     ]
    },
    {
     "name": "stdout",
     "output_type": "stream",
     "text": [
      "MAX SCALED STRESS 0.6854244455518632\n",
      "MEAN SCALED STRESS 0.5600466602638124\n",
      "MAX SCALED STRESS 0.6771801653714525\n",
      "MEAN SCALED STRESS 0.5533104505850887\n",
      "MAX SCALED STRESS 0.7014256170568578\n",
      "MEAN SCALED STRESS 0.5731209199407227\n",
      "MAX SCALED STRESS 0.746006577284748\n",
      "MEAN SCALED STRESS 0.609547131668529\n"
     ]
    },
    {
     "name": "stderr",
     "output_type": "stream",
     "text": [
      "WARNING:root:SPIKES COULD NOT BE GENERATED FOR 4.17\n",
      "WARNING:root:SPIKES COULD NOT BE GENERATED FOR 4.17\n",
      "WARNING:root:SPIKES COULD NOT BE GENERATED FOR 4.17\n"
     ]
    },
    {
     "name": "stdout",
     "output_type": "stream",
     "text": [
      "MAX SCALED STRESS 0.7606109628678249\n",
      "MEAN SCALED STRESS 0.6214800521382903\n",
      "MAX SCALED STRESS 0.6025383707081957\n",
      "MEAN SCALED STRESS 0.4923221068238137\n",
      "MAX SCALED STRESS 11.016630599999997\n",
      "MEAN SCALED STRESS 9.00146944341104\n",
      "MAX SCALED STRESS 6.985940599859058\n",
      "MEAN SCALED STRESS 5.708073108934481\n",
      "MAX SCALED STRESS 5.63987752566335\n",
      "MEAN SCALED STRESS 4.608231537590851\n",
      "MAX SCALED STRESS 4.839338160360512\n",
      "MEAN SCALED STRESS 3.9541267761936423\n",
      "MAX SCALED STRESS 3.908044330868246\n",
      "MEAN SCALED STRESS 3.1931853678649835\n",
      "MAX SCALED STRESS 3.1286452428507814\n",
      "MEAN SCALED STRESS 2.556353737474895\n"
     ]
    },
    {
     "name": "stderr",
     "output_type": "stream",
     "text": [
      "WARNING:root:SPIKES COULD NOT BE GENERATED FOR 4.17\n",
      "WARNING:root:SPIKES COULD NOT BE GENERATED FOR 4.17\n",
      "WARNING:root:SPIKES COULD NOT BE GENERATED FOR 4.17\n"
     ]
    },
    {
     "name": "stdout",
     "output_type": "stream",
     "text": [
      "MAX SCALED STRESS 2.3961360360718698\n",
      "MEAN SCALED STRESS 1.957835046830184\n",
      "MAX SCALED STRESS 1.9122779488919743\n",
      "MEAN SCALED STRESS 1.562484258371651\n",
      "MAX SCALED STRESS 1.5005997121119223\n",
      "MEAN SCALED STRESS 1.2261101480928136\n",
      "MAX SCALED STRESS 1.1045204504433095\n",
      "MEAN SCALED STRESS 0.9024816836416385\n"
     ]
    },
    {
     "name": "stderr",
     "output_type": "stream",
     "text": [
      "WARNING:root:SPIKES COULD NOT BE GENERATED FOR 4.17\n",
      "WARNING:root:SPIKES COULD NOT BE GENERATED FOR 4.17\n",
      "WARNING:root:SPIKES COULD NOT BE GENERATED FOR 4.17\n",
      "WARNING:root:SPIKES COULD NOT BE GENERATED FOR 4.17\n"
     ]
    },
    {
     "name": "stdout",
     "output_type": "stream",
     "text": [
      "MAX SCALED STRESS 0.7499600505838075\n",
      "MEAN SCALED STRESS 0.6127774365585685\n",
      "MAX SCALED STRESS 0.5544339512975794\n",
      "MEAN SCALED STRESS 0.4530169426733314\n",
      "MAX SCALED STRESS 0.426296868134987\n",
      "MEAN SCALED STRESS 0.34831869850302444\n",
      "MAX SCALED STRESS 0.3601996350735083\n",
      "MEAN SCALED STRESS 0.2943119503169101\n"
     ]
    },
    {
     "name": "stderr",
     "output_type": "stream",
     "text": [
      "WARNING:root:SPIKES COULD NOT BE GENERATED FOR 4.17\n",
      "WARNING:root:SPIKES COULD NOT BE GENERATED FOR 4.17\n",
      "WARNING:root:SPIKES COULD NOT BE GENERATED FOR 4.17\n",
      "WARNING:root:SPIKES COULD NOT BE GENERATED FOR 4.17\n"
     ]
    },
    {
     "name": "stdout",
     "output_type": "stream",
     "text": [
      "MAX SCALED STRESS 0.41508700968761064\n",
      "MEAN SCALED STRESS 0.3391593271350234\n",
      "MAX SCALED STRESS 0.310058779908311\n",
      "MEAN SCALED STRESS 0.25334285523590083\n",
      "MAX SCALED STRESS 0.36298390800052965\n",
      "MEAN SCALED STRESS 0.2965869253585079\n",
      "MAX SCALED STRESS 0.49965466666637814\n",
      "MEAN SCALED STRESS 0.40825787742519976\n"
     ]
    },
    {
     "name": "stderr",
     "output_type": "stream",
     "text": [
      "WARNING:root:SPIKES COULD NOT BE GENERATED FOR 4.17\n",
      "WARNING:root:SPIKES COULD NOT BE GENERATED FOR 4.17\n",
      "WARNING:root:SPIKES COULD NOT BE GENERATED FOR 4.17\n",
      "WARNING:root:SPIKES COULD NOT BE GENERATED FOR 4.17\n"
     ]
    },
    {
     "name": "stdout",
     "output_type": "stream",
     "text": [
      "MAX SCALED STRESS 0.5648229136212535\n",
      "MEAN SCALED STRESS 0.46150556863942044\n",
      "MAX SCALED STRESS 0.41432099067634653\n",
      "MEAN SCALED STRESS 0.33853342788008967\n",
      "MAX SCALED STRESS 0.4093375408534985\n",
      "MEAN SCALED STRESS 0.3344615668812521\n"
     ]
    },
    {
     "name": "stderr",
     "output_type": "stream",
     "text": [
      "WARNING:root:SPIKES COULD NOT BE GENERATED FOR 4.17\n",
      "WARNING:root:SPIKES COULD NOT BE GENERATED FOR 4.17\n",
      "WARNING:root:SPIKES COULD NOT BE GENERATED FOR 4.17\n"
     ]
    },
    {
     "name": "stdout",
     "output_type": "stream",
     "text": [
      "MAX SCALED STRESS 0.4239932766196845\n",
      "MEAN SCALED STRESS 0.3464364728573312\n",
      "MAX SCALED STRESS 0.45094129069591227\n",
      "MEAN SCALED STRESS 0.3684551566489485\n",
      "MAX SCALED STRESS 0.4597692564071848\n",
      "MEAN SCALED STRESS 0.37566829219259373\n",
      "MAX SCALED STRESS 0.36421854559233374\n",
      "MEAN SCALED STRESS 0.2975957224094576\n"
     ]
    },
    {
     "name": "stderr",
     "output_type": "stream",
     "text": [
      "WARNING:root:SPIKES COULD NOT BE GENERATED FOR 4.17\n"
     ]
    },
    {
     "name": "stdout",
     "output_type": "stream",
     "text": [
      "MAX SCALED STRESS 8.728203599999999\n",
      "MEAN SCALED STRESS 7.131641320647553\n",
      "MAX SCALED STRESS 5.534787732019987\n",
      "MEAN SCALED STRESS 4.522364965061563\n",
      "MAX SCALED STRESS 4.468335293284132\n",
      "MEAN SCALED STRESS 3.6509877254152467\n",
      "MAX SCALED STRESS 3.834087779332095\n",
      "MEAN SCALED STRESS 3.132756721717595\n"
     ]
    },
    {
     "name": "stderr",
     "output_type": "stream",
     "text": [
      "WARNING:root:SPIKES COULD NOT BE GENERATED FOR 4.17\n",
      "WARNING:root:SPIKES COULD NOT BE GENERATED FOR 4.17\n"
     ]
    },
    {
     "name": "stdout",
     "output_type": "stream",
     "text": [
      "MAX SCALED STRESS 3.096246741507682\n",
      "MEAN SCALED STRESS 2.529881688441698\n",
      "MAX SCALED STRESS 2.4787481457146314\n",
      "MEAN SCALED STRESS 2.025335758675782\n",
      "MAX SCALED STRESS 1.8983992416095192\n",
      "MEAN SCALED STRESS 1.5511442222587895\n",
      "MAX SCALED STRESS 1.515050461773634\n",
      "MEAN SCALED STRESS 1.2379175833364855\n"
     ]
    },
    {
     "name": "stderr",
     "output_type": "stream",
     "text": [
      "WARNING:root:SPIKES COULD NOT BE GENERATED FOR 4.17\n",
      "WARNING:root:SPIKES COULD NOT BE GENERATED FOR 4.17\n",
      "WARNING:root:SPIKES COULD NOT BE GENERATED FOR 4.17\n",
      "WARNING:root:SPIKES COULD NOT BE GENERATED FOR 4.17\n"
     ]
    },
    {
     "name": "stdout",
     "output_type": "stream",
     "text": [
      "MAX SCALED STRESS 1.1888879898917772\n",
      "MEAN SCALED STRESS 0.9714167059917787\n",
      "MAX SCALED STRESS 0.8750841996856022\n",
      "MEAN SCALED STRESS 0.7150138881932749\n",
      "MAX SCALED STRESS 0.5941747754855075\n",
      "MEAN SCALED STRESS 0.4854883876899049\n",
      "MAX SCALED STRESS 0.4392642891809187\n",
      "MEAN SCALED STRESS 0.35891410481734454\n"
     ]
    },
    {
     "name": "stderr",
     "output_type": "stream",
     "text": [
      "WARNING:root:SPIKES COULD NOT BE GENERATED FOR 4.17\n",
      "WARNING:root:SPIKES COULD NOT BE GENERATED FOR 4.17\n",
      "WARNING:root:SPIKES COULD NOT BE GENERATED FOR 4.17\n",
      "WARNING:root:SPIKES COULD NOT BE GENERATED FOR 4.17\n"
     ]
    },
    {
     "name": "stdout",
     "output_type": "stream",
     "text": [
      "MAX SCALED STRESS 0.33774445147725285\n",
      "MEAN SCALED STRESS 0.27596427878968843\n",
      "MAX SCALED STRESS 0.28537725060575975\n",
      "MEAN SCALED STRESS 0.23317606966680682\n",
      "MAX SCALED STRESS 0.3288631582390208\n",
      "MEAN SCALED STRESS 0.2687075356845939\n",
      "MAX SCALED STRESS 0.24565189278537922\n",
      "MEAN SCALED STRESS 0.20071727022455205\n"
     ]
    },
    {
     "name": "stderr",
     "output_type": "stream",
     "text": [
      "WARNING:root:SPIKES COULD NOT BE GENERATED FOR 4.17\n",
      "WARNING:root:SPIKES COULD NOT BE GENERATED FOR 4.17\n",
      "WARNING:root:SPIKES COULD NOT BE GENERATED FOR 4.17\n",
      "WARNING:root:SPIKES COULD NOT BE GENERATED FOR 4.17\n"
     ]
    },
    {
     "name": "stdout",
     "output_type": "stream",
     "text": [
      "MAX SCALED STRESS 0.28758316109394566\n",
      "MEAN SCALED STRESS 0.23497847605301936\n",
      "MAX SCALED STRESS 0.3958640185642861\n",
      "MEAN SCALED STRESS 0.32345260586943775\n",
      "MAX SCALED STRESS 0.4474952067496494\n",
      "MEAN SCALED STRESS 0.36563943295136325\n",
      "MAX SCALED STRESS 0.32825626034668487\n",
      "MEAN SCALED STRESS 0.26821165120516416\n"
     ]
    },
    {
     "name": "stderr",
     "output_type": "stream",
     "text": [
      "WARNING:root:SPIKES COULD NOT BE GENERATED FOR 4.17\n",
      "WARNING:root:SPIKES COULD NOT BE GENERATED FOR 4.17\n",
      "WARNING:root:SPIKES COULD NOT BE GENERATED FOR 4.17\n",
      "WARNING:root:SPIKES COULD NOT BE GENERATED FOR 4.17\n"
     ]
    },
    {
     "name": "stdout",
     "output_type": "stream",
     "text": [
      "MAX SCALED STRESS 0.32430799646605685\n",
      "MEAN SCALED STRESS 0.26498561657450737\n",
      "MAX SCALED STRESS 0.3359193729676047\n",
      "MEAN SCALED STRESS 0.27447303802350065\n",
      "MAX SCALED STRESS 0.35726961715868993\n",
      "MEAN SCALED STRESS 0.29191789590384526\n",
      "MAX SCALED STRESS 0.364263795769145\n",
      "MEAN SCALED STRESS 0.29763268456339537\n"
     ]
    },
    {
     "name": "stderr",
     "output_type": "stream",
     "text": [
      "WARNING:root:SPIKES COULD NOT BE GENERATED FOR 4.17\n",
      "WARNING:root:SPIKES COULD NOT BE GENERATED FOR 4.17\n"
     ]
    },
    {
     "name": "stdout",
     "output_type": "stream",
     "text": [
      "MAX SCALED STRESS 0.28856133388240973\n",
      "MEAN SCALED STRESS 0.23577772097385458\n",
      "MAX SCALED STRESS 6.4415973\n",
      "MEAN SCALED STRESS 5.263300855590916\n",
      "MAX SCALED STRESS 4.084789418827612\n",
      "MEAN SCALED STRESS 3.3376001848255643\n",
      "MAX SCALED STRESS 3.297725153972551\n",
      "MEAN SCALED STRESS 2.694505507910929\n"
     ]
    },
    {
     "name": "stderr",
     "output_type": "stream",
     "text": [
      "WARNING:root:SPIKES COULD NOT BE GENERATED FOR 4.17\n"
     ]
    },
    {
     "name": "stdout",
     "output_type": "stream",
     "text": [
      "MAX SCALED STRESS 2.829637187577593\n",
      "MEAN SCALED STRESS 2.3120401591196744\n",
      "MAX SCALED STRESS 2.2850950280570546\n",
      "MEAN SCALED STRESS 1.867105741390529\n",
      "MAX SCALED STRESS 1.8293681145127474\n",
      "MEAN SCALED STRESS 1.4947402641569185\n"
     ]
    },
    {
     "name": "stderr",
     "output_type": "stream",
     "text": [
      "WARNING:root:SPIKES COULD NOT BE GENERATED FOR 4.17\n",
      "WARNING:root:SPIKES COULD NOT BE GENERATED FOR 4.17\n",
      "WARNING:root:SPIKES COULD NOT BE GENERATED FOR 4.17\n",
      "WARNING:root:SPIKES COULD NOT BE GENERATED FOR 4.17\n"
     ]
    },
    {
     "name": "stdout",
     "output_type": "stream",
     "text": [
      "MAX SCALED STRESS 1.4010584525175294\n",
      "MEAN SCALED STRESS 1.144776965790855\n",
      "MAX SCALED STRESS 1.1181390136138432\n",
      "MEAN SCALED STRESS 0.9136091374452849\n",
      "MAX SCALED STRESS 0.877424269260779\n",
      "MEAN SCALED STRESS 0.7169259010515674\n",
      "MAX SCALED STRESS 0.645830491164005\n",
      "MEAN SCALED STRESS 0.5276952443740315\n"
     ]
    },
    {
     "name": "stderr",
     "output_type": "stream",
     "text": [
      "WARNING:root:SPIKES COULD NOT BE GENERATED FOR 4.17\n",
      "WARNING:root:SPIKES COULD NOT BE GENERATED FOR 4.17\n",
      "WARNING:root:SPIKES COULD NOT BE GENERATED FOR 4.17\n",
      "WARNING:root:SPIKES COULD NOT BE GENERATED FOR 4.17\n"
     ]
    },
    {
     "name": "stdout",
     "output_type": "stream",
     "text": [
      "MAX SCALED STRESS 0.4385134450227022\n",
      "MEAN SCALED STRESS 0.35830061151697296\n",
      "MAX SCALED STRESS 0.32418625743036344\n",
      "MEAN SCALED STRESS 0.2648861363091168\n",
      "MAX SCALED STRESS 0.2492624881855246\n",
      "MEAN SCALED STRESS 0.2036674251214883\n",
      "MAX SCALED STRESS 0.2106143957255403\n",
      "MEAN SCALED STRESS 0.17208882945745158\n"
     ]
    },
    {
     "name": "stderr",
     "output_type": "stream",
     "text": [
      "WARNING:root:SPIKES COULD NOT BE GENERATED FOR 4.17\n",
      "WARNING:root:SPIKES COULD NOT BE GENERATED FOR 4.17\n",
      "WARNING:root:SPIKES COULD NOT BE GENERATED FOR 4.17\n",
      "WARNING:root:SPIKES COULD NOT BE GENERATED FOR 4.17\n"
     ]
    },
    {
     "name": "stdout",
     "output_type": "stream",
     "text": [
      "MAX SCALED STRESS 0.24270790752199561\n",
      "MEAN SCALED STRESS 0.198311796525408\n",
      "MAX SCALED STRESS 0.18129624855522256\n",
      "MEAN SCALED STRESS 0.14813355476055173\n",
      "MAX SCALED STRESS 0.212242403926992\n",
      "MEAN SCALED STRESS 0.17341904316957552\n",
      "MAX SCALED STRESS 0.29215594754811347\n",
      "MEAN SCALED STRESS 0.23871480640604376\n"
     ]
    },
    {
     "name": "stderr",
     "output_type": "stream",
     "text": [
      "WARNING:root:SPIKES COULD NOT BE GENERATED FOR 4.17\n",
      "WARNING:root:SPIKES COULD NOT BE GENERATED FOR 4.17\n",
      "WARNING:root:SPIKES COULD NOT BE GENERATED FOR 4.17\n",
      "WARNING:root:SPIKES COULD NOT BE GENERATED FOR 4.17\n"
     ]
    },
    {
     "name": "stdout",
     "output_type": "stream",
     "text": [
      "MAX SCALED STRESS 0.33026084721047105\n",
      "MEAN SCALED STRESS 0.26984956951199357\n",
      "MAX SCALED STRESS 0.2422600041499149\n",
      "MEAN SCALED STRESS 0.19794582338016584\n",
      "MAX SCALED STRESS 0.239346102605141\n",
      "MEAN SCALED STRESS 0.19556494216807482\n",
      "MAX SCALED STRESS 0.24791554197083754\n",
      "MEAN SCALED STRESS 0.20256685816254094\n"
     ]
    },
    {
     "name": "stderr",
     "output_type": "stream",
     "text": [
      "WARNING:root:SPIKES COULD NOT BE GENERATED FOR 4.17\n",
      "WARNING:root:SPIKES COULD NOT BE GENERATED FOR 4.17\n",
      "WARNING:root:SPIKES COULD NOT BE GENERATED FOR 4.17\n",
      "WARNING:root:SPIKES COULD NOT BE GENERATED FOR 4.17\n"
     ]
    },
    {
     "name": "stdout",
     "output_type": "stream",
     "text": [
      "MAX SCALED STRESS 0.2636724699297173\n",
      "MEAN SCALED STRESS 0.21544152912242914\n",
      "MAX SCALED STRESS 0.2688343204223921\n",
      "MEAN SCALED STRESS 0.21965916300065677\n",
      "MAX SCALED STRESS 0.21296431595859303\n",
      "MEAN SCALED STRESS 0.17400890268248728\n",
      "MAX SCALED STRESS 6.454456500000001\n",
      "MEAN SCALED STRESS 5.273807851792343\n",
      "MAX SCALED STRESS 4.092943782046591\n",
      "MEAN SCALED STRESS 3.344262952815844\n",
      "MAX SCALED STRESS 3.304308320433449\n",
      "MEAN SCALED STRESS 2.6998844820401144\n",
      "MAX SCALED STRESS 2.835285921707946\n",
      "MEAN SCALED STRESS 2.316655627213924\n",
      "MAX SCALED STRESS 2.289656706258328\n",
      "MEAN SCALED STRESS 1.870832998005855\n"
     ]
    },
    {
     "name": "stderr",
     "output_type": "stream",
     "text": [
      "WARNING:root:SPIKES COULD NOT BE GENERATED FOR 4.17\n",
      "WARNING:root:SPIKES COULD NOT BE GENERATED FOR 4.17\n",
      "WARNING:root:SPIKES COULD NOT BE GENERATED FOR 4.17\n",
      "WARNING:root:SPIKES COULD NOT BE GENERATED FOR 4.17\n"
     ]
    },
    {
     "name": "stdout",
     "output_type": "stream",
     "text": [
      "MAX SCALED STRESS 1.8330200364449278\n",
      "MEAN SCALED STRESS 1.4977241768589513\n",
      "MAX SCALED STRESS 1.403855350555942\n",
      "MEAN SCALED STRESS 1.14706225549043\n",
      "MAX SCALED STRESS 1.1203711266339886\n",
      "MEAN SCALED STRESS 0.9154329525757707\n",
      "MAX SCALED STRESS 0.8791758494415641\n",
      "MEAN SCALED STRESS 0.7183570823436366\n"
     ]
    },
    {
     "name": "stderr",
     "output_type": "stream",
     "text": [
      "WARNING:root:SPIKES COULD NOT BE GENERATED FOR 4.17\n",
      "WARNING:root:SPIKES COULD NOT BE GENERATED FOR 4.17\n",
      "WARNING:root:SPIKES COULD NOT BE GENERATED FOR 4.17\n",
      "WARNING:root:SPIKES COULD NOT BE GENERATED FOR 4.17\n"
     ]
    },
    {
     "name": "stdout",
     "output_type": "stream",
     "text": [
      "MAX SCALED STRESS 0.6471197464628384\n",
      "MEAN SCALED STRESS 0.5287486692266616\n",
      "MAX SCALED STRESS 0.4393888384739874\n",
      "MEAN SCALED STRESS 0.35901587808969393\n",
      "MAX SCALED STRESS 0.3248334223690269\n",
      "MEAN SCALED STRESS 0.26541492189526733\n",
      "MAX SCALED STRESS 0.24976008467266847\n",
      "MEAN SCALED STRESS 0.20407400132163703\n"
     ]
    },
    {
     "name": "stderr",
     "output_type": "stream",
     "text": [
      "WARNING:root:SPIKES COULD NOT BE GENERATED FOR 4.17\n",
      "WARNING:root:SPIKES COULD NOT BE GENERATED FOR 4.17\n",
      "WARNING:root:SPIKES COULD NOT BE GENERATED FOR 4.17\n",
      "WARNING:root:SPIKES COULD NOT BE GENERATED FOR 4.17\n"
     ]
    },
    {
     "name": "stdout",
     "output_type": "stream",
     "text": [
      "MAX SCALED STRESS 0.21103483998980904\n",
      "MEAN SCALED STRESS 0.1724323660948256\n",
      "MAX SCALED STRESS 0.24319241926326934\n",
      "MEAN SCALED STRESS 0.1987076814177902\n",
      "MAX SCALED STRESS 0.18165816573365615\n",
      "MEAN SCALED STRESS 0.1484292700806288\n",
      "MAX SCALED STRESS 0.21266609814342155\n",
      "MEAN SCALED STRESS 0.17376523527939994\n"
     ]
    },
    {
     "name": "stderr",
     "output_type": "stream",
     "text": [
      "WARNING:root:SPIKES COULD NOT BE GENERATED FOR 4.17\n",
      "WARNING:root:SPIKES COULD NOT BE GENERATED FOR 4.17\n",
      "WARNING:root:SPIKES COULD NOT BE GENERATED FOR 4.17\n",
      "WARNING:root:SPIKES COULD NOT BE GENERATED FOR 4.17\n"
     ]
    },
    {
     "name": "stdout",
     "output_type": "stream",
     "text": [
      "MAX SCALED STRESS 0.2927391711781766\n",
      "MEAN SCALED STRESS 0.23919134681917031\n",
      "MAX SCALED STRESS 0.3309201387011777\n",
      "MEAN SCALED STRESS 0.27038826347603084\n",
      "MAX SCALED STRESS 0.24274362175286018\n",
      "MEAN SCALED STRESS 0.19834097768948758\n",
      "MAX SCALED STRESS 0.2398239032591217\n",
      "MEAN SCALED STRESS 0.19595534358362554\n"
     ]
    },
    {
     "name": "stderr",
     "output_type": "stream",
     "text": [
      "WARNING:root:SPIKES COULD NOT BE GENERATED FOR 4.17\n",
      "WARNING:root:SPIKES COULD NOT BE GENERATED FOR 4.17\n",
      "WARNING:root:SPIKES COULD NOT BE GENERATED FOR 4.17\n",
      "WARNING:root:SPIKES COULD NOT BE GENERATED FOR 4.17\n"
     ]
    },
    {
     "name": "stdout",
     "output_type": "stream",
     "text": [
      "MAX SCALED STRESS 0.24841044958285352\n",
      "MEAN SCALED STRESS 0.2029712373283239\n",
      "MAX SCALED STRESS 0.26419883270395045\n",
      "MEAN SCALED STRESS 0.21587160967268196\n",
      "MAX SCALED STRESS 0.26937098766999784\n",
      "MEAN SCALED STRESS 0.22009766310820905\n",
      "MAX SCALED STRESS 0.21338945131000267\n",
      "MEAN SCALED STRESS 0.17435627231414288\n"
     ]
    },
    {
     "name": "stderr",
     "output_type": "stream",
     "text": [
      "WARNING:root:SPIKES COULD NOT BE GENERATED FOR 4.17\n",
      "WARNING:root:SPIKES COULD NOT BE GENERATED FOR 4.17\n"
     ]
    },
    {
     "name": "stdout",
     "output_type": "stream",
     "text": [
      "MAX SCALED STRESS 4.6648449\n",
      "MEAN SCALED STRESS 3.8115518573893037\n",
      "MAX SCALED STRESS 2.958103122651264\n",
      "MEAN SCALED STRESS 2.417007222792799\n",
      "MAX SCALED STRESS 2.3881307150495994\n",
      "MEAN SCALED STRESS 1.9512940178052123\n",
      "MAX SCALED STRESS 2.049153026582658\n",
      "MEAN SCALED STRESS 1.67432210406332\n"
     ]
    },
    {
     "name": "stderr",
     "output_type": "stream",
     "text": [
      "WARNING:root:SPIKES COULD NOT BE GENERATED FOR 4.17\n",
      "WARNING:root:SPIKES COULD NOT BE GENERATED FOR 4.17\n",
      "WARNING:root:SPIKES COULD NOT BE GENERATED FOR 4.17\n",
      "WARNING:root:SPIKES COULD NOT BE GENERATED FOR 4.17\n"
     ]
    },
    {
     "name": "stdout",
     "output_type": "stream",
     "text": [
      "MAX SCALED STRESS 1.6548091088598953\n",
      "MEAN SCALED STRESS 1.3521116409258196\n",
      "MAX SCALED STRESS 1.324782988096354\n",
      "MEAN SCALED STRESS 1.082453803511911\n",
      "MAX SCALED STRESS 1.0146117604756648\n",
      "MEAN SCALED STRESS 0.8290190680666959\n",
      "MAX SCALED STRESS 0.8097285241888013\n",
      "MEAN SCALED STRESS 0.6616130637978621\n"
     ]
    },
    {
     "name": "stderr",
     "output_type": "stream",
     "text": [
      "WARNING:root:SPIKES COULD NOT BE GENERATED FOR 4.17\n",
      "WARNING:root:SPIKES COULD NOT BE GENERATED FOR 4.17\n",
      "WARNING:root:SPIKES COULD NOT BE GENERATED FOR 4.17\n",
      "WARNING:root:SPIKES COULD NOT BE GENERATED FOR 4.17\n"
     ]
    },
    {
     "name": "stdout",
     "output_type": "stream",
     "text": [
      "MAX SCALED STRESS 0.6354088802784011\n",
      "MEAN SCALED STRESS 0.5191799451974914\n",
      "MAX SCALED STRESS 0.4676944137707745\n",
      "MEAN SCALED STRESS 0.38214379987281333\n",
      "MAX SCALED STRESS 0.31756055405630257\n",
      "MEAN SCALED STRESS 0.2594724107174214\n",
      "MAX SCALED STRESS 0.23476764212257079\n",
      "MEAN SCALED STRESS 0.19182396609025656\n"
     ]
    },
    {
     "name": "stderr",
     "output_type": "stream",
     "text": [
      "WARNING:root:SPIKES COULD NOT BE GENERATED FOR 4.17\n",
      "WARNING:root:SPIKES COULD NOT BE GENERATED FOR 4.17\n",
      "WARNING:root:SPIKES COULD NOT BE GENERATED FOR 4.17\n",
      "WARNING:root:SPIKES COULD NOT BE GENERATED FOR 4.17\n"
     ]
    },
    {
     "name": "stdout",
     "output_type": "stream",
     "text": [
      "MAX SCALED STRESS 0.18050970785981213\n",
      "MEAN SCALED STRESS 0.14749089474657265\n",
      "MAX SCALED STRESS 0.15252171845124013\n",
      "MEAN SCALED STRESS 0.12462245947003901\n",
      "MAX SCALED STRESS 0.17576304321191466\n",
      "MEAN SCALED STRESS 0.14361248143086922\n",
      "MAX SCALED STRESS 0.13129024387506533\n",
      "MEAN SCALED STRESS 0.10727464404576027\n"
     ]
    },
    {
     "name": "stderr",
     "output_type": "stream",
     "text": [
      "WARNING:root:SPIKES COULD NOT BE GENERATED FOR 4.17\n",
      "WARNING:root:SPIKES COULD NOT BE GENERATED FOR 4.17\n",
      "WARNING:root:SPIKES COULD NOT BE GENERATED FOR 4.17\n",
      "WARNING:root:SPIKES COULD NOT BE GENERATED FOR 4.17\n"
     ]
    },
    {
     "name": "stdout",
     "output_type": "stream",
     "text": [
      "MAX SCALED STRESS 0.15370068158755726\n",
      "MEAN SCALED STRESS 0.1255857672277145\n",
      "MAX SCALED STRESS 0.21157208661964708\n",
      "MEAN SCALED STRESS 0.17287133848272704\n",
      "MAX SCALED STRESS 0.23916670928489198\n",
      "MEAN SCALED STRESS 0.19541836123553064\n",
      "MAX SCALED STRESS 0.17543868270571794\n",
      "MEAN SCALED STRESS 0.1433474527616415\n"
     ]
    },
    {
     "name": "stderr",
     "output_type": "stream",
     "text": [
      "WARNING:root:SPIKES COULD NOT BE GENERATED FOR 4.17\n",
      "WARNING:root:SPIKES COULD NOT BE GENERATED FOR 4.17\n",
      "WARNING:root:SPIKES COULD NOT BE GENERATED FOR 4.17\n",
      "WARNING:root:SPIKES COULD NOT BE GENERATED FOR 4.17\n"
     ]
    },
    {
     "name": "stdout",
     "output_type": "stream",
     "text": [
      "MAX SCALED STRESS 0.1733285075228886\n",
      "MEAN SCALED STRESS 0.14162327767548255\n",
      "MAX SCALED STRESS 0.17953428283904016\n",
      "MEAN SCALED STRESS 0.146693891468278\n",
      "MAX SCALED STRESS 0.190945059018521\n",
      "MEAN SCALED STRESS 0.15601740865964486\n",
      "MAX SCALED STRESS 0.19468314304083575\n",
      "MEAN SCALED STRESS 0.1590717144429197\n"
     ]
    },
    {
     "name": "stderr",
     "output_type": "stream",
     "text": [
      "WARNING:root:SPIKES COULD NOT BE GENERATED FOR 4.17\n",
      "WARNING:root:SPIKES COULD NOT BE GENERATED FOR 4.17\n"
     ]
    },
    {
     "name": "stdout",
     "output_type": "stream",
     "text": [
      "MAX SCALED STRESS 0.15422347236475512\n",
      "MEAN SCALED STRESS 0.12601292884809753\n",
      "MAX SCALED STRESS 5.987986199999999\n",
      "MEAN SCALED STRESS 4.892664260419787\n",
      "MAX SCALED STRESS 3.7971424680406147\n",
      "MEAN SCALED STRESS 3.1025695828351343\n",
      "MAX SCALED STRESS 3.065502513387558\n",
      "MEAN SCALED STRESS 2.5047610159043363\n"
     ]
    },
    {
     "name": "stderr",
     "output_type": "stream",
     "text": [
      "WARNING:root:SPIKES COULD NOT BE GENERATED FOR 4.17\n",
      "WARNING:root:SPIKES COULD NOT BE GENERATED FOR 4.17\n"
     ]
    },
    {
     "name": "stdout",
     "output_type": "stream",
     "text": [
      "MAX SCALED STRESS 2.6303768523719167\n",
      "MEAN SCALED STRESS 2.149228509930978\n",
      "MAX SCALED STRESS 2.12418082913911\n",
      "MEAN SCALED STRESS 1.7356259469040785\n",
      "MAX SCALED STRESS 1.7005457674950204\n",
      "MEAN SCALED STRESS 1.3894820892259105\n",
      "MAX SCALED STRESS 1.3023972608576944\n",
      "MEAN SCALED STRESS 1.064162870478338\n"
     ]
    },
    {
     "name": "stderr",
     "output_type": "stream",
     "text": [
      "WARNING:root:SPIKES COULD NOT BE GENERATED FOR 4.17\n",
      "WARNING:root:SPIKES COULD NOT BE GENERATED FOR 4.17\n",
      "WARNING:root:SPIKES COULD NOT BE GENERATED FOR 4.17\n",
      "WARNING:root:SPIKES COULD NOT BE GENERATED FOR 4.17\n"
     ]
    },
    {
     "name": "stdout",
     "output_type": "stream",
     "text": [
      "MAX SCALED STRESS 1.0394007373297465\n",
      "MEAN SCALED STRESS 0.84927365875794\n",
      "MAX SCALED STRESS 0.8156368942651271\n",
      "MEAN SCALED STRESS 0.6664406671182862\n",
      "MAX SCALED STRESS 0.6003517277662302\n",
      "MEAN SCALED STRESS 0.4905354516832849\n",
      "MAX SCALED STRESS 0.40763374905637134\n",
      "MEAN SCALED STRESS 0.3330694263075395\n"
     ]
    },
    {
     "name": "stderr",
     "output_type": "stream",
     "text": [
      "WARNING:root:SPIKES COULD NOT BE GENERATED FOR 4.17\n",
      "WARNING:root:SPIKES COULD NOT BE GENERATED FOR 4.17\n",
      "WARNING:root:SPIKES COULD NOT BE GENERATED FOR 4.17\n",
      "WARNING:root:SPIKES COULD NOT BE GENERATED FOR 4.17\n"
     ]
    },
    {
     "name": "stdout",
     "output_type": "stream",
     "text": [
      "MAX SCALED STRESS 0.3013573722968779\n",
      "MEAN SCALED STRESS 0.24623310879590535\n",
      "MAX SCALED STRESS 0.23170966297948864\n",
      "MEAN SCALED STRESS 0.18932536049979484\n",
      "MAX SCALED STRESS 0.1957831321007717\n",
      "MEAN SCALED STRESS 0.1599704992371028\n",
      "MAX SCALED STRESS 0.22561664959599162\n",
      "MEAN SCALED STRESS 0.18434687012976594\n"
     ]
    },
    {
     "name": "stderr",
     "output_type": "stream",
     "text": [
      "WARNING:root:SPIKES COULD NOT BE GENERATED FOR 4.17\n",
      "WARNING:root:SPIKES COULD NOT BE GENERATED FOR 4.17\n",
      "WARNING:root:SPIKES COULD NOT BE GENERATED FOR 4.17\n",
      "WARNING:root:SPIKES COULD NOT BE GENERATED FOR 4.17\n"
     ]
    },
    {
     "name": "stdout",
     "output_type": "stream",
     "text": [
      "MAX SCALED STRESS 0.16852954071817597\n",
      "MEAN SCALED STRESS 0.13770213199498332\n",
      "MAX SCALED STRESS 0.1972964975270425\n",
      "MEAN SCALED STRESS 0.16120704057619717\n",
      "MAX SCALED STRESS 0.2715826060977185\n",
      "MEAN SCALED STRESS 0.22190473882852965\n",
      "MAX SCALED STRESS 0.3070041952943269\n",
      "MEAN SCALED STRESS 0.25084702179593843\n"
     ]
    },
    {
     "name": "stderr",
     "output_type": "stream",
     "text": [
      "WARNING:root:SPIKES COULD NOT BE GENERATED FOR 4.17\n",
      "WARNING:root:SPIKES COULD NOT BE GENERATED FOR 4.17\n",
      "WARNING:root:SPIKES COULD NOT BE GENERATED FOR 4.17\n",
      "WARNING:root:SPIKES COULD NOT BE GENERATED FOR 4.17\n"
     ]
    },
    {
     "name": "stdout",
     "output_type": "stream",
     "text": [
      "MAX SCALED STRESS 0.22520028714952936\n",
      "MEAN SCALED STRESS 0.18400666846219496\n",
      "MAX SCALED STRESS 0.22249157975512818\n",
      "MEAN SCALED STRESS 0.18179344662017755\n",
      "MAX SCALED STRESS 0.2304575674246038\n",
      "MEAN SCALED STRESS 0.1883022944099055\n",
      "MAX SCALED STRESS 0.24510490763821302\n",
      "MEAN SCALED STRESS 0.2002703433963504\n"
     ]
    },
    {
     "name": "stderr",
     "output_type": "stream",
     "text": [
      "WARNING:root:SPIKES COULD NOT BE GENERATED FOR 4.17\n",
      "WARNING:root:SPIKES COULD NOT BE GENERATED FOR 4.17\n",
      "WARNING:root:SPIKES COULD NOT BE GENERATED FOR 4.17\n"
     ]
    },
    {
     "name": "stdout",
     "output_type": "stream",
     "text": [
      "MAX SCALED STRESS 0.2499032655729134\n",
      "MEAN SCALED STRESS 0.20419097554444815\n",
      "MAX SCALED STRESS 0.19796757320618208\n",
      "MEAN SCALED STRESS 0.16175536274828556\n",
      "MAX SCALED STRESS 19.216445399999998\n",
      "MEAN SCALED STRESS 15.701374799575893\n",
      "MAX SCALED STRESS 12.185662838221592\n",
      "MEAN SCALED STRESS 9.956662723813915\n",
      "MAX SCALED STRESS 9.837708322052377\n",
      "MEAN SCALED STRESS 8.038195429069996\n",
      "MAX SCALED STRESS 8.441317577690608\n",
      "MEAN SCALED STRESS 6.897232380597671\n",
      "MAX SCALED STRESS 6.816850199634469\n",
      "MEAN SCALED STRESS 5.569912843737938\n",
      "MAX SCALED STRESS 5.457334703154319\n",
      "MEAN SCALED STRESS 4.459079531928052\n",
      "MAX SCALED STRESS 4.179609808115697\n",
      "MEAN SCALED STRESS 3.4150759561293342\n",
      "MAX SCALED STRESS 3.3356101451297295\n",
      "MEAN SCALED STRESS 2.7254606721004446\n",
      "MAX SCALED STRESS 2.6175146904766393\n",
      "MEAN SCALED STRESS 2.1387191393357123\n",
      "MAX SCALED STRESS 1.9266287215918143\n",
      "MEAN SCALED STRESS 1.574209994678375\n"
     ]
    },
    {
     "name": "stderr",
     "output_type": "stream",
     "text": [
      "WARNING:root:SPIKES COULD NOT BE GENERATED FOR 4.17\n",
      "WARNING:root:SPIKES COULD NOT BE GENERATED FOR 4.17\n",
      "WARNING:root:SPIKES COULD NOT BE GENERATED FOR 4.17\n",
      "WARNING:root:SPIKES COULD NOT BE GENERATED FOR 4.17\n"
     ]
    },
    {
     "name": "stdout",
     "output_type": "stream",
     "text": [
      "MAX SCALED STRESS 1.3081646183384759\n",
      "MEAN SCALED STRESS 1.068875283154152\n",
      "MAX SCALED STRESS 0.9671060181518836\n",
      "MEAN SCALED STRESS 0.7902030720860337\n",
      "MAX SCALED STRESS 0.7435949146472224\n",
      "MEAN SCALED STRESS 0.6075766261584945\n",
      "MAX SCALED STRESS 0.6283006911832006\n",
      "MEAN SCALED STRESS 0.5133719854265075\n"
     ]
    },
    {
     "name": "stderr",
     "output_type": "stream",
     "text": [
      "WARNING:root:SPIKES COULD NOT BE GENERATED FOR 4.17\n",
      "WARNING:root:SPIKES COULD NOT BE GENERATED FOR 4.17\n",
      "WARNING:root:SPIKES COULD NOT BE GENERATED FOR 4.17\n",
      "WARNING:root:SPIKES COULD NOT BE GENERATED FOR 4.17\n"
     ]
    },
    {
     "name": "stdout",
     "output_type": "stream",
     "text": [
      "MAX SCALED STRESS 0.7240414195163485\n",
      "MEAN SCALED STRESS 0.5915998210733249\n",
      "MAX SCALED STRESS 0.5408393755980777\n",
      "MEAN SCALED STRESS 0.4419090847178622\n",
      "MAX SCALED STRESS 0.6331573329844428\n",
      "MEAN SCALED STRESS 0.5173402526091456\n",
      "MAX SCALED STRESS 0.8715538325166006\n",
      "MEAN SCALED STRESS 0.7121292794061047\n"
     ]
    },
    {
     "name": "stderr",
     "output_type": "stream",
     "text": [
      "WARNING:root:SPIKES COULD NOT BE GENERATED FOR 4.17\n",
      "WARNING:root:SPIKES COULD NOT BE GENERATED FOR 4.17\n",
      "WARNING:root:SPIKES COULD NOT BE GENERATED FOR 4.17\n",
      "WARNING:root:SPIKES COULD NOT BE GENERATED FOR 4.17\n"
     ]
    },
    {
     "name": "stdout",
     "output_type": "stream",
     "text": [
      "MAX SCALED STRESS 0.985227613992225\n",
      "MEAN SCALED STRESS 0.8050098876470791\n",
      "MAX SCALED STRESS 0.7227052430537085\n",
      "MEAN SCALED STRESS 0.5905080572396229\n",
      "MAX SCALED STRESS 0.7140125497156566\n",
      "MEAN SCALED STRESS 0.5834054595941548\n",
      "MAX SCALED STRESS 0.7395767313945576\n",
      "MEAN SCALED STRESS 0.6042934366185871\n"
     ]
    },
    {
     "name": "stderr",
     "output_type": "stream",
     "text": [
      "WARNING:root:SPIKES COULD NOT BE GENERATED FOR 4.17\n",
      "WARNING:root:SPIKES COULD NOT BE GENERATED FOR 4.17\n",
      "WARNING:root:SPIKES COULD NOT BE GENERATED FOR 4.17\n",
      "WARNING:root:SPIKES COULD NOT BE GENERATED FOR 4.17\n"
     ]
    },
    {
     "name": "stdout",
     "output_type": "stream",
     "text": [
      "MAX SCALED STRESS 0.7865824865965395\n",
      "MEAN SCALED STRESS 0.6427008998643347\n",
      "MAX SCALED STRESS 0.8019812166840983\n",
      "MEAN SCALED STRESS 0.6552828616610077\n",
      "MAX SCALED STRESS 0.635310926649614\n",
      "MEAN SCALED STRESS 0.5190999098176985\n",
      "MAX SCALED STRESS 9.408138\n",
      "MEAN SCALED STRESS 7.687202176534291\n",
      "MAX SCALED STRESS 5.965952350555968\n",
      "MEAN SCALED STRESS 4.874660998703599\n",
      "MAX SCALED STRESS 4.8164223700610735\n",
      "MEAN SCALED STRESS 3.935402739346359\n",
      "MAX SCALED STRESS 4.13276644143245\n",
      "MEAN SCALED STRESS 3.376801104679403\n",
      "MAX SCALED STRESS 3.337446966309838\n",
      "MEAN SCALED STRESS 2.726961599352758\n"
     ]
    },
    {
     "name": "stderr",
     "output_type": "stream",
     "text": [
      "WARNING:root:SPIKES COULD NOT BE GENERATED FOR 4.17\n",
      "WARNING:root:SPIKES COULD NOT BE GENERATED FOR 4.17\n"
     ]
    },
    {
     "name": "stdout",
     "output_type": "stream",
     "text": [
      "MAX SCALED STRESS 2.6718447106489767\n",
      "MEAN SCALED STRESS 2.183111117384619\n",
      "MAX SCALED STRESS 2.0462861388977798\n",
      "MEAN SCALED STRESS 1.671979661532341\n",
      "MAX SCALED STRESS 1.6330741667540931\n",
      "MEAN SCALED STRESS 1.3343524040452215\n",
      "MAX SCALED STRESS 1.281503364042109\n",
      "MEAN SCALED STRESS 1.0470908842543591\n"
     ]
    },
    {
     "name": "stderr",
     "output_type": "stream",
     "text": [
      "WARNING:root:SPIKES COULD NOT BE GENERATED FOR 4.17\n",
      "WARNING:root:SPIKES COULD NOT BE GENERATED FOR 4.17\n",
      "WARNING:root:SPIKES COULD NOT BE GENERATED FOR 4.17\n",
      "WARNING:root:SPIKES COULD NOT BE GENERATED FOR 4.17\n"
     ]
    },
    {
     "name": "stdout",
     "output_type": "stream",
     "text": [
      "MAX SCALED STRESS 0.943253994700777\n",
      "MEAN SCALED STRESS 0.7707140713398232\n",
      "MAX SCALED STRESS 0.6404614901383227\n",
      "MEAN SCALED STRESS 0.5233083413388897\n",
      "MAX SCALED STRESS 0.4734833466861371\n",
      "MEAN SCALED STRESS 0.3868738153940454\n",
      "MAX SCALED STRESS 0.3640550282571661\n",
      "MEAN SCALED STRESS 0.29746212816619705\n"
     ]
    },
    {
     "name": "stderr",
     "output_type": "stream",
     "text": [
      "WARNING:root:SPIKES COULD NOT BE GENERATED FOR 4.17\n",
      "WARNING:root:SPIKES COULD NOT BE GENERATED FOR 4.17\n",
      "WARNING:root:SPIKES COULD NOT BE GENERATED FOR 4.17\n",
      "WARNING:root:SPIKES COULD NOT BE GENERATED FOR 4.17\n"
     ]
    },
    {
     "name": "stdout",
     "output_type": "stream",
     "text": [
      "MAX SCALED STRESS 0.3076083784021229\n",
      "MEAN SCALED STRESS 0.25134068157197126\n",
      "MAX SCALED STRESS 0.35448187480738247\n",
      "MEAN SCALED STRESS 0.289640078671009\n",
      "MAX SCALED STRESS 0.2647883818024195\n",
      "MEAN SCALED STRESS 0.21635331435850977\n",
      "MAX SCALED STRESS 0.30998613117229207\n",
      "MEAN SCALED STRESS 0.253283496931316\n"
     ]
    },
    {
     "name": "stderr",
     "output_type": "stream",
     "text": [
      "WARNING:root:SPIKES COULD NOT BE GENERATED FOR 4.17\n",
      "WARNING:root:SPIKES COULD NOT BE GENERATED FOR 4.17\n",
      "WARNING:root:SPIKES COULD NOT BE GENERATED FOR 4.17\n",
      "WARNING:root:SPIKES COULD NOT BE GENERATED FOR 4.17\n"
     ]
    },
    {
     "name": "stdout",
     "output_type": "stream",
     "text": [
      "MAX SCALED STRESS 0.4267021584931137\n",
      "MEAN SCALED STRESS 0.348649835858467\n",
      "MAX SCALED STRESS 0.48235545965486337\n",
      "MEAN SCALED STRESS 0.39412305224504307\n",
      "MAX SCALED STRESS 0.35382769905889216\n",
      "MEAN SCALED STRESS 0.2891055643736417\n",
      "MAX SCALED STRESS 0.349571862101862\n",
      "MEAN SCALED STRESS 0.2856282189324792\n"
     ]
    },
    {
     "name": "stderr",
     "output_type": "stream",
     "text": [
      "WARNING:root:SPIKES COULD NOT BE GENERATED FOR 4.17\n",
      "WARNING:root:SPIKES COULD NOT BE GENERATED FOR 4.17\n",
      "WARNING:root:SPIKES COULD NOT BE GENERATED FOR 4.17\n",
      "WARNING:root:SPIKES COULD NOT BE GENERATED FOR 4.17\n"
     ]
    },
    {
     "name": "stdout",
     "output_type": "stream",
     "text": [
      "MAX SCALED STRESS 0.362087774596905\n",
      "MEAN SCALED STRESS 0.29585471849033645\n",
      "MAX SCALED STRESS 0.38510122076392933\n",
      "MEAN SCALED STRESS 0.3146585454689681\n",
      "MAX SCALED STRESS 0.3926402517695546\n",
      "MEAN SCALED STRESS 0.3208185209706718\n",
      "MAX SCALED STRESS 0.31104050444352455\n",
      "MEAN SCALED STRESS 0.2541450037035706\n"
     ]
    },
    {
     "name": "stderr",
     "output_type": "stream",
     "text": [
      "WARNING:root:SPIKES COULD NOT BE GENERATED FOR 4.17\n"
     ]
    },
    {
     "name": "stdout",
     "output_type": "stream",
     "text": [
      "MAX SCALED STRESS 10.417457399999998\n",
      "MEAN SCALED STRESS 8.511896955511626\n",
      "MAX SCALED STRESS 6.605988821841969\n",
      "MEAN SCALED STRESS 5.397622068621464\n",
      "MAX SCALED STRESS 5.333135511035049\n",
      "MEAN SCALED STRESS 4.357598750037892\n",
      "MAX SCALED STRESS 4.576135931230191\n",
      "MEAN SCALED STRESS 3.739069479664372\n"
     ]
    },
    {
     "name": "stderr",
     "output_type": "stream",
     "text": [
      "WARNING:root:SPIKES COULD NOT BE GENERATED FOR 4.17\n"
     ]
    },
    {
     "name": "stdout",
     "output_type": "stream",
     "text": [
      "MAX SCALED STRESS 3.6954933692822074\n",
      "MEAN SCALED STRESS 3.019514200651949\n",
      "MAX SCALED STRESS 2.958484288028199\n",
      "MEAN SCALED STRESS 2.417318609146748\n",
      "MAX SCALED STRESS 2.2658148381941356\n",
      "MEAN SCALED STRESS 1.8513521908032797\n",
      "MAX SCALED STRESS 1.8082728551814673\n",
      "MEAN SCALED STRESS 1.4775037659660901\n"
     ]
    },
    {
     "name": "stderr",
     "output_type": "stream",
     "text": [
      "WARNING:root:SPIKES COULD NOT BE GENERATED FOR 4.17\n",
      "WARNING:root:SPIKES COULD NOT BE GENERATED FOR 4.17\n",
      "WARNING:root:SPIKES COULD NOT BE GENERATED FOR 4.17\n",
      "WARNING:root:SPIKES COULD NOT BE GENERATED FOR 4.17\n"
     ]
    },
    {
     "name": "stdout",
     "output_type": "stream",
     "text": [
      "MAX SCALED STRESS 1.4189850003120024\n",
      "MEAN SCALED STRESS 1.1594243920155205\n",
      "MAX SCALED STRESS 1.044447722511635\n",
      "MEAN SCALED STRESS 0.8533974529033447\n",
      "MAX SCALED STRESS 0.709171176045302\n",
      "MEAN SCALED STRESS 0.5794496586851239\n",
      "MAX SCALED STRESS 0.5242793625808065\n",
      "MEAN SCALED STRESS 0.42837822861898195\n"
     ]
    },
    {
     "name": "stderr",
     "output_type": "stream",
     "text": [
      "WARNING:root:SPIKES COULD NOT BE GENERATED FOR 4.17\n",
      "WARNING:root:SPIKES COULD NOT BE GENERATED FOR 4.17\n",
      "WARNING:root:SPIKES COULD NOT BE GENERATED FOR 4.17\n",
      "WARNING:root:SPIKES COULD NOT BE GENERATED FOR 4.17\n"
     ]
    },
    {
     "name": "stdout",
     "output_type": "stream",
     "text": [
      "MAX SCALED STRESS 0.40311140718012684\n",
      "MEAN SCALED STRESS 0.3293743191569572\n",
      "MAX SCALED STRESS 0.3406090745997981\n",
      "MEAN SCALED STRESS 0.27830489339792586\n",
      "MAX SCALED STRESS 0.3925112312211023\n",
      "MEAN SCALED STRESS 0.3207131082566906\n",
      "MAX SCALED STRESS 0.2931952834282022\n",
      "MEAN SCALED STRESS 0.23956402804450613\n"
     ]
    },
    {
     "name": "stderr",
     "output_type": "stream",
     "text": [
      "WARNING:root:SPIKES COULD NOT BE GENERATED FOR 4.17\n",
      "WARNING:root:SPIKES COULD NOT BE GENERATED FOR 4.17\n",
      "WARNING:root:SPIKES COULD NOT BE GENERATED FOR 4.17\n",
      "WARNING:root:SPIKES COULD NOT BE GENERATED FOR 4.17\n"
     ]
    },
    {
     "name": "stdout",
     "output_type": "stream",
     "text": [
      "MAX SCALED STRESS 0.3432419163152331\n",
      "MEAN SCALED STRESS 0.28045613695345617\n",
      "MAX SCALED STRESS 0.4724794171375951\n",
      "MEAN SCALED STRESS 0.3860535222349599\n",
      "MAX SCALED STRESS 0.5341032893662866\n",
      "MEAN SCALED STRESS 0.4364051746605662\n",
      "MAX SCALED STRESS 0.3917868745001432\n",
      "MEAN SCALED STRESS 0.3201212504499158\n"
     ]
    },
    {
     "name": "stderr",
     "output_type": "stream",
     "text": [
      "WARNING:root:SPIKES COULD NOT BE GENERATED FOR 4.17\n",
      "WARNING:root:SPIKES COULD NOT BE GENERATED FOR 4.17\n",
      "WARNING:root:SPIKES COULD NOT BE GENERATED FOR 4.17\n",
      "WARNING:root:SPIKES COULD NOT BE GENERATED FOR 4.17\n"
     ]
    },
    {
     "name": "stdout",
     "output_type": "stream",
     "text": [
      "MAX SCALED STRESS 0.3870744648606154\n",
      "MEAN SCALED STRESS 0.3162708500839353\n",
      "MAX SCALED STRESS 0.40093310354546874\n",
      "MEAN SCALED STRESS 0.3275944641184124\n",
      "MAX SCALED STRESS 0.4264154673322425\n",
      "MEAN SCALED STRESS 0.34841559434703634\n",
      "MAX SCALED STRESS 0.43476329708754374\n",
      "MEAN SCALED STRESS 0.3552364214197305\n"
     ]
    },
    {
     "name": "stderr",
     "output_type": "stream",
     "text": [
      "WARNING:root:SPIKES COULD NOT BE GENERATED FOR 4.17\n",
      "WARNING:root:SPIKES COULD NOT BE GENERATED FOR 4.17\n",
      "WARNING:root:SPIKES COULD NOT BE GENERATED FOR 4.17\n",
      "WARNING:root:SPIKES COULD NOT BE GENERATED FOR 4.17\n"
     ]
    },
    {
     "name": "stdout",
     "output_type": "stream",
     "text": [
      "MAX SCALED STRESS 0.34440940435981354\n",
      "MEAN SCALED STRESS 0.281410067486764\n",
      "MAX SCALED STRESS 2.53675119\n",
      "MEAN SCALED STRESS 2.072728872503141\n",
      "MAX SCALED STRESS 1.6086218893426256\n",
      "MEAN SCALED STRESS 1.3143729491752723\n",
      "MAX SCALED STRESS 1.2986698514408537\n",
      "MEAN SCALED STRESS 1.0611172563759308\n"
     ]
    },
    {
     "name": "stderr",
     "output_type": "stream",
     "text": [
      "WARNING:root:SPIKES COULD NOT BE GENERATED FOR 4.17\n",
      "WARNING:root:SPIKES COULD NOT BE GENERATED FOR 4.17\n",
      "WARNING:root:SPIKES COULD NOT BE GENERATED FOR 4.17\n",
      "WARNING:root:SPIKES COULD NOT BE GENERATED FOR 4.17\n"
     ]
    },
    {
     "name": "stdout",
     "output_type": "stream",
     "text": [
      "MAX SCALED STRESS 1.1143331643621548\n",
      "MEAN SCALED STRESS 0.9104994230196015\n",
      "MAX SCALED STRESS 0.899888220532944\n",
      "MEAN SCALED STRESS 0.7352807837472636\n",
      "MAX SCALED STRESS 0.7204194123464175\n",
      "MEAN SCALED STRESS 0.5886403584776991\n",
      "MAX SCALED STRESS 0.5517477313714413\n",
      "MEAN SCALED STRESS 0.4508220857355583\n"
     ]
    },
    {
     "name": "stderr",
     "output_type": "stream",
     "text": [
      "WARNING:root:SPIKES COULD NOT BE GENERATED FOR 4.17\n",
      "WARNING:root:SPIKES COULD NOT BE GENERATED FOR 4.17\n",
      "WARNING:root:SPIKES COULD NOT BE GENERATED FOR 4.17\n",
      "WARNING:root:SPIKES COULD NOT BE GENERATED FOR 4.17\n"
     ]
    },
    {
     "name": "stdout",
     "output_type": "stream",
     "text": [
      "MAX SCALED STRESS 0.4403318526866532\n",
      "MEAN SCALED STRESS 0.3597863943791085\n",
      "MAX SCALED STRESS 0.3455365114460293\n",
      "MEAN SCALED STRESS 0.2823310039319574\n",
      "MAX SCALED STRESS 0.25433307775985536\n",
      "MEAN SCALED STRESS 0.20781049742478708\n",
      "MAX SCALED STRESS 0.1726900102079246\n",
      "MEAN SCALED STRESS 0.1411015715998591\n"
     ]
    },
    {
     "name": "stderr",
     "output_type": "stream",
     "text": [
      "WARNING:root:SPIKES COULD NOT BE GENERATED FOR 4.17\n",
      "WARNING:root:SPIKES COULD NOT BE GENERATED FOR 4.17\n",
      "WARNING:root:SPIKES COULD NOT BE GENERATED FOR 4.17\n",
      "WARNING:root:SPIKES COULD NOT BE GENERATED FOR 4.17\n"
     ]
    },
    {
     "name": "stdout",
     "output_type": "stream",
     "text": [
      "MAX SCALED STRESS 0.12766707324565615\n",
      "MEAN SCALED STRESS 0.10431422366260838\n",
      "MAX SCALED STRESS 0.09816150933977051\n",
      "MEAN SCALED STRESS 0.0802058183676231\n",
      "MAX SCALED STRESS 0.08294158950108467\n",
      "MEAN SCALED STRESS 0.0677699214311173\n"
     ]
    },
    {
     "name": "stderr",
     "output_type": "stream",
     "text": [
      "WARNING:root:SPIKES COULD NOT BE GENERATED FOR 4.17\n",
      "WARNING:root:SPIKES COULD NOT BE GENERATED FOR 4.17\n",
      "WARNING:root:SPIKES COULD NOT BE GENERATED FOR 4.17\n"
     ]
    },
    {
     "name": "stdout",
     "output_type": "stream",
     "text": [
      "MAX SCALED STRESS 0.09558026442119137\n",
      "MEAN SCALED STRESS 0.07809673011177938\n",
      "MAX SCALED STRESS 0.07139587478791894\n",
      "MEAN SCALED STRESS 0.05833614766911305\n",
      "MAX SCALED STRESS 0.08358271181128595\n",
      "MEAN SCALED STRESS 0.06829376995191581\n",
      "MAX SCALED STRESS 0.11505328773163988\n",
      "MEAN SCALED STRESS 0.09400775009967656\n"
     ]
    },
    {
     "name": "stderr",
     "output_type": "stream",
     "text": [
      "WARNING:root:SPIKES COULD NOT BE GENERATED FOR 4.17\n",
      "WARNING:root:SPIKES COULD NOT BE GENERATED FOR 4.17\n",
      "WARNING:root:SPIKES COULD NOT BE GENERATED FOR 4.17\n",
      "WARNING:root:SPIKES COULD NOT BE GENERATED FOR 4.17\n"
     ]
    },
    {
     "name": "stdout",
     "output_type": "stream",
     "text": [
      "MAX SCALED STRESS 0.13005929401572042\n",
      "MEAN SCALED STRESS 0.10626886231781944\n",
      "MAX SCALED STRESS 0.09540387658457036\n",
      "MEAN SCALED STRESS 0.07795260703663756\n",
      "MAX SCALED STRESS 0.09425635946001369\n",
      "MEAN SCALED STRESS 0.07701499747075853\n",
      "MAX SCALED STRESS 0.09763107142913406\n",
      "MEAN SCALED STRESS 0.07977240652693192\n"
     ]
    },
    {
     "name": "stderr",
     "output_type": "stream",
     "text": [
      "WARNING:root:SPIKES COULD NOT BE GENERATED FOR 4.17\n",
      "WARNING:root:SPIKES COULD NOT BE GENERATED FOR 4.17\n",
      "WARNING:root:SPIKES COULD NOT BE GENERATED FOR 4.17\n",
      "WARNING:root:SPIKES COULD NOT BE GENERATED FOR 4.17\n"
     ]
    },
    {
     "name": "stdout",
     "output_type": "stream",
     "text": [
      "MAX SCALED STRESS 0.10383627238921779\n",
      "MEAN SCALED STRESS 0.0848425522310657\n",
      "MAX SCALED STRESS 0.10586904931861303\n",
      "MEAN SCALED STRESS 0.08650348930323852\n",
      "MAX SCALED STRESS 0.083867006392265\n",
      "MEAN SCALED STRESS 0.06852606122248496\n",
      "MAX SCALED STRESS 3.1705751999999996\n",
      "MEAN SCALED STRESS 2.5906138471082842\n"
     ]
    },
    {
     "name": "stderr",
     "output_type": "stream",
     "text": [
      "WARNING:root:SPIKES COULD NOT BE GENERATED FOR 4.17\n",
      "WARNING:root:SPIKES COULD NOT BE GENERATED FOR 4.17\n",
      "WARNING:root:SPIKES COULD NOT BE GENERATED FOR 4.17\n"
     ]
    },
    {
     "name": "stdout",
     "output_type": "stream",
     "text": [
      "MAX SCALED STRESS 2.0105466742786358\n",
      "MEAN SCALED STRESS 1.6427776963833722\n",
      "MAX SCALED STRESS 1.6231510761471462\n",
      "MEAN SCALED STRESS 1.3262443989856045\n",
      "MAX SCALED STRESS 1.3927566524425956\n",
      "MEAN SCALED STRESS 1.1379937069193835\n",
      "MAX SCALED STRESS 1.1247312255301958\n",
      "MEAN SCALED STRESS 0.9189955353822608\n"
     ]
    },
    {
     "name": "stderr",
     "output_type": "stream",
     "text": [
      "WARNING:root:SPIKES COULD NOT BE GENERATED FOR 4.17\n",
      "WARNING:root:SPIKES COULD NOT BE GENERATED FOR 4.17\n",
      "WARNING:root:SPIKES COULD NOT BE GENERATED FOR 4.17\n",
      "WARNING:root:SPIKES COULD NOT BE GENERATED FOR 4.17\n"
     ]
    },
    {
     "name": "stdout",
     "output_type": "stream",
     "text": [
      "MAX SCALED STRESS 0.9004209523536773\n",
      "MEAN SCALED STRESS 0.7357160330369262\n",
      "MAX SCALED STRESS 0.6896055398095834\n",
      "MEAN SCALED STRESS 0.5634629561937585\n",
      "MAX SCALED STRESS 0.5503516692539152\n",
      "MEAN SCALED STRESS 0.44968139714002475\n",
      "MAX SCALED STRESS 0.4318710870045149\n",
      "MEAN SCALED STRESS 0.3528732667147252\n"
     ]
    },
    {
     "name": "stderr",
     "output_type": "stream",
     "text": [
      "WARNING:root:SPIKES COULD NOT BE GENERATED FOR 4.17\n",
      "WARNING:root:SPIKES COULD NOT BE GENERATED FOR 4.17\n",
      "WARNING:root:SPIKES COULD NOT BE GENERATED FOR 4.17\n",
      "WARNING:root:SPIKES COULD NOT BE GENERATED FOR 4.17\n"
     ]
    },
    {
     "name": "stdout",
     "output_type": "stream",
     "text": [
      "MAX SCALED STRESS 0.31787987409402524\n",
      "MEAN SCALED STRESS 0.2597333203319375\n",
      "MAX SCALED STRESS 0.21583774782933773\n",
      "MEAN SCALED STRESS 0.17635672956776555\n",
      "MAX SCALED STRESS 0.159565533224116\n",
      "MEAN SCALED STRESS 0.13037782020392755\n",
      "MAX SCALED STRESS 0.12268780964176651\n",
      "MEAN SCALED STRESS 0.10024577089568261\n"
     ]
    },
    {
     "name": "stderr",
     "output_type": "stream",
     "text": [
      "WARNING:root:SPIKES COULD NOT BE GENERATED FOR 4.17\n",
      "WARNING:root:SPIKES COULD NOT BE GENERATED FOR 4.17\n",
      "WARNING:root:SPIKES COULD NOT BE GENERATED FOR 4.17\n",
      "WARNING:root:SPIKES COULD NOT BE GENERATED FOR 4.17\n"
     ]
    },
    {
     "name": "stdout",
     "output_type": "stream",
     "text": [
      "MAX SCALED STRESS 0.10366509248418618\n",
      "MEAN SCALED STRESS 0.08470268311786976\n",
      "MAX SCALED STRESS 0.11946162366174809\n",
      "MEAN SCALED STRESS 0.09760971303358326\n",
      "MAX SCALED STRESS 0.0892346048273189\n",
      "MEAN SCALED STRESS 0.07291181878315293\n",
      "MAX SCALED STRESS 0.10446640343060616\n",
      "MEAN SCALED STRESS 0.08535741864540111\n"
     ]
    },
    {
     "name": "stderr",
     "output_type": "stream",
     "text": [
      "WARNING:root:SPIKES COULD NOT BE GENERATED FOR 4.17\n",
      "WARNING:root:SPIKES COULD NOT BE GENERATED FOR 4.17\n",
      "WARNING:root:SPIKES COULD NOT BE GENERATED FOR 4.17\n",
      "WARNING:root:SPIKES COULD NOT BE GENERATED FOR 4.17\n"
     ]
    },
    {
     "name": "stdout",
     "output_type": "stream",
     "text": [
      "MAX SCALED STRESS 0.14380011023485578\n",
      "MEAN SCALED STRESS 0.11749620626918163\n",
      "MAX SCALED STRESS 0.16255546612584873\n",
      "MEAN SCALED STRESS 0.13282083821436694\n",
      "MAX SCALED STRESS 0.11924116416119604\n",
      "MEAN SCALED STRESS 0.09742957985789236\n",
      "MAX SCALED STRESS 0.11780693231731754\n",
      "MEAN SCALED STRESS 0.0962577023601789\n"
     ]
    },
    {
     "name": "stderr",
     "output_type": "stream",
     "text": [
      "WARNING:root:SPIKES COULD NOT BE GENERATED FOR 4.17\n",
      "WARNING:root:SPIKES COULD NOT BE GENERATED FOR 4.17\n",
      "WARNING:root:SPIKES COULD NOT BE GENERATED FOR 4.17\n",
      "WARNING:root:SPIKES COULD NOT BE GENERATED FOR 4.17\n"
     ]
    },
    {
     "name": "stdout",
     "output_type": "stream",
     "text": [
      "MAX SCALED STRESS 0.1220248383219014\n",
      "MEAN SCALED STRESS 0.0997040682490459\n",
      "MAX SCALED STRESS 0.12978044965367636\n",
      "MEAN SCALED STRESS 0.10604102328558344\n",
      "MAX SCALED STRESS 0.13232112930128212\n",
      "MEAN SCALED STRESS 0.1081169564360442\n",
      "MAX SCALED STRESS 0.10482173088703935\n",
      "MEAN SCALED STRESS 0.08564774942145291\n"
     ]
    },
    {
     "name": "stderr",
     "output_type": "stream",
     "text": [
      "WARNING:root:SPIKES COULD NOT BE GENERATED FOR 4.17\n",
      "WARNING:root:SPIKES COULD NOT BE GENERATED FOR 4.17\n"
     ]
    },
    {
     "name": "stdout",
     "output_type": "stream",
     "text": [
      "MAX SCALED STRESS 4.3305636\n",
      "MEAN SCALED STRESS 3.5384172650890298\n",
      "MAX SCALED STRESS 2.7461263948989814\n",
      "MEAN SCALED STRESS 2.243805254910744\n",
      "MAX SCALED STRESS 2.216998028516611\n",
      "MEAN SCALED STRESS 1.8114649098847861\n",
      "MAX SCALED STRESS 1.902311373256738\n",
      "MEAN SCALED STRESS 1.5543407152790922\n"
     ]
    },
    {
     "name": "stderr",
     "output_type": "stream",
     "text": [
      "WARNING:root:SPIKES COULD NOT BE GENERATED FOR 4.17\n",
      "WARNING:root:SPIKES COULD NOT BE GENERATED FOR 4.17\n",
      "WARNING:root:SPIKES COULD NOT BE GENERATED FOR 4.17\n",
      "WARNING:root:SPIKES COULD NOT BE GENERATED FOR 4.17\n"
     ]
    },
    {
     "name": "stdout",
     "output_type": "stream",
     "text": [
      "MAX SCALED STRESS 1.5362260150979725\n",
      "MEAN SCALED STRESS 1.2552197513211263\n",
      "MAX SCALED STRESS 1.229849461050528\n",
      "MEAN SCALED STRESS 1.0048855086629427\n",
      "MAX SCALED STRESS 0.9419050048261695\n",
      "MEAN SCALED STRESS 0.7696118256526719\n",
      "MAX SCALED STRESS 0.751703636005935\n",
      "MEAN SCALED STRESS 0.6142020823387931\n"
     ]
    },
    {
     "name": "stderr",
     "output_type": "stream",
     "text": [
      "WARNING:root:SPIKES COULD NOT BE GENERATED FOR 4.17\n",
      "WARNING:root:SPIKES COULD NOT BE GENERATED FOR 4.17\n",
      "WARNING:root:SPIKES COULD NOT BE GENERATED FOR 4.17\n",
      "WARNING:root:SPIKES COULD NOT BE GENERATED FOR 4.17\n"
     ]
    },
    {
     "name": "stdout",
     "output_type": "stream",
     "text": [
      "MAX SCALED STRESS 0.5898756822655351\n",
      "MEAN SCALED STRESS 0.4819756756590667\n",
      "MAX SCALED STRESS 0.4341795810186647\n",
      "MEAN SCALED STRESS 0.35475949686877906\n",
      "MAX SCALED STRESS 0.2948042658807491\n",
      "MEAN SCALED STRESS 0.24087870039518677\n",
      "MAX SCALED STRESS 0.2179442676505347\n",
      "MEAN SCALED STRESS 0.1780779217671523\n"
     ]
    },
    {
     "name": "stderr",
     "output_type": "stream",
     "text": [
      "WARNING:root:SPIKES COULD NOT BE GENERATED FOR 4.17\n",
      "WARNING:root:SPIKES COULD NOT BE GENERATED FOR 4.17\n",
      "WARNING:root:SPIKES COULD NOT BE GENERATED FOR 4.17\n",
      "WARNING:root:SPIKES COULD NOT BE GENERATED FOR 4.17\n"
     ]
    },
    {
     "name": "stdout",
     "output_type": "stream",
     "text": [
      "MAX SCALED STRESS 0.1675744396784417\n",
      "MEAN SCALED STRESS 0.1369217441979558\n",
      "MAX SCALED STRESS 0.14159206067802788\n",
      "MEAN SCALED STRESS 0.11569205371081605\n",
      "MAX SCALED STRESS 0.1631679195076228\n",
      "MEAN SCALED STRESS 0.13332125674536321\n",
      "MAX SCALED STRESS 0.1218820268087543\n",
      "MEAN SCALED STRESS 0.09958737721537671\n"
     ]
    },
    {
     "name": "stderr",
     "output_type": "stream",
     "text": [
      "WARNING:root:SPIKES COULD NOT BE GENERATED FOR 4.17\n",
      "WARNING:root:SPIKES COULD NOT BE GENERATED FOR 4.17\n",
      "WARNING:root:SPIKES COULD NOT BE GENERATED FOR 4.17\n",
      "WARNING:root:SPIKES COULD NOT BE GENERATED FOR 4.17\n"
     ]
    },
    {
     "name": "stdout",
     "output_type": "stream",
     "text": [
      "MAX SCALED STRESS 0.1426865396914409\n",
      "MEAN SCALED STRESS 0.11658633114134474\n",
      "MAX SCALED STRESS 0.19641089826825553\n",
      "MEAN SCALED STRESS 0.16048343341845664\n",
      "MAX SCALED STRESS 0.22202809906090024\n",
      "MEAN SCALED STRESS 0.18141474370096206\n",
      "MAX SCALED STRESS 0.16286680257200653\n",
      "MEAN SCALED STRESS 0.13307521994617316\n"
     ]
    },
    {
     "name": "stderr",
     "output_type": "stream",
     "text": [
      "WARNING:root:SPIKES COULD NOT BE GENERATED FOR 4.17\n",
      "WARNING:root:SPIKES COULD NOT BE GENERATED FOR 4.17\n",
      "WARNING:root:SPIKES COULD NOT BE GENERATED FOR 4.17\n",
      "WARNING:root:SPIKES COULD NOT BE GENERATED FOR 4.17\n"
     ]
    },
    {
     "name": "stdout",
     "output_type": "stream",
     "text": [
      "MAX SCALED STRESS 0.16090784187078705\n",
      "MEAN SCALED STRESS 0.1314745986976196\n",
      "MAX SCALED STRESS 0.1666689133040312\n",
      "MEAN SCALED STRESS 0.13618185392077564\n",
      "MAX SCALED STRESS 0.1772619968962867\n",
      "MEAN SCALED STRESS 0.14483725083931145\n",
      "MAX SCALED STRESS 0.18073221100796658\n",
      "MEAN SCALED STRESS 0.14767268604280975\n"
     ]
    },
    {
     "name": "stderr",
     "output_type": "stream",
     "text": [
      "WARNING:root:SPIKES COULD NOT BE GENERATED FOR 4.17\n",
      "WARNING:root:SPIKES COULD NOT BE GENERATED FOR 4.17\n"
     ]
    },
    {
     "name": "stdout",
     "output_type": "stream",
     "text": [
      "MAX SCALED STRESS 0.1431718674480291\n",
      "MEAN SCALED STRESS 0.11698288249604206\n",
      "MAX SCALED STRESS 10.269429\n",
      "MEAN SCALED STRESS 8.390945898175003\n",
      "MAX SCALED STRESS 6.512120047709508\n",
      "MEAN SCALED STRESS 5.32092376039294\n",
      "MAX SCALED STRESS 5.257353534073791\n",
      "MEAN SCALED STRESS 4.295678806807781\n",
      "MAX SCALED STRESS 4.511110651637253\n",
      "MEAN SCALED STRESS 3.6859386194831205\n",
      "MAX SCALED STRESS 3.6429817102793636\n",
      "MEAN SCALED STRESS 2.9766079675148895\n",
      "MAX SCALED STRESS 2.9164452684511235\n",
      "MEAN SCALED STRESS 2.3829693632355324\n",
      "MAX SCALED STRESS 2.233618407499432\n",
      "MEAN SCALED STRESS 1.8250451283293692\n"
     ]
    },
    {
     "name": "stderr",
     "output_type": "stream",
     "text": [
      "WARNING:root:SPIKES COULD NOT BE GENERATED FOR 4.17\n",
      "WARNING:root:SPIKES COULD NOT BE GENERATED FOR 4.17\n",
      "WARNING:root:SPIKES COULD NOT BE GENERATED FOR 4.17\n",
      "WARNING:root:SPIKES COULD NOT BE GENERATED FOR 4.17\n"
     ]
    },
    {
     "name": "stdout",
     "output_type": "stream",
     "text": [
      "MAX SCALED STRESS 1.782577934891614\n",
      "MEAN SCALED STRESS 1.4565089579172539\n",
      "MAX SCALED STRESS 1.3988217233092872\n",
      "MEAN SCALED STRESS 1.1429493798238672\n",
      "MAX SCALED STRESS 1.0296064882919453\n",
      "MEAN SCALED STRESS 0.8412709757154123\n",
      "MAX SCALED STRESS 0.6990941034463678\n",
      "MEAN SCALED STRESS 0.5712158831521705\n"
     ]
    },
    {
     "name": "stderr",
     "output_type": "stream",
     "text": [
      "WARNING:root:SPIKES COULD NOT BE GENERATED FOR 4.17\n",
      "WARNING:root:SPIKES COULD NOT BE GENERATED FOR 4.17\n",
      "WARNING:root:SPIKES COULD NOT BE GENERATED FOR 4.17\n",
      "WARNING:root:SPIKES COULD NOT BE GENERATED FOR 4.17\n"
     ]
    },
    {
     "name": "stdout",
     "output_type": "stream",
     "text": [
      "MAX SCALED STRESS 0.5168295375212046\n",
      "MEAN SCALED STRESS 0.42229112489083986\n",
      "MAX SCALED STRESS 0.3973833360841393\n",
      "MEAN SCALED STRESS 0.324694026107149\n",
      "MAX SCALED STRESS 0.33576913963270255\n",
      "MEAN SCALED STRESS 0.2743502788984353\n",
      "MAX SCALED STRESS 0.38693378489147406\n",
      "MEAN SCALED STRESS 0.31615588796277666\n"
     ]
    },
    {
     "name": "stderr",
     "output_type": "stream",
     "text": [
      "WARNING:root:SPIKES COULD NOT BE GENERATED FOR 4.17\n",
      "WARNING:root:SPIKES COULD NOT BE GENERATED FOR 4.17\n",
      "WARNING:root:SPIKES COULD NOT BE GENERATED FOR 4.17\n",
      "WARNING:root:SPIKES COULD NOT BE GENERATED FOR 4.17\n"
     ]
    },
    {
     "name": "stdout",
     "output_type": "stream",
     "text": [
      "MAX SCALED STRESS 0.2890290817316709\n",
      "MEAN SCALED STRESS 0.2361599075948288\n",
      "MAX SCALED STRESS 0.33836456959480615\n",
      "MEAN SCALED STRESS 0.2764709540408387\n",
      "MAX SCALED STRESS 0.4657656510556902\n",
      "MEAN SCALED STRESS 0.3805678376752319\n",
      "MAX SCALED STRESS 0.5265138697676399\n",
      "MEAN SCALED STRESS 0.4302040108567455\n"
     ]
    },
    {
     "name": "stderr",
     "output_type": "stream",
     "text": [
      "WARNING:root:SPIKES COULD NOT BE GENERATED FOR 4.17\n",
      "WARNING:root:SPIKES COULD NOT BE GENERATED FOR 4.17\n",
      "WARNING:root:SPIKES COULD NOT BE GENERATED FOR 4.17\n",
      "WARNING:root:SPIKES COULD NOT BE GENERATED FOR 4.17\n"
     ]
    },
    {
     "name": "stdout",
     "output_type": "stream",
     "text": [
      "MAX SCALED STRESS 0.3862197210243578\n",
      "MEAN SCALED STRESS 0.31557244024694825\n",
      "MAX SCALED STRESS 0.3815742730658141\n",
      "MEAN SCALED STRESS 0.3117767527138262\n",
      "MAX SCALED STRESS 0.3952359853768003\n",
      "MEAN SCALED STRESS 0.3229394621817301\n",
      "MAX SCALED STRESS 0.42035625375058255\n",
      "MEAN SCALED STRESS 0.3434647314842576\n"
     ]
    },
    {
     "name": "stderr",
     "output_type": "stream",
     "text": [
      "WARNING:root:SPIKES COULD NOT BE GENERATED FOR 4.17\n",
      "WARNING:root:SPIKES COULD NOT BE GENERATED FOR 4.17\n",
      "WARNING:root:SPIKES COULD NOT BE GENERATED FOR 4.17\n"
     ]
    },
    {
     "name": "stdout",
     "output_type": "stream",
     "text": [
      "MAX SCALED STRESS 0.42858546378566786\n",
      "MEAN SCALED STRESS 0.3501886370069536\n",
      "MAX SCALED STRESS 0.33951546804553245\n",
      "MEAN SCALED STRESS 0.27741132955729986\n",
      "MAX SCALED STRESS 14.151317999999998\n",
      "MEAN SCALED STRESS 11.562760083921907\n",
      "MAX SCALED STRESS 8.973729858720713\n",
      "MEAN SCALED STRESS 7.332256173841436\n",
      "MAX SCALED STRESS 7.244656124415683\n",
      "MEAN SCALED STRESS 5.919464151414598\n",
      "MAX SCALED STRESS 6.216330174200141\n",
      "MEAN SCALED STRESS 5.079239511056227\n",
      "MAX SCALED STRESS 5.020044702616586\n",
      "MEAN SCALED STRESS 4.10177877559082\n",
      "MAX SCALED STRESS 4.018874313600805\n",
      "MEAN SCALED STRESS 3.2837421869710104\n"
     ]
    },
    {
     "name": "stderr",
     "output_type": "stream",
     "text": [
      "WARNING:root:SPIKES COULD NOT BE GENERATED FOR 4.17\n",
      "WARNING:root:SPIKES COULD NOT BE GENERATED FOR 4.17\n"
     ]
    },
    {
     "name": "stdout",
     "output_type": "stream",
     "text": [
      "MAX SCALED STRESS 3.077935917876061\n",
      "MEAN SCALED STRESS 2.5149201552822174\n",
      "MAX SCALED STRESS 2.4564001773063064\n",
      "MEAN SCALED STRESS 2.0070757033653646\n",
      "MAX SCALED STRESS 1.9275824422037229\n",
      "MEAN SCALED STRESS 1.5749892357004782\n",
      "MAX SCALED STRESS 1.4188022362959611\n",
      "MEAN SCALED STRESS 1.159275077661969\n"
     ]
    },
    {
     "name": "stderr",
     "output_type": "stream",
     "text": [
      "WARNING:root:SPIKES COULD NOT BE GENERATED FOR 4.17\n",
      "WARNING:root:SPIKES COULD NOT BE GENERATED FOR 4.17\n",
      "WARNING:root:SPIKES COULD NOT BE GENERATED FOR 4.17\n",
      "WARNING:root:SPIKES COULD NOT BE GENERATED FOR 4.17\n"
     ]
    },
    {
     "name": "stdout",
     "output_type": "stream",
     "text": [
      "MAX SCALED STRESS 0.9633547269078394\n",
      "MEAN SCALED STRESS 0.787137981005293\n",
      "MAX SCALED STRESS 0.712193359266177\n",
      "MEAN SCALED STRESS 0.5819190138914236\n",
      "MAX SCALED STRESS 0.5475959721643265\n",
      "MEAN SCALED STRESS 0.4474297856426649\n",
      "MAX SCALED STRESS 0.46269134043662763\n",
      "MEAN SCALED STRESS 0.37805588218005565\n"
     ]
    },
    {
     "name": "stderr",
     "output_type": "stream",
     "text": [
      "WARNING:root:SPIKES COULD NOT BE GENERATED FOR 4.17\n",
      "WARNING:root:SPIKES COULD NOT BE GENERATED FOR 4.17\n",
      "WARNING:root:SPIKES COULD NOT BE GENERATED FOR 4.17\n",
      "WARNING:root:SPIKES COULD NOT BE GENERATED FOR 4.17\n"
     ]
    },
    {
     "name": "stdout",
     "output_type": "stream",
     "text": [
      "MAX SCALED STRESS 0.5331964449963911\n",
      "MEAN SCALED STRESS 0.43566419400081774\n",
      "MAX SCALED STRESS 0.3982833365742988\n",
      "MEAN SCALED STRESS 0.32542938377830316\n",
      "MAX SCALED STRESS 0.46626785425647643\n",
      "MEAN SCALED STRESS 0.3809781817855007\n",
      "MAX SCALED STRESS 0.641827100763451\n",
      "MEAN SCALED STRESS 0.5244241419376467\n"
     ]
    },
    {
     "name": "stderr",
     "output_type": "stream",
     "text": [
      "WARNING:root:SPIKES COULD NOT BE GENERATED FOR 4.17\n",
      "WARNING:root:SPIKES COULD NOT BE GENERATED FOR 4.17\n",
      "WARNING:root:SPIKES COULD NOT BE GENERATED FOR 4.17\n",
      "WARNING:root:SPIKES COULD NOT BE GENERATED FOR 4.17\n"
     ]
    },
    {
     "name": "stdout",
     "output_type": "stream",
     "text": [
      "MAX SCALED STRESS 0.725538411385137\n",
      "MEAN SCALED STRESS 0.5928230053013909\n",
      "MAX SCALED STRESS 0.5322124618697858\n",
      "MEAN SCALED STRESS 0.4348602005009784\n",
      "MAX SCALED STRESS 0.52581101430013\n",
      "MEAN SCALED STRESS 0.42962972650774606\n",
      "MAX SCALED STRESS 0.5446369135139305\n",
      "MEAN SCALED STRESS 0.4450119888927258\n"
     ]
    },
    {
     "name": "stderr",
     "output_type": "stream",
     "text": [
      "WARNING:root:SPIKES COULD NOT BE GENERATED FOR 4.17\n",
      "WARNING:root:SPIKES COULD NOT BE GENERATED FOR 4.17\n",
      "WARNING:root:SPIKES COULD NOT BE GENERATED FOR 4.17\n",
      "WARNING:root:SPIKES COULD NOT BE GENERATED FOR 4.17\n"
     ]
    },
    {
     "name": "stdout",
     "output_type": "stream",
     "text": [
      "MAX SCALED STRESS 0.5792527530121866\n",
      "MEAN SCALED STRESS 0.473295899608278\n",
      "MAX SCALED STRESS 0.5905926403706057\n",
      "MEAN SCALED STRESS 0.4825614707762201\n",
      "MAX SCALED STRESS 0.4678537973465874\n",
      "MEAN SCALED STRESS 0.38227402335301686\n",
      "MAX SCALED STRESS 27.059503799999995\n",
      "MEAN SCALED STRESS 22.10978160687034\n",
      "MAX SCALED STRESS 17.15915628581215\n",
      "MEAN SCALED STRESS 14.020405293601335\n",
      "MAX SCALED STRESS 13.852900480953043\n",
      "MEAN SCALED STRESS 11.318928929387857\n",
      "MAX SCALED STRESS 11.886582576324226\n",
      "MEAN SCALED STRESS 9.71228975637012\n",
      "MAX SCALED STRESS 9.599100147888937\n",
      "MEAN SCALED STRESS 7.843233991693153\n",
      "MAX SCALED STRESS 7.6847078668293225\n",
      "MEAN SCALED STRESS 6.279021797585382\n",
      "MAX SCALED STRESS 5.885488451741651\n",
      "MEAN SCALED STRESS 4.8089154309553175\n",
      "MAX SCALED STRESS 4.697016202458362\n",
      "MEAN SCALED STRESS 3.8378384700352823\n",
      "MAX SCALED STRESS 3.6858350875603896\n",
      "MEAN SCALED STRESS 3.011622465723418\n"
     ]
    },
    {
     "name": "stderr",
     "output_type": "stream",
     "text": [
      "WARNING:root:SPIKES COULD NOT BE GENERATED FOR 4.17\n",
      "WARNING:root:SPIKES COULD NOT BE GENERATED FOR 4.17\n"
     ]
    },
    {
     "name": "stdout",
     "output_type": "stream",
     "text": [
      "MAX SCALED STRESS 2.712968820607314\n",
      "MEAN SCALED STRESS 2.216712843937176\n",
      "MAX SCALED STRESS 1.8420828995229024\n",
      "MEAN SCALED STRESS 1.5051292881791682\n",
      "MAX SCALED STRESS 1.3618236062109468\n",
      "MEAN SCALED STRESS 1.1127189543537381\n",
      "MAX SCALED STRESS 1.0470880019546793\n",
      "MEAN SCALED STRESS 0.8555547960148218\n"
     ]
    },
    {
     "name": "stderr",
     "output_type": "stream",
     "text": [
      "WARNING:root:SPIKES COULD NOT BE GENERATED FOR 4.17\n",
      "WARNING:root:SPIKES COULD NOT BE GENERATED FOR 4.17\n",
      "WARNING:root:SPIKES COULD NOT BE GENERATED FOR 4.17\n",
      "WARNING:root:SPIKES COULD NOT BE GENERATED FOR 4.17\n"
     ]
    },
    {
     "name": "stdout",
     "output_type": "stream",
     "text": [
      "MAX SCALED STRESS 0.8847372438929023\n",
      "MEAN SCALED STRESS 0.7229011870458687\n",
      "MAX SCALED STRESS 1.0195538839227793\n",
      "MEAN SCALED STRESS 0.8330571691689117\n",
      "MAX SCALED STRESS 0.7615792012806807\n",
      "MEAN SCALED STRESS 0.6222712009567345\n",
      "MAX SCALED STRESS 0.8915760902320881\n",
      "MEAN SCALED STRESS 0.7284890748509678\n"
     ]
    },
    {
     "name": "stderr",
     "output_type": "stream",
     "text": [
      "WARNING:root:SPIKES COULD NOT BE GENERATED FOR 4.17\n",
      "WARNING:root:SPIKES COULD NOT BE GENERATED FOR 4.17\n",
      "WARNING:root:SPIKES COULD NOT BE GENERATED FOR 4.17\n",
      "WARNING:root:SPIKES COULD NOT BE GENERATED FOR 4.17\n"
     ]
    },
    {
     "name": "stdout",
     "output_type": "stream",
     "text": [
      "MAX SCALED STRESS 1.227272461268384\n",
      "MEAN SCALED STRESS 1.002779886762031\n",
      "MAX SCALED STRESS 1.387341405226148\n",
      "MEAN SCALED STRESS 1.1335690685970319\n",
      "MAX SCALED STRESS 1.0176723563397292\n",
      "MEAN SCALED STRESS 0.8315198095276345\n",
      "MAX SCALED STRESS 1.0054318007365972\n",
      "MEAN SCALED STRESS 0.821518336103345\n"
     ]
    },
    {
     "name": "stderr",
     "output_type": "stream",
     "text": [
      "WARNING:root:SPIKES COULD NOT BE GENERATED FOR 4.17\n",
      "WARNING:root:SPIKES COULD NOT BE GENERATED FOR 4.17\n",
      "WARNING:root:SPIKES COULD NOT BE GENERATED FOR 4.17\n",
      "WARNING:root:SPIKES COULD NOT BE GENERATED FOR 4.17\n"
     ]
    },
    {
     "name": "stdout",
     "output_type": "stream",
     "text": [
      "MAX SCALED STRESS 1.0414298251831013\n",
      "MEAN SCALED STRESS 0.8509315955226411\n",
      "MAX SCALED STRESS 1.1076206521041874\n",
      "MEAN SCALED STRESS 0.9050147974891539\n",
      "MAX SCALED STRESS 1.1293042666669237\n",
      "MEAN SCALED STRESS 0.9227319993941707\n",
      "MAX SCALED STRESS 0.8946086581578063\n",
      "MEAN SCALED STRESS 0.7309669238979896\n"
     ]
    },
    {
     "name": "stderr",
     "output_type": "stream",
     "text": [
      "WARNING:root:SPIKES COULD NOT BE GENERATED FOR 4.17\n"
     ]
    },
    {
     "name": "stdout",
     "output_type": "stream",
     "text": [
      "MAX SCALED STRESS 55.280654999999996\n",
      "MEAN SCALED STRESS 45.16872216757888\n",
      "MAX SCALED STRESS 35.054944308589384\n",
      "MEAN SCALED STRESS 28.64269772735999\n",
      "MAX SCALED STRESS 28.30049722629797\n",
      "MEAN SCALED STRESS 23.12377232560375\n",
      "MAX SCALED STRESS 24.283448631855205\n",
      "MEAN SCALED STRESS 19.84152197506041\n",
      "MAX SCALED STRESS 19.61028359972725\n",
      "MEAN SCALED STRESS 16.02317306273229\n",
      "MAX SCALED STRESS 15.699315386632396\n",
      "MEAN SCALED STRESS 12.827598033405083\n",
      "MAX SCALED STRESS 12.023637203843125\n",
      "MEAN SCALED STRESS 9.824274562744097\n",
      "MAX SCALED STRESS 9.595672342576766\n",
      "MEAN SCALED STRESS 7.840432920567756\n",
      "MAX SCALED STRESS 7.529900746454955\n",
      "MEAN SCALED STRESS 6.15253198094141\n",
      "MAX SCALED STRESS 5.542403678435146\n",
      "MEAN SCALED STRESS 4.528587769586517\n",
      "MAX SCALED STRESS 3.7632452539623156\n",
      "MEAN SCALED STRESS 3.074872825651304\n",
      "MAX SCALED STRESS 2.782109439338766\n",
      "MEAN SCALED STRESS 2.2732062303222924\n"
     ]
    },
    {
     "name": "stderr",
     "output_type": "stream",
     "text": [
      "WARNING:root:SPIKES COULD NOT BE GENERATED FOR 4.17\n",
      "WARNING:root:SPIKES COULD NOT BE GENERATED FOR 4.17\n",
      "WARNING:root:SPIKES COULD NOT BE GENERATED FOR 4.17\n"
     ]
    },
    {
     "name": "stdout",
     "output_type": "stream",
     "text": [
      "MAX SCALED STRESS 2.1391268302080233\n",
      "MEAN SCALED STRESS 1.747838018821718\n",
      "MAX SCALED STRESS 1.8074556986257224\n",
      "MEAN SCALED STRESS 1.4768360652708323\n",
      "MAX SCALED STRESS 2.082876571855143\n",
      "MEAN SCALED STRESS 1.7018769562250156\n",
      "MAX SCALED STRESS 1.555852516452015\n",
      "MEAN SCALED STRESS 1.2712561113749954\n"
     ]
    },
    {
     "name": "stderr",
     "output_type": "stream",
     "text": [
      "WARNING:root:SPIKES COULD NOT BE GENERATED FOR 4.17\n",
      "WARNING:root:SPIKES COULD NOT BE GENERATED FOR 4.17\n",
      "WARNING:root:SPIKES COULD NOT BE GENERATED FOR 4.17\n"
     ]
    },
    {
     "name": "stdout",
     "output_type": "stream",
     "text": [
      "MAX SCALED STRESS 1.8214269786561619\n",
      "MEAN SCALED STRESS 1.4882517253736756\n",
      "MAX SCALED STRESS 2.5072309538203137\n",
      "MEAN SCALED STRESS 2.0486084804345492\n",
      "MAX SCALED STRESS 2.8342405003569167\n",
      "MEAN SCALED STRESS 2.315801541038747\n",
      "MAX SCALED STRESS 2.0790327438987863\n",
      "MEAN SCALED STRESS 1.6987362390644758\n"
     ]
    },
    {
     "name": "stderr",
     "output_type": "stream",
     "text": [
      "WARNING:root:SPIKES COULD NOT BE GENERATED FOR 4.17\n",
      "WARNING:root:SPIKES COULD NOT BE GENERATED FOR 4.17\n",
      "WARNING:root:SPIKES COULD NOT BE GENERATED FOR 4.17\n",
      "WARNING:root:SPIKES COULD NOT BE GENERATED FOR 4.17\n"
     ]
    },
    {
     "name": "stdout",
     "output_type": "stream",
     "text": [
      "MAX SCALED STRESS 2.05402615337494\n",
      "MEAN SCALED STRESS 1.6783039352814395\n",
      "MAX SCALED STRESS 2.1275675747113048\n",
      "MEAN SCALED STRESS 1.7383931467614961\n",
      "MAX SCALED STRESS 2.26279075892909\n",
      "MEAN SCALED STRESS 1.8488813083813012\n",
      "MAX SCALED STRESS 2.3070888519264794\n",
      "MEAN SCALED STRESS 1.8850763004741187\n"
     ]
    },
    {
     "name": "stderr",
     "output_type": "stream",
     "text": [
      "WARNING:root:SPIKES COULD NOT BE GENERATED FOR 4.17\n",
      "WARNING:root:SPIKES COULD NOT BE GENERATED FOR 4.17\n"
     ]
    },
    {
     "name": "stdout",
     "output_type": "stream",
     "text": [
      "MAX SCALED STRESS 1.8276223007324557\n",
      "MEAN SCALED STRESS 1.4933137959616252\n",
      "MAX SCALED STRESS 7.458011399999999\n",
      "MEAN SCALED STRESS 6.093792572632071\n",
      "MAX SCALED STRESS 4.729324829451184\n",
      "MEAN SCALED STRESS 3.86423724858913\n",
      "MAX SCALED STRESS 3.818070370899162\n",
      "MEAN SCALED STRESS 3.119669215485187\n"
     ]
    },
    {
     "name": "stderr",
     "output_type": "stream",
     "text": [
      "WARNING:root:SPIKES COULD NOT BE GENERATED FOR 4.17\n"
     ]
    },
    {
     "name": "stdout",
     "output_type": "stream",
     "text": [
      "MAX SCALED STRESS 3.2761232067111092\n",
      "MEAN SCALED STRESS 2.67685498812109\n",
      "MAX SCALED STRESS 2.645658207993355\n",
      "MEAN SCALED STRESS 2.161714751137271\n",
      "MAX SCALED STRESS 2.118022536558219\n",
      "MEAN SCALED STRESS 1.7305940453808424\n",
      "MAX SCALED STRESS 1.6221302612229564\n",
      "MEAN SCALED STRESS 1.3254103390358798\n"
     ]
    },
    {
     "name": "stderr",
     "output_type": "stream",
     "text": [
      "WARNING:root:SPIKES COULD NOT BE GENERATED FOR 4.17\n",
      "WARNING:root:SPIKES COULD NOT BE GENERATED FOR 4.17\n",
      "WARNING:root:SPIKES COULD NOT BE GENERATED FOR 4.17\n",
      "WARNING:root:SPIKES COULD NOT BE GENERATED FOR 4.17\n"
     ]
    },
    {
     "name": "stdout",
     "output_type": "stream",
     "text": [
      "MAX SCALED STRESS 1.2945692072860246\n",
      "MEAN SCALED STRESS 1.0577667377951585\n",
      "MAX SCALED STRESS 1.0158722903686572\n",
      "MEAN SCALED STRESS 0.8300490226232959\n",
      "MAX SCALED STRESS 0.7477355291316873\n",
      "MEAN SCALED STRESS 0.6109598233139028\n",
      "MAX SCALED STRESS 0.5077061045142617\n",
      "MEAN SCALED STRESS 0.414836556970203\n"
     ]
    },
    {
     "name": "stderr",
     "output_type": "stream",
     "text": [
      "WARNING:root:SPIKES COULD NOT BE GENERATED FOR 4.17\n",
      "WARNING:root:SPIKES COULD NOT BE GENERATED FOR 4.17\n",
      "WARNING:root:SPIKES COULD NOT BE GENERATED FOR 4.17\n",
      "WARNING:root:SPIKES COULD NOT BE GENERATED FOR 4.17\n"
     ]
    },
    {
     "name": "stdout",
     "output_type": "stream",
     "text": [
      "MAX SCALED STRESS 0.3753393282810438\n",
      "MEAN SCALED STRESS 0.30668229202954783\n",
      "MAX SCALED STRESS 0.28859340190048943\n",
      "MEAN SCALED STRESS 0.23580393303454505\n",
      "MAX SCALED STRESS 0.24384706015776408\n",
      "MEAN SCALED STRESS 0.19924257790941535\n",
      "MAX SCALED STRESS 0.28100457958916325\n",
      "MEAN SCALED STRESS 0.22960324440662772\n"
     ]
    },
    {
     "name": "stderr",
     "output_type": "stream",
     "text": [
      "WARNING:root:SPIKES COULD NOT BE GENERATED FOR 4.17\n",
      "WARNING:root:SPIKES COULD NOT BE GENERATED FOR 4.17\n",
      "WARNING:root:SPIKES COULD NOT BE GENERATED FOR 4.17\n",
      "WARNING:root:SPIKES COULD NOT BE GENERATED FOR 4.17\n"
     ]
    },
    {
     "name": "stdout",
     "output_type": "stream",
     "text": [
      "MAX SCALED STRESS 0.2099028277508256\n",
      "MEAN SCALED STRESS 0.17150742101290922\n",
      "MAX SCALED STRESS 0.24573195037369241\n",
      "MEAN SCALED STRESS 0.2007826848995646\n",
      "MAX SCALED STRESS 0.3382549833395565\n",
      "MEAN SCALED STRESS 0.27638141048107234\n",
      "MAX SCALED STRESS 0.3823724223601111\n",
      "MEAN SCALED STRESS 0.3124289010903461\n"
     ]
    },
    {
     "name": "stderr",
     "output_type": "stream",
     "text": [
      "WARNING:root:SPIKES COULD NOT BE GENERATED FOR 4.17\n",
      "WARNING:root:SPIKES COULD NOT BE GENERATED FOR 4.17\n",
      "WARNING:root:SPIKES COULD NOT BE GENERATED FOR 4.17\n",
      "WARNING:root:SPIKES COULD NOT BE GENERATED FOR 4.17\n"
     ]
    },
    {
     "name": "stdout",
     "output_type": "stream",
     "text": [
      "MAX SCALED STRESS 0.2804860019290732\n",
      "MEAN SCALED STRESS 0.22917952467343206\n",
      "MAX SCALED STRESS 0.27711231836468747\n",
      "MEAN SCALED STRESS 0.22642296626177522\n",
      "MAX SCALED STRESS 0.2870339222005829\n",
      "MEAN SCALED STRESS 0.2345297085613243\n",
      "MAX SCALED STRESS 0.30527712227555565\n",
      "MEAN SCALED STRESS 0.24943586278336718\n"
     ]
    },
    {
     "name": "stderr",
     "output_type": "stream",
     "text": [
      "WARNING:root:SPIKES COULD NOT BE GENERATED FOR 4.17\n",
      "WARNING:root:SPIKES COULD NOT BE GENERATED FOR 4.17\n",
      "WARNING:root:SPIKES COULD NOT BE GENERATED FOR 4.17\n",
      "WARNING:root:SPIKES COULD NOT BE GENERATED FOR 4.17\n"
     ]
    },
    {
     "name": "stdout",
     "output_type": "stream",
     "text": [
      "MAX SCALED STRESS 0.3112534567197259\n",
      "MEAN SCALED STRESS 0.25431899348525816\n",
      "MAX SCALED STRESS 0.2465677722841179\n",
      "MEAN SCALED STRESS 0.20146561783790498\n",
      "MAX SCALED STRESS 2.20596969\n",
      "MEAN SCALED STRESS 1.802453897076837\n",
      "MAX SCALED STRESS 1.3988644785302597\n",
      "MEAN SCALED STRESS 1.1429843410210683\n"
     ]
    },
    {
     "name": "stderr",
     "output_type": "stream",
     "text": [
      "WARNING:root:SPIKES COULD NOT BE GENERATED FOR 4.17\n",
      "WARNING:root:SPIKES COULD NOT BE GENERATED FOR 4.17\n",
      "WARNING:root:SPIKES COULD NOT BE GENERATED FOR 4.17\n",
      "WARNING:root:SPIKES COULD NOT BE GENERATED FOR 4.17\n"
     ]
    },
    {
     "name": "stdout",
     "output_type": "stream",
     "text": [
      "MAX SCALED STRESS 1.1293288600350773\n",
      "MEAN SCALED STRESS 0.9227521068399548\n",
      "MAX SCALED STRESS 0.9690288881444069\n",
      "MEAN SCALED STRESS 0.7917741944347839\n",
      "MAX SCALED STRESS 0.7825466473453039\n",
      "MEAN SCALED STRESS 0.6394033159341528\n",
      "MAX SCALED STRESS 0.6264798037697218\n",
      "MEAN SCALED STRESS 0.5118841746212165\n"
     ]
    },
    {
     "name": "stderr",
     "output_type": "stream",
     "text": [
      "WARNING:root:SPIKES COULD NOT BE GENERATED FOR 4.17\n",
      "WARNING:root:SPIKES COULD NOT BE GENERATED FOR 4.17\n",
      "WARNING:root:SPIKES COULD NOT BE GENERATED FOR 4.17\n",
      "WARNING:root:SPIKES COULD NOT BE GENERATED FOR 4.17\n"
     ]
    },
    {
     "name": "stdout",
     "output_type": "stream",
     "text": [
      "MAX SCALED STRESS 0.47980218821998916\n",
      "MEAN SCALED STRESS 0.39203681489757103\n",
      "MAX SCALED STRESS 0.3829144633488088\n",
      "MEAN SCALED STRESS 0.3128717881372905\n",
      "MAX SCALED STRESS 0.3004800289610897\n",
      "MEAN SCALED STRESS 0.24551624916007975\n",
      "MAX SCALED STRESS 0.22116913275308406\n",
      "MEAN SCALED STRESS 0.18071289781592784\n"
     ]
    },
    {
     "name": "stderr",
     "output_type": "stream",
     "text": [
      "WARNING:root:SPIKES COULD NOT BE GENERATED FOR 4.17\n",
      "WARNING:root:SPIKES COULD NOT BE GENERATED FOR 4.17\n",
      "WARNING:root:SPIKES COULD NOT BE GENERATED FOR 4.17\n",
      "WARNING:root:SPIKES COULD NOT BE GENERATED FOR 4.17\n"
     ]
    },
    {
     "name": "stdout",
     "output_type": "stream",
     "text": [
      "MAX SCALED STRESS 0.1501719718457971\n",
      "MEAN SCALED STRESS 0.1227025304600937\n",
      "MAX SCALED STRESS 0.11101983320284849\n",
      "MEAN SCALED STRESS 0.09071209527474189\n",
      "MAX SCALED STRESS 0.0853616685711245\n",
      "MEAN SCALED STRESS 0.06974732286638716\n",
      "MAX SCALED STRESS 0.07212636115086044\n",
      "MEAN SCALED STRESS 0.05893301367515125\n"
     ]
    },
    {
     "name": "stderr",
     "output_type": "stream",
     "text": [
      "WARNING:root:SPIKES COULD NOT BE GENERATED FOR 4.17\n",
      "WARNING:root:SPIKES COULD NOT BE GENERATED FOR 4.17\n",
      "WARNING:root:SPIKES COULD NOT BE GENERATED FOR 4.17\n",
      "WARNING:root:SPIKES COULD NOT BE GENERATED FOR 4.17\n"
     ]
    },
    {
     "name": "stdout",
     "output_type": "stream",
     "text": [
      "MAX SCALED STRESS 0.08311700694435607\n",
      "MEAN SCALED STRESS 0.06791325069396956\n",
      "MAX SCALED STRESS 0.062086158230277334\n",
      "MEAN SCALED STRESS 0.0507293636430412\n",
      "MAX SCALED STRESS 0.0726838838552794\n",
      "MEAN SCALED STRESS 0.0593885545904717\n",
      "MAX SCALED STRESS 0.10005083134339494\n",
      "MEAN SCALED STRESS 0.0817495417613191\n"
     ]
    },
    {
     "name": "stderr",
     "output_type": "stream",
     "text": [
      "WARNING:root:SPIKES COULD NOT BE GENERATED FOR 4.17\n",
      "WARNING:root:SPIKES COULD NOT BE GENERATED FOR 4.17\n",
      "WARNING:root:SPIKES COULD NOT BE GENERATED FOR 4.17\n",
      "WARNING:root:SPIKES COULD NOT BE GENERATED FOR 4.17\n"
     ]
    },
    {
     "name": "stdout",
     "output_type": "stream",
     "text": [
      "MAX SCALED STRESS 0.1131001186212029\n",
      "MEAN SCALED STRESS 0.09241185741353405\n",
      "MAX SCALED STRESS 0.08296361932683785\n",
      "MEAN SCALED STRESS 0.06778792065109987\n",
      "MAX SCALED STRESS 0.08196573352490866\n",
      "MEAN SCALED STRESS 0.06697257136042575\n",
      "MAX SCALED STRESS 0.08490039749420389\n",
      "MEAN SCALED STRESS 0.06937042607508147\n"
     ]
    },
    {
     "name": "stderr",
     "output_type": "stream",
     "text": [
      "WARNING:root:SPIKES COULD NOT BE GENERATED FOR 4.17\n",
      "WARNING:root:SPIKES COULD NOT BE GENERATED FOR 4.17\n",
      "WARNING:root:SPIKES COULD NOT BE GENERATED FOR 4.17\n",
      "WARNING:root:SPIKES COULD NOT BE GENERATED FOR 4.17\n"
     ]
    },
    {
     "name": "stdout",
     "output_type": "stream",
     "text": [
      "MAX SCALED STRESS 0.09029646680216924\n",
      "MEAN SCALED STRESS 0.07377944647538444\n",
      "MAX SCALED STRESS 0.0920641783185585\n",
      "MEAN SCALED STRESS 0.07522380446076912\n",
      "MAX SCALED STRESS 0.07293110763944209\n",
      "MEAN SCALED STRESS 0.05959055607337122\n",
      "MAX SCALED STRESS 3.4231146\n",
      "MEAN SCALED STRESS 2.796958760983981\n"
     ]
    },
    {
     "name": "stderr",
     "output_type": "stream",
     "text": [
      "WARNING:root:SPIKES COULD NOT BE GENERATED FOR 4.17\n",
      "WARNING:root:SPIKES COULD NOT BE GENERATED FOR 4.17\n",
      "WARNING:root:SPIKES COULD NOT BE GENERATED FOR 4.17\n"
     ]
    },
    {
     "name": "stdout",
     "output_type": "stream",
     "text": [
      "MAX SCALED STRESS 2.170688673368997\n",
      "MEAN SCALED STRESS 1.773626538504524\n",
      "MAX SCALED STRESS 1.7524366388676125\n",
      "MEAN SCALED STRESS 1.431881055947151\n",
      "MAX SCALED STRESS 1.503691075115763\n",
      "MEAN SCALED STRESS 1.2286360130691312\n",
      "MAX SCALED STRESS 1.2143171621314348\n",
      "MEAN SCALED STRESS 0.9921944240596574\n"
     ]
    },
    {
     "name": "stderr",
     "output_type": "stream",
     "text": [
      "WARNING:root:SPIKES COULD NOT BE GENERATED FOR 4.17\n",
      "WARNING:root:SPIKES COULD NOT BE GENERATED FOR 4.17\n",
      "WARNING:root:SPIKES COULD NOT BE GENERATED FOR 4.17\n",
      "WARNING:root:SPIKES COULD NOT BE GENERATED FOR 4.17\n"
     ]
    },
    {
     "name": "stdout",
     "output_type": "stream",
     "text": [
      "MAX SCALED STRESS 0.9721403574177259\n",
      "MEAN SCALED STRESS 0.7943165310013101\n",
      "MAX SCALED STRESS 0.7445332921178046\n",
      "MEAN SCALED STRESS 0.6083433289663073\n",
      "MAX SCALED STRESS 0.5941877152629745\n",
      "MEAN SCALED STRESS 0.48549895801191445\n",
      "MAX SCALED STRESS 0.4662700393427114\n",
      "MEAN SCALED STRESS 0.38097996579323207\n"
     ]
    },
    {
     "name": "stderr",
     "output_type": "stream",
     "text": [
      "WARNING:root:SPIKES COULD NOT BE GENERATED FOR 4.17\n",
      "WARNING:root:SPIKES COULD NOT BE GENERATED FOR 4.17\n",
      "WARNING:root:SPIKES COULD NOT BE GENERATED FOR 4.17\n",
      "WARNING:root:SPIKES COULD NOT BE GENERATED FOR 4.17\n"
     ]
    },
    {
     "name": "stdout",
     "output_type": "stream",
     "text": [
      "MAX SCALED STRESS 0.34319931539785586\n",
      "MEAN SCALED STRESS 0.2804213320455961\n",
      "MAX SCALED STRESS 0.23302943447792202\n",
      "MEAN SCALED STRESS 0.1904037146924224\n",
      "MAX SCALED STRESS 0.1722750832203118\n",
      "MEAN SCALED STRESS 0.14076254045519546\n",
      "MAX SCALED STRESS 0.1324600130685283\n",
      "MEAN SCALED STRESS 0.1082304440977354\n"
     ]
    },
    {
     "name": "stderr",
     "output_type": "stream",
     "text": [
      "WARNING:root:SPIKES COULD NOT BE GENERATED FOR 4.17\n",
      "WARNING:root:SPIKES COULD NOT BE GENERATED FOR 4.17\n",
      "WARNING:root:SPIKES COULD NOT BE GENERATED FOR 4.17\n",
      "WARNING:root:SPIKES COULD NOT BE GENERATED FOR 4.17\n"
     ]
    },
    {
     "name": "stdout",
     "output_type": "stream",
     "text": [
      "MAX SCALED STRESS 0.11192211797814101\n",
      "MEAN SCALED STRESS 0.09144933425327792\n",
      "MAX SCALED STRESS 0.128976858235766\n",
      "MEAN SCALED STRESS 0.10538442166174428\n",
      "MAX SCALED STRESS 0.09634222793694527\n",
      "MEAN SCALED STRESS 0.0787193161004871\n",
      "MAX SCALED STRESS 0.11278725412120742\n",
      "MEAN SCALED STRESS 0.09215622010270717\n"
     ]
    },
    {
     "name": "stderr",
     "output_type": "stream",
     "text": [
      "WARNING:root:SPIKES COULD NOT BE GENERATED FOR 4.17\n",
      "WARNING:root:SPIKES COULD NOT BE GENERATED FOR 4.17\n",
      "WARNING:root:SPIKES COULD NOT BE GENERATED FOR 4.17\n",
      "WARNING:root:SPIKES COULD NOT BE GENERATED FOR 4.17\n"
     ]
    },
    {
     "name": "stdout",
     "output_type": "stream",
     "text": [
      "MAX SCALED STRESS 0.15525392894845838\n",
      "MEAN SCALED STRESS 0.1268548934353133\n",
      "MAX SCALED STRESS 0.17550316718720257\n",
      "MEAN SCALED STRESS 0.14340014722749278\n",
      "MAX SCALED STRESS 0.1287388389214635\n",
      "MEAN SCALED STRESS 0.10518994070332013\n",
      "MAX SCALED STRESS 0.12719036911555404\n",
      "MEAN SCALED STRESS 0.10392472202254749\n"
     ]
    },
    {
     "name": "stderr",
     "output_type": "stream",
     "text": [
      "WARNING:root:SPIKES COULD NOT BE GENERATED FOR 4.17\n",
      "WARNING:root:SPIKES COULD NOT BE GENERATED FOR 4.17\n",
      "WARNING:root:SPIKES COULD NOT BE GENERATED FOR 4.17\n",
      "WARNING:root:SPIKES COULD NOT BE GENERATED FOR 4.17\n"
     ]
    },
    {
     "name": "stdout",
     "output_type": "stream",
     "text": [
      "MAX SCALED STRESS 0.1317442354378916\n",
      "MEAN SCALED STRESS 0.10764559430815757\n",
      "MAX SCALED STRESS 0.14011758875930921\n",
      "MEAN SCALED STRESS 0.11448729397991275\n",
      "MAX SCALED STRESS 0.1428606360132088\n",
      "MEAN SCALED STRESS 0.11672857722592003\n",
      "MAX SCALED STRESS 0.11317088375531839\n",
      "MEAN SCALED STRESS 0.09246967600759542\n"
     ]
    },
    {
     "name": "stderr",
     "output_type": "stream",
     "text": [
      "WARNING:root:SPIKES COULD NOT BE GENERATED FOR 4.17\n"
     ]
    },
    {
     "name": "stdout",
     "output_type": "stream",
     "text": [
      "MAX SCALED STRESS 5.8116855\n",
      "MEAN SCALED STRESS 4.748612469856712\n",
      "MAX SCALED STRESS 3.6853454710610154\n",
      "MEAN SCALED STRESS 3.011222480323018\n",
      "MAX SCALED STRESS 2.9752467544544494\n",
      "MEAN SCALED STRESS 2.4310148338512376\n",
      "MAX SCALED STRESS 2.5529322382983297\n",
      "MEAN SCALED STRESS 2.0859500590286055\n"
     ]
    },
    {
     "name": "stderr",
     "output_type": "stream",
     "text": [
      "WARNING:root:SPIKES COULD NOT BE GENERATED FOR 4.17\n",
      "WARNING:root:SPIKES COULD NOT BE GENERATED FOR 4.17\n",
      "WARNING:root:SPIKES COULD NOT BE GENERATED FOR 4.17\n",
      "WARNING:root:SPIKES COULD NOT BE GENERATED FOR 4.17\n"
     ]
    },
    {
     "name": "stdout",
     "output_type": "stream",
     "text": [
      "MAX SCALED STRESS 2.0616398421368687\n",
      "MEAN SCALED STRESS 1.684524949146711\n",
      "MAX SCALED STRESS 1.650477614500378\n",
      "MEAN SCALED STRESS 1.3485723982570186\n",
      "MAX SCALED STRESS 1.2640515564592285\n",
      "MEAN SCALED STRESS 1.0328313588961404\n",
      "MAX SCALED STRESS 1.0087982824390274\n",
      "MEAN SCALED STRESS 0.8242690018449724\n"
     ]
    },
    {
     "name": "stderr",
     "output_type": "stream",
     "text": [
      "WARNING:root:SPIKES COULD NOT BE GENERATED FOR 4.17\n",
      "WARNING:root:SPIKES COULD NOT BE GENERATED FOR 4.17\n",
      "WARNING:root:SPIKES COULD NOT BE GENERATED FOR 4.17\n",
      "WARNING:root:SPIKES COULD NOT BE GENERATED FOR 4.17\n"
     ]
    },
    {
     "name": "stdout",
     "output_type": "stream",
     "text": [
      "MAX SCALED STRESS 0.7916225845119137\n",
      "MEAN SCALED STRESS 0.6468190527395791\n",
      "MAX SCALED STRESS 0.582675930542216\n",
      "MEAN SCALED STRESS 0.4760929094632345\n",
      "MAX SCALED STRESS 0.3956320321348691\n",
      "MEAN SCALED STRESS 0.32326306219023115\n",
      "MAX SCALED STRESS 0.2924846872385691\n",
      "MEAN SCALED STRESS 0.23898341449235233\n"
     ]
    },
    {
     "name": "stderr",
     "output_type": "stream",
     "text": [
      "WARNING:root:SPIKES COULD NOT BE GENERATED FOR 4.17\n",
      "WARNING:root:SPIKES COULD NOT BE GENERATED FOR 4.17\n",
      "WARNING:root:SPIKES COULD NOT BE GENERATED FOR 4.17\n",
      "WARNING:root:SPIKES COULD NOT BE GENERATED FOR 4.17\n"
     ]
    },
    {
     "name": "stdout",
     "output_type": "stream",
     "text": [
      "MAX SCALED STRESS 0.22488757381367735\n",
      "MEAN SCALED STRESS 0.18375116702822905\n",
      "MAX SCALED STRESS 0.1900188063183311\n",
      "MEAN SCALED STRESS 0.1552605834068274\n",
      "MAX SCALED STRESS 0.21897395338279266\n",
      "MEAN SCALED STRESS 0.1789192553756293\n",
      "MAX SCALED STRESS 0.16356762614340747\n",
      "MEAN SCALED STRESS 0.13364785039657084\n"
     ]
    },
    {
     "name": "stderr",
     "output_type": "stream",
     "text": [
      "WARNING:root:SPIKES COULD NOT BE GENERATED FOR 4.17\n",
      "WARNING:root:SPIKES COULD NOT BE GENERATED FOR 4.17\n",
      "WARNING:root:SPIKES COULD NOT BE GENERATED FOR 4.17\n",
      "WARNING:root:SPIKES COULD NOT BE GENERATED FOR 4.17\n"
     ]
    },
    {
     "name": "stdout",
     "output_type": "stream",
     "text": [
      "MAX SCALED STRESS 0.19148761463055794\n",
      "MEAN SCALED STRESS 0.15646071799808042\n",
      "MAX SCALED STRESS 0.26358656169086075\n",
      "MEAN SCALED STRESS 0.2153713301862741\n",
      "MAX SCALED STRESS 0.2979652542003534\n",
      "MEAN SCALED STRESS 0.2434614828086343\n",
      "MAX SCALED STRESS 0.2185698496470744\n",
      "MEAN SCALED STRESS 0.1785890700624938\n"
     ]
    },
    {
     "name": "stderr",
     "output_type": "stream",
     "text": [
      "WARNING:root:SPIKES COULD NOT BE GENERATED FOR 4.17\n",
      "WARNING:root:SPIKES COULD NOT BE GENERATED FOR 4.17\n",
      "WARNING:root:SPIKES COULD NOT BE GENERATED FOR 4.17\n",
      "WARNING:root:SPIKES COULD NOT BE GENERATED FOR 4.17\n"
     ]
    },
    {
     "name": "stdout",
     "output_type": "stream",
     "text": [
      "MAX SCALED STRESS 0.21594089310609504\n",
      "MEAN SCALED STRESS 0.17644101078882082\n",
      "MAX SCALED STRESS 0.22367234296011615\n",
      "MEAN SCALED STRESS 0.18275822246196544\n",
      "MAX SCALED STRESS 0.23788843028727125\n",
      "MEAN SCALED STRESS 0.19437390333274157\n",
      "MAX SCALED STRESS 0.24254551303621077\n",
      "MEAN SCALED STRESS 0.19817910265099214\n"
     ]
    },
    {
     "name": "stderr",
     "output_type": "stream",
     "text": [
      "WARNING:root:SPIKES COULD NOT BE GENERATED FOR 4.17\n",
      "WARNING:root:SPIKES COULD NOT BE GENERATED FOR 4.17\n"
     ]
    },
    {
     "name": "stdout",
     "output_type": "stream",
     "text": [
      "MAX SCALED STRESS 0.19213893222942915\n",
      "MEAN SCALED STRESS 0.1569928962480661\n",
      "MAX SCALED STRESS 4.5465333\n",
      "MEAN SCALED STRESS 3.71488180545881\n",
      "MAX SCALED STRESS 2.8830785675142074\n",
      "MEAN SCALED STRESS 2.355706151080817\n",
      "MAX SCALED STRESS 2.327562020492003\n",
      "MEAN SCALED STRESS 1.9018045444645308\n"
     ]
    },
    {
     "name": "stderr",
     "output_type": "stream",
     "text": [
      "WARNING:root:SPIKES COULD NOT BE GENERATED FOR 4.17\n",
      "WARNING:root:SPIKES COULD NOT BE GENERATED FOR 4.17\n",
      "WARNING:root:SPIKES COULD NOT BE GENERATED FOR 4.17\n",
      "WARNING:root:SPIKES COULD NOT BE GENERATED FOR 4.17\n"
     ]
    },
    {
     "name": "stdout",
     "output_type": "stream",
     "text": [
      "MAX SCALED STRESS 1.9971816152245143\n",
      "MEAN SCALED STRESS 1.6318572994891964\n",
      "MAX SCALED STRESS 1.6128392004147531\n",
      "MEAN SCALED STRESS 1.3178188626993537\n",
      "MAX SCALED STRESS 1.2911833297294788\n",
      "MEAN SCALED STRESS 1.05500019162021\n",
      "MAX SCALED STRESS 0.9888787847103413\n",
      "MEAN SCALED STRESS 0.8079931659250235\n"
     ]
    },
    {
     "name": "stderr",
     "output_type": "stream",
     "text": [
      "WARNING:root:SPIKES COULD NOT BE GENERATED FOR 4.17\n",
      "WARNING:root:SPIKES COULD NOT BE GENERATED FOR 4.17\n",
      "WARNING:root:SPIKES COULD NOT BE GENERATED FOR 4.17\n",
      "WARNING:root:SPIKES COULD NOT BE GENERATED FOR 4.17\n"
     ]
    },
    {
     "name": "stdout",
     "output_type": "stream",
     "text": [
      "MAX SCALED STRESS 0.7891918762795822\n",
      "MEAN SCALED STRESS 0.6448329774634104\n",
      "MAX SCALED STRESS 0.619293394578127\n",
      "MEAN SCALED STRESS 0.5060123026882566\n",
      "MAX SCALED STRESS 0.45583256721628723\n",
      "MEAN SCALED STRESS 0.37245172106585617\n",
      "MAX SCALED STRESS 0.3095064605006331\n",
      "MEAN SCALED STRESS 0.252891571112693\n"
     ]
    },
    {
     "name": "stderr",
     "output_type": "stream",
     "text": [
      "WARNING:root:SPIKES COULD NOT BE GENERATED FOR 4.17\n",
      "WARNING:root:SPIKES COULD NOT BE GENERATED FOR 4.17\n",
      "WARNING:root:SPIKES COULD NOT BE GENERATED FOR 4.17\n",
      "WARNING:root:SPIKES COULD NOT BE GENERATED FOR 4.17\n"
     ]
    },
    {
     "name": "stdout",
     "output_type": "stream",
     "text": [
      "MAX SCALED STRESS 0.2288133744109586\n",
      "MEAN SCALED STRESS 0.18695885249420024\n",
      "MAX SCALED STRESS 0.1759315508556153\n",
      "MEAN SCALED STRESS 0.14375017364716405\n",
      "MAX SCALED STRESS 0.1486534036558831\n",
      "MEAN SCALED STRESS 0.12146173646811552\n",
      "MAX SCALED STRESS 0.17130527295179931\n",
      "MEAN SCALED STRESS 0.13997012614954862\n"
     ]
    },
    {
     "name": "stderr",
     "output_type": "stream",
     "text": [
      "WARNING:root:SPIKES COULD NOT BE GENERATED FOR 4.17\n",
      "WARNING:root:SPIKES COULD NOT BE GENERATED FOR 4.17\n",
      "WARNING:root:SPIKES COULD NOT BE GENERATED FOR 4.17\n",
      "WARNING:root:SPIKES COULD NOT BE GENERATED FOR 4.17\n"
     ]
    },
    {
     "name": "stdout",
     "output_type": "stream",
     "text": [
      "MAX SCALED STRESS 0.1279604099469857\n",
      "MEAN SCALED STRESS 0.1045539030461004\n",
      "MAX SCALED STRESS 0.14980246547329493\n",
      "MEAN SCALED STRESS 0.1224006124419812\n",
      "MAX SCALED STRESS 0.20620611355518162\n",
      "MEAN SCALED STRESS 0.16848690875602101\n",
      "MAX SCALED STRESS 0.23310087073102484\n",
      "MEAN SCALED STRESS 0.19046208520003938\n"
     ]
    },
    {
     "name": "stderr",
     "output_type": "stream",
     "text": [
      "WARNING:root:SPIKES COULD NOT BE GENERATED FOR 4.17\n",
      "WARNING:root:SPIKES COULD NOT BE GENERATED FOR 4.17\n",
      "WARNING:root:SPIKES COULD NOT BE GENERATED FOR 4.17\n",
      "WARNING:root:SPIKES COULD NOT BE GENERATED FOR 4.17\n"
     ]
    },
    {
     "name": "stdout",
     "output_type": "stream",
     "text": [
      "MAX SCALED STRESS 0.1709891390021736\n",
      "MEAN SCALED STRESS 0.13971181923990225\n",
      "MAX SCALED STRESS 0.16893248289822313\n",
      "MEAN SCALED STRESS 0.13803137334892485\n",
      "MAX SCALED STRESS 0.17498086494136486\n",
      "MEAN SCALED STRESS 0.14297338427417206\n",
      "MAX SCALED STRESS 0.1861022366034444\n",
      "MEAN SCALED STRESS 0.1520604348176257\n"
     ]
    },
    {
     "name": "stderr",
     "output_type": "stream",
     "text": [
      "WARNING:root:SPIKES COULD NOT BE GENERATED FOR 4.17\n",
      "WARNING:root:SPIKES COULD NOT BE GENERATED FOR 4.17\n",
      "WARNING:root:SPIKES COULD NOT BE GENERATED FOR 4.17\n"
     ]
    },
    {
     "name": "stdout",
     "output_type": "stream",
     "text": [
      "MAX SCALED STRESS 0.18974551389346797\n",
      "MEAN SCALED STRESS 0.15503727611668833\n",
      "MAX SCALED STRESS 0.15031199702866627\n",
      "MEAN SCALED STRESS 0.12281694022418753\n",
      "MAX SCALED STRESS 2.7163887\n",
      "MEAN SCALED STRESS 2.2195071040574827\n",
      "MAX SCALED STRESS 1.7225348469366277\n",
      "MEAN SCALED STRESS 1.407448961017491\n"
     ]
    },
    {
     "name": "stderr",
     "output_type": "stream",
     "text": [
      "WARNING:root:SPIKES COULD NOT BE GENERATED FOR 4.17\n",
      "WARNING:root:SPIKES COULD NOT BE GENERATED FOR 4.17\n",
      "WARNING:root:SPIKES COULD NOT BE GENERATED FOR 4.17\n",
      "WARNING:root:SPIKES COULD NOT BE GENERATED FOR 4.17\n"
     ]
    },
    {
     "name": "stdout",
     "output_type": "stream",
     "text": [
      "MAX SCALED STRESS 1.3906338640505824\n",
      "MEAN SCALED STRESS 1.13625921846698\n",
      "MAX SCALED STRESS 1.1932435579969511\n",
      "MEAN SCALED STRESS 0.9749755331925029\n",
      "MAX SCALED STRESS 0.9636129089659744\n",
      "MEAN SCALED STRESS 0.7873489604229615\n",
      "MAX SCALED STRESS 0.7714351958019379\n",
      "MEAN SCALED STRESS 0.6303243394291148\n"
     ]
    },
    {
     "name": "stderr",
     "output_type": "stream",
     "text": [
      "WARNING:root:SPIKES COULD NOT BE GENERATED FOR 4.17\n",
      "WARNING:root:SPIKES COULD NOT BE GENERATED FOR 4.17\n",
      "WARNING:root:SPIKES COULD NOT BE GENERATED FOR 4.17\n",
      "WARNING:root:SPIKES COULD NOT BE GENERATED FOR 4.17\n"
     ]
    },
    {
     "name": "stdout",
     "output_type": "stream",
     "text": [
      "MAX SCALED STRESS 0.5908191976636142\n",
      "MEAN SCALED STRESS 0.48274660291082866\n",
      "MAX SCALED STRESS 0.4715135144523533\n",
      "MEAN SCALED STRESS 0.38526430970360703\n",
      "MAX SCALED STRESS 0.3700053354974142\n",
      "MEAN SCALED STRESS 0.30232399289440154\n",
      "MAX SCALED STRESS 0.27234342145438883\n",
      "MEAN SCALED STRESS 0.2225263909094966\n"
     ]
    },
    {
     "name": "stderr",
     "output_type": "stream",
     "text": [
      "WARNING:root:SPIKES COULD NOT BE GENERATED FOR 4.17\n",
      "WARNING:root:SPIKES COULD NOT BE GENERATED FOR 4.17\n",
      "WARNING:root:SPIKES COULD NOT BE GENERATED FOR 4.17\n",
      "WARNING:root:SPIKES COULD NOT BE GENERATED FOR 4.17\n"
     ]
    },
    {
     "name": "stdout",
     "output_type": "stream",
     "text": [
      "MAX SCALED STRESS 0.18491888135536502\n",
      "MEAN SCALED STRESS 0.15109353891585173\n",
      "MAX SCALED STRESS 0.1367076899357137\n",
      "MEAN SCALED STRESS 0.11170113155889838\n",
      "MAX SCALED STRESS 0.10511271889676223\n",
      "MEAN SCALED STRESS 0.08588551354461524\n",
      "MAX SCALED STRESS 0.08881501558723424\n",
      "MEAN SCALED STRESS 0.07256898094738842\n"
     ]
    },
    {
     "name": "stderr",
     "output_type": "stream",
     "text": [
      "WARNING:root:SPIKES COULD NOT BE GENERATED FOR 4.17\n",
      "WARNING:root:SPIKES COULD NOT BE GENERATED FOR 4.17\n",
      "WARNING:root:SPIKES COULD NOT BE GENERATED FOR 4.17\n",
      "WARNING:root:SPIKES COULD NOT BE GENERATED FOR 4.17\n"
     ]
    },
    {
     "name": "stdout",
     "output_type": "stream",
     "text": [
      "MAX SCALED STRESS 0.10234868568909049\n",
      "MEAN SCALED STRESS 0.08362707230368432\n",
      "MAX SCALED STRESS 0.0764517025812523\n",
      "MEAN SCALED STRESS 0.06246716388843401\n",
      "MAX SCALED STRESS 0.08950153833554866\n",
      "MEAN SCALED STRESS 0.07312992527965807\n",
      "MAX SCALED STRESS 0.12320067175846094\n",
      "MEAN SCALED STRESS 0.1006648153314497\n"
     ]
    },
    {
     "name": "stderr",
     "output_type": "stream",
     "text": [
      "WARNING:root:SPIKES COULD NOT BE GENERATED FOR 4.17\n",
      "WARNING:root:SPIKES COULD NOT BE GENERATED FOR 4.17\n",
      "WARNING:root:SPIKES COULD NOT BE GENERATED FOR 4.17\n",
      "WARNING:root:SPIKES COULD NOT BE GENERATED FOR 4.17\n"
     ]
    },
    {
     "name": "stdout",
     "output_type": "stream",
     "text": [
      "MAX SCALED STRESS 0.13926931343798069\n",
      "MEAN SCALED STRESS 0.1137941860044936\n",
      "MAX SCALED STRESS 0.10215980712342605\n",
      "MEAN SCALED STRESS 0.08347274329646132\n",
      "MAX SCALED STRESS 0.10093102971613045\n",
      "MEAN SCALED STRESS 0.0824687378426329\n",
      "MAX SCALED STRESS 0.10454471855357349\n",
      "MEAN SCALED STRESS 0.08542141007591843\n"
     ]
    },
    {
     "name": "stderr",
     "output_type": "stream",
     "text": [
      "WARNING:root:SPIKES COULD NOT BE GENERATED FOR 4.17\n",
      "WARNING:root:SPIKES COULD NOT BE GENERATED FOR 4.17\n",
      "WARNING:root:SPIKES COULD NOT BE GENERATED FOR 4.17\n",
      "WARNING:root:SPIKES COULD NOT BE GENERATED FOR 4.17\n"
     ]
    },
    {
     "name": "stdout",
     "output_type": "stream",
     "text": [
      "MAX SCALED STRESS 0.1111893346419178\n",
      "MEAN SCALED STRESS 0.09085059310039256\n",
      "MAX SCALED STRESS 0.11336606064579124\n",
      "MEAN SCALED STRESS 0.09262914777774796\n",
      "MAX SCALED STRESS 0.08980596495424385\n",
      "MEAN SCALED STRESS 0.07337866602528975\n",
      "MAX SCALED STRESS 3.0507866999999997\n",
      "MEAN SCALED STRESS 2.492737049603425\n"
     ]
    },
    {
     "name": "stderr",
     "output_type": "stream",
     "text": [
      "WARNING:root:SPIKES COULD NOT BE GENERATED FOR 4.17\n",
      "WARNING:root:SPIKES COULD NOT BE GENERATED FOR 4.17\n",
      "WARNING:root:SPIKES COULD NOT BE GENERATED FOR 4.17\n"
     ]
    },
    {
     "name": "stdout",
     "output_type": "stream",
     "text": [
      "MAX SCALED STRESS 1.9345855772853124\n",
      "MEAN SCALED STRESS 1.5807113949491023\n",
      "MAX SCALED STRESS 1.5618262942321637\n",
      "MEAN SCALED STRESS 1.27613714173213\n",
      "MAX SCALED STRESS 1.3401364747975049\n",
      "MEAN SCALED STRESS 1.0949988083403142\n",
      "MAX SCALED STRESS 1.082237400936657\n",
      "MEAN SCALED STRESS 0.8842746756814286\n"
     ]
    },
    {
     "name": "stderr",
     "output_type": "stream",
     "text": [
      "WARNING:root:SPIKES COULD NOT BE GENERATED FOR 4.17\n",
      "WARNING:root:SPIKES COULD NOT BE GENERATED FOR 4.17\n",
      "WARNING:root:SPIKES COULD NOT BE GENERATED FOR 4.17\n",
      "WARNING:root:SPIKES COULD NOT BE GENERATED FOR 4.17\n"
     ]
    },
    {
     "name": "stdout",
     "output_type": "stream",
     "text": [
      "MAX SCALED STRESS 0.8664018648231188\n",
      "MEAN SCALED STRESS 0.7079197139262982\n",
      "MAX SCALED STRESS 0.6635513357631126\n",
      "MEAN SCALED STRESS 0.5421745848193733\n",
      "MAX SCALED STRESS 0.529558659539961\n",
      "MEAN SCALED STRESS 0.43269184267643485\n",
      "MAX SCALED STRESS 0.41555442947636656\n",
      "MEAN SCALED STRESS 0.3395412507102296\n"
     ]
    },
    {
     "name": "stderr",
     "output_type": "stream",
     "text": [
      "WARNING:root:SPIKES COULD NOT BE GENERATED FOR 4.17\n",
      "WARNING:root:SPIKES COULD NOT BE GENERATED FOR 4.17\n",
      "WARNING:root:SPIKES COULD NOT BE GENERATED FOR 4.17\n",
      "WARNING:root:SPIKES COULD NOT BE GENERATED FOR 4.17\n"
     ]
    },
    {
     "name": "stdout",
     "output_type": "stream",
     "text": [
      "MAX SCALED STRESS 0.3058699544750514\n",
      "MEAN SCALED STRESS 0.2499202539701675\n",
      "MAX SCALED STRESS 0.20768311391437666\n",
      "MEAN SCALED STRESS 0.1696937404357531\n",
      "MAX SCALED STRESS 0.15353693756847064\n",
      "MEAN SCALED STRESS 0.1254519747246914\n",
      "MAX SCALED STRESS 0.1180525028730538\n",
      "MEAN SCALED STRESS 0.09645835385951282\n"
     ]
    },
    {
     "name": "stderr",
     "output_type": "stream",
     "text": [
      "WARNING:root:SPIKES COULD NOT BE GENERATED FOR 4.17\n",
      "WARNING:root:SPIKES COULD NOT BE GENERATED FOR 4.17\n",
      "WARNING:root:SPIKES COULD NOT BE GENERATED FOR 4.17\n",
      "WARNING:root:SPIKES COULD NOT BE GENERATED FOR 4.17\n"
     ]
    },
    {
     "name": "stdout",
     "output_type": "stream",
     "text": [
      "MAX SCALED STRESS 0.09974848898238566\n",
      "MEAN SCALED STRESS 0.08150250437532962\n",
      "MAX SCALED STRESS 0.11494820644142628\n",
      "MEAN SCALED STRESS 0.09392188972955838\n",
      "MAX SCALED STRESS 0.08586320412363672\n",
      "MEAN SCALED STRESS 0.07015711439881735\n",
      "MAX SCALED STRESS 0.10051952534761757\n",
      "MEAN SCALED STRESS 0.08213250313372847\n"
     ]
    },
    {
     "name": "stderr",
     "output_type": "stream",
     "text": [
      "WARNING:root:SPIKES COULD NOT BE GENERATED FOR 4.17\n",
      "WARNING:root:SPIKES COULD NOT BE GENERATED FOR 4.17\n",
      "WARNING:root:SPIKES COULD NOT BE GENERATED FOR 4.17\n",
      "WARNING:root:SPIKES COULD NOT BE GENERATED FOR 4.17\n"
     ]
    },
    {
     "name": "stdout",
     "output_type": "stream",
     "text": [
      "MAX SCALED STRESS 0.13836715298947394\n",
      "MEAN SCALED STRESS 0.1130570451022502\n",
      "MAX SCALED STRESS 0.15641390687375586\n",
      "MEAN SCALED STRESS 0.12780269230240696\n",
      "MAX SCALED STRESS 0.11473607619068413\n",
      "MEAN SCALED STRESS 0.09374856222209962\n",
      "MAX SCALED STRESS 0.1133560315117183\n",
      "MEAN SCALED STRESS 0.09262095979713476\n"
     ]
    },
    {
     "name": "stderr",
     "output_type": "stream",
     "text": [
      "WARNING:root:SPIKES COULD NOT BE GENERATED FOR 4.17\n",
      "WARNING:root:SPIKES COULD NOT BE GENERATED FOR 4.17\n",
      "WARNING:root:SPIKES COULD NOT BE GENERATED FOR 4.17\n",
      "WARNING:root:SPIKES COULD NOT BE GENERATED FOR 4.17\n"
     ]
    },
    {
     "name": "stdout",
     "output_type": "stream",
     "text": [
      "MAX SCALED STRESS 0.11741457948138469\n",
      "MEAN SCALED STRESS 0.09593711745114311\n",
      "MAX SCALED STRESS 0.12487717361930273\n",
      "MEAN SCALED STRESS 0.1020346539940287\n",
      "MAX SCALED STRESS 0.1273218630491186\n",
      "MEAN SCALED STRESS 0.10403215566045021\n",
      "MAX SCALED STRESS 0.10086142806553172\n",
      "MEAN SCALED STRESS 0.08241186483130925\n"
     ]
    },
    {
     "name": "stderr",
     "output_type": "stream",
     "text": [
      "WARNING:root:SPIKES COULD NOT BE GENERATED FOR 4.17\n",
      "WARNING:root:SPIKES COULD NOT BE GENERATED FOR 4.17\n",
      "WARNING:root:SPIKES COULD NOT BE GENERATED FOR 4.17\n",
      "WARNING:root:SPIKES COULD NOT BE GENERATED FOR 4.17\n"
     ]
    },
    {
     "name": "stdout",
     "output_type": "stream",
     "text": [
      "MAX SCALED STRESS 2.24225772\n",
      "MEAN SCALED STRESS 1.8321041236358155\n",
      "MAX SCALED STRESS 1.4218756905124335\n",
      "MEAN SCALED STRESS 1.1617863446227146\n",
      "MAX SCALED STRESS 1.147906232035514\n",
      "MEAN SCALED STRESS 0.9379313073010324\n",
      "MAX SCALED STRESS 0.984969338062307\n",
      "MEAN SCALED STRESS 0.8047988184135815\n"
     ]
    },
    {
     "name": "stderr",
     "output_type": "stream",
     "text": [
      "WARNING:root:SPIKES COULD NOT BE GENERATED FOR 4.17\n",
      "WARNING:root:SPIKES COULD NOT BE GENERATED FOR 4.17\n",
      "WARNING:root:SPIKES COULD NOT BE GENERATED FOR 4.17\n",
      "WARNING:root:SPIKES COULD NOT BE GENERATED FOR 4.17\n"
     ]
    },
    {
     "name": "stdout",
     "output_type": "stream",
     "text": [
      "MAX SCALED STRESS 0.7954194788914462\n",
      "MEAN SCALED STRESS 0.6499214508006014\n",
      "MAX SCALED STRESS 0.6367853478652029\n",
      "MEAN SCALED STRESS 0.5203046295211112\n",
      "MAX SCALED STRESS 0.4876948969363054\n",
      "MEAN SCALED STRESS 0.39848579004196993\n",
      "MAX SCALED STRESS 0.3892133765190234\n",
      "MEAN SCALED STRESS 0.31801850474248533\n"
     ]
    },
    {
     "name": "stderr",
     "output_type": "stream",
     "text": [
      "WARNING:root:SPIKES COULD NOT BE GENERATED FOR 4.17\n",
      "WARNING:root:SPIKES COULD NOT BE GENERATED FOR 4.17\n",
      "WARNING:root:SPIKES COULD NOT BE GENERATED FOR 4.17\n",
      "WARNING:root:SPIKES COULD NOT BE GENERATED FOR 4.17\n"
     ]
    },
    {
     "name": "stdout",
     "output_type": "stream",
     "text": [
      "MAX SCALED STRESS 0.305422902090657\n",
      "MEAN SCALED STRESS 0.24955497238252275\n",
      "MAX SCALED STRESS 0.224807347802366\n",
      "MEAN SCALED STRESS 0.1836856109438817\n",
      "MAX SCALED STRESS 0.1526422891145259\n",
      "MEAN SCALED STRESS 0.12472097755236164\n",
      "MAX SCALED STRESS 0.11284610083296262\n",
      "MEAN SCALED STRESS 0.09220430219381913\n"
     ]
    },
    {
     "name": "stderr",
     "output_type": "stream",
     "text": [
      "WARNING:root:SPIKES COULD NOT BE GENERATED FOR 4.17\n",
      "WARNING:root:SPIKES COULD NOT BE GENERATED FOR 4.17\n",
      "WARNING:root:SPIKES COULD NOT BE GENERATED FOR 4.17\n",
      "WARNING:root:SPIKES COULD NOT BE GENERATED FOR 4.17\n"
     ]
    },
    {
     "name": "stdout",
     "output_type": "stream",
     "text": [
      "MAX SCALED STRESS 0.08676586138664726\n",
      "MEAN SCALED STRESS 0.07089466090827798\n",
      "MAX SCALED STRESS 0.07331283418768318\n",
      "MEAN SCALED STRESS 0.05990245717110168\n",
      "MAX SCALED STRESS 0.08448427525052532\n",
      "MEAN SCALED STRESS 0.06903041839112875\n",
      "MAX SCALED STRESS 0.06310747070916503\n",
      "MEAN SCALED STRESS 0.05156385773337459\n"
     ]
    },
    {
     "name": "stderr",
     "output_type": "stream",
     "text": [
      "WARNING:root:SPIKES COULD NOT BE GENERATED FOR 4.17\n",
      "WARNING:root:SPIKES COULD NOT BE GENERATED FOR 4.17\n",
      "WARNING:root:SPIKES COULD NOT BE GENERATED FOR 4.17\n",
      "WARNING:root:SPIKES COULD NOT BE GENERATED FOR 4.17\n"
     ]
    },
    {
     "name": "stdout",
     "output_type": "stream",
     "text": [
      "MAX SCALED STRESS 0.07387952809727116\n",
      "MEAN SCALED STRESS 0.060365491699084305\n",
      "MAX SCALED STRESS 0.10169665974519589\n",
      "MEAN SCALED STRESS 0.08309431537147736\n",
      "MAX SCALED STRESS 0.11496060678481393\n",
      "MEAN SCALED STRESS 0.09393202528772547\n",
      "MAX SCALED STRESS 0.08432836441861691\n",
      "MEAN SCALED STRESS 0.0689030266787918\n"
     ]
    },
    {
     "name": "stderr",
     "output_type": "stream",
     "text": [
      "WARNING:root:SPIKES COULD NOT BE GENERATED FOR 4.17\n",
      "WARNING:root:SPIKES COULD NOT BE GENERATED FOR 4.17\n",
      "WARNING:root:SPIKES COULD NOT BE GENERATED FOR 4.17\n",
      "WARNING:root:SPIKES COULD NOT BE GENERATED FOR 4.17\n"
     ]
    },
    {
     "name": "stdout",
     "output_type": "stream",
     "text": [
      "MAX SCALED STRESS 0.08331406347278018\n",
      "MEAN SCALED STRESS 0.06807426495563751\n",
      "MAX SCALED STRESS 0.08629700243635138\n",
      "MEAN SCALED STRESS 0.07051156419403963\n",
      "MAX SCALED STRESS 0.09178183666516636\n",
      "MEAN SCALED STRESS 0.07499311263735339\n",
      "MAX SCALED STRESS 0.0935786268986517\n",
      "MEAN SCALED STRESS 0.07646123019937322\n"
     ]
    },
    {
     "name": "stderr",
     "output_type": "stream",
     "text": [
      "WARNING:root:SPIKES COULD NOT BE GENERATED FOR 4.17\n",
      "WARNING:root:SPIKES COULD NOT BE GENERATED FOR 4.17\n",
      "WARNING:root:SPIKES COULD NOT BE GENERATED FOR 4.17\n",
      "WARNING:root:SPIKES COULD NOT BE GENERATED FOR 4.17\n"
     ]
    },
    {
     "name": "stdout",
     "output_type": "stream",
     "text": [
      "MAX SCALED STRESS 0.07413081869347442\n",
      "MEAN SCALED STRESS 0.060570816090682315\n",
      "MAX SCALED STRESS 2.3850407999999996\n",
      "MEAN SCALED STRESS 1.9487693344722496\n",
      "MAX SCALED STRESS 1.5124182667103614\n",
      "MEAN SCALED STRESS 1.2357668826793178\n",
      "MAX SCALED STRESS 1.2210029086125604\n",
      "MEAN SCALED STRESS 0.9976571450985126\n"
     ]
    },
    {
     "name": "stderr",
     "output_type": "stream",
     "text": [
      "WARNING:root:SPIKES COULD NOT BE GENERATED FOR 4.17\n",
      "WARNING:root:SPIKES COULD NOT BE GENERATED FOR 4.17\n",
      "WARNING:root:SPIKES COULD NOT BE GENERATED FOR 4.17\n",
      "WARNING:root:SPIKES COULD NOT BE GENERATED FOR 4.17\n"
     ]
    },
    {
     "name": "stdout",
     "output_type": "stream",
     "text": [
      "MAX SCALED STRESS 1.0476904760205688\n",
      "MEAN SCALED STRESS 0.8560470103803157\n",
      "MAX SCALED STRESS 0.8460704107959712\n",
      "MEAN SCALED STRESS 0.6913073207992464\n",
      "MAX SCALED STRESS 0.6773347336276322\n",
      "MEAN SCALED STRESS 0.5534367253005755\n",
      "MAX SCALED STRESS 0.5187504615414518\n",
      "MEAN SCALED STRESS 0.4238606735493064\n"
     ]
    },
    {
     "name": "stderr",
     "output_type": "stream",
     "text": [
      "WARNING:root:SPIKES COULD NOT BE GENERATED FOR 4.17\n",
      "WARNING:root:SPIKES COULD NOT BE GENERATED FOR 4.17\n",
      "WARNING:root:SPIKES COULD NOT BE GENERATED FOR 4.17\n",
      "WARNING:root:SPIKES COULD NOT BE GENERATED FOR 4.17\n"
     ]
    },
    {
     "name": "stdout",
     "output_type": "stream",
     "text": [
      "MAX SCALED STRESS 0.4139978088262008\n",
      "MEAN SCALED STRESS 0.33826937117907263\n",
      "MAX SCALED STRESS 0.3248717024110066\n",
      "MEAN SCALED STRESS 0.26544619990211915\n",
      "MAX SCALED STRESS 0.23912268954009144\n",
      "MEAN SCALED STRESS 0.1953823918483752\n",
      "MAX SCALED STRESS 0.16236228516298304\n",
      "MEAN SCALED STRESS 0.13266299294010978\n"
     ]
    },
    {
     "name": "stderr",
     "output_type": "stream",
     "text": [
      "WARNING:root:SPIKES COULD NOT BE GENERATED FOR 4.17\n",
      "WARNING:root:SPIKES COULD NOT BE GENERATED FOR 4.17\n",
      "WARNING:root:SPIKES COULD NOT BE GENERATED FOR 4.17\n",
      "WARNING:root:SPIKES COULD NOT BE GENERATED FOR 4.17\n"
     ]
    },
    {
     "name": "stdout",
     "output_type": "stream",
     "text": [
      "MAX SCALED STRESS 0.12003194468097532\n",
      "MEAN SCALED STRESS 0.0980757121299099\n",
      "MAX SCALED STRESS 0.0922909608509669\n",
      "MEAN SCALED STRESS 0.07540910987181618\n",
      "MAX SCALED STRESS 0.07798126822872942\n",
      "MEAN SCALED STRESS 0.06371694167846596\n",
      "MAX SCALED STRESS 0.08986408726956378\n",
      "MEAN SCALED STRESS 0.0734261556267102\n"
     ]
    },
    {
     "name": "stderr",
     "output_type": "stream",
     "text": [
      "WARNING:root:SPIKES COULD NOT BE GENERATED FOR 4.17\n",
      "WARNING:root:SPIKES COULD NOT BE GENERATED FOR 4.17\n",
      "WARNING:root:SPIKES COULD NOT BE GENERATED FOR 4.17\n",
      "WARNING:root:SPIKES COULD NOT BE GENERATED FOR 4.17\n"
     ]
    },
    {
     "name": "stdout",
     "output_type": "stream",
     "text": [
      "MAX SCALED STRESS 0.06712604491608733\n",
      "MEAN SCALED STRESS 0.05484735470082089\n",
      "MAX SCALED STRESS 0.07858404822293936\n",
      "MEAN SCALED STRESS 0.06420946144155874\n",
      "MAX SCALED STRESS 0.1081725265354465\n",
      "MEAN SCALED STRESS 0.08838561715779962\n",
      "MAX SCALED STRESS 0.12228109870195386\n",
      "MEAN SCALED STRESS 0.09991345363184076\n"
     ]
    },
    {
     "name": "stderr",
     "output_type": "stream",
     "text": [
      "WARNING:root:SPIKES COULD NOT BE GENERATED FOR 4.17\n",
      "WARNING:root:SPIKES COULD NOT BE GENERATED FOR 4.17\n",
      "WARNING:root:SPIKES COULD NOT BE GENERATED FOR 4.17\n",
      "WARNING:root:SPIKES COULD NOT BE GENERATED FOR 4.17\n"
     ]
    },
    {
     "name": "stdout",
     "output_type": "stream",
     "text": [
      "MAX SCALED STRESS 0.08969824830647459\n",
      "MEAN SCALED STRESS 0.07329065183122971\n",
      "MAX SCALED STRESS 0.0886193584368038\n",
      "MEAN SCALED STRESS 0.07240911599992425\n",
      "MAX SCALED STRESS 0.09179224577645671\n",
      "MEAN SCALED STRESS 0.07500161822370875\n",
      "MAX SCALED STRESS 0.09762634472961373\n",
      "MEAN SCALED STRESS 0.07976854389382297\n"
     ]
    },
    {
     "name": "stderr",
     "output_type": "stream",
     "text": [
      "WARNING:root:SPIKES COULD NOT BE GENERATED FOR 4.17\n",
      "WARNING:root:SPIKES COULD NOT BE GENERATED FOR 4.17\n",
      "WARNING:root:SPIKES COULD NOT BE GENERATED FOR 4.17\n"
     ]
    },
    {
     "name": "stdout",
     "output_type": "stream",
     "text": [
      "MAX SCALED STRESS 0.09953755144670069\n",
      "MEAN SCALED STRESS 0.08133014863416203\n",
      "MAX SCALED STRESS 0.07885134056817482\n",
      "MEAN SCALED STRESS 0.06442786053405755\n",
      "MAX SCALED STRESS 3.0822704999999995\n",
      "MEAN SCALED STRESS 2.5184618355159585\n",
      "MAX SCALED STRESS 1.9545502983187872\n",
      "MEAN SCALED STRESS 1.5970241713933877\n"
     ]
    },
    {
     "name": "stderr",
     "output_type": "stream",
     "text": [
      "WARNING:root:SPIKES COULD NOT BE GENERATED FOR 4.17\n",
      "WARNING:root:SPIKES COULD NOT BE GENERATED FOR 4.17\n",
      "WARNING:root:SPIKES COULD NOT BE GENERATED FOR 4.17\n",
      "WARNING:root:SPIKES COULD NOT BE GENERATED FOR 4.17\n"
     ]
    },
    {
     "name": "stdout",
     "output_type": "stream",
     "text": [
      "MAX SCALED STRESS 1.5779441784101518\n",
      "MEAN SCALED STRESS 1.289306743704915\n",
      "MAX SCALED STRESS 1.35396654320092\n",
      "MEAN SCALED STRESS 1.1062990816376983\n",
      "MAX SCALED STRESS 1.0934059778429384\n",
      "MEAN SCALED STRESS 0.8934002979460787\n",
      "MAX SCALED STRESS 0.8753430415470497\n",
      "MEAN SCALED STRESS 0.715225371411075\n"
     ]
    },
    {
     "name": "stderr",
     "output_type": "stream",
     "text": [
      "WARNING:root:SPIKES COULD NOT BE GENERATED FOR 4.17\n",
      "WARNING:root:SPIKES COULD NOT BE GENERATED FOR 4.17\n",
      "WARNING:root:SPIKES COULD NOT BE GENERATED FOR 4.17\n",
      "WARNING:root:SPIKES COULD NOT BE GENERATED FOR 4.17\n"
     ]
    },
    {
     "name": "stdout",
     "output_type": "stream",
     "text": [
      "MAX SCALED STRESS 0.6703991162208217\n",
      "MEAN SCALED STRESS 0.5477697698886985\n",
      "MAX SCALED STRESS 0.5350236495785055\n",
      "MEAN SCALED STRESS 0.43715717728552306\n",
      "MAX SCALED STRESS 0.4198429077717348\n",
      "MEAN SCALED STRESS 0.34304528094253345\n",
      "MAX SCALED STRESS 0.3090265004481611\n",
      "MEAN SCALED STRESS 0.2524994048796513\n"
     ]
    },
    {
     "name": "stderr",
     "output_type": "stream",
     "text": [
      "WARNING:root:SPIKES COULD NOT BE GENERATED FOR 4.17\n",
      "WARNING:root:SPIKES COULD NOT BE GENERATED FOR 4.17\n",
      "WARNING:root:SPIKES COULD NOT BE GENERATED FOR 4.17\n",
      "WARNING:root:SPIKES COULD NOT BE GENERATED FOR 4.17\n"
     ]
    },
    {
     "name": "stdout",
     "output_type": "stream",
     "text": [
      "MAX SCALED STRESS 0.20982638195139067\n",
      "MEAN SCALED STRESS 0.1714449621075701\n",
      "MAX SCALED STRESS 0.15512142272274845\n",
      "MEAN SCALED STRESS 0.12674662599671815\n",
      "MAX SCALED STRESS 0.11927079236866311\n",
      "MEAN SCALED STRESS 0.09745379399344356\n",
      "MAX SCALED STRESS 0.1007778829670335\n",
      "MEAN SCALED STRESS 0.08234360170515999\n"
     ]
    },
    {
     "name": "stderr",
     "output_type": "stream",
     "text": [
      "WARNING:root:SPIKES COULD NOT BE GENERATED FOR 4.17\n",
      "WARNING:root:SPIKES COULD NOT BE GENERATED FOR 4.17\n",
      "WARNING:root:SPIKES COULD NOT BE GENERATED FOR 4.17\n",
      "WARNING:root:SPIKES COULD NOT BE GENERATED FOR 4.17\n"
     ]
    },
    {
     "name": "stdout",
     "output_type": "stream",
     "text": [
      "MAX SCALED STRESS 0.11613445992219587\n",
      "MEAN SCALED STRESS 0.09489115381867594\n",
      "MAX SCALED STRESS 0.08674930341926684\n",
      "MEAN SCALED STRESS 0.0708811284894483\n",
      "MAX SCALED STRESS 0.10155687634699728\n",
      "MEAN SCALED STRESS 0.08298010198492368\n",
      "MAX SCALED STRESS 0.13979508755182468\n",
      "MEAN SCALED STRESS 0.11422378199558667\n"
     ]
    },
    {
     "name": "stderr",
     "output_type": "stream",
     "text": [
      "WARNING:root:SPIKES COULD NOT BE GENERATED FOR 4.17\n",
      "WARNING:root:SPIKES COULD NOT BE GENERATED FOR 4.17\n",
      "WARNING:root:SPIKES COULD NOT BE GENERATED FOR 4.17\n",
      "WARNING:root:SPIKES COULD NOT BE GENERATED FOR 4.17\n"
     ]
    },
    {
     "name": "stdout",
     "output_type": "stream",
     "text": [
      "MAX SCALED STRESS 0.1580280820506805\n",
      "MEAN SCALED STRESS 0.12912160273423443\n",
      "MAX SCALED STRESS 0.11592014050942928\n",
      "MEAN SCALED STRESS 0.09471603758944933\n",
      "MAX SCALED STRESS 0.1145258539135626\n",
      "MEAN SCALED STRESS 0.09357679842526992\n",
      "MAX SCALED STRESS 0.11862628567424176\n",
      "MEAN SCALED STRESS 0.09692717847979787\n"
     ]
    },
    {
     "name": "stderr",
     "output_type": "stream",
     "text": [
      "WARNING:root:SPIKES COULD NOT BE GENERATED FOR 4.17\n",
      "WARNING:root:SPIKES COULD NOT BE GENERATED FOR 4.17\n",
      "WARNING:root:SPIKES COULD NOT BE GENERATED FOR 4.17\n",
      "WARNING:root:SPIKES COULD NOT BE GENERATED FOR 4.17\n"
     ]
    },
    {
     "name": "stdout",
     "output_type": "stream",
     "text": [
      "MAX SCALED STRESS 0.12616589300397665\n",
      "MEAN SCALED STRESS 0.10308764096273978\n",
      "MAX SCALED STRESS 0.12863581137328883\n",
      "MEAN SCALED STRESS 0.10510575663766127\n",
      "MAX SCALED STRESS 0.10190230746523855\n",
      "MEAN SCALED STRESS 0.08326234666603598\n",
      "MAX SCALED STRESS 6.177443699999999\n",
      "MEAN SCALED STRESS 5.047466210216946\n",
      "MAX SCALED STRESS 3.9172825443719206\n",
      "MEAN SCALED STRESS 3.200733649535887\n",
      "MAX SCALED STRESS 3.162493792764609\n",
      "MEAN SCALED STRESS 2.584010657490133\n",
      "MAX SCALED STRESS 2.713600929025308\n",
      "MEAN SCALED STRESS 2.217229244538591\n",
      "MAX SCALED STRESS 2.191389065096071\n",
      "MEAN SCALED STRESS 1.790540461041666\n"
     ]
    },
    {
     "name": "stderr",
     "output_type": "stream",
     "text": [
      "WARNING:root:SPIKES COULD NOT BE GENERATED FOR 4.17\n",
      "WARNING:root:SPIKES COULD NOT BE GENERATED FOR 4.17\n",
      "WARNING:root:SPIKES COULD NOT BE GENERATED FOR 4.17\n",
      "WARNING:root:SPIKES COULD NOT BE GENERATED FOR 4.17\n"
     ]
    },
    {
     "name": "stdout",
     "output_type": "stream",
     "text": [
      "MAX SCALED STRESS 1.7543503587188927\n",
      "MEAN SCALED STRESS 1.4334447494804579\n",
      "MAX SCALED STRESS 1.3436045918046071\n",
      "MEAN SCALED STRESS 1.0978325601368828\n",
      "MAX SCALED STRESS 1.0722869629514171\n",
      "MEAN SCALED STRESS 0.8761443392889229\n",
      "MAX SCALED STRESS 0.8414433209558292\n",
      "MEAN SCALED STRESS 0.6875265845658853\n"
     ]
    },
    {
     "name": "stderr",
     "output_type": "stream",
     "text": [
      "WARNING:root:SPIKES COULD NOT BE GENERATED FOR 4.17\n",
      "WARNING:root:SPIKES COULD NOT BE GENERATED FOR 4.17\n",
      "WARNING:root:SPIKES COULD NOT BE GENERATED FOR 4.17\n",
      "WARNING:root:SPIKES COULD NOT BE GENERATED FOR 4.17\n"
     ]
    },
    {
     "name": "stdout",
     "output_type": "stream",
     "text": [
      "MAX SCALED STRESS 0.619346617477778\n",
      "MEAN SCALED STRESS 0.5060557981291878\n",
      "MAX SCALED STRESS 0.42053111862810605\n",
      "MEAN SCALED STRESS 0.3436076103859631\n",
      "MAX SCALED STRESS 0.31089219960859343\n",
      "MEAN SCALED STRESS 0.2540238263512832\n",
      "MAX SCALED STRESS 0.2390408644899291\n",
      "MEAN SCALED STRESS 0.19531553954978825\n"
     ]
    },
    {
     "name": "stderr",
     "output_type": "stream",
     "text": [
      "WARNING:root:SPIKES COULD NOT BE GENERATED FOR 4.17\n",
      "WARNING:root:SPIKES COULD NOT BE GENERATED FOR 4.17\n",
      "WARNING:root:SPIKES COULD NOT BE GENERATED FOR 4.17\n",
      "WARNING:root:SPIKES COULD NOT BE GENERATED FOR 4.17\n"
     ]
    },
    {
     "name": "stdout",
     "output_type": "stream",
     "text": [
      "MAX SCALED STRESS 0.20197763247386571\n",
      "MEAN SCALED STRESS 0.16503190216071228\n",
      "MAX SCALED STRESS 0.23275507058814965\n",
      "MEAN SCALED STRESS 0.19017953172601515\n",
      "MAX SCALED STRESS 0.17386174830753445\n",
      "MEAN SCALED STRESS 0.14205897264241826\n",
      "MAX SCALED STRESS 0.20353888017986654\n",
      "MEAN SCALED STRESS 0.16630756717560133\n"
     ]
    },
    {
     "name": "stderr",
     "output_type": "stream",
     "text": [
      "WARNING:root:SPIKES COULD NOT BE GENERATED FOR 4.17\n",
      "WARNING:root:SPIKES COULD NOT BE GENERATED FOR 4.17\n",
      "WARNING:root:SPIKES COULD NOT BE GENERATED FOR 4.17\n",
      "WARNING:root:SPIKES COULD NOT BE GENERATED FOR 4.17\n"
     ]
    },
    {
     "name": "stdout",
     "output_type": "stream",
     "text": [
      "MAX SCALED STRESS 0.28017537165799294\n",
      "MEAN SCALED STRESS 0.22892571644143833\n",
      "MAX SCALED STRESS 0.31671768583810517\n",
      "MEAN SCALED STRESS 0.2587837217221848\n",
      "MAX SCALED STRESS 0.23232553459960398\n",
      "MEAN SCALED STRESS 0.18982856621309097\n",
      "MAX SCALED STRESS 0.2295311247813771\n",
      "MEAN SCALED STRESS 0.18754531891290968\n"
     ]
    },
    {
     "name": "stderr",
     "output_type": "stream",
     "text": [
      "WARNING:root:SPIKES COULD NOT BE GENERATED FOR 4.17\n",
      "WARNING:root:SPIKES COULD NOT BE GENERATED FOR 4.17\n",
      "WARNING:root:SPIKES COULD NOT BE GENERATED FOR 4.17\n",
      "WARNING:root:SPIKES COULD NOT BE GENERATED FOR 4.17\n"
     ]
    },
    {
     "name": "stdout",
     "output_type": "stream",
     "text": [
      "MAX SCALED STRESS 0.237749153130053\n",
      "MEAN SCALED STRESS 0.19426010405602068\n",
      "MAX SCALED STRESS 0.2528599293580137\n",
      "MEAN SCALED STRESS 0.20660681734881445\n",
      "MAX SCALED STRESS 0.2578101054279017\n",
      "MEAN SCALED STRESS 0.21065149673756856\n",
      "MAX SCALED STRESS 0.20423118842638918\n",
      "MEAN SCALED STRESS 0.16687323804296864\n"
     ]
    },
    {
     "name": "stderr",
     "output_type": "stream",
     "text": [
      "WARNING:root:SPIKES COULD NOT BE GENERATED FOR 4.17\n"
     ]
    },
    {
     "name": "stdout",
     "output_type": "stream",
     "text": [
      "MAX SCALED STRESS 6.5092344\n",
      "MEAN SCALED STRESS 5.318565782862867\n",
      "MAX SCALED STRESS 4.127679915940834\n",
      "MEAN SCALED STRESS 3.372645156895002\n",
      "MAX SCALED STRESS 3.332351436185468\n",
      "MEAN SCALED STRESS 2.7227979530920527\n",
      "MAX SCALED STRESS 2.859348522283335\n",
      "MEAN SCALED STRESS 2.3363166986429373\n"
     ]
    },
    {
     "name": "stderr",
     "output_type": "stream",
     "text": [
      "WARNING:root:SPIKES COULD NOT BE GENERATED FOR 4.17\n",
      "WARNING:root:SPIKES COULD NOT BE GENERATED FOR 4.17\n",
      "WARNING:root:SPIKES COULD NOT BE GENERATED FOR 4.17\n"
     ]
    },
    {
     "name": "stdout",
     "output_type": "stream",
     "text": [
      "MAX SCALED STRESS 2.309088642330676\n",
      "MEAN SCALED STRESS 1.8867104468478242\n",
      "MAX SCALED STRESS 1.8485765729642112\n",
      "MEAN SCALED STRESS 1.510435113122533\n",
      "MAX SCALED STRESS 1.4157696376856512\n",
      "MEAN SCALED STRESS 1.1567971822848127\n",
      "MAX SCALED STRESS 1.1298795302521158\n",
      "MEAN SCALED STRESS 0.9232020799582081\n"
     ]
    },
    {
     "name": "stderr",
     "output_type": "stream",
     "text": [
      "WARNING:root:SPIKES COULD NOT BE GENERATED FOR 4.17\n",
      "WARNING:root:SPIKES COULD NOT BE GENERATED FOR 4.17\n",
      "WARNING:root:SPIKES COULD NOT BE GENERATED FOR 4.17\n",
      "WARNING:root:SPIKES COULD NOT BE GENERATED FOR 4.17\n"
     ]
    },
    {
     "name": "stdout",
     "output_type": "stream",
     "text": [
      "MAX SCALED STRESS 0.8866372688132997\n",
      "MEAN SCALED STRESS 0.7244536595567468\n",
      "MAX SCALED STRESS 0.6526117442413915\n",
      "MEAN SCALED STRESS 0.5332360713383703\n",
      "MAX SCALED STRESS 0.443117858547954\n",
      "MEAN SCALED STRESS 0.3620627862016952\n",
      "MAX SCALED STRESS 0.3275902296582523\n",
      "MEAN SCALED STRESS 0.2676674542425047\n"
     ]
    },
    {
     "name": "stderr",
     "output_type": "stream",
     "text": [
      "WARNING:root:SPIKES COULD NOT BE GENERATED FOR 4.17\n",
      "WARNING:root:SPIKES COULD NOT BE GENERATED FOR 4.17\n",
      "WARNING:root:SPIKES COULD NOT BE GENERATED FOR 4.17\n",
      "WARNING:root:SPIKES COULD NOT BE GENERATED FOR 4.17\n"
     ]
    },
    {
     "name": "stdout",
     "output_type": "stream",
     "text": [
      "MAX SCALED STRESS 0.25187975701722465\n",
      "MEAN SCALED STRESS 0.20580594346688139\n",
      "MAX SCALED STRESS 0.21282585761638653\n",
      "MEAN SCALED STRESS 0.17389577093870448\n",
      "MAX SCALED STRESS 0.24525635292261946\n",
      "MEAN SCALED STRESS 0.20039408049754778\n",
      "MAX SCALED STRESS 0.18319986840633534\n",
      "MEAN SCALED STRESS 0.14968896463640585\n"
     ]
    },
    {
     "name": "stderr",
     "output_type": "stream",
     "text": [
      "WARNING:root:SPIKES COULD NOT BE GENERATED FOR 4.17\n",
      "WARNING:root:SPIKES COULD NOT BE GENERATED FOR 4.17\n",
      "WARNING:root:SPIKES COULD NOT BE GENERATED FOR 4.17\n",
      "WARNING:root:SPIKES COULD NOT BE GENERATED FOR 4.17\n"
     ]
    },
    {
     "name": "stdout",
     "output_type": "stream",
     "text": [
      "MAX SCALED STRESS 0.21447095998693858\n",
      "MEAN SCALED STRESS 0.1752399519626112\n",
      "MAX SCALED STRESS 0.29522359988954544\n",
      "MEAN SCALED STRESS 0.24122132404140825\n",
      "MAX SCALED STRESS 0.33372860294069334\n",
      "MEAN SCALED STRESS 0.2726830037470147\n",
      "MAX SCALED STRESS 0.24480374654230078\n",
      "MEAN SCALED STRESS 0.20002426461562567\n"
     ]
    },
    {
     "name": "stderr",
     "output_type": "stream",
     "text": [
      "WARNING:root:SPIKES COULD NOT BE GENERATED FOR 4.17\n",
      "WARNING:root:SPIKES COULD NOT BE GENERATED FOR 4.17\n",
      "WARNING:root:SPIKES COULD NOT BE GENERATED FOR 4.17\n",
      "WARNING:root:SPIKES COULD NOT BE GENERATED FOR 4.17\n"
     ]
    },
    {
     "name": "stdout",
     "output_type": "stream",
     "text": [
      "MAX SCALED STRESS 0.24185924888277535\n",
      "MEAN SCALED STRESS 0.19761838402944612\n",
      "MAX SCALED STRESS 0.25051866779862497\n",
      "MEAN SCALED STRESS 0.2046938204987655\n",
      "MAX SCALED STRESS 0.26644104430425697\n",
      "MEAN SCALED STRESS 0.21770367615999803\n",
      "MAX SCALED STRESS 0.27165709449022174\n",
      "MEAN SCALED STRESS 0.22196559540893415\n"
     ]
    },
    {
     "name": "stderr",
     "output_type": "stream",
     "text": [
      "WARNING:root:SPIKES COULD NOT BE GENERATED FOR 4.17\n",
      "WARNING:root:SPIKES COULD NOT BE GENERATED FOR 4.17\n"
     ]
    },
    {
     "name": "stdout",
     "output_type": "stream",
     "text": [
      "MAX SCALED STRESS 0.21520045213166972\n",
      "MEAN SCALED STRESS 0.1758360050304757\n",
      "MAX SCALED STRESS 7.605552299999999\n",
      "MEAN SCALED STRESS 6.214345303428306\n",
      "MAX SCALED STRESS 4.822884466773484\n",
      "MEAN SCALED STRESS 3.940682967279016\n",
      "MAX SCALED STRESS 3.8936027760636005\n",
      "MEAN SCALED STRESS 3.1813852385734567\n"
     ]
    },
    {
     "name": "stderr",
     "output_type": "stream",
     "text": [
      "WARNING:root:SPIKES COULD NOT BE GENERATED FOR 4.17\n"
     ]
    },
    {
     "name": "stdout",
     "output_type": "stream",
     "text": [
      "MAX SCALED STRESS 3.340934339398443\n",
      "MEAN SCALED STRESS 2.729810873133129\n",
      "MAX SCALED STRESS 2.6979969310341545\n",
      "MEAN SCALED STRESS 2.2044796817360726\n",
      "MAX SCALED STRESS 2.159923109580149\n",
      "MEAN SCALED STRESS 1.7648301693682815\n",
      "MAX SCALED STRESS 1.6542206598321718\n",
      "MEAN SCALED STRESS 1.3516307648038879\n"
     ]
    },
    {
     "name": "stderr",
     "output_type": "stream",
     "text": [
      "WARNING:root:SPIKES COULD NOT BE GENERATED FOR 4.17\n",
      "WARNING:root:SPIKES COULD NOT BE GENERATED FOR 4.17\n",
      "WARNING:root:SPIKES COULD NOT BE GENERATED FOR 4.17\n",
      "WARNING:root:SPIKES COULD NOT BE GENERATED FOR 4.17\n"
     ]
    },
    {
     "name": "stdout",
     "output_type": "stream",
     "text": [
      "MAX SCALED STRESS 1.3201795068298507\n",
      "MEAN SCALED STRESS 1.0786924039163397\n",
      "MAX SCALED STRESS 1.035969163914071\n",
      "MEAN SCALED STRESS 0.8464697778720693\n",
      "MAX SCALED STRESS 0.7625278869081941\n",
      "MEAN SCALED STRESS 0.6230463645325947\n",
      "MAX SCALED STRESS 0.517749990421372\n",
      "MEAN SCALED STRESS 0.42304321631753045\n"
     ]
    },
    {
     "name": "stderr",
     "output_type": "stream",
     "text": [
      "WARNING:root:SPIKES COULD NOT BE GENERATED FOR 4.17\n",
      "WARNING:root:SPIKES COULD NOT BE GENERATED FOR 4.17\n",
      "WARNING:root:SPIKES COULD NOT BE GENERATED FOR 4.17\n",
      "WARNING:root:SPIKES COULD NOT BE GENERATED FOR 4.17\n"
     ]
    },
    {
     "name": "stdout",
     "output_type": "stream",
     "text": [
      "MAX SCALED STRESS 0.3827646189288941\n",
      "MEAN SCALED STRESS 0.3127493491783345\n",
      "MAX SCALED STRESS 0.2943026088146087\n",
      "MEAN SCALED STRESS 0.24046881253626534\n",
      "MAX SCALED STRESS 0.24867105583012666\n",
      "MEAN SCALED STRESS 0.2031841687285277\n",
      "MAX SCALED STRESS 0.28656365778750265\n",
      "MEAN SCALED STRESS 0.23414545646635643\n"
     ]
    },
    {
     "name": "stderr",
     "output_type": "stream",
     "text": [
      "WARNING:root:SPIKES COULD NOT BE GENERATED FOR 4.17\n",
      "WARNING:root:SPIKES COULD NOT BE GENERATED FOR 4.17\n",
      "WARNING:root:SPIKES COULD NOT BE GENERATED FOR 4.17\n",
      "WARNING:root:SPIKES COULD NOT BE GENERATED FOR 4.17\n"
     ]
    },
    {
     "name": "stdout",
     "output_type": "stream",
     "text": [
      "MAX SCALED STRESS 0.21405530894962102\n",
      "MEAN SCALED STRESS 0.17490033071708636\n",
      "MAX SCALED STRESS 0.25059323459174687\n",
      "MEAN SCALED STRESS 0.20475474346124747\n",
      "MAX SCALED STRESS 0.34494663906314577\n",
      "MEAN SCALED STRESS 0.28184902910735216\n",
      "MAX SCALED STRESS 0.3899368478221305\n",
      "MEAN SCALED STRESS 0.318609642682251\n"
     ]
    },
    {
     "name": "stderr",
     "output_type": "stream",
     "text": [
      "WARNING:root:SPIKES COULD NOT BE GENERATED FOR 4.17\n",
      "WARNING:root:SPIKES COULD NOT BE GENERATED FOR 4.17\n",
      "WARNING:root:SPIKES COULD NOT BE GENERATED FOR 4.17\n",
      "WARNING:root:SPIKES COULD NOT BE GENERATED FOR 4.17\n"
     ]
    },
    {
     "name": "stdout",
     "output_type": "stream",
     "text": [
      "MAX SCALED STRESS 0.28603482117089113\n",
      "MEAN SCALED STRESS 0.23371335433905716\n",
      "MAX SCALED STRESS 0.28259439644955237\n",
      "MEAN SCALED STRESS 0.23090226327960117\n",
      "MAX SCALED STRESS 0.29271227812425504\n",
      "MEAN SCALED STRESS 0.23916938024081183\n",
      "MAX SCALED STRESS 0.311316381128116\n",
      "MEAN SCALED STRESS 0.25437042103402024\n"
     ]
    },
    {
     "name": "stderr",
     "output_type": "stream",
     "text": [
      "WARNING:root:SPIKES COULD NOT BE GENERATED FOR 4.17\n",
      "WARNING:root:SPIKES COULD NOT BE GENERATED FOR 4.17\n",
      "WARNING:root:SPIKES COULD NOT BE GENERATED FOR 4.17\n"
     ]
    },
    {
     "name": "stdout",
     "output_type": "stream",
     "text": [
      "MAX SCALED STRESS 0.3174109446437238\n",
      "MEAN SCALED STRESS 0.2593501540954322\n",
      "MAX SCALED STRESS 0.2514455914617333\n",
      "MEAN SCALED STRESS 0.20545118677587432\n",
      "MAX SCALED STRESS 7.8277446\n",
      "MEAN SCALED STRESS 6.39589420632165\n",
      "MAX SCALED STRESS 4.963782556752653\n",
      "MEAN SCALED STRESS 4.055807994040129\n",
      "MAX SCALED STRESS 4.007352379244944\n",
      "MEAN SCALED STRESS 3.274327772588335\n",
      "MAX SCALED STRESS 3.4385380183607084\n",
      "MEAN SCALED STRESS 2.8095608942415837\n",
      "MAX SCALED STRESS 2.7768175241815345\n",
      "MEAN SCALED STRESS 2.268882422190333\n",
      "MAX SCALED STRESS 2.2230241526879273\n",
      "MEAN SCALED STRESS 1.8163887753673915\n"
     ]
    },
    {
     "name": "stderr",
     "output_type": "stream",
     "text": [
      "WARNING:root:SPIKES COULD NOT BE GENERATED FOR 4.17\n",
      "WARNING:root:SPIKES COULD NOT BE GENERATED FOR 4.17\n",
      "WARNING:root:SPIKES COULD NOT BE GENERATED FOR 4.17\n",
      "WARNING:root:SPIKES COULD NOT BE GENERATED FOR 4.17\n"
     ]
    },
    {
     "name": "stdout",
     "output_type": "stream",
     "text": [
      "MAX SCALED STRESS 1.7025478658807882\n",
      "MEAN SCALED STRESS 1.391117962647828\n",
      "MAX SCALED STRESS 1.3587478723429494\n",
      "MEAN SCALED STRESS 1.110205847879995\n",
      "MAX SCALED STRESS 1.0662344703874935\n",
      "MEAN SCALED STRESS 0.8711989572146248\n",
      "MAX SCALED STRESS 0.7848047470655124\n",
      "MEAN SCALED STRESS 0.6412483437290478\n"
     ]
    },
    {
     "name": "stderr",
     "output_type": "stream",
     "text": [
      "WARNING:root:SPIKES COULD NOT BE GENERATED FOR 4.17\n",
      "WARNING:root:SPIKES COULD NOT BE GENERATED FOR 4.17\n",
      "WARNING:root:SPIKES COULD NOT BE GENERATED FOR 4.17\n",
      "WARNING:root:SPIKES COULD NOT BE GENERATED FOR 4.17\n"
     ]
    },
    {
     "name": "stdout",
     "output_type": "stream",
     "text": [
      "MAX SCALED STRESS 0.5328757901869858\n",
      "MEAN SCALED STRESS 0.43540220637180826\n",
      "MAX SCALED STRESS 0.3939468904699674\n",
      "MEAN SCALED STRESS 0.32188616061245445\n",
      "MAX SCALED STRESS 0.30290050821351466\n",
      "MEAN SCALED STRESS 0.2474939852558983\n",
      "MAX SCALED STRESS 0.2559358528703527\n",
      "MEAN SCALED STRESS 0.2091200897494613\n"
     ]
    },
    {
     "name": "stderr",
     "output_type": "stream",
     "text": [
      "WARNING:root:SPIKES COULD NOT BE GENERATED FOR 4.17\n",
      "WARNING:root:SPIKES COULD NOT BE GENERATED FOR 4.17\n",
      "WARNING:root:SPIKES COULD NOT BE GENERATED FOR 4.17\n",
      "WARNING:root:SPIKES COULD NOT BE GENERATED FOR 4.17\n"
     ]
    },
    {
     "name": "stdout",
     "output_type": "stream",
     "text": [
      "MAX SCALED STRESS 0.2949354677111841\n",
      "MEAN SCALED STRESS 0.24098589558960187\n",
      "MAX SCALED STRESS 0.2203088247426459\n",
      "MEAN SCALED STRESS 0.18000995395283612\n",
      "MAX SCALED STRESS 0.2579141870961928\n",
      "MEAN SCALED STRESS 0.21073654801547617\n",
      "MAX SCALED STRESS 0.35502407776680306\n",
      "MEAN SCALED STRESS 0.2900831035782002\n"
     ]
    },
    {
     "name": "stderr",
     "output_type": "stream",
     "text": [
      "WARNING:root:SPIKES COULD NOT BE GENERATED FOR 4.17\n",
      "WARNING:root:SPIKES COULD NOT BE GENERATED FOR 4.17\n",
      "WARNING:root:SPIKES COULD NOT BE GENERATED FOR 4.17\n",
      "WARNING:root:SPIKES COULD NOT BE GENERATED FOR 4.17\n"
     ]
    },
    {
     "name": "stdout",
     "output_type": "stream",
     "text": [
      "MAX SCALED STRESS 0.4013286523426713\n",
      "MEAN SCALED STRESS 0.3279176595779795\n",
      "MAX SCALED STRESS 0.29439118140472303\n",
      "MEAN SCALED STRESS 0.24054116982082172\n",
      "MAX SCALED STRESS 0.29085024644406726\n",
      "MEAN SCALED STRESS 0.23764795418140464\n",
      "MAX SCALED STRESS 0.30126371682972125\n",
      "MEAN SCALED STRESS 0.24615659071404475\n"
     ]
    },
    {
     "name": "stderr",
     "output_type": "stream",
     "text": [
      "WARNING:root:SPIKES COULD NOT BE GENERATED FOR 4.17\n",
      "WARNING:root:SPIKES COULD NOT BE GENERATED FOR 4.17\n",
      "WARNING:root:SPIKES COULD NOT BE GENERATED FOR 4.17\n",
      "WARNING:root:SPIKES COULD NOT BE GENERATED FOR 4.17\n"
     ]
    },
    {
     "name": "stdout",
     "output_type": "stream",
     "text": [
      "MAX SCALED STRESS 0.32041132913741865\n",
      "MEAN SCALED STRESS 0.2618017220983121\n",
      "MAX SCALED STRESS 0.32668394219257535\n",
      "MEAN SCALED STRESS 0.2669269355007509\n",
      "MAX SCALED STRESS 0.258791445133891\n",
      "MEAN SCALED STRESS 0.21145333756345888\n",
      "MAX SCALED STRESS 5.490237\n",
      "MEAN SCALED STRESS 4.485963302843676\n"
     ]
    },
    {
     "name": "stderr",
     "output_type": "stream",
     "text": [
      "WARNING:root:SPIKES COULD NOT BE GENERATED FOR 4.17\n"
     ]
    },
    {
     "name": "stdout",
     "output_type": "stream",
     "text": [
      "MAX SCALED STRESS 3.4815063655804526\n",
      "MEAN SCALED STRESS 2.8446696017362267\n",
      "MAX SCALED STRESS 2.8106837191096683\n",
      "MEAN SCALED STRESS 2.296553657000007\n",
      "MAX SCALED STRESS 2.4117277222241817\n",
      "MEAN SCALED STRESS 1.9705746627602325\n",
      "MAX SCALED STRESS 1.9476090614287358\n",
      "MEAN SCALED STRESS 1.591352664081425\n"
     ]
    },
    {
     "name": "stderr",
     "output_type": "stream",
     "text": [
      "WARNING:root:SPIKES COULD NOT BE GENERATED FOR 4.17\n",
      "WARNING:root:SPIKES COULD NOT BE GENERATED FOR 4.17\n",
      "WARNING:root:SPIKES COULD NOT BE GENERATED FOR 4.17\n",
      "WARNING:root:SPIKES COULD NOT BE GENERATED FOR 4.17\n"
     ]
    },
    {
     "name": "stdout",
     "output_type": "stream",
     "text": [
      "MAX SCALED STRESS 1.559188511973284\n",
      "MEAN SCALED STRESS 1.2739818901228255\n",
      "MAX SCALED STRESS 1.1941359568029009\n",
      "MEAN SCALED STRESS 0.9757047144708482\n",
      "MAX SCALED STRESS 0.9530009247374445\n",
      "MEAN SCALED STRESS 0.7786780912150761\n",
      "MAX SCALED STRESS 0.7478373706772219\n",
      "MEAN SCALED STRESS 0.6110430262710858\n"
     ]
    },
    {
     "name": "stderr",
     "output_type": "stream",
     "text": [
      "WARNING:root:SPIKES COULD NOT BE GENERATED FOR 4.17\n",
      "WARNING:root:SPIKES COULD NOT BE GENERATED FOR 4.17\n",
      "WARNING:root:SPIKES COULD NOT BE GENERATED FOR 4.17\n",
      "WARNING:root:SPIKES COULD NOT BE GENERATED FOR 4.17\n"
     ]
    },
    {
     "name": "stdout",
     "output_type": "stream",
     "text": [
      "MAX SCALED STRESS 0.5504477062415549\n",
      "MEAN SCALED STRESS 0.44975986862549605\n",
      "MAX SCALED STRESS 0.3737493402235973\n",
      "MEAN SCALED STRESS 0.30538314999497274\n",
      "MAX SCALED STRESS 0.2763071490724368\n",
      "MEAN SCALED STRESS 0.22576507015602423\n",
      "MAX SCALED STRESS 0.21244888055144803\n",
      "MEAN SCALED STRESS 0.17358775797684908\n"
     ]
    },
    {
     "name": "stderr",
     "output_type": "stream",
     "text": [
      "WARNING:root:SPIKES COULD NOT BE GENERATED FOR 4.17\n",
      "WARNING:root:SPIKES COULD NOT BE GENERATED FOR 4.17\n",
      "WARNING:root:SPIKES COULD NOT BE GENERATED FOR 4.17\n",
      "WARNING:root:SPIKES COULD NOT BE GENERATED FOR 4.17\n"
     ]
    },
    {
     "name": "stdout",
     "output_type": "stream",
     "text": [
      "MAX SCALED STRESS 0.17950872963527278\n",
      "MEAN SCALED STRESS 0.14667300900259486\n",
      "MAX SCALED STRESS 0.20686234671481848\n",
      "MEAN SCALED STRESS 0.16902310282890032\n",
      "MAX SCALED STRESS 0.15452058323780649\n",
      "MEAN SCALED STRESS 0.1262556917812772\n",
      "MAX SCALED STRESS 0.18089629710458877\n",
      "MEAN SCALED STRESS 0.14780676328745368\n"
     ]
    },
    {
     "name": "stderr",
     "output_type": "stream",
     "text": [
      "WARNING:root:SPIKES COULD NOT BE GENERATED FOR 4.17\n",
      "WARNING:root:SPIKES COULD NOT BE GENERATED FOR 4.17\n",
      "WARNING:root:SPIKES COULD NOT BE GENERATED FOR 4.17\n",
      "WARNING:root:SPIKES COULD NOT BE GENERATED FOR 4.17\n"
     ]
    },
    {
     "name": "stdout",
     "output_type": "stream",
     "text": [
      "MAX SCALED STRESS 0.2490073996085896\n",
      "MEAN SCALED STRESS 0.2034589871953496\n",
      "MAX SCALED STRESS 0.2814845819384386\n",
      "MEAN SCALED STRESS 0.22999545329678076\n",
      "MAX SCALED STRESS 0.20648059424702261\n",
      "MEAN SCALED STRESS 0.1687111803026326\n",
      "MAX SCALED STRESS 0.20399704718091297\n",
      "MEAN SCALED STRESS 0.166681931730508\n"
     ]
    },
    {
     "name": "stderr",
     "output_type": "stream",
     "text": [
      "WARNING:root:SPIKES COULD NOT BE GENERATED FOR 4.17\n",
      "WARNING:root:SPIKES COULD NOT BE GENERATED FOR 4.17\n",
      "WARNING:root:SPIKES COULD NOT BE GENERATED FOR 4.17\n",
      "WARNING:root:SPIKES COULD NOT BE GENERATED FOR 4.17\n"
     ]
    },
    {
     "name": "stdout",
     "output_type": "stream",
     "text": [
      "MAX SCALED STRESS 0.21130086498939404\n",
      "MEAN SCALED STRESS 0.17264973388785637\n",
      "MAX SCALED STRESS 0.22473065031394027\n",
      "MEAN SCALED STRESS 0.18362294310520436\n",
      "MAX SCALED STRESS 0.22913014647048374\n",
      "MEAN SCALED STRESS 0.18721767411558576\n",
      "MAX SCALED STRESS 0.18151158985917326\n",
      "MEAN SCALED STRESS 0.14830950637612678\n"
     ]
    },
    {
     "name": "stderr",
     "output_type": "stream",
     "text": [
      "WARNING:root:SPIKES COULD NOT BE GENERATED FOR 4.17\n",
      "WARNING:root:SPIKES COULD NOT BE GENERATED FOR 4.17\n",
      "WARNING:root:SPIKES COULD NOT BE GENERATED FOR 4.17\n"
     ]
    },
    {
     "name": "stdout",
     "output_type": "stream",
     "text": [
      "MAX SCALED STRESS 2.7922929599999997\n",
      "MEAN SCALED STRESS 2.2815269631071926\n",
      "MAX SCALED STRESS 1.770667771683715\n",
      "MEAN SCALED STRESS 1.4467774164310336\n",
      "MAX SCALED STRESS 1.4294924539061873\n",
      "MEAN SCALED STRESS 1.168009797883657\n",
      "MAX SCALED STRESS 1.226586455230151\n",
      "MEAN SCALED STRESS 1.0022193500899452\n"
     ]
    },
    {
     "name": "stderr",
     "output_type": "stream",
     "text": [
      "WARNING:root:SPIKES COULD NOT BE GENERATED FOR 4.17\n",
      "WARNING:root:SPIKES COULD NOT BE GENERATED FOR 4.17\n",
      "WARNING:root:SPIKES COULD NOT BE GENERATED FOR 4.17\n",
      "WARNING:root:SPIKES COULD NOT BE GENERATED FOR 4.17\n"
     ]
    },
    {
     "name": "stdout",
     "output_type": "stream",
     "text": [
      "MAX SCALED STRESS 0.9905392191739021\n",
      "MEAN SCALED STRESS 0.8093499134539743\n",
      "MAX SCALED STRESS 0.792991469274619\n",
      "MEAN SCALED STRESS 0.6479375413042205\n",
      "MAX SCALED STRESS 0.6073285043001976\n",
      "MEAN SCALED STRESS 0.49623602865518546\n",
      "MAX SCALED STRESS 0.4846890531352027\n",
      "MEAN SCALED STRESS 0.39602978017271295\n"
     ]
    },
    {
     "name": "stderr",
     "output_type": "stream",
     "text": [
      "WARNING:root:SPIKES COULD NOT BE GENERATED FOR 4.17\n",
      "WARNING:root:SPIKES COULD NOT BE GENERATED FOR 4.17\n",
      "WARNING:root:SPIKES COULD NOT BE GENERATED FOR 4.17\n",
      "WARNING:root:SPIKES COULD NOT BE GENERATED FOR 4.17\n"
     ]
    },
    {
     "name": "stdout",
     "output_type": "stream",
     "text": [
      "MAX SCALED STRESS 0.380344423267505\n",
      "MEAN SCALED STRESS 0.31077185566194093\n",
      "MAX SCALED STRESS 0.2799535347902908\n",
      "MEAN SCALED STRESS 0.22874446309940671\n",
      "MAX SCALED STRESS 0.19008608399072668\n",
      "MEAN SCALED STRESS 0.15531555738551653\n",
      "MAX SCALED STRESS 0.14052772351223378\n",
      "MEAN SCALED STRESS 0.1148224049363575\n"
     ]
    },
    {
     "name": "stderr",
     "output_type": "stream",
     "text": [
      "WARNING:root:SPIKES COULD NOT BE GENERATED FOR 4.17\n",
      "WARNING:root:SPIKES COULD NOT BE GENERATED FOR 4.17\n",
      "WARNING:root:SPIKES COULD NOT BE GENERATED FOR 4.17\n",
      "WARNING:root:SPIKES COULD NOT BE GENERATED FOR 4.17\n"
     ]
    },
    {
     "name": "stdout",
     "output_type": "stream",
     "text": [
      "MAX SCALED STRESS 0.10804989174851452\n",
      "MEAN SCALED STRESS 0.08828541910685084\n",
      "MAX SCALED STRESS 0.09129678045212175\n",
      "MEAN SCALED STRESS 0.07459678160705306\n",
      "MAX SCALED STRESS 0.10520862294667184\n",
      "MEAN SCALED STRESS 0.08596387006726565\n",
      "MAX SCALED STRESS 0.07858799843249407\n",
      "MEAN SCALED STRESS 0.06421268869099643\n"
     ]
    },
    {
     "name": "stderr",
     "output_type": "stream",
     "text": [
      "WARNING:root:SPIKES COULD NOT BE GENERATED FOR 4.17\n",
      "WARNING:root:SPIKES COULD NOT BE GENERATED FOR 4.17\n",
      "WARNING:root:SPIKES COULD NOT BE GENERATED FOR 4.17\n",
      "WARNING:root:SPIKES COULD NOT BE GENERATED FOR 4.17\n"
     ]
    },
    {
     "name": "stdout",
     "output_type": "stream",
     "text": [
      "MAX SCALED STRESS 0.09200248675880686\n",
      "MEAN SCALED STRESS 0.0751734004502799\n",
      "MAX SCALED STRESS 0.12664327767908226\n",
      "MEAN SCALED STRESS 0.10347770006910537\n",
      "MAX SCALED STRESS 0.14316092665858418\n",
      "MEAN SCALED STRESS 0.11697394576456531\n",
      "MAX SCALED STRESS 0.10501446653260646\n",
      "MEAN SCALED STRESS 0.0858052286326313\n"
     ]
    },
    {
     "name": "stderr",
     "output_type": "stream",
     "text": [
      "WARNING:root:SPIKES COULD NOT BE GENERATED FOR 4.17\n",
      "WARNING:root:SPIKES COULD NOT BE GENERATED FOR 4.17\n",
      "WARNING:root:SPIKES COULD NOT BE GENERATED FOR 4.17\n",
      "WARNING:root:SPIKES COULD NOT BE GENERATED FOR 4.17\n"
     ]
    },
    {
     "name": "stdout",
     "output_type": "stream",
     "text": [
      "MAX SCALED STRESS 0.10375135330297236\n",
      "MEAN SCALED STRESS 0.08477316817658291\n",
      "MAX SCALED STRESS 0.10746601972770856\n",
      "MEAN SCALED STRESS 0.08780834715895412\n",
      "MAX SCALED STRESS 0.11429630683845471\n",
      "MEAN SCALED STRESS 0.09338923826551433\n",
      "MAX SCALED STRESS 0.11653385726577935\n",
      "MEAN SCALED STRESS 0.09521749123408046\n"
     ]
    },
    {
     "name": "stderr",
     "output_type": "stream",
     "text": [
      "WARNING:root:SPIKES COULD NOT BE GENERATED FOR 4.17\n",
      "WARNING:root:SPIKES COULD NOT BE GENERATED FOR 4.17\n",
      "WARNING:root:SPIKES COULD NOT BE GENERATED FOR 4.17\n"
     ]
    },
    {
     "name": "stdout",
     "output_type": "stream",
     "text": [
      "MAX SCALED STRESS 0.09231541999410534\n",
      "MEAN SCALED STRESS 0.07542909177784746\n",
      "MAX SCALED STRESS 3.0630281999999998\n",
      "MEAN SCALED STRESS 2.5027393354376724\n",
      "MAX SCALED STRESS 1.942348240386059\n",
      "MEAN SCALED STRESS 1.5870541125639621\n",
      "MAX SCALED STRESS 1.568093234028657\n",
      "MEAN SCALED STRESS 1.2812577333554362\n"
     ]
    },
    {
     "name": "stderr",
     "output_type": "stream",
     "text": [
      "WARNING:root:SPIKES COULD NOT BE GENERATED FOR 4.17\n",
      "WARNING:root:SPIKES COULD NOT BE GENERATED FOR 4.17\n",
      "WARNING:root:SPIKES COULD NOT BE GENERATED FOR 4.17\n",
      "WARNING:root:SPIKES COULD NOT BE GENERATED FOR 4.17\n"
     ]
    },
    {
     "name": "stdout",
     "output_type": "stream",
     "text": [
      "MAX SCALED STRESS 1.3455138683256178\n",
      "MEAN SCALED STRESS 1.099392569435542\n",
      "MAX SCALED STRESS 1.0865799559712541\n",
      "MEAN SCALED STRESS 0.8878228911113548\n",
      "MAX SCALED STRESS 0.8698783643201936\n",
      "MEAN SCALED STRESS 0.7107602924492177\n",
      "MAX SCALED STRESS 0.6662138829928957\n",
      "MEAN SCALED STRESS 0.5443500991482073\n"
     ]
    },
    {
     "name": "stderr",
     "output_type": "stream",
     "text": [
      "WARNING:root:SPIKES COULD NOT BE GENERATED FOR 4.17\n",
      "WARNING:root:SPIKES COULD NOT BE GENERATED FOR 4.17\n",
      "WARNING:root:SPIKES COULD NOT BE GENERATED FOR 4.17\n",
      "WARNING:root:SPIKES COULD NOT BE GENERATED FOR 4.17\n"
     ]
    },
    {
     "name": "stdout",
     "output_type": "stream",
     "text": [
      "MAX SCALED STRESS 0.5316835515656009\n",
      "MEAN SCALED STRESS 0.4344280496659709\n",
      "MAX SCALED STRESS 0.4172218713687922\n",
      "MEAN SCALED STRESS 0.3409036842820586\n",
      "MAX SCALED STRESS 0.30709727956064536\n",
      "MEAN SCALED STRESS 0.2509230768777722\n",
      "MAX SCALED STRESS 0.2085164572742985\n",
      "MEAN SCALED STRESS 0.17037464871542543\n"
     ]
    },
    {
     "name": "stderr",
     "output_type": "stream",
     "text": [
      "WARNING:root:SPIKES COULD NOT BE GENERATED FOR 4.17\n",
      "WARNING:root:SPIKES COULD NOT BE GENERATED FOR 4.17\n",
      "WARNING:root:SPIKES COULD NOT BE GENERATED FOR 4.17\n",
      "WARNING:root:SPIKES COULD NOT BE GENERATED FOR 4.17\n"
     ]
    },
    {
     "name": "stdout",
     "output_type": "stream",
     "text": [
      "MAX SCALED STRESS 0.15415301552018207\n",
      "MEAN SCALED STRESS 0.12595535975275396\n",
      "MAX SCALED STRESS 0.11852619699067943\n",
      "MEAN SCALED STRESS 0.09684539990857656\n",
      "MAX SCALED STRESS 0.10014873693412803\n",
      "MEAN SCALED STRESS 0.0818295390078428\n",
      "MAX SCALED STRESS 0.11540944434742369\n",
      "MEAN SCALED STRESS 0.09429875803474812\n"
     ]
    },
    {
     "name": "stderr",
     "output_type": "stream",
     "text": [
      "WARNING:root:SPIKES COULD NOT BE GENERATED FOR 4.17\n",
      "WARNING:root:SPIKES COULD NOT BE GENERATED FOR 4.17\n",
      "WARNING:root:SPIKES COULD NOT BE GENERATED FOR 4.17\n",
      "WARNING:root:SPIKES COULD NOT BE GENERATED FOR 4.17\n"
     ]
    },
    {
     "name": "stdout",
     "output_type": "stream",
     "text": [
      "MAX SCALED STRESS 0.08620773637601592\n",
      "MEAN SCALED STRESS 0.07043862484198046\n",
      "MAX SCALED STRESS 0.10092286713796393\n",
      "MEAN SCALED STRESS 0.08246206568135316\n",
      "MAX SCALED STRESS 0.138922361094754\n",
      "MEAN SCALED STRESS 0.11351069458801044\n",
      "MAX SCALED STRESS 0.15704152887072964\n",
      "MEAN SCALED STRESS 0.12831550975300746\n"
     ]
    },
    {
     "name": "stderr",
     "output_type": "stream",
     "text": [
      "WARNING:root:SPIKES COULD NOT BE GENERATED FOR 4.17\n",
      "WARNING:root:SPIKES COULD NOT BE GENERATED FOR 4.17\n",
      "WARNING:root:SPIKES COULD NOT BE GENERATED FOR 4.17\n",
      "WARNING:root:SPIKES COULD NOT BE GENERATED FOR 4.17\n"
     ]
    },
    {
     "name": "stdout",
     "output_type": "stream",
     "text": [
      "MAX SCALED STRESS 0.11519646290886677\n",
      "MEAN SCALED STRESS 0.09412473503825941\n",
      "MAX SCALED STRESS 0.1138108807018471\n",
      "MEAN SCALED STRESS 0.09299260802785393\n",
      "MAX SCALED STRESS 0.11788571388574057\n",
      "MEAN SCALED STRESS 0.09632207200180973\n",
      "MAX SCALED STRESS 0.12537825221678733\n",
      "MEAN SCALED STRESS 0.10244407534651717\n"
     ]
    },
    {
     "name": "stderr",
     "output_type": "stream",
     "text": [
      "WARNING:root:SPIKES COULD NOT BE GENERATED FOR 4.17\n",
      "WARNING:root:SPIKES COULD NOT BE GENERATED FOR 4.17\n",
      "WARNING:root:SPIKES COULD NOT BE GENERATED FOR 4.17\n"
     ]
    },
    {
     "name": "stdout",
     "output_type": "stream",
     "text": [
      "MAX SCALED STRESS 0.12783275113792394\n",
      "MEAN SCALED STRESS 0.10444959213135045\n",
      "MAX SCALED STRESS 0.10126614176500609\n",
      "MEAN SCALED STRESS 0.08274254833774136\n",
      "MAX SCALED STRESS 8.129994\n",
      "MEAN SCALED STRESS 6.642856171115975\n",
      "MAX SCALED STRESS 5.155446998577818\n",
      "MEAN SCALED STRESS 4.212413197116611\n",
      "MAX SCALED STRESS 4.162086586108995\n",
      "MEAN SCALED STRESS 3.400758009551886\n",
      "MAX SCALED STRESS 3.571308836269958\n",
      "MEAN SCALED STRESS 2.9180452837997177\n",
      "MAX SCALED STRESS 2.8840376078047725\n",
      "MEAN SCALED STRESS 2.356489821999669\n",
      "MAX SCALED STRESS 2.3088608464828977\n",
      "MEAN SCALED STRESS 1.886524228882511\n"
     ]
    },
    {
     "name": "stderr",
     "output_type": "stream",
     "text": [
      "WARNING:root:SPIKES COULD NOT BE GENERATED FOR 4.17\n",
      "WARNING:root:SPIKES COULD NOT BE GENERATED FOR 4.17\n",
      "WARNING:root:SPIKES COULD NOT BE GENERATED FOR 4.17\n",
      "WARNING:root:SPIKES COULD NOT BE GENERATED FOR 4.17\n"
     ]
    },
    {
     "name": "stdout",
     "output_type": "stream",
     "text": [
      "MAX SCALED STRESS 1.768287628383227\n",
      "MEAN SCALED STRESS 1.4448326136776442\n",
      "MAX SCALED STRESS 1.411212630731583\n",
      "MEAN SCALED STRESS 1.153073757928851\n",
      "MAX SCALED STRESS 1.1074045321871513\n",
      "MEAN SCALED STRESS 0.9048381950225043\n",
      "MAX SCALED STRESS 0.8151080816834689\n",
      "MEAN SCALED STRESS 0.6660085955061814\n"
     ]
    },
    {
     "name": "stderr",
     "output_type": "stream",
     "text": [
      "WARNING:root:SPIKES COULD NOT BE GENERATED FOR 4.17\n",
      "WARNING:root:SPIKES COULD NOT BE GENERATED FOR 4.17\n",
      "WARNING:root:SPIKES COULD NOT BE GENERATED FOR 4.17\n",
      "WARNING:root:SPIKES COULD NOT BE GENERATED FOR 4.17\n"
     ]
    },
    {
     "name": "stdout",
     "output_type": "stream",
     "text": [
      "MAX SCALED STRESS 0.5534514982726254\n",
      "MEAN SCALED STRESS 0.4522142080861406\n",
      "MAX SCALED STRESS 0.4091581955598668\n",
      "MEAN SCALED STRESS 0.3343150151401581\n",
      "MAX SCALED STRESS 0.314596277754492\n",
      "MEAN SCALED STRESS 0.2570503660999034\n",
      "MAX SCALED STRESS 0.26581819598723877\n",
      "MEAN SCALED STRESS 0.21719475555482248\n"
     ]
    },
    {
     "name": "stderr",
     "output_type": "stream",
     "text": [
      "WARNING:root:SPIKES COULD NOT BE GENERATED FOR 4.17\n",
      "WARNING:root:SPIKES COULD NOT BE GENERATED FOR 4.17\n",
      "WARNING:root:SPIKES COULD NOT BE GENERATED FOR 4.17\n",
      "WARNING:root:SPIKES COULD NOT BE GENERATED FOR 4.17\n"
     ]
    },
    {
     "name": "stdout",
     "output_type": "stream",
     "text": [
      "MAX SCALED STRESS 0.30632368650340486\n",
      "MEAN SCALED STRESS 0.25029098231284774\n",
      "MAX SCALED STRESS 0.22881551645217996\n",
      "MEAN SCALED STRESS 0.18696060236518622\n",
      "MAX SCALED STRESS 0.2678729187979542\n",
      "MEAN SCALED STRESS 0.21887362944193825\n",
      "MAX SCALED STRESS 0.36873247270990955\n",
      "MEAN SCALED STRESS 0.30128396008118935\n"
     ]
    },
    {
     "name": "stderr",
     "output_type": "stream",
     "text": [
      "WARNING:root:SPIKES COULD NOT BE GENERATED FOR 4.17\n",
      "WARNING:root:SPIKES COULD NOT BE GENERATED FOR 4.17\n",
      "WARNING:root:SPIKES COULD NOT BE GENERATED FOR 4.17\n",
      "WARNING:root:SPIKES COULD NOT BE GENERATED FOR 4.17\n"
     ]
    },
    {
     "name": "stdout",
     "output_type": "stream",
     "text": [
      "MAX SCALED STRESS 0.41682498628966547\n",
      "MEAN SCALED STRESS 0.34057940583076973\n",
      "MAX SCALED STRESS 0.30575838389940696\n",
      "MEAN SCALED STRESS 0.2498290845355713\n",
      "MAX SCALED STRESS 0.30208072431090666\n",
      "MEAN SCALED STRESS 0.24682415438121147\n",
      "MAX SCALED STRESS 0.3128962856354987\n",
      "MEAN SCALED STRESS 0.25566133130680313\n"
     ]
    },
    {
     "name": "stderr",
     "output_type": "stream",
     "text": [
      "WARNING:root:SPIKES COULD NOT BE GENERATED FOR 4.17\n",
      "WARNING:root:SPIKES COULD NOT BE GENERATED FOR 4.17\n",
      "WARNING:root:SPIKES COULD NOT BE GENERATED FOR 4.17\n",
      "WARNING:root:SPIKES COULD NOT BE GENERATED FOR 4.17\n"
     ]
    },
    {
     "name": "stdout",
     "output_type": "stream",
     "text": [
      "MAX SCALED STRESS 0.33278323661955433\n",
      "MEAN SCALED STRESS 0.27191056154910115\n",
      "MAX SCALED STRESS 0.3392980514364232\n",
      "MEAN SCALED STRESS 0.2772336726545079\n",
      "MAX SCALED STRESS 0.2687840500301789\n",
      "MEAN SCALED STRESS 0.2196180960823499\n",
      "MAX SCALED STRESS 7.990307399999999\n",
      "MEAN SCALED STRESS 6.528721032414496\n",
      "MAX SCALED STRESS 5.066867983302832\n",
      "MEAN SCALED STRESS 4.140037045633553\n",
      "MAX SCALED STRESS 4.0905751281523015\n",
      "MEAN SCALED STRESS 3.3423274222996606\n",
      "MAX SCALED STRESS 3.50994790674301\n",
      "MEAN SCALED STRESS 2.867908491037015\n",
      "MAX SCALED STRESS 2.834485122562302\n",
      "MEAN SCALED STRESS 2.316001470941878\n"
     ]
    },
    {
     "name": "stderr",
     "output_type": "stream",
     "text": [
      "WARNING:root:SPIKES COULD NOT BE GENERATED FOR 4.17\n",
      "WARNING:root:SPIKES COULD NOT BE GENERATED FOR 4.17\n",
      "WARNING:root:SPIKES COULD NOT BE GENERATED FOR 4.17\n"
     ]
    },
    {
     "name": "stdout",
     "output_type": "stream",
     "text": [
      "MAX SCALED STRESS 2.2691908391596063\n",
      "MEAN SCALED STRESS 1.8541106557174853\n",
      "MAX SCALED STRESS 1.737905553484904\n",
      "MEAN SCALED STRESS 1.420008025200243\n",
      "MAX SCALED STRESS 1.3869656885734525\n",
      "MEAN SCALED STRESS 1.1332620639971822\n",
      "MAX SCALED STRESS 1.0883775102821152\n",
      "MEAN SCALED STRESS 0.889291594248527\n"
     ]
    },
    {
     "name": "stderr",
     "output_type": "stream",
     "text": [
      "WARNING:root:SPIKES COULD NOT BE GENERATED FOR 4.17\n",
      "WARNING:root:SPIKES COULD NOT BE GENERATED FOR 4.17\n",
      "WARNING:root:SPIKES COULD NOT BE GENERATED FOR 4.17\n",
      "WARNING:root:SPIKES COULD NOT BE GENERATED FOR 4.17\n"
     ]
    },
    {
     "name": "stdout",
     "output_type": "stream",
     "text": [
      "MAX SCALED STRESS 0.8011031910817188\n",
      "MEAN SCALED STRESS 0.654565478047911\n",
      "MAX SCALED STRESS 0.5439422959216017\n",
      "MEAN SCALED STRESS 0.4444444280347353\n",
      "MAX SCALED STRESS 0.40212818825606167\n",
      "MEAN SCALED STRESS 0.32857093614159094\n",
      "MAX SCALED STRESS 0.30919099892990975\n",
      "MEAN SCALED STRESS 0.25263382019971564\n"
     ]
    },
    {
     "name": "stderr",
     "output_type": "stream",
     "text": [
      "WARNING:root:SPIKES COULD NOT BE GENERATED FOR 4.17\n",
      "WARNING:root:SPIKES COULD NOT BE GENERATED FOR 4.17\n",
      "WARNING:root:SPIKES COULD NOT BE GENERATED FOR 4.17\n",
      "WARNING:root:SPIKES COULD NOT BE GENERATED FOR 4.17\n"
     ]
    },
    {
     "name": "stdout",
     "output_type": "stream",
     "text": [
      "MAX SCALED STRESS 0.26125100442281807\n",
      "MEAN SCALED STRESS 0.21346299425939172\n",
      "MAX SCALED STRESS 0.30106054433292767\n",
      "MEAN SCALED STRESS 0.2459905736864771\n",
      "MAX SCALED STRESS 0.22488409146952326\n",
      "MEAN SCALED STRESS 0.1837483132935898\n",
      "MAX SCALED STRESS 0.2632704237335099\n",
      "MEAN SCALED STRESS 0.2151130223459915\n"
     ]
    },
    {
     "name": "stderr",
     "output_type": "stream",
     "text": [
      "WARNING:root:SPIKES COULD NOT BE GENERATED FOR 4.17\n",
      "WARNING:root:SPIKES COULD NOT BE GENERATED FOR 4.17\n",
      "WARNING:root:SPIKES COULD NOT BE GENERATED FOR 4.17\n",
      "WARNING:root:SPIKES COULD NOT BE GENERATED FOR 4.17\n"
     ]
    },
    {
     "name": "stdout",
     "output_type": "stream",
     "text": [
      "MAX SCALED STRESS 0.36239704547313184\n",
      "MEAN SCALED STRESS 0.29610740865713214\n",
      "MAX SCALED STRESS 0.40966325097598016\n",
      "MEAN SCALED STRESS 0.33472769434973787\n",
      "MAX SCALED STRESS 0.30050495455266907\n",
      "MEAN SCALED STRESS 0.2455366120688159\n",
      "MAX SCALED STRESS 0.2968904831736404\n",
      "MEAN SCALED STRESS 0.24258331153146448\n"
     ]
    },
    {
     "name": "stderr",
     "output_type": "stream",
     "text": [
      "WARNING:root:SPIKES COULD NOT BE GENERATED FOR 4.17\n",
      "WARNING:root:SPIKES COULD NOT BE GENERATED FOR 4.17\n",
      "WARNING:root:SPIKES COULD NOT BE GENERATED FOR 4.17\n",
      "WARNING:root:SPIKES COULD NOT BE GENERATED FOR 4.17\n"
     ]
    },
    {
     "name": "stdout",
     "output_type": "stream",
     "text": [
      "MAX SCALED STRESS 0.3075202154572118\n",
      "MEAN SCALED STRESS 0.2512686512972336\n",
      "MAX SCALED STRESS 0.3270654760824149\n",
      "MEAN SCALED STRESS 0.2672386931754117\n",
      "MAX SCALED STRESS 0.3334683557205618\n",
      "MEAN SCALED STRESS 0.27247034452184\n",
      "MAX SCALED STRESS 0.2641659002402842\n",
      "MEAN SCALED STRESS 0.21584469783135285\n"
     ]
    },
    {
     "name": "stderr",
     "output_type": "stream",
     "text": [
      "WARNING:root:SPIKES COULD NOT BE GENERATED FOR 4.17\n"
     ]
    },
    {
     "name": "stdout",
     "output_type": "stream",
     "text": [
      "MAX SCALED STRESS 7.7195792999999995\n",
      "MEAN SCALED STRESS 6.307514494035808\n",
      "MAX SCALED STRESS 4.895192042265769\n",
      "MEAN SCALED STRESS 3.9997640489658677\n",
      "MAX SCALED STRESS 3.951978003296763\n",
      "MEAN SCALED STRESS 3.2290824734736514\n",
      "MAX SCALED STRESS 3.3910236300760683\n",
      "MEAN SCALED STRESS 2.7707378344046663\n"
     ]
    },
    {
     "name": "stderr",
     "output_type": "stream",
     "text": [
      "WARNING:root:SPIKES COULD NOT BE GENERATED FOR 4.17\n",
      "WARNING:root:SPIKES COULD NOT BE GENERATED FOR 4.17\n"
     ]
    },
    {
     "name": "stdout",
     "output_type": "stream",
     "text": [
      "MAX SCALED STRESS 2.7384469186116553\n",
      "MEAN SCALED STRESS 2.237530562823212\n",
      "MAX SCALED STRESS 2.1923059718235782\n",
      "MEAN SCALED STRESS 1.791289561373587\n",
      "MAX SCALED STRESS 1.6790217277544426\n",
      "MEAN SCALED STRESS 1.3718952236017445\n",
      "MAX SCALED STRESS 1.3399724295115192\n",
      "MEAN SCALED STRESS 1.094864807167234\n"
     ]
    },
    {
     "name": "stderr",
     "output_type": "stream",
     "text": [
      "WARNING:root:SPIKES COULD NOT BE GENERATED FOR 4.17\n",
      "WARNING:root:SPIKES COULD NOT BE GENERATED FOR 4.17\n",
      "WARNING:root:SPIKES COULD NOT BE GENERATED FOR 4.17\n",
      "WARNING:root:SPIKES COULD NOT BE GENERATED FOR 4.17\n"
     ]
    },
    {
     "name": "stdout",
     "output_type": "stream",
     "text": [
      "MAX SCALED STRESS 1.0515010347360796\n",
      "MEAN SCALED STRESS 0.859160560283942\n",
      "MAX SCALED STRESS 0.7739601621632706\n",
      "MEAN SCALED STRESS 0.6323874491778949\n",
      "MAX SCALED STRESS 0.525512408695424\n",
      "MEAN SCALED STRESS 0.4293857338526528\n",
      "MAX SCALED STRESS 0.3885032555828824\n",
      "MEAN SCALED STRESS 0.31743827493047977\n"
     ]
    },
    {
     "name": "stderr",
     "output_type": "stream",
     "text": [
      "WARNING:root:SPIKES COULD NOT BE GENERATED FOR 4.17\n",
      "WARNING:root:SPIKES COULD NOT BE GENERATED FOR 4.17\n",
      "WARNING:root:SPIKES COULD NOT BE GENERATED FOR 4.17\n",
      "WARNING:root:SPIKES COULD NOT BE GENERATED FOR 4.17\n"
     ]
    },
    {
     "name": "stdout",
     "output_type": "stream",
     "text": [
      "MAX SCALED STRESS 0.29871496997545477\n",
      "MEAN SCALED STRESS 0.24407406514718655\n",
      "MAX SCALED STRESS 0.2523992813901747\n",
      "MEAN SCALED STRESS 0.20623042760542848\n",
      "MAX SCALED STRESS 0.29085999195465256\n",
      "MEAN SCALED STRESS 0.2376559055319015\n",
      "MAX SCALED STRESS 0.2172645544785221\n",
      "MEAN SCALED STRESS 0.17752254133690906\n"
     ]
    },
    {
     "name": "stderr",
     "output_type": "stream",
     "text": [
      "WARNING:root:SPIKES COULD NOT BE GENERATED FOR 4.17\n",
      "WARNING:root:SPIKES COULD NOT BE GENERATED FOR 4.17\n",
      "WARNING:root:SPIKES COULD NOT BE GENERATED FOR 4.17\n",
      "WARNING:root:SPIKES COULD NOT BE GENERATED FOR 4.17\n"
     ]
    },
    {
     "name": "stdout",
     "output_type": "stream",
     "text": [
      "MAX SCALED STRESS 0.2543502786082337\n",
      "MEAN SCALED STRESS 0.20782454933618116\n",
      "MAX SCALED STRESS 0.3501182858891696\n",
      "MEAN SCALED STRESS 0.2860746787346677\n",
      "MAX SCALED STRESS 0.39578301483180506\n",
      "MEAN SCALED STRESS 0.3233864294681533\n",
      "MAX SCALED STRESS 0.2903232267024201\n",
      "MEAN SCALED STRESS 0.23721732507044244\n"
     ]
    },
    {
     "name": "stderr",
     "output_type": "stream",
     "text": [
      "WARNING:root:SPIKES COULD NOT BE GENERATED FOR 4.17\n",
      "WARNING:root:SPIKES COULD NOT BE GENERATED FOR 4.17\n",
      "WARNING:root:SPIKES COULD NOT BE GENERATED FOR 4.17\n",
      "WARNING:root:SPIKES COULD NOT BE GENERATED FOR 4.17\n"
     ]
    },
    {
     "name": "stdout",
     "output_type": "stream",
     "text": [
      "MAX SCALED STRESS 0.28683122107094816\n",
      "MEAN SCALED STRESS 0.23436408844842987\n",
      "MAX SCALED STRESS 0.29710079609390655\n",
      "MEAN SCALED STRESS 0.24275515098368333\n",
      "MAX SCALED STRESS 0.31598382296411465\n",
      "MEAN SCALED STRESS 0.2581840948942665\n",
      "MAX SCALED STRESS 0.3221697598299517\n",
      "MEAN SCALED STRESS 0.26323848709934045\n"
     ]
    },
    {
     "name": "stderr",
     "output_type": "stream",
     "text": [
      "WARNING:root:SPIKES COULD NOT BE GENERATED FOR 4.17\n",
      "WARNING:root:SPIKES COULD NOT BE GENERATED FOR 4.17\n"
     ]
    },
    {
     "name": "stdout",
     "output_type": "stream",
     "text": [
      "MAX SCALED STRESS 0.2552154145234466\n",
      "MEAN SCALED STRESS 0.2085314341465343\n",
      "MAX SCALED STRESS 6.7852533\n",
      "MEAN SCALED STRESS 5.544095328543914\n",
      "MAX SCALED STRESS 4.302710894998844\n",
      "MEAN SCALED STRESS 3.515659488395567\n",
      "MAX SCALED STRESS 3.4736571445540787\n",
      "MEAN SCALED STRESS 2.838256031531311\n"
     ]
    },
    {
     "name": "stderr",
     "output_type": "stream",
     "text": [
      "WARNING:root:SPIKES COULD NOT BE GENERATED FOR 4.17\n",
      "WARNING:root:SPIKES COULD NOT BE GENERATED FOR 4.17\n"
     ]
    },
    {
     "name": "stdout",
     "output_type": "stream",
     "text": [
      "MAX SCALED STRESS 2.980596918843961\n",
      "MEAN SCALED STRESS 2.4353863473271287\n",
      "MAX SCALED STRESS 2.4070037069746233\n",
      "MEAN SCALED STRESS 1.9667149005447817\n",
      "MAX SCALED STRESS 1.9269639901135076\n",
      "MEAN SCALED STRESS 1.5744839110035032\n",
      "MAX SCALED STRESS 1.4758042214836153\n",
      "MEAN SCALED STRESS 1.20585024538811\n"
     ]
    },
    {
     "name": "stderr",
     "output_type": "stream",
     "text": [
      "WARNING:root:SPIKES COULD NOT BE GENERATED FOR 4.17\n",
      "WARNING:root:SPIKES COULD NOT BE GENERATED FOR 4.17\n",
      "WARNING:root:SPIKES COULD NOT BE GENERATED FOR 4.17\n",
      "WARNING:root:SPIKES COULD NOT BE GENERATED FOR 4.17\n"
     ]
    },
    {
     "name": "stdout",
     "output_type": "stream",
     "text": [
      "MAX SCALED STRESS 1.1777911717614007\n",
      "MEAN SCALED STRESS 0.9623497288103949\n",
      "MAX SCALED STRESS 0.9242344159734712\n",
      "MEAN SCALED STRESS 0.7551735399487984\n",
      "MAX SCALED STRESS 0.6802852254379804\n",
      "MEAN SCALED STRESS 0.5558475222105554\n",
      "MAX SCALED STRESS 0.46190791838767364\n",
      "MEAN SCALED STRESS 0.3774157702605158\n"
     ]
    },
    {
     "name": "stderr",
     "output_type": "stream",
     "text": [
      "WARNING:root:SPIKES COULD NOT BE GENERATED FOR 4.17\n",
      "WARNING:root:SPIKES COULD NOT BE GENERATED FOR 4.17\n",
      "WARNING:root:SPIKES COULD NOT BE GENERATED FOR 4.17\n",
      "WARNING:root:SPIKES COULD NOT BE GENERATED FOR 4.17\n"
     ]
    },
    {
     "name": "stdout",
     "output_type": "stream",
     "text": [
      "MAX SCALED STRESS 0.341481432414911\n",
      "MEAN SCALED STRESS 0.27901767943731665\n",
      "MAX SCALED STRESS 0.26256051748640696\n",
      "MEAN SCALED STRESS 0.2145329805711514\n",
      "MAX SCALED STRESS 0.22185056858866795\n",
      "MEAN SCALED STRESS 0.18126968259399118\n",
      "MAX SCALED STRESS 0.25565625321684043\n",
      "MEAN SCALED STRESS 0.20889163186325746\n"
     ]
    },
    {
     "name": "stderr",
     "output_type": "stream",
     "text": [
      "WARNING:root:SPIKES COULD NOT BE GENERATED FOR 4.17\n",
      "WARNING:root:SPIKES COULD NOT BE GENERATED FOR 4.17\n",
      "WARNING:root:SPIKES COULD NOT BE GENERATED FOR 4.17\n",
      "WARNING:root:SPIKES COULD NOT BE GENERATED FOR 4.17\n"
     ]
    },
    {
     "name": "stdout",
     "output_type": "stream",
     "text": [
      "MAX SCALED STRESS 0.19096831290384203\n",
      "MEAN SCALED STRESS 0.15603640595163634\n",
      "MAX SCALED STRESS 0.22356543021488715\n",
      "MEAN SCALED STRESS 0.1826708625435503\n",
      "MAX SCALED STRESS 0.3077423214915133\n",
      "MEAN SCALED STRESS 0.2514501221499006\n",
      "MAX SCALED STRESS 0.34788009852706014\n",
      "MEAN SCALED STRESS 0.2842459093235825\n"
     ]
    },
    {
     "name": "stderr",
     "output_type": "stream",
     "text": [
      "WARNING:root:SPIKES COULD NOT BE GENERATED FOR 4.17\n",
      "WARNING:root:SPIKES COULD NOT BE GENERATED FOR 4.17\n",
      "WARNING:root:SPIKES COULD NOT BE GENERATED FOR 4.17\n",
      "WARNING:root:SPIKES COULD NOT BE GENERATED FOR 4.17\n"
     ]
    },
    {
     "name": "stdout",
     "output_type": "stream",
     "text": [
      "MAX SCALED STRESS 0.2551844544234741\n",
      "MEAN SCALED STRESS 0.208506134233428\n",
      "MAX SCALED STRESS 0.25211509768604623\n",
      "MEAN SCALED STRESS 0.20599823419732227\n",
      "MAX SCALED STRESS 0.26114171236362665\n",
      "MEAN SCALED STRESS 0.21337369891440014\n",
      "MAX SCALED STRESS 0.27773926456249687\n",
      "MEAN SCALED STRESS 0.22693522714234377\n"
     ]
    },
    {
     "name": "stderr",
     "output_type": "stream",
     "text": [
      "WARNING:root:SPIKES COULD NOT BE GENERATED FOR 4.17\n",
      "WARNING:root:SPIKES COULD NOT BE GENERATED FOR 4.17\n",
      "WARNING:root:SPIKES COULD NOT BE GENERATED FOR 4.17\n"
     ]
    },
    {
     "name": "stdout",
     "output_type": "stream",
     "text": [
      "MAX SCALED STRESS 0.2831764972019119\n",
      "MEAN SCALED STRESS 0.23137786968232935\n",
      "MAX SCALED STRESS 0.22432585589296092\n",
      "MEAN SCALED STRESS 0.1832921907669897\n",
      "MAX SCALED STRESS 4.7307897\n",
      "MEAN SCALED STRESS 3.865434040037041\n",
      "MAX SCALED STRESS 2.999920486997636\n",
      "MEAN SCALED STRESS 2.4511753594237993\n"
     ]
    },
    {
     "name": "stderr",
     "output_type": "stream",
     "text": [
      "WARNING:root:SPIKES COULD NOT BE GENERATED FOR 4.17\n",
      "WARNING:root:SPIKES COULD NOT BE GENERATED FOR 4.17\n",
      "WARNING:root:SPIKES COULD NOT BE GENERATED FOR 4.17\n"
     ]
    },
    {
     "name": "stdout",
     "output_type": "stream",
     "text": [
      "MAX SCALED STRESS 2.4218906375665954\n",
      "MEAN SCALED STRESS 1.9788785777431772\n",
      "MAX SCALED STRESS 2.0781209750148526\n",
      "MEAN SCALED STRESS 1.6979912374761017\n",
      "MAX SCALED STRESS 1.6782023958954289\n",
      "MEAN SCALED STRESS 1.3712258309256897\n",
      "MAX SCALED STRESS 1.3435108453062297\n",
      "MEAN SCALED STRESS 1.0977559627716609\n"
     ]
    },
    {
     "name": "stderr",
     "output_type": "stream",
     "text": [
      "WARNING:root:SPIKES COULD NOT BE GENERATED FOR 4.17\n",
      "WARNING:root:SPIKES COULD NOT BE GENERATED FOR 4.17\n",
      "WARNING:root:SPIKES COULD NOT BE GENERATED FOR 4.17\n",
      "WARNING:root:SPIKES COULD NOT BE GENERATED FOR 4.17\n"
     ]
    },
    {
     "name": "stdout",
     "output_type": "stream",
     "text": [
      "MAX SCALED STRESS 1.0289548674934812\n",
      "MEAN SCALED STRESS 0.8407385352326556\n",
      "MAX SCALED STRESS 0.8211752896711704\n",
      "MEAN SCALED STRESS 0.6709659880868427\n",
      "MAX SCALED STRESS 0.6443913678908365\n",
      "MEAN SCALED STRESS 0.526519356985879\n"
     ]
    },
    {
     "name": "stderr",
     "output_type": "stream",
     "text": [
      "WARNING:root:SPIKES COULD NOT BE GENERATED FOR 4.17\n",
      "WARNING:root:SPIKES COULD NOT BE GENERATED FOR 4.17\n",
      "WARNING:root:SPIKES COULD NOT BE GENERATED FOR 4.17\n"
     ]
    },
    {
     "name": "stdout",
     "output_type": "stream",
     "text": [
      "MAX SCALED STRESS 0.47430599791524003\n",
      "MEAN SCALED STRESS 0.3875459937279301\n",
      "MAX SCALED STRESS 0.32204976381012146\n",
      "MEAN SCALED STRESS 0.26314045469253367\n",
      "MAX SCALED STRESS 0.2380864459709569\n",
      "MEAN SCALED STRESS 0.19453569463647868\n",
      "MAX SCALED STRESS 0.18306149186079226\n",
      "MEAN SCALED STRESS 0.14957590673826476\n"
     ]
    },
    {
     "name": "stderr",
     "output_type": "stream",
     "text": [
      "WARNING:root:SPIKES COULD NOT BE GENERATED FOR 4.17\n",
      "WARNING:root:SPIKES COULD NOT BE GENERATED FOR 4.17\n",
      "WARNING:root:SPIKES COULD NOT BE GENERATED FOR 4.17\n",
      "WARNING:root:SPIKES COULD NOT BE GENERATED FOR 4.17\n"
     ]
    },
    {
     "name": "stdout",
     "output_type": "stream",
     "text": [
      "MAX SCALED STRESS 0.15467784891957\n",
      "MEAN SCALED STRESS 0.12638419074759122\n",
      "MAX SCALED STRESS 0.17824772576416867\n",
      "MEAN SCALED STRESS 0.14564266604975384\n",
      "MAX SCALED STRESS 0.13314623460142203\n",
      "MEAN SCALED STRESS 0.10879113711215761\n",
      "MAX SCALED STRESS 0.15587347852388309\n",
      "MEAN SCALED STRESS 0.12736111635082856\n"
     ]
    },
    {
     "name": "stderr",
     "output_type": "stream",
     "text": [
      "WARNING:root:SPIKES COULD NOT BE GENERATED FOR 4.17\n",
      "WARNING:root:SPIKES COULD NOT BE GENERATED FOR 4.17\n",
      "WARNING:root:SPIKES COULD NOT BE GENERATED FOR 4.17\n",
      "WARNING:root:SPIKES COULD NOT BE GENERATED FOR 4.17\n"
     ]
    },
    {
     "name": "stdout",
     "output_type": "stream",
     "text": [
      "MAX SCALED STRESS 0.21456298540338056\n",
      "MEAN SCALED STRESS 0.17531514231465634\n",
      "MAX SCALED STRESS 0.24254770075375096\n",
      "MEAN SCALED STRESS 0.19818090211829495\n",
      "MAX SCALED STRESS 0.1779187799203739\n",
      "MEAN SCALED STRESS 0.14537389079024043\n",
      "MAX SCALED STRESS 0.17577877414652174\n",
      "MEAN SCALED STRESS 0.14362534182163544\n"
     ]
    },
    {
     "name": "stderr",
     "output_type": "stream",
     "text": [
      "WARNING:root:SPIKES COULD NOT BE GENERATED FOR 4.17\n",
      "WARNING:root:SPIKES COULD NOT BE GENERATED FOR 4.17\n",
      "WARNING:root:SPIKES COULD NOT BE GENERATED FOR 4.17\n",
      "WARNING:root:SPIKES COULD NOT BE GENERATED FOR 4.17\n"
     ]
    },
    {
     "name": "stdout",
     "output_type": "stream",
     "text": [
      "MAX SCALED STRESS 0.182072277698197\n",
      "MEAN SCALED STRESS 0.14876763658552664\n",
      "MAX SCALED STRESS 0.19364436285345976\n",
      "MEAN SCALED STRESS 0.15822295611752038\n",
      "MAX SCALED STRESS 0.1974352904769058\n",
      "MEAN SCALED STRESS 0.161320439238592\n",
      "MAX SCALED STRESS 0.15640365975756626\n",
      "MEAN SCALED STRESS 0.12779431656161014\n"
     ]
    },
    {
     "name": "stderr",
     "output_type": "stream",
     "text": [
      "WARNING:root:SPIKES COULD NOT BE GENERATED FOR 4.17\n",
      "WARNING:root:SPIKES COULD NOT BE GENERATED FOR 4.17\n",
      "WARNING:root:SPIKES COULD NOT BE GENERATED FOR 4.17\n"
     ]
    },
    {
     "name": "stdout",
     "output_type": "stream",
     "text": [
      "MAX SCALED STRESS 3.5751416999999996\n",
      "MEAN SCALED STRESS 2.9211770764479117\n",
      "MAX SCALED STRESS 2.267093130296947\n",
      "MEAN SCALED STRESS 1.8523967027087493\n",
      "MAX SCALED STRESS 1.8302657188933849\n",
      "MEAN SCALED STRESS 1.4954736462976412\n",
      "MAX SCALED STRESS 1.5704728864655004\n",
      "MEAN SCALED STRESS 1.28320210034604\n"
     ]
    },
    {
     "name": "stderr",
     "output_type": "stream",
     "text": [
      "WARNING:root:SPIKES COULD NOT BE GENERATED FOR 4.17\n",
      "WARNING:root:SPIKES COULD NOT BE GENERATED FOR 4.17\n",
      "WARNING:root:SPIKES COULD NOT BE GENERATED FOR 4.17\n",
      "WARNING:root:SPIKES COULD NOT BE GENERATED FOR 4.17\n"
     ]
    },
    {
     "name": "stdout",
     "output_type": "stream",
     "text": [
      "MAX SCALED STRESS 1.2682473217115644\n",
      "MEAN SCALED STRESS 1.0362596858320678\n",
      "MAX SCALED STRESS 1.0153149795385221\n",
      "MEAN SCALED STRESS 0.8295936551414688\n",
      "MAX SCALED STRESS 0.7775994469155794\n",
      "MEAN SCALED STRESS 0.6353610256882031\n",
      "MAX SCALED STRESS 0.620576733967477\n",
      "MEAN SCALED STRESS 0.5070609000630433\n"
     ]
    },
    {
     "name": "stderr",
     "output_type": "stream",
     "text": [
      "WARNING:root:SPIKES COULD NOT BE GENERATED FOR 4.17\n",
      "WARNING:root:SPIKES COULD NOT BE GENERATED FOR 4.17\n",
      "WARNING:root:SPIKES COULD NOT BE GENERATED FOR 4.17\n",
      "WARNING:root:SPIKES COULD NOT BE GENERATED FOR 4.17\n"
     ]
    },
    {
     "name": "stdout",
     "output_type": "stream",
     "text": [
      "MAX SCALED STRESS 0.4869779881499638\n",
      "MEAN SCALED STRESS 0.3979000184720539\n",
      "MAX SCALED STRESS 0.3584414567628926\n",
      "MEAN SCALED STRESS 0.29287538248522466\n",
      "MAX SCALED STRESS 0.24337871964013025\n",
      "MEAN SCALED STRESS 0.1988599096950426\n",
      "MAX SCALED STRESS 0.17992615084867652\n",
      "MEAN SCALED STRESS 0.14701407547947892\n"
     ]
    },
    {
     "name": "stderr",
     "output_type": "stream",
     "text": [
      "WARNING:root:SPIKES COULD NOT BE GENERATED FOR 4.17\n",
      "WARNING:root:SPIKES COULD NOT BE GENERATED FOR 4.17\n",
      "WARNING:root:SPIKES COULD NOT BE GENERATED FOR 4.17\n",
      "WARNING:root:SPIKES COULD NOT BE GENERATED FOR 4.17\n"
     ]
    },
    {
     "name": "stdout",
     "output_type": "stream",
     "text": [
      "MAX SCALED STRESS 0.13834281689074637\n",
      "MEAN SCALED STRESS 0.11303716618290627\n",
      "MAX SCALED STRESS 0.1168927943972345\n",
      "MEAN SCALED STRESS 0.0955107749901602\n",
      "MAX SCALED STRESS 0.1347049684558254\n",
      "MEAN SCALED STRESS 0.11006474641932386\n",
      "MAX SCALED STRESS 0.10062097148844447\n",
      "MEAN SCALED STRESS 0.08221539225894828\n"
     ]
    },
    {
     "name": "stderr",
     "output_type": "stream",
     "text": [
      "WARNING:root:SPIKES COULD NOT BE GENERATED FOR 4.17\n",
      "WARNING:root:SPIKES COULD NOT BE GENERATED FOR 4.17\n",
      "WARNING:root:SPIKES COULD NOT BE GENERATED FOR 4.17\n",
      "WARNING:root:SPIKES COULD NOT BE GENERATED FOR 4.17\n"
     ]
    },
    {
     "name": "stdout",
     "output_type": "stream",
     "text": [
      "MAX SCALED STRESS 0.11779635289955688\n",
      "MEAN SCALED STRESS 0.09624905499908377\n",
      "MAX SCALED STRESS 0.16214905439405117\n",
      "MEAN SCALED STRESS 0.13248876311930805\n",
      "MAX SCALED STRESS 0.18329760023022296\n",
      "MEAN SCALED STRESS 0.1497688234390835\n",
      "MAX SCALED STRESS 0.13445637824620513\n",
      "MEAN SCALED STRESS 0.10986162818766486\n"
     ]
    },
    {
     "name": "stderr",
     "output_type": "stream",
     "text": [
      "WARNING:root:SPIKES COULD NOT BE GENERATED FOR 4.17\n",
      "WARNING:root:SPIKES COULD NOT BE GENERATED FOR 4.17\n",
      "WARNING:root:SPIKES COULD NOT BE GENERATED FOR 4.17\n",
      "WARNING:root:SPIKES COULD NOT BE GENERATED FOR 4.17\n"
     ]
    },
    {
     "name": "stdout",
     "output_type": "stream",
     "text": [
      "MAX SCALED STRESS 0.1328391379194285\n",
      "MEAN SCALED STRESS 0.1085402187130159\n",
      "MAX SCALED STRESS 0.1375952501995183\n",
      "MEAN SCALED STRESS 0.11242634208985486\n",
      "MAX SCALED STRESS 0.1463404802389197\n",
      "MEAN SCALED STRESS 0.11957189479655313\n",
      "MAX SCALED STRESS 0.14920535149461384\n",
      "MEAN SCALED STRESS 0.12191271774017062\n"
     ]
    },
    {
     "name": "stderr",
     "output_type": "stream",
     "text": [
      "WARNING:root:SPIKES COULD NOT BE GENERATED FOR 4.17\n",
      "WARNING:root:SPIKES COULD NOT BE GENERATED FOR 4.17\n",
      "WARNING:root:SPIKES COULD NOT BE GENERATED FOR 4.17\n",
      "WARNING:root:SPIKES COULD NOT BE GENERATED FOR 4.17\n"
     ]
    },
    {
     "name": "stdout",
     "output_type": "stream",
     "text": [
      "MAX SCALED STRESS 0.11819702026321038\n",
      "MEAN SCALED STRESS 0.09657643208329743\n",
      "MAX SCALED STRESS 2.38639446\n",
      "MEAN SCALED STRESS 1.9498753830972055\n",
      "MAX SCALED STRESS 1.5132766587810191\n",
      "MEAN SCALED STRESS 1.2364682577662378\n",
      "MAX SCALED STRESS 1.2216959042197102\n",
      "MEAN SCALED STRESS 0.9982233779994486\n"
     ]
    },
    {
     "name": "stderr",
     "output_type": "stream",
     "text": [
      "WARNING:root:SPIKES COULD NOT BE GENERATED FOR 4.17\n",
      "WARNING:root:SPIKES COULD NOT BE GENERATED FOR 4.17\n",
      "WARNING:root:SPIKES COULD NOT BE GENERATED FOR 4.17\n",
      "WARNING:root:SPIKES COULD NOT BE GENERATED FOR 4.17\n"
     ]
    },
    {
     "name": "stdout",
     "output_type": "stream",
     "text": [
      "MAX SCALED STRESS 1.0482851059697798\n",
      "MEAN SCALED STRESS 0.8565328706624846\n",
      "MAX SCALED STRESS 0.846550608733163\n",
      "MEAN SCALED STRESS 0.6916996809919415\n",
      "MAX SCALED STRESS 0.6777191635021745\n",
      "MEAN SCALED STRESS 0.553750835297172\n",
      "MAX SCALED STRESS 0.5190448849113876\n",
      "MEAN SCALED STRESS 0.4241012410227671\n"
     ]
    },
    {
     "name": "stderr",
     "output_type": "stream",
     "text": [
      "WARNING:root:SPIKES COULD NOT BE GENERATED FOR 4.17\n",
      "WARNING:root:SPIKES COULD NOT BE GENERATED FOR 4.17\n",
      "WARNING:root:SPIKES COULD NOT BE GENERATED FOR 4.17\n",
      "WARNING:root:SPIKES COULD NOT BE GENERATED FOR 4.17\n"
     ]
    },
    {
     "name": "stdout",
     "output_type": "stream",
     "text": [
      "MAX SCALED STRESS 0.4142327785063403\n",
      "MEAN SCALED STRESS 0.3384613602288995\n",
      "MAX SCALED STRESS 0.3250560874448751\n",
      "MEAN SCALED STRESS 0.2655968572422198\n",
      "MAX SCALED STRESS 0.2392584066397414\n",
      "MEAN SCALED STRESS 0.19549328359016402\n",
      "MAX SCALED STRESS 0.16245443592658163\n",
      "MEAN SCALED STRESS 0.13273828749566763\n"
     ]
    },
    {
     "name": "stderr",
     "output_type": "stream",
     "text": [
      "WARNING:root:SPIKES COULD NOT BE GENERATED FOR 4.17\n",
      "WARNING:root:SPIKES COULD NOT BE GENERATED FOR 4.17\n",
      "WARNING:root:SPIKES COULD NOT BE GENERATED FOR 4.17\n",
      "WARNING:root:SPIKES COULD NOT BE GENERATED FOR 4.17\n"
     ]
    },
    {
     "name": "stdout",
     "output_type": "stream",
     "text": [
      "MAX SCALED STRESS 0.1201000703257177\n",
      "MEAN SCALED STRESS 0.09813137623782864\n",
      "MAX SCALED STRESS 0.09234334175030647\n",
      "MEAN SCALED STRESS 0.07545190926362076\n",
      "MAX SCALED STRESS 0.07802552748146442\n",
      "MEAN SCALED STRESS 0.063753105032683\n",
      "MAX SCALED STRESS 0.08991509076618041\n",
      "MEAN SCALED STRESS 0.07346782956781246\n"
     ]
    },
    {
     "name": "stderr",
     "output_type": "stream",
     "text": [
      "WARNING:root:SPIKES COULD NOT BE GENERATED FOR 4.17\n",
      "WARNING:root:SPIKES COULD NOT BE GENERATED FOR 4.17\n",
      "WARNING:root:SPIKES COULD NOT BE GENERATED FOR 4.17\n",
      "WARNING:root:SPIKES COULD NOT BE GENERATED FOR 4.17\n"
     ]
    },
    {
     "name": "stdout",
     "output_type": "stream",
     "text": [
      "MAX SCALED STRESS 0.06716414314986224\n",
      "MEAN SCALED STRESS 0.05487848400903412\n",
      "MAX SCALED STRESS 0.07862864959106586\n",
      "MEAN SCALED STRESS 0.06424590433158184\n",
      "MAX SCALED STRESS 0.10823392121778067\n",
      "MEAN SCALED STRESS 0.0884357815300493\n",
      "MAX SCALED STRESS 0.12235050088244022\n",
      "MEAN SCALED STRESS 0.09997016077313718\n"
     ]
    },
    {
     "name": "stderr",
     "output_type": "stream",
     "text": [
      "WARNING:root:SPIKES COULD NOT BE GENERATED FOR 4.17\n",
      "WARNING:root:SPIKES COULD NOT BE GENERATED FOR 4.17\n",
      "WARNING:root:SPIKES COULD NOT BE GENERATED FOR 4.17\n",
      "WARNING:root:SPIKES COULD NOT BE GENERATED FOR 4.17\n"
     ]
    },
    {
     "name": "stdout",
     "output_type": "stream",
     "text": [
      "MAX SCALED STRESS 0.0897491576790952\n",
      "MEAN SCALED STRESS 0.07333224886544308\n",
      "MAX SCALED STRESS 0.08866965547186567\n",
      "MEAN SCALED STRESS 0.07245021270735352\n",
      "MAX SCALED STRESS 0.09184434362376305\n",
      "MEAN SCALED STRESS 0.0750441863384868\n",
      "MAX SCALED STRESS 0.0976817537933944\n",
      "MEAN SCALED STRESS 0.0798138175374132\n"
     ]
    },
    {
     "name": "stderr",
     "output_type": "stream",
     "text": [
      "WARNING:root:SPIKES COULD NOT BE GENERATED FOR 4.17\n",
      "WARNING:root:SPIKES COULD NOT BE GENERATED FOR 4.17\n",
      "WARNING:root:SPIKES COULD NOT BE GENERATED FOR 4.17\n"
     ]
    },
    {
     "name": "stdout",
     "output_type": "stream",
     "text": [
      "MAX SCALED STRESS 0.09959404523996887\n",
      "MEAN SCALED STRESS 0.08137630858622664\n",
      "MAX SCALED STRESS 0.0788960936414445\n",
      "MEAN SCALED STRESS 0.0644644273792413\n"
     ]
    }
   ],
   "source": [
    "#creates model class\n",
    "vf_model = VF_Population_Model(4.17, \"SA\")\n",
    "\n",
    "#runs the model which calculates the results\n",
    "# vf_model.spatial_stress_vf_model()\n",
    "vf_model.radial_stress_vf_model()\n",
    "iffs_results = vf_model.get_iffs()\n",
    "stress_results = vf_model.get_stress_traces()\n",
    "\n",
    "\n",
    "# #writing the data to csv\n",
    "# vf_model.aggregate_results()\n",
    "\n",
    "# #plotting the aggregated_results\n",
    "# vf_model.plot()\n"
   ]
  },
  {
   "cell_type": "code",
   "execution_count": 57,
   "metadata": {},
   "outputs": [
    {
     "data": {
      "text/plain": [
       "['8.8687',\n",
       " '8.8687',\n",
       " '8.8687',\n",
       " '8.8687',\n",
       " '8.8687',\n",
       " '8.8687',\n",
       " '8.8687',\n",
       " '8.8687',\n",
       " '8.8687',\n",
       " '8.8687',\n",
       " '8.8687',\n",
       " '8.8687',\n",
       " '8.8687',\n",
       " '8.8687',\n",
       " '8.8687',\n",
       " '8.8687',\n",
       " '8.8687',\n",
       " '8.8687',\n",
       " '8.8687',\n",
       " '8.8687',\n",
       " '8.8687',\n",
       " '8.8687',\n",
       " '8.8687',\n",
       " '8.8687',\n",
       " '3.27558',\n",
       " '3.27558',\n",
       " '3.27558',\n",
       " '3.27558',\n",
       " '3.27558',\n",
       " '3.27558',\n",
       " '3.27558',\n",
       " '3.27558',\n",
       " '5.22687',\n",
       " '5.22687',\n",
       " '5.22687',\n",
       " '5.22687',\n",
       " '5.22687',\n",
       " '5.22687',\n",
       " '5.22687',\n",
       " '5.22687',\n",
       " '7.48174',\n",
       " '7.48174',\n",
       " '7.48174',\n",
       " '7.48174',\n",
       " '7.48174',\n",
       " '7.48174',\n",
       " '9.01573',\n",
       " '9.01573',\n",
       " '9.01573',\n",
       " '9.01573',\n",
       " '9.01573',\n",
       " '10.9695',\n",
       " '10.9695',\n",
       " '10.9695',\n",
       " '10.9695',\n",
       " '12.8036',\n",
       " '12.8036',\n",
       " '12.8036',\n",
       " '12.8036',\n",
       " '14.8462',\n",
       " '14.8462',\n",
       " '3.01684',\n",
       " '3.01684',\n",
       " '3.01684',\n",
       " '3.01684',\n",
       " '5.00062',\n",
       " '5.00062',\n",
       " '5.00062',\n",
       " '5.00062',\n",
       " '5.00062',\n",
       " '5.00062',\n",
       " '5.00062',\n",
       " '5.00062',\n",
       " '5.00062',\n",
       " '7.15666',\n",
       " '7.15666',\n",
       " '7.15666',\n",
       " '7.15666',\n",
       " '7.15666',\n",
       " '7.15666',\n",
       " '9.11605',\n",
       " '9.11605',\n",
       " '9.11605',\n",
       " '9.11605',\n",
       " '9.11605',\n",
       " '9.11605',\n",
       " '12.9342',\n",
       " '14.9642',\n",
       " '14.9642',\n",
       " '2.82099',\n",
       " '2.82099',\n",
       " '2.82099',\n",
       " '2.82099',\n",
       " '2.82099',\n",
       " '2.82099',\n",
       " '4.95842',\n",
       " '4.95842',\n",
       " '4.95842',\n",
       " '4.95842',\n",
       " '4.95842',\n",
       " '4.95842',\n",
       " '4.95842',\n",
       " '7.15817',\n",
       " '7.15817',\n",
       " '7.15817',\n",
       " '7.15817',\n",
       " '7.15817',\n",
       " '7.15817',\n",
       " '7.15817',\n",
       " '7.15817',\n",
       " '7.15817',\n",
       " '7.15817',\n",
       " '9.14525',\n",
       " '9.14525',\n",
       " '9.14525',\n",
       " '9.14525',\n",
       " '9.14525',\n",
       " '9.14525',\n",
       " '9.14525',\n",
       " '9.14525',\n",
       " '9.14525',\n",
       " '9.14525',\n",
       " '9.14525',\n",
       " '9.14525',\n",
       " '9.14525',\n",
       " '10.9569',\n",
       " '10.9569',\n",
       " '10.9569',\n",
       " '10.9569',\n",
       " '10.9569',\n",
       " '14.9892',\n",
       " '2.99645',\n",
       " '2.99645',\n",
       " '2.99645',\n",
       " '5.1236',\n",
       " '5.1236',\n",
       " '7.06915',\n",
       " '9.07371',\n",
       " '15.0456',\n",
       " '3.04105',\n",
       " '3.04105',\n",
       " '3.04105',\n",
       " '3.04105',\n",
       " '5.08592',\n",
       " '5.08592',\n",
       " '5.08592',\n",
       " '5.08592',\n",
       " '6.9541',\n",
       " '6.9541',\n",
       " '6.9541',\n",
       " '6.9541',\n",
       " '6.9541',\n",
       " '8.92358',\n",
       " '8.92358',\n",
       " '8.92358',\n",
       " '8.92358',\n",
       " '8.92358',\n",
       " '10.9887',\n",
       " '10.9887',\n",
       " '10.9887',\n",
       " '12.9856',\n",
       " '15.0863',\n",
       " '2.91265',\n",
       " '2.91265',\n",
       " '2.91265',\n",
       " '2.91265',\n",
       " '2.91265',\n",
       " '4.83288',\n",
       " '4.83288',\n",
       " '4.83288',\n",
       " '4.83288',\n",
       " '4.83288',\n",
       " '7.29614',\n",
       " '7.29614',\n",
       " '7.29614',\n",
       " '7.29614',\n",
       " '7.29614',\n",
       " '8.99003',\n",
       " '8.99003',\n",
       " '8.99003',\n",
       " '8.99003',\n",
       " '11.092',\n",
       " '11.092',\n",
       " '12.7391']"
      ]
     },
     "execution_count": 57,
     "metadata": {},
     "output_type": "execute_result"
    }
   ],
   "source": [
    "iffs_results.get(1).get(0.0).get('x_position')"
   ]
  }
 ],
 "metadata": {
  "kernelspec": {
   "display_name": "Python 3",
   "language": "python",
   "name": "python3"
  },
  "language_info": {
   "codemirror_mode": {
    "name": "ipython",
    "version": 3
   },
   "file_extension": ".py",
   "mimetype": "text/x-python",
   "name": "python",
   "nbconvert_exporter": "python",
   "pygments_lexer": "ipython3",
   "version": "3.12.2"
  }
 },
 "nbformat": 4,
 "nbformat_minor": 2
}
