{
 "cells": [
  {
   "cell_type": "code",
   "execution_count": 1,
   "metadata": {},
   "outputs": [],
   "source": [
    "import pandas as pd\n",
    "import numpy as np\n",
    "import csv\n",
    "import re\n",
    "import matplotlib.pyplot as plt\n",
    "import matplotlib.patches as patches\n",
    "import logging\n",
    "from lmfit import minimize, fit_report, Parameters\n",
    "from aim2_population_model_spatial_aff_parallel import get_mod_spike\n",
    "from model_constants import (MC_GROUPS, LifConstants)\n",
    "from popul_model import pop_model"
   ]
  },
  {
   "cell_type": "code",
   "execution_count": 2,
   "metadata": {},
   "outputs": [],
   "source": [
    "#Global Variables\n",
    "lmpars_init_dict = {}\n",
    "lmpars = Parameters()\n",
    "lmpars.add('tau1', value=8, vary=False)\n",
    "lmpars.add('tau2', value=200, vary=False)\n",
    "lmpars.add('tau3', value=1744.6, vary=False)\n",
    "lmpars.add('tau4', value=np.inf, vary=False)\n",
    "lmpars.add('k1', value=.74, vary=False, min=0) #a constant\n",
    "lmpars.add('k2', value=2.75, vary=False, min=0) #b constant\n",
    "lmpars.add('k3', value=.07, vary=False, min=0) #c constant\n",
    "lmpars.add('k4', value=.0312, vary=False, min=0)\n",
    "lmpars_init_dict['t3f12v3final'] = lmpars\n"
   ]
  },
  {
   "cell_type": "code",
   "execution_count": null,
   "metadata": {},
   "outputs": [],
   "source": [
    "class VF_Population_Model:\n",
    "    \n",
    "    def __init__(self, vf_tip_size, aff_type):\n",
    "        self.vf_tip_size = vf_tip_size\n",
    "        self.aff_type = aff_type\n",
    "        self.results = None\n",
    "        self.stress_data = None\n",
    "    \"\"\"\n",
    "        functino takes in a vf_tip_size (given that that there is data assicated with it) an\n",
    "        afferent type, and runs the single unit model for all of those coordinates with the data\n",
    "        \n",
    "    \"\"\"\n",
    "    def spatial_stress_vf_model(self, scaling_factor = 0.3):\n",
    "\n",
    "        #reading data in \n",
    "        coords = pd.read_csv(f\"data/vfspatial/{self.vf_tip_size}_spatial_coords.csv\", header = None)\n",
    "        x_coords = coords[0]\n",
    "        y_coords = coords[1]\n",
    "        stress_data = pd.read_csv(f\"data/vfspatial/3.61_spatial_stress.csv\", )\n",
    "        time = stress_data['Time (ms)'].to_numpy()\n",
    "\n",
    "        afferent_type = []\n",
    "        x_pos = []\n",
    "        y_pos = []\n",
    "        spikes = []\n",
    "        mean_firing_frequency = []\n",
    "        peak_firing_frequency = []\n",
    "        first_spike_time = []\n",
    "        last_spike_time = []\n",
    "\n",
    "        #iterating through each of the coordinates\n",
    "        for i, row in coords.iloc[1:].iterrows():\n",
    "            print(row)\n",
    "            #getting stress data\n",
    "            \n",
    "            if f\"Coord {i} Stress (kPa)\" in stress_data.columns:\n",
    "                stress = stress_data[f\"Coord {i} Stress (kPa)\"]\n",
    "            else:\n",
    "                logging.warning(\"STRESS VALUE COULD NOT BE INDEXED\")\n",
    "\n",
    "            lmpars = lmpars_init_dict['t3f12v3final']\n",
    "            if self.aff_type == \"RA\":\n",
    "                lmpars['tau1'].value = 2.5\n",
    "                lmpars['tau2'].value = 200\n",
    "                lmpars['tau3'].value = 1\n",
    "                lmpars['k1'].value = 35\n",
    "                lmpars['k2'].value = 0\n",
    "                lmpars['k3'].value = 0.0\n",
    "                lmpars['k4'].value = 0\n",
    "\n",
    "            groups = MC_GROUPS\n",
    "            mod_spike_time, mod_fr_inst = get_mod_spike(lmpars, groups, time, stress)\n",
    "\n",
    "            if len(mod_spike_time) == 0 or len(mod_fr_inst) == 0:\n",
    "                logging.warning(f\"SPIKES COULD NOT BE GENERATED FOR {self.vf_tip_size}\")\n",
    "                continue\n",
    "\n",
    "            if len(mod_spike_time) != len(mod_fr_inst):\n",
    "                if len(mod_fr_inst) > 1:\n",
    "                    mod_fr_inst_interp = np.interp(mod_spike_time, time, mod_fr_inst)\n",
    "                else:\n",
    "                    mod_fr_inst_interp = np.zeros_like(mod_spike_time)\n",
    "            else:\n",
    "                mod_fr_inst_interp = mod_fr_inst\n",
    "\n",
    "            features, _ = pop_model(mod_spike_time,mod_fr_inst_interp)\n",
    "\n",
    "            #appending stuff to lists\n",
    "            afferent_type.append(self.aff_type)\n",
    "            x_pos.append(row[0])\n",
    "            y_pos.append(row[1])\n",
    "            spikes.append(len(mod_spike_time) if len(mod_spike_time) !=0 else None)\n",
    "            mean_firing_frequency.append(features[\"Average Firing Rate\"])\n",
    "            peak_firing_frequency.append(np.max(mod_fr_inst_interp))\n",
    "            first_spike_time.append(mod_spike_time[0] if len(mod_spike_time) != None else None)\n",
    "            last_spike_time.append(mod_spike_time[-1])\n",
    "\n",
    "            \n",
    "        model_results = {\n",
    "            'afferent_type': self.aff_type,\n",
    "            'x_position': x_pos,\n",
    "            'y_position': y_pos,\n",
    "            'num_of_spikes' : spikes,\n",
    "            'mean_firing_frequency' : mean_firing_frequency,\n",
    "            'peak_firing_frequency' : peak_firing_frequency, \n",
    "            'first_spike_time': first_spike_time,\n",
    "            'last_spike_time' : last_spike_time\n",
    "        }\n",
    "\n",
    "        self.results = model_results\n",
    "        return model_results\n",
    "\n",
    "    def radial_stress_vf_model(self,scaling_factor = 0.3):\n",
    "        \"\"\" Read in the Radial which has sample stress traces for every 2mm from a center point\n",
    "        to calculate firing\"\"\"\n",
    "\n",
    "        #regex pattern for exstracting the distance from the middle point\n",
    "        distance_regex = r'\\d\\.\\d{2}'\n",
    "\n",
    "        #reading data from spatial stress data file for 50 (or n) data points in a grid\n",
    "        coords = pd.read_csv(f\"data/vfspatial/{self.vf_tip_size}_spatial_coords.csv\", header = None)\n",
    "        stress_df = pd.read_csv(f\"data/vfspatial/{self.vf_tip_size}_spatial_stress.csv\", )\n",
    "        time = stress_df['Time (ms)'].to_numpy()\n",
    "\n",
    "        #Reading in the radial stress file\n",
    "        radial_stress = pd.read_csv(f\"data/vfspatial/{self.vf_tip_size}_radial_stress.csv\")\n",
    "        radial_time = stress_df['Time (ms)'].to_numpy()\n",
    "        \n",
    "        stress_data = {}\n",
    "        iff_data = {}\n",
    "\n",
    "\n",
    "        #Outer loop top iterate through all n spatial points\n",
    "        for i, row in coords.iloc[1:].iterrows():\n",
    "            radial_spatial_flag = True\n",
    "            stress_data[i] = {}\n",
    "            iff_data[i] = {}\n",
    "\n",
    "            if f\"Coord {i} Stress (kPa)\" in stress_df.columns:\n",
    "                spatial_stress = stress_df[f\"Coord {i} Stress (kPa)\"]\n",
    "                spatial_stress_max = np.max(spatial_stress)\n",
    "\n",
    "                # Inner loop to iterate through radial distances\n",
    "                for col in radial_stress.columns[1:]:\n",
    "                    distance_from_center = float(re.findall(distance_regex, col)[0])\n",
    "\n",
    "                    # Initialize lists for each coordinate-distance pair\n",
    "                    afferent_type = []\n",
    "                    x_pos = []\n",
    "                    y_pos = []\n",
    "                    spikes = []\n",
    "                    mean_firing_frequency = []\n",
    "                    peak_firing_frequency = []\n",
    "                    first_spike_time = []\n",
    "                    last_spike_time = []\n",
    "\n",
    "                    if radial_spatial_flag:\n",
    "                        radial_stress_vals = radial_stress[col]\n",
    "                        radial_stress_max = np.max(radial_stress_vals)\n",
    "                        distance_scaling_factor = spatial_stress_max / radial_stress_max\n",
    "                        radial_spatial_flag = False\n",
    "                    \n",
    "                    scaled_stress = radial_stress[col] * distance_scaling_factor * scaling_factor\n",
    "\n",
    "                    stress_data[i][distance_from_center] = {\n",
    "                        \"Time\": radial_time,\n",
    "                        distance_from_center: scaled_stress.to_numpy()\n",
    "                    }\n",
    "\n",
    "                    lmpars = lmpars_init_dict['t3f12v3final']\n",
    "                    if self.aff_type == \"RA\":\n",
    "                        lmpars['tau1'].value = 2.5\n",
    "                        lmpars['tau2'].value = 200\n",
    "                        lmpars['tau3'].value = 1\n",
    "                        lmpars['k1'].value = 35\n",
    "                        lmpars['k2'].value = 0\n",
    "                        lmpars['k3'].value = 0.0\n",
    "                        lmpars['k4'].value = 0\n",
    "\n",
    "                    groups = MC_GROUPS\n",
    "                    mod_spike_time, mod_fr_inst = get_mod_spike(lmpars, groups, stress_data[i][distance_from_center][\"Time\"], stress_data[i][distance_from_center][distance_from_center])\n",
    "\n",
    "                    if len(mod_spike_time) == 0 or len(mod_fr_inst) == 0:\n",
    "                        logging.warning(f\"SPIKES COULD NOT BE GENERATED FOR {self.vf_tip_size}\")\n",
    "                        continue\n",
    "\n",
    "                    if len(mod_spike_time) != len(mod_fr_inst):\n",
    "                        if len(mod_fr_inst) > 1:\n",
    "                            mod_fr_inst_interp = np.interp(mod_spike_time, time, mod_fr_inst)\n",
    "                        else:\n",
    "                            mod_fr_inst_interp = np.zeros_like(mod_spike_time)\n",
    "                    else:\n",
    "                        mod_fr_inst_interp = mod_fr_inst\n",
    "\n",
    "                    features, _ = pop_model(mod_spike_time, mod_fr_inst_interp)\n",
    "\n",
    "                    # Append single values to the lists\n",
    "                    afferent_type.append(self.aff_type)\n",
    "                    x_pos.append(row[0])\n",
    "                    y_pos.append(row[1])\n",
    "                    spikes.append(len(mod_spike_time) if len(mod_spike_time) != 0 else None)\n",
    "                    mean_firing_frequency.append(features[\"Average Firing Rate\"])\n",
    "                    peak_firing_frequency.append(np.max(mod_fr_inst_interp))\n",
    "                    first_spike_time.append(mod_spike_time[0] if len(mod_spike_time) != 0 else None)\n",
    "                    last_spike_time.append(mod_spike_time[-1])\n",
    "\n",
    "                    # Store each coordinate-distance dictionary within iff_data\n",
    "                    iff_data[i][distance_from_center] = {\n",
    "                        'afferent_type': self.aff_type,\n",
    "                        'x_position': x_pos[0],\n",
    "                        'y_position': y_pos[0],\n",
    "                        'num_of_spikes': spikes[0],\n",
    "                        'mean_firing_frequency': mean_firing_frequency[0],\n",
    "                        'peak_firing_frequency': peak_firing_frequency[0],\n",
    "                        'first_spike_time': first_spike_time[0],\n",
    "                        'last_spike_time': last_spike_time[0]\n",
    "                    }\n",
    "            else:\n",
    "                logging.warning(\"STRESS VALUE COULD NOT BE INDEXED\")\n",
    "        self.stress_data = stress_data\n",
    "        self.results = iff_data\n",
    "\n",
    "        \n",
    "\n",
    "    def aggregate_results(self):\n",
    "        df = pd.DataFrame(self.results)\n",
    "        file_path = f\"generated_csv_files/{self.vf_tip_size}_vf_popul_model.csv\"\n",
    "        df.to_csv(file_path, index = False)\n",
    "        return file_path \n",
    "    \n",
    "    def plot(self):\n",
    "        \"\"\"\n",
    "        Plots the iffs on a grid for the original n points, the magniude of the peak firing\n",
    "        frequency directly affects the size of the circle plotted, and the opacity\n",
    "        \"\"\"\n",
    "        #colors for differnet afferents\n",
    "        colors = {'SA': '#31a354', 'RA': '#3182bd'}\n",
    "        plt.figure(figsize=(10, 5))\n",
    "\n",
    "        # Plot the stimulus locations as circles\n",
    "        x_positions = self.results.get(\"x_position\")\n",
    "        y_positions = self.results.get(\"y_position\")\n",
    "        mean_iffs = self.results.get(\"mean_firing_frequency\")\n",
    "        peak_iffs = self.results.get(\"peak_firing_frequency\")\n",
    "        \n",
    "        x_positions = [float(value) for value in x_positions]\n",
    "        y_positions = [float(value) for value in y_positions]\n",
    "        #scaling peak_iffs so it looks better when plotting\n",
    "    \n",
    "        alphas = [float(value)/max(peak_iffs) for value in peak_iffs]\n",
    "\n",
    "        #Scatter plot\n",
    "                # Plot the stimulus locations as circles\n",
    "        for x_pos, y_pos, radius, alpha in zip(x_positions, y_positions, peak_iffs, alphas):\n",
    "            plt.gca().add_patch(\n",
    "                patches.Circle((x_pos, y_pos), radius*2, edgecolor='black', facecolor = colors.get(self.aff_type) , linewidth=1, alpha = 0.5)\n",
    "            )\n",
    "        plt.xlabel('Length (mm)')\n",
    "        plt.ylabel('Width (mm)')\n",
    "        plt.title(\"VF Afferent Stress Distribution\")\n",
    "        plt.gca().set_aspect('equal', adjustable='box')\n",
    "        plt.xlim(min(x_positions) - 1, max(x_positions) + 1)\n",
    "        plt.ylim(min(y_positions) - 1, max(y_positions) + 1)\n",
    "        plt.savefig(f\"vf_graphs/aggregated_results_on_grid/{self.vf_tip_size}_{self.aff_type}_constant_opacity.png\")\n",
    "\n",
    "    def get_iffs(self):\n",
    "        return self.results\n",
    "    \n",
    "    def get_stress_traces(self):\n",
    "        return self.stress_data\n"
   ]
  },
  {
   "cell_type": "code",
   "execution_count": 143,
   "metadata": {},
   "outputs": [
    {
     "name": "stdout",
     "output_type": "stream",
     "text": [
      "0     8.8687\n",
      "1    4.40813\n",
      "Name: 1, dtype: object\n"
     ]
    },
    {
     "name": "stderr",
     "output_type": "stream",
     "text": [
      "WARNING:root:SPIKES COULD NOT BE GENERATED FOR 4.17\n"
     ]
    },
    {
     "name": "stdout",
     "output_type": "stream",
     "text": [
      "0    3.27558\n",
      "1     1.9138\n",
      "Name: 2, dtype: object\n"
     ]
    },
    {
     "name": "stderr",
     "output_type": "stream",
     "text": [
      "WARNING:root:SPIKES COULD NOT BE GENERATED FOR 4.17\n",
      "WARNING:root:SPIKES COULD NOT BE GENERATED FOR 4.17\n",
      "WARNING:root:SPIKES COULD NOT BE GENERATED FOR 4.17\n",
      "WARNING:root:SPIKES COULD NOT BE GENERATED FOR 4.17\n",
      "WARNING:root:SPIKES COULD NOT BE GENERATED FOR 4.17\n",
      "WARNING:root:SPIKES COULD NOT BE GENERATED FOR 4.17\n",
      "WARNING:root:SPIKES COULD NOT BE GENERATED FOR 4.17\n",
      "WARNING:root:SPIKES COULD NOT BE GENERATED FOR 4.17\n",
      "WARNING:root:SPIKES COULD NOT BE GENERATED FOR 4.17\n",
      "WARNING:root:SPIKES COULD NOT BE GENERATED FOR 4.17\n",
      "WARNING:root:SPIKES COULD NOT BE GENERATED FOR 4.17\n",
      "WARNING:root:SPIKES COULD NOT BE GENERATED FOR 4.17\n",
      "WARNING:root:SPIKES COULD NOT BE GENERATED FOR 4.17\n",
      "WARNING:root:SPIKES COULD NOT BE GENERATED FOR 4.17\n",
      "WARNING:root:SPIKES COULD NOT BE GENERATED FOR 4.17\n",
      "WARNING:root:SPIKES COULD NOT BE GENERATED FOR 4.17\n",
      "WARNING:root:SPIKES COULD NOT BE GENERATED FOR 4.17\n"
     ]
    },
    {
     "name": "stdout",
     "output_type": "stream",
     "text": [
      "0    5.22687\n",
      "1    2.46636\n",
      "Name: 3, dtype: object\n"
     ]
    },
    {
     "name": "stderr",
     "output_type": "stream",
     "text": [
      "WARNING:root:SPIKES COULD NOT BE GENERATED FOR 4.17\n",
      "WARNING:root:SPIKES COULD NOT BE GENERATED FOR 4.17\n",
      "WARNING:root:SPIKES COULD NOT BE GENERATED FOR 4.17\n",
      "WARNING:root:SPIKES COULD NOT BE GENERATED FOR 4.17\n",
      "WARNING:root:SPIKES COULD NOT BE GENERATED FOR 4.17\n",
      "WARNING:root:SPIKES COULD NOT BE GENERATED FOR 4.17\n",
      "WARNING:root:SPIKES COULD NOT BE GENERATED FOR 4.17\n",
      "WARNING:root:SPIKES COULD NOT BE GENERATED FOR 4.17\n",
      "WARNING:root:SPIKES COULD NOT BE GENERATED FOR 4.17\n",
      "WARNING:root:SPIKES COULD NOT BE GENERATED FOR 4.17\n",
      "WARNING:root:SPIKES COULD NOT BE GENERATED FOR 4.17\n",
      "WARNING:root:SPIKES COULD NOT BE GENERATED FOR 4.17\n",
      "WARNING:root:SPIKES COULD NOT BE GENERATED FOR 4.17\n",
      "WARNING:root:SPIKES COULD NOT BE GENERATED FOR 4.17\n",
      "WARNING:root:SPIKES COULD NOT BE GENERATED FOR 4.17\n",
      "WARNING:root:SPIKES COULD NOT BE GENERATED FOR 4.17\n",
      "WARNING:root:SPIKES COULD NOT BE GENERATED FOR 4.17\n"
     ]
    },
    {
     "name": "stdout",
     "output_type": "stream",
     "text": [
      "0    7.48174\n",
      "1    1.18685\n",
      "Name: 4, dtype: object\n"
     ]
    },
    {
     "name": "stderr",
     "output_type": "stream",
     "text": [
      "WARNING:root:SPIKES COULD NOT BE GENERATED FOR 4.17\n",
      "WARNING:root:SPIKES COULD NOT BE GENERATED FOR 4.17\n",
      "WARNING:root:SPIKES COULD NOT BE GENERATED FOR 4.17\n",
      "WARNING:root:SPIKES COULD NOT BE GENERATED FOR 4.17\n",
      "WARNING:root:SPIKES COULD NOT BE GENERATED FOR 4.17\n",
      "WARNING:root:SPIKES COULD NOT BE GENERATED FOR 4.17\n",
      "WARNING:root:SPIKES COULD NOT BE GENERATED FOR 4.17\n",
      "WARNING:root:SPIKES COULD NOT BE GENERATED FOR 4.17\n",
      "WARNING:root:SPIKES COULD NOT BE GENERATED FOR 4.17\n",
      "WARNING:root:SPIKES COULD NOT BE GENERATED FOR 4.17\n",
      "WARNING:root:SPIKES COULD NOT BE GENERATED FOR 4.17\n",
      "WARNING:root:SPIKES COULD NOT BE GENERATED FOR 4.17\n",
      "WARNING:root:SPIKES COULD NOT BE GENERATED FOR 4.17\n",
      "WARNING:root:SPIKES COULD NOT BE GENERATED FOR 4.17\n",
      "WARNING:root:SPIKES COULD NOT BE GENERATED FOR 4.17\n",
      "WARNING:root:SPIKES COULD NOT BE GENERATED FOR 4.17\n",
      "WARNING:root:SPIKES COULD NOT BE GENERATED FOR 4.17\n",
      "WARNING:root:SPIKES COULD NOT BE GENERATED FOR 4.17\n",
      "WARNING:root:SPIKES COULD NOT BE GENERATED FOR 4.17\n"
     ]
    },
    {
     "name": "stdout",
     "output_type": "stream",
     "text": [
      "0     9.01573\n",
      "1    0.856866\n",
      "Name: 5, dtype: object\n"
     ]
    },
    {
     "name": "stderr",
     "output_type": "stream",
     "text": [
      "WARNING:root:SPIKES COULD NOT BE GENERATED FOR 4.17\n",
      "WARNING:root:SPIKES COULD NOT BE GENERATED FOR 4.17\n",
      "WARNING:root:SPIKES COULD NOT BE GENERATED FOR 4.17\n",
      "WARNING:root:SPIKES COULD NOT BE GENERATED FOR 4.17\n",
      "WARNING:root:SPIKES COULD NOT BE GENERATED FOR 4.17\n",
      "WARNING:root:SPIKES COULD NOT BE GENERATED FOR 4.17\n",
      "WARNING:root:SPIKES COULD NOT BE GENERATED FOR 4.17\n",
      "WARNING:root:SPIKES COULD NOT BE GENERATED FOR 4.17\n",
      "WARNING:root:SPIKES COULD NOT BE GENERATED FOR 4.17\n",
      "WARNING:root:SPIKES COULD NOT BE GENERATED FOR 4.17\n",
      "WARNING:root:SPIKES COULD NOT BE GENERATED FOR 4.17\n",
      "WARNING:root:SPIKES COULD NOT BE GENERATED FOR 4.17\n",
      "WARNING:root:SPIKES COULD NOT BE GENERATED FOR 4.17\n",
      "WARNING:root:SPIKES COULD NOT BE GENERATED FOR 4.17\n",
      "WARNING:root:SPIKES COULD NOT BE GENERATED FOR 4.17\n",
      "WARNING:root:SPIKES COULD NOT BE GENERATED FOR 4.17\n",
      "WARNING:root:SPIKES COULD NOT BE GENERATED FOR 4.17\n",
      "WARNING:root:SPIKES COULD NOT BE GENERATED FOR 4.17\n",
      "WARNING:root:SPIKES COULD NOT BE GENERATED FOR 4.17\n",
      "WARNING:root:SPIKES COULD NOT BE GENERATED FOR 4.17\n"
     ]
    },
    {
     "name": "stdout",
     "output_type": "stream",
     "text": [
      "0    10.9695\n",
      "1     1.0491\n",
      "Name: 6, dtype: object\n"
     ]
    },
    {
     "name": "stderr",
     "output_type": "stream",
     "text": [
      "WARNING:root:SPIKES COULD NOT BE GENERATED FOR 4.17\n",
      "WARNING:root:SPIKES COULD NOT BE GENERATED FOR 4.17\n",
      "WARNING:root:SPIKES COULD NOT BE GENERATED FOR 4.17\n",
      "WARNING:root:SPIKES COULD NOT BE GENERATED FOR 4.17\n",
      "WARNING:root:SPIKES COULD NOT BE GENERATED FOR 4.17\n",
      "WARNING:root:SPIKES COULD NOT BE GENERATED FOR 4.17\n",
      "WARNING:root:SPIKES COULD NOT BE GENERATED FOR 4.17\n",
      "WARNING:root:SPIKES COULD NOT BE GENERATED FOR 4.17\n",
      "WARNING:root:SPIKES COULD NOT BE GENERATED FOR 4.17\n",
      "WARNING:root:SPIKES COULD NOT BE GENERATED FOR 4.17\n",
      "WARNING:root:SPIKES COULD NOT BE GENERATED FOR 4.17\n",
      "WARNING:root:SPIKES COULD NOT BE GENERATED FOR 4.17\n",
      "WARNING:root:SPIKES COULD NOT BE GENERATED FOR 4.17\n",
      "WARNING:root:SPIKES COULD NOT BE GENERATED FOR 4.17\n",
      "WARNING:root:SPIKES COULD NOT BE GENERATED FOR 4.17\n",
      "WARNING:root:SPIKES COULD NOT BE GENERATED FOR 4.17\n",
      "WARNING:root:SPIKES COULD NOT BE GENERATED FOR 4.17\n",
      "WARNING:root:SPIKES COULD NOT BE GENERATED FOR 4.17\n",
      "WARNING:root:SPIKES COULD NOT BE GENERATED FOR 4.17\n",
      "WARNING:root:SPIKES COULD NOT BE GENERATED FOR 4.17\n",
      "WARNING:root:SPIKES COULD NOT BE GENERATED FOR 4.17\n"
     ]
    },
    {
     "name": "stdout",
     "output_type": "stream",
     "text": [
      "0    12.8036\n",
      "1    1.06466\n",
      "Name: 7, dtype: object\n"
     ]
    },
    {
     "name": "stderr",
     "output_type": "stream",
     "text": [
      "WARNING:root:SPIKES COULD NOT BE GENERATED FOR 4.17\n",
      "WARNING:root:SPIKES COULD NOT BE GENERATED FOR 4.17\n",
      "WARNING:root:SPIKES COULD NOT BE GENERATED FOR 4.17\n",
      "WARNING:root:SPIKES COULD NOT BE GENERATED FOR 4.17\n",
      "WARNING:root:SPIKES COULD NOT BE GENERATED FOR 4.17\n",
      "WARNING:root:SPIKES COULD NOT BE GENERATED FOR 4.17\n",
      "WARNING:root:SPIKES COULD NOT BE GENERATED FOR 4.17\n",
      "WARNING:root:SPIKES COULD NOT BE GENERATED FOR 4.17\n",
      "WARNING:root:SPIKES COULD NOT BE GENERATED FOR 4.17\n",
      "WARNING:root:SPIKES COULD NOT BE GENERATED FOR 4.17\n",
      "WARNING:root:SPIKES COULD NOT BE GENERATED FOR 4.17\n",
      "WARNING:root:SPIKES COULD NOT BE GENERATED FOR 4.17\n",
      "WARNING:root:SPIKES COULD NOT BE GENERATED FOR 4.17\n",
      "WARNING:root:SPIKES COULD NOT BE GENERATED FOR 4.17\n",
      "WARNING:root:SPIKES COULD NOT BE GENERATED FOR 4.17\n",
      "WARNING:root:SPIKES COULD NOT BE GENERATED FOR 4.17\n",
      "WARNING:root:SPIKES COULD NOT BE GENERATED FOR 4.17\n",
      "WARNING:root:SPIKES COULD NOT BE GENERATED FOR 4.17\n",
      "WARNING:root:SPIKES COULD NOT BE GENERATED FOR 4.17\n",
      "WARNING:root:SPIKES COULD NOT BE GENERATED FOR 4.17\n",
      "WARNING:root:SPIKES COULD NOT BE GENERATED FOR 4.17\n",
      "WARNING:root:SPIKES COULD NOT BE GENERATED FOR 4.17\n"
     ]
    },
    {
     "name": "stdout",
     "output_type": "stream",
     "text": [
      "0    14.8462\n",
      "1    1.20888\n",
      "Name: 8, dtype: object\n"
     ]
    },
    {
     "name": "stderr",
     "output_type": "stream",
     "text": [
      "WARNING:root:SPIKES COULD NOT BE GENERATED FOR 4.17\n",
      "WARNING:root:SPIKES COULD NOT BE GENERATED FOR 4.17\n",
      "WARNING:root:SPIKES COULD NOT BE GENERATED FOR 4.17\n",
      "WARNING:root:SPIKES COULD NOT BE GENERATED FOR 4.17\n",
      "WARNING:root:SPIKES COULD NOT BE GENERATED FOR 4.17\n",
      "WARNING:root:SPIKES COULD NOT BE GENERATED FOR 4.17\n",
      "WARNING:root:SPIKES COULD NOT BE GENERATED FOR 4.17\n",
      "WARNING:root:SPIKES COULD NOT BE GENERATED FOR 4.17\n",
      "WARNING:root:SPIKES COULD NOT BE GENERATED FOR 4.17\n",
      "WARNING:root:SPIKES COULD NOT BE GENERATED FOR 4.17\n",
      "WARNING:root:SPIKES COULD NOT BE GENERATED FOR 4.17\n",
      "WARNING:root:SPIKES COULD NOT BE GENERATED FOR 4.17\n",
      "WARNING:root:SPIKES COULD NOT BE GENERATED FOR 4.17\n",
      "WARNING:root:SPIKES COULD NOT BE GENERATED FOR 4.17\n",
      "WARNING:root:SPIKES COULD NOT BE GENERATED FOR 4.17\n",
      "WARNING:root:SPIKES COULD NOT BE GENERATED FOR 4.17\n",
      "WARNING:root:SPIKES COULD NOT BE GENERATED FOR 4.17\n",
      "WARNING:root:SPIKES COULD NOT BE GENERATED FOR 4.17\n",
      "WARNING:root:SPIKES COULD NOT BE GENERATED FOR 4.17\n",
      "WARNING:root:SPIKES COULD NOT BE GENERATED FOR 4.17\n",
      "WARNING:root:SPIKES COULD NOT BE GENERATED FOR 4.17\n",
      "WARNING:root:SPIKES COULD NOT BE GENERATED FOR 4.17\n"
     ]
    },
    {
     "name": "stdout",
     "output_type": "stream",
     "text": [
      "0    3.01684\n",
      "1    3.13266\n",
      "Name: 9, dtype: object\n"
     ]
    },
    {
     "name": "stderr",
     "output_type": "stream",
     "text": [
      "WARNING:root:SPIKES COULD NOT BE GENERATED FOR 4.17\n",
      "WARNING:root:SPIKES COULD NOT BE GENERATED FOR 4.17\n",
      "WARNING:root:SPIKES COULD NOT BE GENERATED FOR 4.17\n",
      "WARNING:root:SPIKES COULD NOT BE GENERATED FOR 4.17\n",
      "WARNING:root:SPIKES COULD NOT BE GENERATED FOR 4.17\n",
      "WARNING:root:SPIKES COULD NOT BE GENERATED FOR 4.17\n",
      "WARNING:root:SPIKES COULD NOT BE GENERATED FOR 4.17\n",
      "WARNING:root:SPIKES COULD NOT BE GENERATED FOR 4.17\n",
      "WARNING:root:SPIKES COULD NOT BE GENERATED FOR 4.17\n",
      "WARNING:root:SPIKES COULD NOT BE GENERATED FOR 4.17\n",
      "WARNING:root:SPIKES COULD NOT BE GENERATED FOR 4.17\n",
      "WARNING:root:SPIKES COULD NOT BE GENERATED FOR 4.17\n",
      "WARNING:root:SPIKES COULD NOT BE GENERATED FOR 4.17\n",
      "WARNING:root:SPIKES COULD NOT BE GENERATED FOR 4.17\n",
      "WARNING:root:SPIKES COULD NOT BE GENERATED FOR 4.17\n",
      "WARNING:root:SPIKES COULD NOT BE GENERATED FOR 4.17\n",
      "WARNING:root:SPIKES COULD NOT BE GENERATED FOR 4.17\n",
      "WARNING:root:SPIKES COULD NOT BE GENERATED FOR 4.17\n",
      "WARNING:root:SPIKES COULD NOT BE GENERATED FOR 4.17\n",
      "WARNING:root:SPIKES COULD NOT BE GENERATED FOR 4.17\n",
      "WARNING:root:SPIKES COULD NOT BE GENERATED FOR 4.17\n"
     ]
    },
    {
     "name": "stdout",
     "output_type": "stream",
     "text": [
      "0    5.00062\n",
      "1    3.02293\n",
      "Name: 10, dtype: object\n"
     ]
    },
    {
     "name": "stderr",
     "output_type": "stream",
     "text": [
      "WARNING:root:SPIKES COULD NOT BE GENERATED FOR 4.17\n",
      "WARNING:root:SPIKES COULD NOT BE GENERATED FOR 4.17\n",
      "WARNING:root:SPIKES COULD NOT BE GENERATED FOR 4.17\n",
      "WARNING:root:SPIKES COULD NOT BE GENERATED FOR 4.17\n",
      "WARNING:root:SPIKES COULD NOT BE GENERATED FOR 4.17\n",
      "WARNING:root:SPIKES COULD NOT BE GENERATED FOR 4.17\n",
      "WARNING:root:SPIKES COULD NOT BE GENERATED FOR 4.17\n",
      "WARNING:root:SPIKES COULD NOT BE GENERATED FOR 4.17\n",
      "WARNING:root:SPIKES COULD NOT BE GENERATED FOR 4.17\n",
      "WARNING:root:SPIKES COULD NOT BE GENERATED FOR 4.17\n",
      "WARNING:root:SPIKES COULD NOT BE GENERATED FOR 4.17\n",
      "WARNING:root:SPIKES COULD NOT BE GENERATED FOR 4.17\n",
      "WARNING:root:SPIKES COULD NOT BE GENERATED FOR 4.17\n",
      "WARNING:root:SPIKES COULD NOT BE GENERATED FOR 4.17\n",
      "WARNING:root:SPIKES COULD NOT BE GENERATED FOR 4.17\n",
      "WARNING:root:SPIKES COULD NOT BE GENERATED FOR 4.17\n"
     ]
    },
    {
     "name": "stdout",
     "output_type": "stream",
     "text": [
      "0    7.15666\n",
      "1    3.09004\n",
      "Name: 11, dtype: object\n"
     ]
    },
    {
     "name": "stderr",
     "output_type": "stream",
     "text": [
      "WARNING:root:SPIKES COULD NOT BE GENERATED FOR 4.17\n",
      "WARNING:root:SPIKES COULD NOT BE GENERATED FOR 4.17\n",
      "WARNING:root:SPIKES COULD NOT BE GENERATED FOR 4.17\n",
      "WARNING:root:SPIKES COULD NOT BE GENERATED FOR 4.17\n",
      "WARNING:root:SPIKES COULD NOT BE GENERATED FOR 4.17\n",
      "WARNING:root:SPIKES COULD NOT BE GENERATED FOR 4.17\n",
      "WARNING:root:SPIKES COULD NOT BE GENERATED FOR 4.17\n",
      "WARNING:root:SPIKES COULD NOT BE GENERATED FOR 4.17\n",
      "WARNING:root:SPIKES COULD NOT BE GENERATED FOR 4.17\n",
      "WARNING:root:SPIKES COULD NOT BE GENERATED FOR 4.17\n",
      "WARNING:root:SPIKES COULD NOT BE GENERATED FOR 4.17\n",
      "WARNING:root:SPIKES COULD NOT BE GENERATED FOR 4.17\n",
      "WARNING:root:SPIKES COULD NOT BE GENERATED FOR 4.17\n",
      "WARNING:root:SPIKES COULD NOT BE GENERATED FOR 4.17\n",
      "WARNING:root:SPIKES COULD NOT BE GENERATED FOR 4.17\n",
      "WARNING:root:SPIKES COULD NOT BE GENERATED FOR 4.17\n",
      "WARNING:root:SPIKES COULD NOT BE GENERATED FOR 4.17\n",
      "WARNING:root:SPIKES COULD NOT BE GENERATED FOR 4.17\n",
      "WARNING:root:SPIKES COULD NOT BE GENERATED FOR 4.17\n"
     ]
    },
    {
     "name": "stdout",
     "output_type": "stream",
     "text": [
      "0    9.11605\n",
      "1    2.99426\n",
      "Name: 12, dtype: object\n"
     ]
    },
    {
     "name": "stderr",
     "output_type": "stream",
     "text": [
      "WARNING:root:SPIKES COULD NOT BE GENERATED FOR 4.17\n",
      "WARNING:root:SPIKES COULD NOT BE GENERATED FOR 4.17\n",
      "WARNING:root:SPIKES COULD NOT BE GENERATED FOR 4.17\n",
      "WARNING:root:SPIKES COULD NOT BE GENERATED FOR 4.17\n",
      "WARNING:root:SPIKES COULD NOT BE GENERATED FOR 4.17\n",
      "WARNING:root:SPIKES COULD NOT BE GENERATED FOR 4.17\n",
      "WARNING:root:SPIKES COULD NOT BE GENERATED FOR 4.17\n",
      "WARNING:root:SPIKES COULD NOT BE GENERATED FOR 4.17\n",
      "WARNING:root:SPIKES COULD NOT BE GENERATED FOR 4.17\n",
      "WARNING:root:SPIKES COULD NOT BE GENERATED FOR 4.17\n",
      "WARNING:root:SPIKES COULD NOT BE GENERATED FOR 4.17\n",
      "WARNING:root:SPIKES COULD NOT BE GENERATED FOR 4.17\n",
      "WARNING:root:SPIKES COULD NOT BE GENERATED FOR 4.17\n",
      "WARNING:root:SPIKES COULD NOT BE GENERATED FOR 4.17\n",
      "WARNING:root:SPIKES COULD NOT BE GENERATED FOR 4.17\n",
      "WARNING:root:SPIKES COULD NOT BE GENERATED FOR 4.17\n",
      "WARNING:root:SPIKES COULD NOT BE GENERATED FOR 4.17\n",
      "WARNING:root:SPIKES COULD NOT BE GENERATED FOR 4.17\n",
      "WARNING:root:SPIKES COULD NOT BE GENERATED FOR 4.17\n",
      "WARNING:root:SPIKES COULD NOT BE GENERATED FOR 4.17\n",
      "WARNING:root:SPIKES COULD NOT BE GENERATED FOR 4.17\n",
      "WARNING:root:SPIKES COULD NOT BE GENERATED FOR 4.17\n"
     ]
    },
    {
     "name": "stdout",
     "output_type": "stream",
     "text": [
      "0    11.0195\n",
      "1    2.98882\n",
      "Name: 13, dtype: object\n"
     ]
    },
    {
     "name": "stderr",
     "output_type": "stream",
     "text": [
      "WARNING:root:SPIKES COULD NOT BE GENERATED FOR 4.17\n",
      "WARNING:root:SPIKES COULD NOT BE GENERATED FOR 4.17\n",
      "WARNING:root:SPIKES COULD NOT BE GENERATED FOR 4.17\n",
      "WARNING:root:SPIKES COULD NOT BE GENERATED FOR 4.17\n",
      "WARNING:root:SPIKES COULD NOT BE GENERATED FOR 4.17\n",
      "WARNING:root:SPIKES COULD NOT BE GENERATED FOR 4.17\n",
      "WARNING:root:SPIKES COULD NOT BE GENERATED FOR 4.17\n",
      "WARNING:root:SPIKES COULD NOT BE GENERATED FOR 4.17\n",
      "WARNING:root:SPIKES COULD NOT BE GENERATED FOR 4.17\n",
      "WARNING:root:SPIKES COULD NOT BE GENERATED FOR 4.17\n",
      "WARNING:root:SPIKES COULD NOT BE GENERATED FOR 4.17\n",
      "WARNING:root:SPIKES COULD NOT BE GENERATED FOR 4.17\n",
      "WARNING:root:SPIKES COULD NOT BE GENERATED FOR 4.17\n",
      "WARNING:root:SPIKES COULD NOT BE GENERATED FOR 4.17\n",
      "WARNING:root:SPIKES COULD NOT BE GENERATED FOR 4.17\n",
      "WARNING:root:SPIKES COULD NOT BE GENERATED FOR 4.17\n",
      "WARNING:root:SPIKES COULD NOT BE GENERATED FOR 4.17\n",
      "WARNING:root:SPIKES COULD NOT BE GENERATED FOR 4.17\n",
      "WARNING:root:SPIKES COULD NOT BE GENERATED FOR 4.17\n",
      "WARNING:root:SPIKES COULD NOT BE GENERATED FOR 4.17\n",
      "WARNING:root:SPIKES COULD NOT BE GENERATED FOR 4.17\n",
      "WARNING:root:SPIKES COULD NOT BE GENERATED FOR 4.17\n",
      "WARNING:root:SPIKES COULD NOT BE GENERATED FOR 4.17\n",
      "WARNING:root:SPIKES COULD NOT BE GENERATED FOR 4.17\n"
     ]
    },
    {
     "name": "stdout",
     "output_type": "stream",
     "text": [
      "0    12.9342\n",
      "1    3.06505\n",
      "Name: 14, dtype: object\n"
     ]
    },
    {
     "name": "stderr",
     "output_type": "stream",
     "text": [
      "WARNING:root:SPIKES COULD NOT BE GENERATED FOR 4.17\n",
      "WARNING:root:SPIKES COULD NOT BE GENERATED FOR 4.17\n",
      "WARNING:root:SPIKES COULD NOT BE GENERATED FOR 4.17\n",
      "WARNING:root:SPIKES COULD NOT BE GENERATED FOR 4.17\n",
      "WARNING:root:SPIKES COULD NOT BE GENERATED FOR 4.17\n",
      "WARNING:root:SPIKES COULD NOT BE GENERATED FOR 4.17\n",
      "WARNING:root:SPIKES COULD NOT BE GENERATED FOR 4.17\n",
      "WARNING:root:SPIKES COULD NOT BE GENERATED FOR 4.17\n",
      "WARNING:root:SPIKES COULD NOT BE GENERATED FOR 4.17\n",
      "WARNING:root:SPIKES COULD NOT BE GENERATED FOR 4.17\n",
      "WARNING:root:SPIKES COULD NOT BE GENERATED FOR 4.17\n",
      "WARNING:root:SPIKES COULD NOT BE GENERATED FOR 4.17\n",
      "WARNING:root:SPIKES COULD NOT BE GENERATED FOR 4.17\n",
      "WARNING:root:SPIKES COULD NOT BE GENERATED FOR 4.17\n",
      "WARNING:root:SPIKES COULD NOT BE GENERATED FOR 4.17\n",
      "WARNING:root:SPIKES COULD NOT BE GENERATED FOR 4.17\n",
      "WARNING:root:SPIKES COULD NOT BE GENERATED FOR 4.17\n",
      "WARNING:root:SPIKES COULD NOT BE GENERATED FOR 4.17\n",
      "WARNING:root:SPIKES COULD NOT BE GENERATED FOR 4.17\n",
      "WARNING:root:SPIKES COULD NOT BE GENERATED FOR 4.17\n",
      "WARNING:root:SPIKES COULD NOT BE GENERATED FOR 4.17\n",
      "WARNING:root:SPIKES COULD NOT BE GENERATED FOR 4.17\n",
      "WARNING:root:SPIKES COULD NOT BE GENERATED FOR 4.17\n"
     ]
    },
    {
     "name": "stdout",
     "output_type": "stream",
     "text": [
      "0    14.9642\n",
      "1    2.96046\n",
      "Name: 15, dtype: object\n"
     ]
    },
    {
     "name": "stderr",
     "output_type": "stream",
     "text": [
      "WARNING:root:SPIKES COULD NOT BE GENERATED FOR 4.17\n",
      "WARNING:root:SPIKES COULD NOT BE GENERATED FOR 4.17\n",
      "WARNING:root:SPIKES COULD NOT BE GENERATED FOR 4.17\n",
      "WARNING:root:SPIKES COULD NOT BE GENERATED FOR 4.17\n",
      "WARNING:root:SPIKES COULD NOT BE GENERATED FOR 4.17\n",
      "WARNING:root:SPIKES COULD NOT BE GENERATED FOR 4.17\n",
      "WARNING:root:SPIKES COULD NOT BE GENERATED FOR 4.17\n",
      "WARNING:root:SPIKES COULD NOT BE GENERATED FOR 4.17\n",
      "WARNING:root:SPIKES COULD NOT BE GENERATED FOR 4.17\n",
      "WARNING:root:SPIKES COULD NOT BE GENERATED FOR 4.17\n",
      "WARNING:root:SPIKES COULD NOT BE GENERATED FOR 4.17\n",
      "WARNING:root:SPIKES COULD NOT BE GENERATED FOR 4.17\n",
      "WARNING:root:SPIKES COULD NOT BE GENERATED FOR 4.17\n",
      "WARNING:root:SPIKES COULD NOT BE GENERATED FOR 4.17\n",
      "WARNING:root:SPIKES COULD NOT BE GENERATED FOR 4.17\n",
      "WARNING:root:SPIKES COULD NOT BE GENERATED FOR 4.17\n",
      "WARNING:root:SPIKES COULD NOT BE GENERATED FOR 4.17\n",
      "WARNING:root:SPIKES COULD NOT BE GENERATED FOR 4.17\n",
      "WARNING:root:SPIKES COULD NOT BE GENERATED FOR 4.17\n",
      "WARNING:root:SPIKES COULD NOT BE GENERATED FOR 4.17\n",
      "WARNING:root:SPIKES COULD NOT BE GENERATED FOR 4.17\n",
      "WARNING:root:SPIKES COULD NOT BE GENERATED FOR 4.17\n"
     ]
    },
    {
     "name": "stdout",
     "output_type": "stream",
     "text": [
      "0    2.82099\n",
      "1    4.26093\n",
      "Name: 16, dtype: object\n"
     ]
    },
    {
     "name": "stderr",
     "output_type": "stream",
     "text": [
      "WARNING:root:SPIKES COULD NOT BE GENERATED FOR 4.17\n",
      "WARNING:root:SPIKES COULD NOT BE GENERATED FOR 4.17\n",
      "WARNING:root:SPIKES COULD NOT BE GENERATED FOR 4.17\n",
      "WARNING:root:SPIKES COULD NOT BE GENERATED FOR 4.17\n",
      "WARNING:root:SPIKES COULD NOT BE GENERATED FOR 4.17\n",
      "WARNING:root:SPIKES COULD NOT BE GENERATED FOR 4.17\n",
      "WARNING:root:SPIKES COULD NOT BE GENERATED FOR 4.17\n",
      "WARNING:root:SPIKES COULD NOT BE GENERATED FOR 4.17\n",
      "WARNING:root:SPIKES COULD NOT BE GENERATED FOR 4.17\n",
      "WARNING:root:SPIKES COULD NOT BE GENERATED FOR 4.17\n",
      "WARNING:root:SPIKES COULD NOT BE GENERATED FOR 4.17\n",
      "WARNING:root:SPIKES COULD NOT BE GENERATED FOR 4.17\n",
      "WARNING:root:SPIKES COULD NOT BE GENERATED FOR 4.17\n",
      "WARNING:root:SPIKES COULD NOT BE GENERATED FOR 4.17\n",
      "WARNING:root:SPIKES COULD NOT BE GENERATED FOR 4.17\n",
      "WARNING:root:SPIKES COULD NOT BE GENERATED FOR 4.17\n",
      "WARNING:root:SPIKES COULD NOT BE GENERATED FOR 4.17\n",
      "WARNING:root:SPIKES COULD NOT BE GENERATED FOR 4.17\n",
      "WARNING:root:SPIKES COULD NOT BE GENERATED FOR 4.17\n"
     ]
    },
    {
     "name": "stdout",
     "output_type": "stream",
     "text": [
      "0    4.95842\n",
      "1    4.93559\n",
      "Name: 17, dtype: object\n"
     ]
    },
    {
     "name": "stderr",
     "output_type": "stream",
     "text": [
      "WARNING:root:SPIKES COULD NOT BE GENERATED FOR 4.17\n",
      "WARNING:root:SPIKES COULD NOT BE GENERATED FOR 4.17\n",
      "WARNING:root:SPIKES COULD NOT BE GENERATED FOR 4.17\n",
      "WARNING:root:SPIKES COULD NOT BE GENERATED FOR 4.17\n",
      "WARNING:root:SPIKES COULD NOT BE GENERATED FOR 4.17\n",
      "WARNING:root:SPIKES COULD NOT BE GENERATED FOR 4.17\n",
      "WARNING:root:SPIKES COULD NOT BE GENERATED FOR 4.17\n",
      "WARNING:root:SPIKES COULD NOT BE GENERATED FOR 4.17\n",
      "WARNING:root:SPIKES COULD NOT BE GENERATED FOR 4.17\n",
      "WARNING:root:SPIKES COULD NOT BE GENERATED FOR 4.17\n",
      "WARNING:root:SPIKES COULD NOT BE GENERATED FOR 4.17\n",
      "WARNING:root:SPIKES COULD NOT BE GENERATED FOR 4.17\n",
      "WARNING:root:SPIKES COULD NOT BE GENERATED FOR 4.17\n",
      "WARNING:root:SPIKES COULD NOT BE GENERATED FOR 4.17\n",
      "WARNING:root:SPIKES COULD NOT BE GENERATED FOR 4.17\n",
      "WARNING:root:SPIKES COULD NOT BE GENERATED FOR 4.17\n",
      "WARNING:root:SPIKES COULD NOT BE GENERATED FOR 4.17\n",
      "WARNING:root:SPIKES COULD NOT BE GENERATED FOR 4.17\n"
     ]
    },
    {
     "name": "stdout",
     "output_type": "stream",
     "text": [
      "0    7.15817\n",
      "1    5.22773\n",
      "Name: 18, dtype: object\n"
     ]
    },
    {
     "name": "stderr",
     "output_type": "stream",
     "text": [
      "WARNING:root:SPIKES COULD NOT BE GENERATED FOR 4.17\n",
      "WARNING:root:SPIKES COULD NOT BE GENERATED FOR 4.17\n",
      "WARNING:root:SPIKES COULD NOT BE GENERATED FOR 4.17\n",
      "WARNING:root:SPIKES COULD NOT BE GENERATED FOR 4.17\n",
      "WARNING:root:SPIKES COULD NOT BE GENERATED FOR 4.17\n",
      "WARNING:root:SPIKES COULD NOT BE GENERATED FOR 4.17\n",
      "WARNING:root:SPIKES COULD NOT BE GENERATED FOR 4.17\n",
      "WARNING:root:SPIKES COULD NOT BE GENERATED FOR 4.17\n",
      "WARNING:root:SPIKES COULD NOT BE GENERATED FOR 4.17\n",
      "WARNING:root:SPIKES COULD NOT BE GENERATED FOR 4.17\n",
      "WARNING:root:SPIKES COULD NOT BE GENERATED FOR 4.17\n",
      "WARNING:root:SPIKES COULD NOT BE GENERATED FOR 4.17\n",
      "WARNING:root:SPIKES COULD NOT BE GENERATED FOR 4.17\n",
      "WARNING:root:SPIKES COULD NOT BE GENERATED FOR 4.17\n",
      "WARNING:root:SPIKES COULD NOT BE GENERATED FOR 4.17\n"
     ]
    },
    {
     "name": "stdout",
     "output_type": "stream",
     "text": [
      "0    9.14525\n",
      "1    5.09509\n",
      "Name: 19, dtype: object\n"
     ]
    },
    {
     "name": "stderr",
     "output_type": "stream",
     "text": [
      "WARNING:root:SPIKES COULD NOT BE GENERATED FOR 4.17\n",
      "WARNING:root:SPIKES COULD NOT BE GENERATED FOR 4.17\n",
      "WARNING:root:SPIKES COULD NOT BE GENERATED FOR 4.17\n",
      "WARNING:root:SPIKES COULD NOT BE GENERATED FOR 4.17\n",
      "WARNING:root:SPIKES COULD NOT BE GENERATED FOR 4.17\n",
      "WARNING:root:SPIKES COULD NOT BE GENERATED FOR 4.17\n",
      "WARNING:root:SPIKES COULD NOT BE GENERATED FOR 4.17\n",
      "WARNING:root:SPIKES COULD NOT BE GENERATED FOR 4.17\n",
      "WARNING:root:SPIKES COULD NOT BE GENERATED FOR 4.17\n",
      "WARNING:root:SPIKES COULD NOT BE GENERATED FOR 4.17\n",
      "WARNING:root:SPIKES COULD NOT BE GENERATED FOR 4.17\n",
      "WARNING:root:SPIKES COULD NOT BE GENERATED FOR 4.17\n"
     ]
    },
    {
     "name": "stdout",
     "output_type": "stream",
     "text": [
      "0    10.9569\n",
      "1    4.98982\n",
      "Name: 20, dtype: object\n"
     ]
    },
    {
     "name": "stderr",
     "output_type": "stream",
     "text": [
      "WARNING:root:SPIKES COULD NOT BE GENERATED FOR 4.17\n",
      "WARNING:root:SPIKES COULD NOT BE GENERATED FOR 4.17\n",
      "WARNING:root:SPIKES COULD NOT BE GENERATED FOR 4.17\n",
      "WARNING:root:SPIKES COULD NOT BE GENERATED FOR 4.17\n",
      "WARNING:root:SPIKES COULD NOT BE GENERATED FOR 4.17\n",
      "WARNING:root:SPIKES COULD NOT BE GENERATED FOR 4.17\n",
      "WARNING:root:SPIKES COULD NOT BE GENERATED FOR 4.17\n",
      "WARNING:root:SPIKES COULD NOT BE GENERATED FOR 4.17\n",
      "WARNING:root:SPIKES COULD NOT BE GENERATED FOR 4.17\n",
      "WARNING:root:SPIKES COULD NOT BE GENERATED FOR 4.17\n",
      "WARNING:root:SPIKES COULD NOT BE GENERATED FOR 4.17\n",
      "WARNING:root:SPIKES COULD NOT BE GENERATED FOR 4.17\n",
      "WARNING:root:SPIKES COULD NOT BE GENERATED FOR 4.17\n",
      "WARNING:root:SPIKES COULD NOT BE GENERATED FOR 4.17\n",
      "WARNING:root:SPIKES COULD NOT BE GENERATED FOR 4.17\n",
      "WARNING:root:SPIKES COULD NOT BE GENERATED FOR 4.17\n",
      "WARNING:root:SPIKES COULD NOT BE GENERATED FOR 4.17\n",
      "WARNING:root:SPIKES COULD NOT BE GENERATED FOR 4.17\n",
      "WARNING:root:SPIKES COULD NOT BE GENERATED FOR 4.17\n",
      "WARNING:root:SPIKES COULD NOT BE GENERATED FOR 4.17\n",
      "WARNING:root:SPIKES COULD NOT BE GENERATED FOR 4.17\n",
      "WARNING:root:SPIKES COULD NOT BE GENERATED FOR 4.17\n",
      "WARNING:root:SPIKES COULD NOT BE GENERATED FOR 4.17\n"
     ]
    },
    {
     "name": "stdout",
     "output_type": "stream",
     "text": [
      "0    13.0159\n",
      "1    4.95923\n",
      "Name: 21, dtype: object\n"
     ]
    },
    {
     "name": "stderr",
     "output_type": "stream",
     "text": [
      "WARNING:root:SPIKES COULD NOT BE GENERATED FOR 4.17\n",
      "WARNING:root:SPIKES COULD NOT BE GENERATED FOR 4.17\n",
      "WARNING:root:SPIKES COULD NOT BE GENERATED FOR 4.17\n",
      "WARNING:root:SPIKES COULD NOT BE GENERATED FOR 4.17\n",
      "WARNING:root:SPIKES COULD NOT BE GENERATED FOR 4.17\n",
      "WARNING:root:SPIKES COULD NOT BE GENERATED FOR 4.17\n",
      "WARNING:root:SPIKES COULD NOT BE GENERATED FOR 4.17\n",
      "WARNING:root:SPIKES COULD NOT BE GENERATED FOR 4.17\n",
      "WARNING:root:SPIKES COULD NOT BE GENERATED FOR 4.17\n",
      "WARNING:root:SPIKES COULD NOT BE GENERATED FOR 4.17\n",
      "WARNING:root:SPIKES COULD NOT BE GENERATED FOR 4.17\n",
      "WARNING:root:SPIKES COULD NOT BE GENERATED FOR 4.17\n",
      "WARNING:root:SPIKES COULD NOT BE GENERATED FOR 4.17\n",
      "WARNING:root:SPIKES COULD NOT BE GENERATED FOR 4.17\n",
      "WARNING:root:SPIKES COULD NOT BE GENERATED FOR 4.17\n",
      "WARNING:root:SPIKES COULD NOT BE GENERATED FOR 4.17\n",
      "WARNING:root:SPIKES COULD NOT BE GENERATED FOR 4.17\n",
      "WARNING:root:SPIKES COULD NOT BE GENERATED FOR 4.17\n",
      "WARNING:root:SPIKES COULD NOT BE GENERATED FOR 4.17\n",
      "WARNING:root:SPIKES COULD NOT BE GENERATED FOR 4.17\n",
      "WARNING:root:SPIKES COULD NOT BE GENERATED FOR 4.17\n",
      "WARNING:root:SPIKES COULD NOT BE GENERATED FOR 4.17\n",
      "WARNING:root:SPIKES COULD NOT BE GENERATED FOR 4.17\n",
      "WARNING:root:SPIKES COULD NOT BE GENERATED FOR 4.17\n"
     ]
    },
    {
     "name": "stdout",
     "output_type": "stream",
     "text": [
      "0    14.9892\n",
      "1    5.03144\n",
      "Name: 22, dtype: object\n"
     ]
    },
    {
     "name": "stderr",
     "output_type": "stream",
     "text": [
      "WARNING:root:SPIKES COULD NOT BE GENERATED FOR 4.17\n",
      "WARNING:root:SPIKES COULD NOT BE GENERATED FOR 4.17\n",
      "WARNING:root:SPIKES COULD NOT BE GENERATED FOR 4.17\n",
      "WARNING:root:SPIKES COULD NOT BE GENERATED FOR 4.17\n",
      "WARNING:root:SPIKES COULD NOT BE GENERATED FOR 4.17\n",
      "WARNING:root:SPIKES COULD NOT BE GENERATED FOR 4.17\n",
      "WARNING:root:SPIKES COULD NOT BE GENERATED FOR 4.17\n",
      "WARNING:root:SPIKES COULD NOT BE GENERATED FOR 4.17\n",
      "WARNING:root:SPIKES COULD NOT BE GENERATED FOR 4.17\n",
      "WARNING:root:SPIKES COULD NOT BE GENERATED FOR 4.17\n",
      "WARNING:root:SPIKES COULD NOT BE GENERATED FOR 4.17\n",
      "WARNING:root:SPIKES COULD NOT BE GENERATED FOR 4.17\n",
      "WARNING:root:SPIKES COULD NOT BE GENERATED FOR 4.17\n",
      "WARNING:root:SPIKES COULD NOT BE GENERATED FOR 4.17\n",
      "WARNING:root:SPIKES COULD NOT BE GENERATED FOR 4.17\n",
      "WARNING:root:SPIKES COULD NOT BE GENERATED FOR 4.17\n",
      "WARNING:root:SPIKES COULD NOT BE GENERATED FOR 4.17\n",
      "WARNING:root:SPIKES COULD NOT BE GENERATED FOR 4.17\n",
      "WARNING:root:SPIKES COULD NOT BE GENERATED FOR 4.17\n",
      "WARNING:root:SPIKES COULD NOT BE GENERATED FOR 4.17\n",
      "WARNING:root:SPIKES COULD NOT BE GENERATED FOR 4.17\n",
      "WARNING:root:SPIKES COULD NOT BE GENERATED FOR 4.17\n",
      "WARNING:root:SPIKES COULD NOT BE GENERATED FOR 4.17\n"
     ]
    },
    {
     "name": "stdout",
     "output_type": "stream",
     "text": [
      "0    2.99645\n",
      "1    6.99667\n",
      "Name: 23, dtype: object\n"
     ]
    },
    {
     "name": "stderr",
     "output_type": "stream",
     "text": [
      "WARNING:root:SPIKES COULD NOT BE GENERATED FOR 4.17\n",
      "WARNING:root:SPIKES COULD NOT BE GENERATED FOR 4.17\n",
      "WARNING:root:SPIKES COULD NOT BE GENERATED FOR 4.17\n",
      "WARNING:root:SPIKES COULD NOT BE GENERATED FOR 4.17\n",
      "WARNING:root:SPIKES COULD NOT BE GENERATED FOR 4.17\n",
      "WARNING:root:SPIKES COULD NOT BE GENERATED FOR 4.17\n",
      "WARNING:root:SPIKES COULD NOT BE GENERATED FOR 4.17\n",
      "WARNING:root:SPIKES COULD NOT BE GENERATED FOR 4.17\n",
      "WARNING:root:SPIKES COULD NOT BE GENERATED FOR 4.17\n",
      "WARNING:root:SPIKES COULD NOT BE GENERATED FOR 4.17\n",
      "WARNING:root:SPIKES COULD NOT BE GENERATED FOR 4.17\n",
      "WARNING:root:SPIKES COULD NOT BE GENERATED FOR 4.17\n",
      "WARNING:root:SPIKES COULD NOT BE GENERATED FOR 4.17\n",
      "WARNING:root:SPIKES COULD NOT BE GENERATED FOR 4.17\n",
      "WARNING:root:SPIKES COULD NOT BE GENERATED FOR 4.17\n",
      "WARNING:root:SPIKES COULD NOT BE GENERATED FOR 4.17\n",
      "WARNING:root:SPIKES COULD NOT BE GENERATED FOR 4.17\n",
      "WARNING:root:SPIKES COULD NOT BE GENERATED FOR 4.17\n",
      "WARNING:root:SPIKES COULD NOT BE GENERATED FOR 4.17\n",
      "WARNING:root:SPIKES COULD NOT BE GENERATED FOR 4.17\n",
      "WARNING:root:SPIKES COULD NOT BE GENERATED FOR 4.17\n",
      "WARNING:root:SPIKES COULD NOT BE GENERATED FOR 4.17\n",
      "WARNING:root:SPIKES COULD NOT BE GENERATED FOR 4.17\n"
     ]
    },
    {
     "name": "stdout",
     "output_type": "stream",
     "text": [
      "0     5.1236\n",
      "1    7.06202\n",
      "Name: 24, dtype: object\n"
     ]
    },
    {
     "name": "stderr",
     "output_type": "stream",
     "text": [
      "WARNING:root:SPIKES COULD NOT BE GENERATED FOR 4.17\n",
      "WARNING:root:SPIKES COULD NOT BE GENERATED FOR 4.17\n",
      "WARNING:root:SPIKES COULD NOT BE GENERATED FOR 4.17\n",
      "WARNING:root:SPIKES COULD NOT BE GENERATED FOR 4.17\n",
      "WARNING:root:SPIKES COULD NOT BE GENERATED FOR 4.17\n",
      "WARNING:root:SPIKES COULD NOT BE GENERATED FOR 4.17\n",
      "WARNING:root:SPIKES COULD NOT BE GENERATED FOR 4.17\n",
      "WARNING:root:SPIKES COULD NOT BE GENERATED FOR 4.17\n",
      "WARNING:root:SPIKES COULD NOT BE GENERATED FOR 4.17\n",
      "WARNING:root:SPIKES COULD NOT BE GENERATED FOR 4.17\n",
      "WARNING:root:SPIKES COULD NOT BE GENERATED FOR 4.17\n",
      "WARNING:root:SPIKES COULD NOT BE GENERATED FOR 4.17\n",
      "WARNING:root:SPIKES COULD NOT BE GENERATED FOR 4.17\n",
      "WARNING:root:SPIKES COULD NOT BE GENERATED FOR 4.17\n",
      "WARNING:root:SPIKES COULD NOT BE GENERATED FOR 4.17\n",
      "WARNING:root:SPIKES COULD NOT BE GENERATED FOR 4.17\n",
      "WARNING:root:SPIKES COULD NOT BE GENERATED FOR 4.17\n",
      "WARNING:root:SPIKES COULD NOT BE GENERATED FOR 4.17\n",
      "WARNING:root:SPIKES COULD NOT BE GENERATED FOR 4.17\n",
      "WARNING:root:SPIKES COULD NOT BE GENERATED FOR 4.17\n",
      "WARNING:root:SPIKES COULD NOT BE GENERATED FOR 4.17\n",
      "WARNING:root:SPIKES COULD NOT BE GENERATED FOR 4.17\n",
      "WARNING:root:SPIKES COULD NOT BE GENERATED FOR 4.17\n"
     ]
    },
    {
     "name": "stdout",
     "output_type": "stream",
     "text": [
      "0    7.06915\n",
      "1    6.87803\n",
      "Name: 25, dtype: object\n"
     ]
    },
    {
     "name": "stderr",
     "output_type": "stream",
     "text": [
      "WARNING:root:SPIKES COULD NOT BE GENERATED FOR 4.17\n",
      "WARNING:root:SPIKES COULD NOT BE GENERATED FOR 4.17\n",
      "WARNING:root:SPIKES COULD NOT BE GENERATED FOR 4.17\n",
      "WARNING:root:SPIKES COULD NOT BE GENERATED FOR 4.17\n",
      "WARNING:root:SPIKES COULD NOT BE GENERATED FOR 4.17\n",
      "WARNING:root:SPIKES COULD NOT BE GENERATED FOR 4.17\n",
      "WARNING:root:SPIKES COULD NOT BE GENERATED FOR 4.17\n",
      "WARNING:root:SPIKES COULD NOT BE GENERATED FOR 4.17\n",
      "WARNING:root:SPIKES COULD NOT BE GENERATED FOR 4.17\n",
      "WARNING:root:SPIKES COULD NOT BE GENERATED FOR 4.17\n",
      "WARNING:root:SPIKES COULD NOT BE GENERATED FOR 4.17\n",
      "WARNING:root:SPIKES COULD NOT BE GENERATED FOR 4.17\n",
      "WARNING:root:SPIKES COULD NOT BE GENERATED FOR 4.17\n",
      "WARNING:root:SPIKES COULD NOT BE GENERATED FOR 4.17\n",
      "WARNING:root:SPIKES COULD NOT BE GENERATED FOR 4.17\n",
      "WARNING:root:SPIKES COULD NOT BE GENERATED FOR 4.17\n",
      "WARNING:root:SPIKES COULD NOT BE GENERATED FOR 4.17\n",
      "WARNING:root:SPIKES COULD NOT BE GENERATED FOR 4.17\n",
      "WARNING:root:SPIKES COULD NOT BE GENERATED FOR 4.17\n",
      "WARNING:root:SPIKES COULD NOT BE GENERATED FOR 4.17\n",
      "WARNING:root:SPIKES COULD NOT BE GENERATED FOR 4.17\n",
      "WARNING:root:SPIKES COULD NOT BE GENERATED FOR 4.17\n",
      "WARNING:root:SPIKES COULD NOT BE GENERATED FOR 4.17\n",
      "WARNING:root:SPIKES COULD NOT BE GENERATED FOR 4.17\n"
     ]
    },
    {
     "name": "stdout",
     "output_type": "stream",
     "text": [
      "0    9.07371\n",
      "1    6.99234\n",
      "Name: 26, dtype: object\n"
     ]
    },
    {
     "name": "stderr",
     "output_type": "stream",
     "text": [
      "WARNING:root:SPIKES COULD NOT BE GENERATED FOR 4.17\n",
      "WARNING:root:SPIKES COULD NOT BE GENERATED FOR 4.17\n",
      "WARNING:root:SPIKES COULD NOT BE GENERATED FOR 4.17\n",
      "WARNING:root:SPIKES COULD NOT BE GENERATED FOR 4.17\n",
      "WARNING:root:SPIKES COULD NOT BE GENERATED FOR 4.17\n",
      "WARNING:root:SPIKES COULD NOT BE GENERATED FOR 4.17\n",
      "WARNING:root:SPIKES COULD NOT BE GENERATED FOR 4.17\n",
      "WARNING:root:SPIKES COULD NOT BE GENERATED FOR 4.17\n",
      "WARNING:root:SPIKES COULD NOT BE GENERATED FOR 4.17\n",
      "WARNING:root:SPIKES COULD NOT BE GENERATED FOR 4.17\n",
      "WARNING:root:SPIKES COULD NOT BE GENERATED FOR 4.17\n",
      "WARNING:root:SPIKES COULD NOT BE GENERATED FOR 4.17\n",
      "WARNING:root:SPIKES COULD NOT BE GENERATED FOR 4.17\n",
      "WARNING:root:SPIKES COULD NOT BE GENERATED FOR 4.17\n",
      "WARNING:root:SPIKES COULD NOT BE GENERATED FOR 4.17\n",
      "WARNING:root:SPIKES COULD NOT BE GENERATED FOR 4.17\n",
      "WARNING:root:SPIKES COULD NOT BE GENERATED FOR 4.17\n",
      "WARNING:root:SPIKES COULD NOT BE GENERATED FOR 4.17\n",
      "WARNING:root:SPIKES COULD NOT BE GENERATED FOR 4.17\n",
      "WARNING:root:SPIKES COULD NOT BE GENERATED FOR 4.17\n",
      "WARNING:root:SPIKES COULD NOT BE GENERATED FOR 4.17\n",
      "WARNING:root:SPIKES COULD NOT BE GENERATED FOR 4.17\n",
      "WARNING:root:SPIKES COULD NOT BE GENERATED FOR 4.17\n",
      "WARNING:root:SPIKES COULD NOT BE GENERATED FOR 4.17\n",
      "WARNING:root:SPIKES COULD NOT BE GENERATED FOR 4.17\n"
     ]
    },
    {
     "name": "stdout",
     "output_type": "stream",
     "text": [
      "0    11.0362\n",
      "1      6.936\n",
      "Name: 27, dtype: object\n"
     ]
    },
    {
     "name": "stderr",
     "output_type": "stream",
     "text": [
      "WARNING:root:SPIKES COULD NOT BE GENERATED FOR 4.17\n",
      "WARNING:root:SPIKES COULD NOT BE GENERATED FOR 4.17\n",
      "WARNING:root:SPIKES COULD NOT BE GENERATED FOR 4.17\n",
      "WARNING:root:SPIKES COULD NOT BE GENERATED FOR 4.17\n",
      "WARNING:root:SPIKES COULD NOT BE GENERATED FOR 4.17\n",
      "WARNING:root:SPIKES COULD NOT BE GENERATED FOR 4.17\n",
      "WARNING:root:SPIKES COULD NOT BE GENERATED FOR 4.17\n",
      "WARNING:root:SPIKES COULD NOT BE GENERATED FOR 4.17\n",
      "WARNING:root:SPIKES COULD NOT BE GENERATED FOR 4.17\n",
      "WARNING:root:SPIKES COULD NOT BE GENERATED FOR 4.17\n",
      "WARNING:root:SPIKES COULD NOT BE GENERATED FOR 4.17\n",
      "WARNING:root:SPIKES COULD NOT BE GENERATED FOR 4.17\n",
      "WARNING:root:SPIKES COULD NOT BE GENERATED FOR 4.17\n",
      "WARNING:root:SPIKES COULD NOT BE GENERATED FOR 4.17\n",
      "WARNING:root:SPIKES COULD NOT BE GENERATED FOR 4.17\n",
      "WARNING:root:SPIKES COULD NOT BE GENERATED FOR 4.17\n",
      "WARNING:root:SPIKES COULD NOT BE GENERATED FOR 4.17\n",
      "WARNING:root:SPIKES COULD NOT BE GENERATED FOR 4.17\n",
      "WARNING:root:SPIKES COULD NOT BE GENERATED FOR 4.17\n",
      "WARNING:root:SPIKES COULD NOT BE GENERATED FOR 4.17\n",
      "WARNING:root:SPIKES COULD NOT BE GENERATED FOR 4.17\n",
      "WARNING:root:SPIKES COULD NOT BE GENERATED FOR 4.17\n",
      "WARNING:root:SPIKES COULD NOT BE GENERATED FOR 4.17\n",
      "WARNING:root:SPIKES COULD NOT BE GENERATED FOR 4.17\n",
      "WARNING:root:SPIKES COULD NOT BE GENERATED FOR 4.17\n"
     ]
    },
    {
     "name": "stdout",
     "output_type": "stream",
     "text": [
      "0    12.9217\n",
      "1    6.99356\n",
      "Name: 28, dtype: object\n"
     ]
    },
    {
     "name": "stderr",
     "output_type": "stream",
     "text": [
      "WARNING:root:SPIKES COULD NOT BE GENERATED FOR 4.17\n",
      "WARNING:root:SPIKES COULD NOT BE GENERATED FOR 4.17\n",
      "WARNING:root:SPIKES COULD NOT BE GENERATED FOR 4.17\n",
      "WARNING:root:SPIKES COULD NOT BE GENERATED FOR 4.17\n",
      "WARNING:root:SPIKES COULD NOT BE GENERATED FOR 4.17\n",
      "WARNING:root:SPIKES COULD NOT BE GENERATED FOR 4.17\n",
      "WARNING:root:SPIKES COULD NOT BE GENERATED FOR 4.17\n",
      "WARNING:root:SPIKES COULD NOT BE GENERATED FOR 4.17\n",
      "WARNING:root:SPIKES COULD NOT BE GENERATED FOR 4.17\n",
      "WARNING:root:SPIKES COULD NOT BE GENERATED FOR 4.17\n",
      "WARNING:root:SPIKES COULD NOT BE GENERATED FOR 4.17\n",
      "WARNING:root:SPIKES COULD NOT BE GENERATED FOR 4.17\n",
      "WARNING:root:SPIKES COULD NOT BE GENERATED FOR 4.17\n",
      "WARNING:root:SPIKES COULD NOT BE GENERATED FOR 4.17\n",
      "WARNING:root:SPIKES COULD NOT BE GENERATED FOR 4.17\n",
      "WARNING:root:SPIKES COULD NOT BE GENERATED FOR 4.17\n",
      "WARNING:root:SPIKES COULD NOT BE GENERATED FOR 4.17\n",
      "WARNING:root:SPIKES COULD NOT BE GENERATED FOR 4.17\n",
      "WARNING:root:SPIKES COULD NOT BE GENERATED FOR 4.17\n",
      "WARNING:root:SPIKES COULD NOT BE GENERATED FOR 4.17\n",
      "WARNING:root:SPIKES COULD NOT BE GENERATED FOR 4.17\n",
      "WARNING:root:SPIKES COULD NOT BE GENERATED FOR 4.17\n",
      "WARNING:root:SPIKES COULD NOT BE GENERATED FOR 4.17\n",
      "WARNING:root:SPIKES COULD NOT BE GENERATED FOR 4.17\n"
     ]
    },
    {
     "name": "stdout",
     "output_type": "stream",
     "text": [
      "0    15.0456\n",
      "1    6.97855\n",
      "Name: 29, dtype: object\n"
     ]
    },
    {
     "name": "stderr",
     "output_type": "stream",
     "text": [
      "WARNING:root:SPIKES COULD NOT BE GENERATED FOR 4.17\n",
      "WARNING:root:SPIKES COULD NOT BE GENERATED FOR 4.17\n",
      "WARNING:root:SPIKES COULD NOT BE GENERATED FOR 4.17\n",
      "WARNING:root:SPIKES COULD NOT BE GENERATED FOR 4.17\n",
      "WARNING:root:SPIKES COULD NOT BE GENERATED FOR 4.17\n",
      "WARNING:root:SPIKES COULD NOT BE GENERATED FOR 4.17\n",
      "WARNING:root:SPIKES COULD NOT BE GENERATED FOR 4.17\n",
      "WARNING:root:SPIKES COULD NOT BE GENERATED FOR 4.17\n",
      "WARNING:root:SPIKES COULD NOT BE GENERATED FOR 4.17\n",
      "WARNING:root:SPIKES COULD NOT BE GENERATED FOR 4.17\n",
      "WARNING:root:SPIKES COULD NOT BE GENERATED FOR 4.17\n",
      "WARNING:root:SPIKES COULD NOT BE GENERATED FOR 4.17\n",
      "WARNING:root:SPIKES COULD NOT BE GENERATED FOR 4.17\n",
      "WARNING:root:SPIKES COULD NOT BE GENERATED FOR 4.17\n",
      "WARNING:root:SPIKES COULD NOT BE GENERATED FOR 4.17\n",
      "WARNING:root:SPIKES COULD NOT BE GENERATED FOR 4.17\n",
      "WARNING:root:SPIKES COULD NOT BE GENERATED FOR 4.17\n",
      "WARNING:root:SPIKES COULD NOT BE GENERATED FOR 4.17\n",
      "WARNING:root:SPIKES COULD NOT BE GENERATED FOR 4.17\n",
      "WARNING:root:SPIKES COULD NOT BE GENERATED FOR 4.17\n",
      "WARNING:root:SPIKES COULD NOT BE GENERATED FOR 4.17\n",
      "WARNING:root:SPIKES COULD NOT BE GENERATED FOR 4.17\n"
     ]
    },
    {
     "name": "stdout",
     "output_type": "stream",
     "text": [
      "0    3.04105\n",
      "1    8.89435\n",
      "Name: 30, dtype: object\n"
     ]
    },
    {
     "name": "stderr",
     "output_type": "stream",
     "text": [
      "WARNING:root:SPIKES COULD NOT BE GENERATED FOR 4.17\n",
      "WARNING:root:SPIKES COULD NOT BE GENERATED FOR 4.17\n",
      "WARNING:root:SPIKES COULD NOT BE GENERATED FOR 4.17\n",
      "WARNING:root:SPIKES COULD NOT BE GENERATED FOR 4.17\n",
      "WARNING:root:SPIKES COULD NOT BE GENERATED FOR 4.17\n",
      "WARNING:root:SPIKES COULD NOT BE GENERATED FOR 4.17\n",
      "WARNING:root:SPIKES COULD NOT BE GENERATED FOR 4.17\n",
      "WARNING:root:SPIKES COULD NOT BE GENERATED FOR 4.17\n",
      "WARNING:root:SPIKES COULD NOT BE GENERATED FOR 4.17\n",
      "WARNING:root:SPIKES COULD NOT BE GENERATED FOR 4.17\n",
      "WARNING:root:SPIKES COULD NOT BE GENERATED FOR 4.17\n",
      "WARNING:root:SPIKES COULD NOT BE GENERATED FOR 4.17\n",
      "WARNING:root:SPIKES COULD NOT BE GENERATED FOR 4.17\n",
      "WARNING:root:SPIKES COULD NOT BE GENERATED FOR 4.17\n",
      "WARNING:root:SPIKES COULD NOT BE GENERATED FOR 4.17\n",
      "WARNING:root:SPIKES COULD NOT BE GENERATED FOR 4.17\n",
      "WARNING:root:SPIKES COULD NOT BE GENERATED FOR 4.17\n",
      "WARNING:root:SPIKES COULD NOT BE GENERATED FOR 4.17\n",
      "WARNING:root:SPIKES COULD NOT BE GENERATED FOR 4.17\n",
      "WARNING:root:SPIKES COULD NOT BE GENERATED FOR 4.17\n",
      "WARNING:root:SPIKES COULD NOT BE GENERATED FOR 4.17\n"
     ]
    },
    {
     "name": "stdout",
     "output_type": "stream",
     "text": [
      "0    5.08592\n",
      "1    8.94857\n",
      "Name: 31, dtype: object\n"
     ]
    },
    {
     "name": "stderr",
     "output_type": "stream",
     "text": [
      "WARNING:root:SPIKES COULD NOT BE GENERATED FOR 4.17\n",
      "WARNING:root:SPIKES COULD NOT BE GENERATED FOR 4.17\n",
      "WARNING:root:SPIKES COULD NOT BE GENERATED FOR 4.17\n",
      "WARNING:root:SPIKES COULD NOT BE GENERATED FOR 4.17\n",
      "WARNING:root:SPIKES COULD NOT BE GENERATED FOR 4.17\n",
      "WARNING:root:SPIKES COULD NOT BE GENERATED FOR 4.17\n",
      "WARNING:root:SPIKES COULD NOT BE GENERATED FOR 4.17\n",
      "WARNING:root:SPIKES COULD NOT BE GENERATED FOR 4.17\n",
      "WARNING:root:SPIKES COULD NOT BE GENERATED FOR 4.17\n",
      "WARNING:root:SPIKES COULD NOT BE GENERATED FOR 4.17\n",
      "WARNING:root:SPIKES COULD NOT BE GENERATED FOR 4.17\n",
      "WARNING:root:SPIKES COULD NOT BE GENERATED FOR 4.17\n",
      "WARNING:root:SPIKES COULD NOT BE GENERATED FOR 4.17\n",
      "WARNING:root:SPIKES COULD NOT BE GENERATED FOR 4.17\n",
      "WARNING:root:SPIKES COULD NOT BE GENERATED FOR 4.17\n",
      "WARNING:root:SPIKES COULD NOT BE GENERATED FOR 4.17\n",
      "WARNING:root:SPIKES COULD NOT BE GENERATED FOR 4.17\n",
      "WARNING:root:SPIKES COULD NOT BE GENERATED FOR 4.17\n",
      "WARNING:root:SPIKES COULD NOT BE GENERATED FOR 4.17\n",
      "WARNING:root:SPIKES COULD NOT BE GENERATED FOR 4.17\n",
      "WARNING:root:SPIKES COULD NOT BE GENERATED FOR 4.17\n"
     ]
    },
    {
     "name": "stdout",
     "output_type": "stream",
     "text": [
      "0     6.9541\n",
      "1    9.03531\n",
      "Name: 32, dtype: object\n"
     ]
    },
    {
     "name": "stderr",
     "output_type": "stream",
     "text": [
      "WARNING:root:SPIKES COULD NOT BE GENERATED FOR 4.17\n",
      "WARNING:root:SPIKES COULD NOT BE GENERATED FOR 4.17\n",
      "WARNING:root:SPIKES COULD NOT BE GENERATED FOR 4.17\n",
      "WARNING:root:SPIKES COULD NOT BE GENERATED FOR 4.17\n",
      "WARNING:root:SPIKES COULD NOT BE GENERATED FOR 4.17\n",
      "WARNING:root:SPIKES COULD NOT BE GENERATED FOR 4.17\n",
      "WARNING:root:SPIKES COULD NOT BE GENERATED FOR 4.17\n",
      "WARNING:root:SPIKES COULD NOT BE GENERATED FOR 4.17\n",
      "WARNING:root:SPIKES COULD NOT BE GENERATED FOR 4.17\n",
      "WARNING:root:SPIKES COULD NOT BE GENERATED FOR 4.17\n",
      "WARNING:root:SPIKES COULD NOT BE GENERATED FOR 4.17\n",
      "WARNING:root:SPIKES COULD NOT BE GENERATED FOR 4.17\n",
      "WARNING:root:SPIKES COULD NOT BE GENERATED FOR 4.17\n",
      "WARNING:root:SPIKES COULD NOT BE GENERATED FOR 4.17\n",
      "WARNING:root:SPIKES COULD NOT BE GENERATED FOR 4.17\n",
      "WARNING:root:SPIKES COULD NOT BE GENERATED FOR 4.17\n",
      "WARNING:root:SPIKES COULD NOT BE GENERATED FOR 4.17\n",
      "WARNING:root:SPIKES COULD NOT BE GENERATED FOR 4.17\n",
      "WARNING:root:SPIKES COULD NOT BE GENERATED FOR 4.17\n",
      "WARNING:root:SPIKES COULD NOT BE GENERATED FOR 4.17\n"
     ]
    },
    {
     "name": "stdout",
     "output_type": "stream",
     "text": [
      "0    8.92358\n",
      "1    9.02695\n",
      "Name: 33, dtype: object\n"
     ]
    },
    {
     "name": "stderr",
     "output_type": "stream",
     "text": [
      "WARNING:root:SPIKES COULD NOT BE GENERATED FOR 4.17\n",
      "WARNING:root:SPIKES COULD NOT BE GENERATED FOR 4.17\n",
      "WARNING:root:SPIKES COULD NOT BE GENERATED FOR 4.17\n",
      "WARNING:root:SPIKES COULD NOT BE GENERATED FOR 4.17\n",
      "WARNING:root:SPIKES COULD NOT BE GENERATED FOR 4.17\n",
      "WARNING:root:SPIKES COULD NOT BE GENERATED FOR 4.17\n",
      "WARNING:root:SPIKES COULD NOT BE GENERATED FOR 4.17\n",
      "WARNING:root:SPIKES COULD NOT BE GENERATED FOR 4.17\n",
      "WARNING:root:SPIKES COULD NOT BE GENERATED FOR 4.17\n",
      "WARNING:root:SPIKES COULD NOT BE GENERATED FOR 4.17\n",
      "WARNING:root:SPIKES COULD NOT BE GENERATED FOR 4.17\n",
      "WARNING:root:SPIKES COULD NOT BE GENERATED FOR 4.17\n",
      "WARNING:root:SPIKES COULD NOT BE GENERATED FOR 4.17\n",
      "WARNING:root:SPIKES COULD NOT BE GENERATED FOR 4.17\n",
      "WARNING:root:SPIKES COULD NOT BE GENERATED FOR 4.17\n",
      "WARNING:root:SPIKES COULD NOT BE GENERATED FOR 4.17\n",
      "WARNING:root:SPIKES COULD NOT BE GENERATED FOR 4.17\n",
      "WARNING:root:SPIKES COULD NOT BE GENERATED FOR 4.17\n",
      "WARNING:root:SPIKES COULD NOT BE GENERATED FOR 4.17\n",
      "WARNING:root:SPIKES COULD NOT BE GENERATED FOR 4.17\n"
     ]
    },
    {
     "name": "stdout",
     "output_type": "stream",
     "text": [
      "0    10.9887\n",
      "1    8.92222\n",
      "Name: 34, dtype: object\n"
     ]
    },
    {
     "name": "stderr",
     "output_type": "stream",
     "text": [
      "WARNING:root:SPIKES COULD NOT BE GENERATED FOR 4.17\n",
      "WARNING:root:SPIKES COULD NOT BE GENERATED FOR 4.17\n",
      "WARNING:root:SPIKES COULD NOT BE GENERATED FOR 4.17\n",
      "WARNING:root:SPIKES COULD NOT BE GENERATED FOR 4.17\n",
      "WARNING:root:SPIKES COULD NOT BE GENERATED FOR 4.17\n",
      "WARNING:root:SPIKES COULD NOT BE GENERATED FOR 4.17\n",
      "WARNING:root:SPIKES COULD NOT BE GENERATED FOR 4.17\n",
      "WARNING:root:SPIKES COULD NOT BE GENERATED FOR 4.17\n",
      "WARNING:root:SPIKES COULD NOT BE GENERATED FOR 4.17\n",
      "WARNING:root:SPIKES COULD NOT BE GENERATED FOR 4.17\n",
      "WARNING:root:SPIKES COULD NOT BE GENERATED FOR 4.17\n",
      "WARNING:root:SPIKES COULD NOT BE GENERATED FOR 4.17\n",
      "WARNING:root:SPIKES COULD NOT BE GENERATED FOR 4.17\n",
      "WARNING:root:SPIKES COULD NOT BE GENERATED FOR 4.17\n",
      "WARNING:root:SPIKES COULD NOT BE GENERATED FOR 4.17\n",
      "WARNING:root:SPIKES COULD NOT BE GENERATED FOR 4.17\n",
      "WARNING:root:SPIKES COULD NOT BE GENERATED FOR 4.17\n",
      "WARNING:root:SPIKES COULD NOT BE GENERATED FOR 4.17\n",
      "WARNING:root:SPIKES COULD NOT BE GENERATED FOR 4.17\n",
      "WARNING:root:SPIKES COULD NOT BE GENERATED FOR 4.17\n",
      "WARNING:root:SPIKES COULD NOT BE GENERATED FOR 4.17\n",
      "WARNING:root:SPIKES COULD NOT BE GENERATED FOR 4.17\n",
      "WARNING:root:SPIKES COULD NOT BE GENERATED FOR 4.17\n",
      "WARNING:root:SPIKES COULD NOT BE GENERATED FOR 4.17\n"
     ]
    },
    {
     "name": "stdout",
     "output_type": "stream",
     "text": [
      "0    12.9856\n",
      "1    9.05728\n",
      "Name: 35, dtype: object\n"
     ]
    },
    {
     "name": "stderr",
     "output_type": "stream",
     "text": [
      "WARNING:root:SPIKES COULD NOT BE GENERATED FOR 4.17\n",
      "WARNING:root:SPIKES COULD NOT BE GENERATED FOR 4.17\n",
      "WARNING:root:SPIKES COULD NOT BE GENERATED FOR 4.17\n",
      "WARNING:root:SPIKES COULD NOT BE GENERATED FOR 4.17\n",
      "WARNING:root:SPIKES COULD NOT BE GENERATED FOR 4.17\n",
      "WARNING:root:SPIKES COULD NOT BE GENERATED FOR 4.17\n",
      "WARNING:root:SPIKES COULD NOT BE GENERATED FOR 4.17\n",
      "WARNING:root:SPIKES COULD NOT BE GENERATED FOR 4.17\n",
      "WARNING:root:SPIKES COULD NOT BE GENERATED FOR 4.17\n",
      "WARNING:root:SPIKES COULD NOT BE GENERATED FOR 4.17\n",
      "WARNING:root:SPIKES COULD NOT BE GENERATED FOR 4.17\n",
      "WARNING:root:SPIKES COULD NOT BE GENERATED FOR 4.17\n",
      "WARNING:root:SPIKES COULD NOT BE GENERATED FOR 4.17\n",
      "WARNING:root:SPIKES COULD NOT BE GENERATED FOR 4.17\n",
      "WARNING:root:SPIKES COULD NOT BE GENERATED FOR 4.17\n",
      "WARNING:root:SPIKES COULD NOT BE GENERATED FOR 4.17\n",
      "WARNING:root:SPIKES COULD NOT BE GENERATED FOR 4.17\n",
      "WARNING:root:SPIKES COULD NOT BE GENERATED FOR 4.17\n",
      "WARNING:root:SPIKES COULD NOT BE GENERATED FOR 4.17\n",
      "WARNING:root:SPIKES COULD NOT BE GENERATED FOR 4.17\n",
      "WARNING:root:SPIKES COULD NOT BE GENERATED FOR 4.17\n",
      "WARNING:root:SPIKES COULD NOT BE GENERATED FOR 4.17\n",
      "WARNING:root:SPIKES COULD NOT BE GENERATED FOR 4.17\n",
      "WARNING:root:SPIKES COULD NOT BE GENERATED FOR 4.17\n"
     ]
    },
    {
     "name": "stdout",
     "output_type": "stream",
     "text": [
      "0    15.0863\n",
      "1    8.94524\n",
      "Name: 36, dtype: object\n"
     ]
    },
    {
     "name": "stderr",
     "output_type": "stream",
     "text": [
      "WARNING:root:SPIKES COULD NOT BE GENERATED FOR 4.17\n",
      "WARNING:root:SPIKES COULD NOT BE GENERATED FOR 4.17\n",
      "WARNING:root:SPIKES COULD NOT BE GENERATED FOR 4.17\n",
      "WARNING:root:SPIKES COULD NOT BE GENERATED FOR 4.17\n",
      "WARNING:root:SPIKES COULD NOT BE GENERATED FOR 4.17\n",
      "WARNING:root:SPIKES COULD NOT BE GENERATED FOR 4.17\n",
      "WARNING:root:SPIKES COULD NOT BE GENERATED FOR 4.17\n",
      "WARNING:root:SPIKES COULD NOT BE GENERATED FOR 4.17\n",
      "WARNING:root:SPIKES COULD NOT BE GENERATED FOR 4.17\n",
      "WARNING:root:SPIKES COULD NOT BE GENERATED FOR 4.17\n",
      "WARNING:root:SPIKES COULD NOT BE GENERATED FOR 4.17\n",
      "WARNING:root:SPIKES COULD NOT BE GENERATED FOR 4.17\n",
      "WARNING:root:SPIKES COULD NOT BE GENERATED FOR 4.17\n",
      "WARNING:root:SPIKES COULD NOT BE GENERATED FOR 4.17\n",
      "WARNING:root:SPIKES COULD NOT BE GENERATED FOR 4.17\n",
      "WARNING:root:SPIKES COULD NOT BE GENERATED FOR 4.17\n",
      "WARNING:root:SPIKES COULD NOT BE GENERATED FOR 4.17\n",
      "WARNING:root:SPIKES COULD NOT BE GENERATED FOR 4.17\n",
      "WARNING:root:SPIKES COULD NOT BE GENERATED FOR 4.17\n",
      "WARNING:root:SPIKES COULD NOT BE GENERATED FOR 4.17\n",
      "WARNING:root:SPIKES COULD NOT BE GENERATED FOR 4.17\n",
      "WARNING:root:SPIKES COULD NOT BE GENERATED FOR 4.17\n"
     ]
    },
    {
     "name": "stdout",
     "output_type": "stream",
     "text": [
      "0    2.91265\n",
      "1    10.1864\n",
      "Name: 37, dtype: object\n"
     ]
    },
    {
     "name": "stderr",
     "output_type": "stream",
     "text": [
      "WARNING:root:SPIKES COULD NOT BE GENERATED FOR 4.17\n",
      "WARNING:root:SPIKES COULD NOT BE GENERATED FOR 4.17\n",
      "WARNING:root:SPIKES COULD NOT BE GENERATED FOR 4.17\n",
      "WARNING:root:SPIKES COULD NOT BE GENERATED FOR 4.17\n",
      "WARNING:root:SPIKES COULD NOT BE GENERATED FOR 4.17\n",
      "WARNING:root:SPIKES COULD NOT BE GENERATED FOR 4.17\n",
      "WARNING:root:SPIKES COULD NOT BE GENERATED FOR 4.17\n",
      "WARNING:root:SPIKES COULD NOT BE GENERATED FOR 4.17\n",
      "WARNING:root:SPIKES COULD NOT BE GENERATED FOR 4.17\n",
      "WARNING:root:SPIKES COULD NOT BE GENERATED FOR 4.17\n",
      "WARNING:root:SPIKES COULD NOT BE GENERATED FOR 4.17\n",
      "WARNING:root:SPIKES COULD NOT BE GENERATED FOR 4.17\n",
      "WARNING:root:SPIKES COULD NOT BE GENERATED FOR 4.17\n",
      "WARNING:root:SPIKES COULD NOT BE GENERATED FOR 4.17\n",
      "WARNING:root:SPIKES COULD NOT BE GENERATED FOR 4.17\n",
      "WARNING:root:SPIKES COULD NOT BE GENERATED FOR 4.17\n",
      "WARNING:root:SPIKES COULD NOT BE GENERATED FOR 4.17\n",
      "WARNING:root:SPIKES COULD NOT BE GENERATED FOR 4.17\n",
      "WARNING:root:SPIKES COULD NOT BE GENERATED FOR 4.17\n",
      "WARNING:root:SPIKES COULD NOT BE GENERATED FOR 4.17\n"
     ]
    },
    {
     "name": "stdout",
     "output_type": "stream",
     "text": [
      "0    4.83288\n",
      "1    10.2662\n",
      "Name: 38, dtype: object\n"
     ]
    },
    {
     "name": "stderr",
     "output_type": "stream",
     "text": [
      "WARNING:root:SPIKES COULD NOT BE GENERATED FOR 4.17\n",
      "WARNING:root:SPIKES COULD NOT BE GENERATED FOR 4.17\n",
      "WARNING:root:SPIKES COULD NOT BE GENERATED FOR 4.17\n",
      "WARNING:root:SPIKES COULD NOT BE GENERATED FOR 4.17\n",
      "WARNING:root:SPIKES COULD NOT BE GENERATED FOR 4.17\n",
      "WARNING:root:SPIKES COULD NOT BE GENERATED FOR 4.17\n",
      "WARNING:root:SPIKES COULD NOT BE GENERATED FOR 4.17\n",
      "WARNING:root:SPIKES COULD NOT BE GENERATED FOR 4.17\n",
      "WARNING:root:SPIKES COULD NOT BE GENERATED FOR 4.17\n",
      "WARNING:root:SPIKES COULD NOT BE GENERATED FOR 4.17\n",
      "WARNING:root:SPIKES COULD NOT BE GENERATED FOR 4.17\n",
      "WARNING:root:SPIKES COULD NOT BE GENERATED FOR 4.17\n",
      "WARNING:root:SPIKES COULD NOT BE GENERATED FOR 4.17\n",
      "WARNING:root:SPIKES COULD NOT BE GENERATED FOR 4.17\n",
      "WARNING:root:SPIKES COULD NOT BE GENERATED FOR 4.17\n",
      "WARNING:root:SPIKES COULD NOT BE GENERATED FOR 4.17\n",
      "WARNING:root:SPIKES COULD NOT BE GENERATED FOR 4.17\n",
      "WARNING:root:SPIKES COULD NOT BE GENERATED FOR 4.17\n",
      "WARNING:root:SPIKES COULD NOT BE GENERATED FOR 4.17\n",
      "WARNING:root:SPIKES COULD NOT BE GENERATED FOR 4.17\n"
     ]
    },
    {
     "name": "stdout",
     "output_type": "stream",
     "text": [
      "0    7.29614\n",
      "1    10.5974\n",
      "Name: 39, dtype: object\n"
     ]
    },
    {
     "name": "stderr",
     "output_type": "stream",
     "text": [
      "WARNING:root:SPIKES COULD NOT BE GENERATED FOR 4.17\n",
      "WARNING:root:SPIKES COULD NOT BE GENERATED FOR 4.17\n",
      "WARNING:root:SPIKES COULD NOT BE GENERATED FOR 4.17\n",
      "WARNING:root:SPIKES COULD NOT BE GENERATED FOR 4.17\n",
      "WARNING:root:SPIKES COULD NOT BE GENERATED FOR 4.17\n",
      "WARNING:root:SPIKES COULD NOT BE GENERATED FOR 4.17\n",
      "WARNING:root:SPIKES COULD NOT BE GENERATED FOR 4.17\n",
      "WARNING:root:SPIKES COULD NOT BE GENERATED FOR 4.17\n",
      "WARNING:root:SPIKES COULD NOT BE GENERATED FOR 4.17\n",
      "WARNING:root:SPIKES COULD NOT BE GENERATED FOR 4.17\n",
      "WARNING:root:SPIKES COULD NOT BE GENERATED FOR 4.17\n",
      "WARNING:root:SPIKES COULD NOT BE GENERATED FOR 4.17\n",
      "WARNING:root:SPIKES COULD NOT BE GENERATED FOR 4.17\n",
      "WARNING:root:SPIKES COULD NOT BE GENERATED FOR 4.17\n",
      "WARNING:root:SPIKES COULD NOT BE GENERATED FOR 4.17\n",
      "WARNING:root:SPIKES COULD NOT BE GENERATED FOR 4.17\n",
      "WARNING:root:SPIKES COULD NOT BE GENERATED FOR 4.17\n",
      "WARNING:root:SPIKES COULD NOT BE GENERATED FOR 4.17\n",
      "WARNING:root:SPIKES COULD NOT BE GENERATED FOR 4.17\n",
      "WARNING:root:SPIKES COULD NOT BE GENERATED FOR 4.17\n"
     ]
    },
    {
     "name": "stdout",
     "output_type": "stream",
     "text": [
      "0    8.99003\n",
      "1    10.7127\n",
      "Name: 40, dtype: object\n"
     ]
    },
    {
     "name": "stderr",
     "output_type": "stream",
     "text": [
      "WARNING:root:SPIKES COULD NOT BE GENERATED FOR 4.17\n",
      "WARNING:root:SPIKES COULD NOT BE GENERATED FOR 4.17\n",
      "WARNING:root:SPIKES COULD NOT BE GENERATED FOR 4.17\n",
      "WARNING:root:SPIKES COULD NOT BE GENERATED FOR 4.17\n",
      "WARNING:root:SPIKES COULD NOT BE GENERATED FOR 4.17\n",
      "WARNING:root:SPIKES COULD NOT BE GENERATED FOR 4.17\n",
      "WARNING:root:SPIKES COULD NOT BE GENERATED FOR 4.17\n",
      "WARNING:root:SPIKES COULD NOT BE GENERATED FOR 4.17\n",
      "WARNING:root:SPIKES COULD NOT BE GENERATED FOR 4.17\n",
      "WARNING:root:SPIKES COULD NOT BE GENERATED FOR 4.17\n",
      "WARNING:root:SPIKES COULD NOT BE GENERATED FOR 4.17\n",
      "WARNING:root:SPIKES COULD NOT BE GENERATED FOR 4.17\n",
      "WARNING:root:SPIKES COULD NOT BE GENERATED FOR 4.17\n",
      "WARNING:root:SPIKES COULD NOT BE GENERATED FOR 4.17\n",
      "WARNING:root:SPIKES COULD NOT BE GENERATED FOR 4.17\n",
      "WARNING:root:SPIKES COULD NOT BE GENERATED FOR 4.17\n",
      "WARNING:root:SPIKES COULD NOT BE GENERATED FOR 4.17\n",
      "WARNING:root:SPIKES COULD NOT BE GENERATED FOR 4.17\n",
      "WARNING:root:SPIKES COULD NOT BE GENERATED FOR 4.17\n",
      "WARNING:root:SPIKES COULD NOT BE GENERATED FOR 4.17\n",
      "WARNING:root:SPIKES COULD NOT BE GENERATED FOR 4.17\n",
      "WARNING:root:SPIKES COULD NOT BE GENERATED FOR 4.17\n"
     ]
    },
    {
     "name": "stdout",
     "output_type": "stream",
     "text": [
      "0     11.092\n",
      "1    10.4553\n",
      "Name: 41, dtype: object\n"
     ]
    },
    {
     "name": "stderr",
     "output_type": "stream",
     "text": [
      "WARNING:root:SPIKES COULD NOT BE GENERATED FOR 4.17\n",
      "WARNING:root:SPIKES COULD NOT BE GENERATED FOR 4.17\n",
      "WARNING:root:SPIKES COULD NOT BE GENERATED FOR 4.17\n",
      "WARNING:root:SPIKES COULD NOT BE GENERATED FOR 4.17\n",
      "WARNING:root:SPIKES COULD NOT BE GENERATED FOR 4.17\n",
      "WARNING:root:SPIKES COULD NOT BE GENERATED FOR 4.17\n",
      "WARNING:root:SPIKES COULD NOT BE GENERATED FOR 4.17\n",
      "WARNING:root:SPIKES COULD NOT BE GENERATED FOR 4.17\n",
      "WARNING:root:SPIKES COULD NOT BE GENERATED FOR 4.17\n",
      "WARNING:root:SPIKES COULD NOT BE GENERATED FOR 4.17\n",
      "WARNING:root:SPIKES COULD NOT BE GENERATED FOR 4.17\n",
      "WARNING:root:SPIKES COULD NOT BE GENERATED FOR 4.17\n",
      "WARNING:root:SPIKES COULD NOT BE GENERATED FOR 4.17\n",
      "WARNING:root:SPIKES COULD NOT BE GENERATED FOR 4.17\n",
      "WARNING:root:SPIKES COULD NOT BE GENERATED FOR 4.17\n",
      "WARNING:root:SPIKES COULD NOT BE GENERATED FOR 4.17\n",
      "WARNING:root:SPIKES COULD NOT BE GENERATED FOR 4.17\n",
      "WARNING:root:SPIKES COULD NOT BE GENERATED FOR 4.17\n",
      "WARNING:root:SPIKES COULD NOT BE GENERATED FOR 4.17\n",
      "WARNING:root:SPIKES COULD NOT BE GENERATED FOR 4.17\n",
      "WARNING:root:SPIKES COULD NOT BE GENERATED FOR 4.17\n",
      "WARNING:root:SPIKES COULD NOT BE GENERATED FOR 4.17\n",
      "WARNING:root:SPIKES COULD NOT BE GENERATED FOR 4.17\n",
      "WARNING:root:SPIKES COULD NOT BE GENERATED FOR 4.17\n"
     ]
    },
    {
     "name": "stdout",
     "output_type": "stream",
     "text": [
      "0    12.7391\n",
      "1     10.517\n",
      "Name: 42, dtype: object\n"
     ]
    },
    {
     "name": "stderr",
     "output_type": "stream",
     "text": [
      "WARNING:root:SPIKES COULD NOT BE GENERATED FOR 4.17\n",
      "WARNING:root:SPIKES COULD NOT BE GENERATED FOR 4.17\n",
      "WARNING:root:SPIKES COULD NOT BE GENERATED FOR 4.17\n",
      "WARNING:root:SPIKES COULD NOT BE GENERATED FOR 4.17\n",
      "WARNING:root:SPIKES COULD NOT BE GENERATED FOR 4.17\n",
      "WARNING:root:SPIKES COULD NOT BE GENERATED FOR 4.17\n",
      "WARNING:root:SPIKES COULD NOT BE GENERATED FOR 4.17\n",
      "WARNING:root:SPIKES COULD NOT BE GENERATED FOR 4.17\n",
      "WARNING:root:SPIKES COULD NOT BE GENERATED FOR 4.17\n",
      "WARNING:root:SPIKES COULD NOT BE GENERATED FOR 4.17\n",
      "WARNING:root:SPIKES COULD NOT BE GENERATED FOR 4.17\n",
      "WARNING:root:SPIKES COULD NOT BE GENERATED FOR 4.17\n",
      "WARNING:root:SPIKES COULD NOT BE GENERATED FOR 4.17\n",
      "WARNING:root:SPIKES COULD NOT BE GENERATED FOR 4.17\n",
      "WARNING:root:SPIKES COULD NOT BE GENERATED FOR 4.17\n",
      "WARNING:root:SPIKES COULD NOT BE GENERATED FOR 4.17\n",
      "WARNING:root:SPIKES COULD NOT BE GENERATED FOR 4.17\n",
      "WARNING:root:SPIKES COULD NOT BE GENERATED FOR 4.17\n",
      "WARNING:root:SPIKES COULD NOT BE GENERATED FOR 4.17\n",
      "WARNING:root:SPIKES COULD NOT BE GENERATED FOR 4.17\n",
      "WARNING:root:SPIKES COULD NOT BE GENERATED FOR 4.17\n",
      "WARNING:root:SPIKES COULD NOT BE GENERATED FOR 4.17\n",
      "WARNING:root:SPIKES COULD NOT BE GENERATED FOR 4.17\n",
      "WARNING:root:SPIKES COULD NOT BE GENERATED FOR 4.17\n",
      "WARNING:root:SPIKES COULD NOT BE GENERATED FOR 4.17\n"
     ]
    },
    {
     "name": "stdout",
     "output_type": "stream",
     "text": [
      "0     14.366\n",
      "1    9.88547\n",
      "Name: 43, dtype: object\n"
     ]
    },
    {
     "name": "stderr",
     "output_type": "stream",
     "text": [
      "WARNING:root:SPIKES COULD NOT BE GENERATED FOR 4.17\n",
      "WARNING:root:SPIKES COULD NOT BE GENERATED FOR 4.17\n",
      "WARNING:root:SPIKES COULD NOT BE GENERATED FOR 4.17\n",
      "WARNING:root:SPIKES COULD NOT BE GENERATED FOR 4.17\n",
      "WARNING:root:SPIKES COULD NOT BE GENERATED FOR 4.17\n",
      "WARNING:root:SPIKES COULD NOT BE GENERATED FOR 4.17\n",
      "WARNING:root:SPIKES COULD NOT BE GENERATED FOR 4.17\n",
      "WARNING:root:SPIKES COULD NOT BE GENERATED FOR 4.17\n",
      "WARNING:root:SPIKES COULD NOT BE GENERATED FOR 4.17\n",
      "WARNING:root:SPIKES COULD NOT BE GENERATED FOR 4.17\n",
      "WARNING:root:SPIKES COULD NOT BE GENERATED FOR 4.17\n",
      "WARNING:root:SPIKES COULD NOT BE GENERATED FOR 4.17\n",
      "WARNING:root:SPIKES COULD NOT BE GENERATED FOR 4.17\n",
      "WARNING:root:SPIKES COULD NOT BE GENERATED FOR 4.17\n",
      "WARNING:root:SPIKES COULD NOT BE GENERATED FOR 4.17\n",
      "WARNING:root:SPIKES COULD NOT BE GENERATED FOR 4.17\n",
      "WARNING:root:SPIKES COULD NOT BE GENERATED FOR 4.17\n",
      "WARNING:root:SPIKES COULD NOT BE GENERATED FOR 4.17\n",
      "WARNING:root:SPIKES COULD NOT BE GENERATED FOR 4.17\n",
      "WARNING:root:SPIKES COULD NOT BE GENERATED FOR 4.17\n",
      "WARNING:root:SPIKES COULD NOT BE GENERATED FOR 4.17\n",
      "WARNING:root:SPIKES COULD NOT BE GENERATED FOR 4.17\n"
     ]
    }
   ],
   "source": [
    "#creates model class\n",
    "vf_model = VF_Population_Model(4.17, \"SA\")\n",
    "\n",
    "#runs the model which calculates the results\n",
    "# vf_model.spatial_stress_vf_model()\n",
    "vf_model.radial_stress_vf_model()\n",
    "iffs_results = vf_model.get_iffs()\n",
    "stress_results = vf_model.get_stress_traces()\n",
    "\n",
    "\n",
    "# #writing the data to csv\n",
    "# vf_model.aggregate_results()\n",
    "\n",
    "# #plotting the aggregated_results\n",
    "# vf_model.plot()\n"
   ]
  },
  {
   "cell_type": "code",
   "execution_count": 149,
   "metadata": {},
   "outputs": [
    {
     "data": {
      "text/plain": [
       "{'afferent_type': 'SA',\n",
       " 'x_position': '8.8687',\n",
       " 'y_position': '4.40813',\n",
       " 'num_of_spikes': 110,\n",
       " 'mean_firing_frequency': 118.22937459445127,\n",
       " 'peak_firing_frequency': 0.2,\n",
       " 'first_spike_time': 93.5,\n",
       " 'last_spike_time': 2490.0}"
      ]
     },
     "execution_count": 149,
     "metadata": {},
     "output_type": "execute_result"
    }
   ],
   "source": [
    "iffs_results.get(1).get(0.33)"
   ]
  }
 ],
 "metadata": {
  "kernelspec": {
   "display_name": "Python 3",
   "language": "python",
   "name": "python3"
  },
  "language_info": {
   "codemirror_mode": {
    "name": "ipython",
    "version": 3
   },
   "file_extension": ".py",
   "mimetype": "text/x-python",
   "name": "python",
   "nbconvert_exporter": "python",
   "pygments_lexer": "ipython3",
   "version": "3.12.2"
  }
 },
 "nbformat": 4,
 "nbformat_minor": 2
}
