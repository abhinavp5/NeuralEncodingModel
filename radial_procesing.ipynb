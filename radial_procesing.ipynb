{
 "cells": [
  {
   "cell_type": "code",
   "execution_count": 1,
   "metadata": {},
   "outputs": [],
   "source": [
    "import pandas as pd\n",
    "import numpy as np\n",
    "import csv\n",
    "import re\n",
    "import matplotlib\n",
    "import matplotlib.pyplot as plt\n",
    "import matplotlib.patches as patches\n",
    "import logging\n",
    "import math\n",
    "from lmfit import minimize, fit_report, Parameters\n",
    "from aim2_population_model_spatial_aff_parallel import get_mod_spike\n",
    "from model_constants import (MC_GROUPS, LifConstants)\n",
    "from popul_model import pop_model\n",
    "from aim2_population_model_spatial_aff_parallel import Afferent, SimulationConfig, Simulation"
   ]
  },
  {
   "cell_type": "code",
   "execution_count": 7,
   "metadata": {},
   "outputs": [],
   "source": [
    "#Global Variables\n",
    "lmpars_init_dict = {}\n",
    "lmpars = Parameters()\n",
    "lmpars.add('tau1', value=8, vary=False)\n",
    "lmpars.add('tau2', value=200, vary=False)\n",
    "lmpars.add('tau3', value=1744.6, vary=False)\n",
    "lmpars.add('tau4', value=np.inf, vary=False)\n",
    "lmpars.add('k1', value=.74, vary=False, min=0) #a constant\n",
    "lmpars.add('k2', value=2.75, vary=False, min=0) #b constant\n",
    "lmpars.add('k3', value=.07, vary=False, min=0) #c constant\n",
    "lmpars.add('k4', value=.0312, vary=False, min=0)\n",
    "lmpars_init_dict['t3f12v3final'] = lmpars\n"
   ]
  },
  {
   "cell_type": "code",
   "execution_count": null,
   "metadata": {},
   "outputs": [],
   "source": [
    "def radial_stress_vf_model(afferent_type, vf_tip_size, scaling_factor = 0.3):\n",
    "    \"\"\" Read in the Radial which has sample stress traces for every 2mm from a center point\n",
    "    to calculate firing\"\"\"\n",
    "\n",
    "    #regex pattern for exstracting the distance from the middle point\n",
    "    distance_regex = r'\\d\\.\\d{2}'\n",
    "\n",
    "    #Reading in the radial stress file\n",
    "    radial_stress = pd.read_csv(f\"data/vfspatial/{vf_tip_size}_radial_stress.csv\")\n",
    "    radial_time = radial_stress['Time (ms)'].to_numpy()\n",
    "    \n",
    "    stress_data = {}\n",
    "    iff_data = {}\n",
    "    not_generated_radii = []\n",
    "\n",
    "    # Inner loop to iterate through radial distances\n",
    "    for col in radial_stress.columns[1:]:\n",
    "        distance_from_center = float(re.findall(distance_regex, col)[0])\n",
    "\n",
    "        # Initialize lists for each coordinate-distance pair\n",
    "        afferent_type = []\n",
    "        spikes = []\n",
    "        mean_firing_frequency = []\n",
    "        peak_firing_frequency = []\n",
    "        first_spike_time = []\n",
    "        last_spike_time = []\n",
    "\n",
    "        # if radial_spatial_flag:\n",
    "        #     radial_stress_vals = radial_stress[col]\n",
    "        #     radial_stress_max = np.max(radial_stress_vals)\n",
    "        #     distance_scaling_factor = spatial_stress_max / radial_stress_max\n",
    "        #     radial_spatial_flag = False\n",
    "        \n",
    "        #where the scaling happens\n",
    "        scaled_stress = radial_stress[col] *  scaling_factor\n",
    "\n",
    "        stress_data[distance_from_center] = {\n",
    "            \"Time\": radial_time,\n",
    "            distance_from_center: scaled_stress.to_numpy()\n",
    "        }\n",
    "\n",
    "        lmpars = lmpars_init_dict['t3f12v3final']\n",
    "        if afferent_type == \"RA\":\n",
    "            lmpars['tau1'].value = 2.5\n",
    "            lmpars['tau2'].value = 200\n",
    "            lmpars['tau3'].value = 1\n",
    "            lmpars['k1'].value = 35\n",
    "            lmpars['k2'].value = 0\n",
    "            lmpars['k3'].value = 0.0\n",
    "            lmpars['k4'].value = 0\n",
    "\n",
    "        groups = MC_GROUPS\n",
    "        mod_spike_time, mod_fr_inst = get_mod_spike(lmpars, groups, stress_data[distance_from_center][\"Time\"], stress_data[distance_from_center][distance_from_center])\n",
    "\n",
    "        if len(mod_spike_time) == 0 or len(mod_fr_inst) == 0:\n",
    "            logging.warning(f\"SPIKES COULD NOT BE GENERATED FOR {vf_tip_size}\")\n",
    "            not_generated_radii.append(distance_from_center)\n",
    "            continue\n",
    "\n",
    "        if len(mod_spike_time) != len(mod_fr_inst):\n",
    "            if len(mod_fr_inst) > 1:\n",
    "                mod_fr_inst_interp = np.interp(mod_spike_time, radial_time, mod_fr_inst)\n",
    "            else:\n",
    "                mod_fr_inst_interp = np.zeros_like(mod_spike_time)\n",
    "        else:\n",
    "            mod_fr_inst_interp = mod_fr_inst\n",
    "\n",
    "        features, _ = pop_model(mod_spike_time, mod_fr_inst_interp)\n",
    "\n",
    "        # Append single values to the lists\n",
    "        afferent_type.append(afferent_type)\n",
    "        spikes.append(len(mod_spike_time) if len(mod_spike_time) != 0 else None)\n",
    "        mean_firing_frequency.append(features[\"Average Firing Rate\"])\n",
    "        peak_firing_frequency.append(np.max(mod_fr_inst_interp))\n",
    "        first_spike_time.append(mod_spike_time[0] if len(mod_spike_time) != 0 else None)\n",
    "        last_spike_time.append(mod_spike_time[-1])\n",
    "\n",
    "        # Store each coordinate-distance dictionary within iff_data\n",
    "        iff_data[distance_from_center] = {\n",
    "            'afferent_type': afferent_type,\n",
    "            'num_of_spikes': spikes[0],\n",
    "            'mean_firing_frequency': mean_firing_frequency[0],\n",
    "            'peak_firing_frequency': peak_firing_frequency[0],\n",
    "            'first_spike_time': first_spike_time[0],\n",
    "            'last_spike_time': last_spike_time[0]\n",
    "        }\n",
    "\n",
    "    return stress_data, iff_data, not_generated_radii"
   ]
  },
  {
   "cell_type": "code",
   "execution_count": null,
   "metadata": {},
   "outputs": [
    {
     "name": "stderr",
     "output_type": "stream",
     "text": [
      "WARNING:root:SPIKES COULD NOT BE GENERATED FOR 4.17\n"
     ]
    }
   ],
   "source": [
    "\n",
    "stresses, iffs = radial_stress_vf_model(\"SA\",4.17, scaling_factor = .3)"
   ]
  },
  {
   "cell_type": "code",
   "execution_count": null,
   "metadata": {},
   "outputs": [
    {
     "name": "stdout",
     "output_type": "stream",
     "text": [
      "{0.0: {'afferent_type': [[...]], 'num_of_spikes': 177, 'mean_firing_frequency': 182.90411035143228, 'peak_firing_frequency': 0.3333333333333333, 'first_spike_time': 82.0, 'last_spike_time': 2491.5}, 0.33: {'afferent_type': [[...]], 'num_of_spikes': 110, 'mean_firing_frequency': 118.22937459445127, 'peak_firing_frequency': 0.2, 'first_spike_time': 93.5, 'last_spike_time': 2490.0}, 0.51: {'afferent_type': [[...]], 'num_of_spikes': 87, 'mean_firing_frequency': 97.31234183091911, 'peak_firing_frequency': 0.16666666666666666, 'first_spike_time': 99.5, 'last_spike_time': 2487.5}, 0.71: {'afferent_type': [[...]], 'num_of_spikes': 73, 'mean_firing_frequency': 84.40053297034072, 'peak_firing_frequency': 0.14285714285714285, 'first_spike_time': 104.0, 'last_spike_time': 2482.0}, 0.9: {'afferent_type': [[...]], 'num_of_spikes': 57, 'mean_firing_frequency': 70.65870543893888, 'peak_firing_frequency': 0.11764705882352941, 'first_spike_time': 110.5, 'last_spike_time': 2485.0}, 1.09: {'afferent_type': [[...]], 'num_of_spikes': 43, 'mean_firing_frequency': 58.6109370154411, 'peak_firing_frequency': 0.09523809523809523, 'first_spike_time': 118.0, 'last_spike_time': 2486.0}, 1.31: {'afferent_type': [[...]], 'num_of_spikes': 31, 'mean_firing_frequency': 45.75587952199513, 'peak_firing_frequency': 0.06896551724137931, 'first_spike_time': 129.0, 'last_spike_time': 2481.5}, 1.52: {'afferent_type': [[...]], 'num_of_spikes': 24, 'mean_firing_frequency': 35.94340880899483, 'peak_firing_frequency': 0.05555555555555555, 'first_spike_time': 139.5, 'last_spike_time': 2483.0}, 1.69: {'afferent_type': [[...]], 'num_of_spikes': 18, 'mean_firing_frequency': 27.18370662991354, 'peak_firing_frequency': 0.043478260869565216, 'first_spike_time': 152.0, 'last_spike_time': 2466.0}, 1.88: {'afferent_type': [[...]], 'num_of_spikes': 13, 'mean_firing_frequency': 18.336291590794584, 'peak_firing_frequency': 0.030303030303030304, 'first_spike_time': 172.0, 'last_spike_time': 2490.0}, 2.11: {'afferent_type': [[...]], 'num_of_spikes': 7, 'mean_firing_frequency': 10.54186702758098, 'peak_firing_frequency': 0.01834862385321101, 'first_spike_time': 205.0, 'last_spike_time': 2432.0}, 2.3: {'afferent_type': [[...]], 'num_of_spikes': 4, 'mean_firing_frequency': 5.713792351280675, 'peak_firing_frequency': 0.011428571428571429, 'first_spike_time': 243.0, 'last_spike_time': 2431.5}, 2.48: {'afferent_type': [[...]], 'num_of_spikes': 2, 'mean_firing_frequency': 0.23730422401518747, 'peak_firing_frequency': 0.00047460844803037496, 'first_spike_time': 289.0, 'last_spike_time': 2396.0}, 2.71: {'afferent_type': [[...]], 'num_of_spikes': 2, 'mean_firing_frequency': 0.23860653781913624, 'peak_firing_frequency': 0.0004772130756382725, 'first_spike_time': 333.0, 'last_spike_time': 2428.5}, 2.92: {'afferent_type': [[...]], 'num_of_spikes': 2, 'mean_firing_frequency': 0.23736055067647757, 'peak_firing_frequency': 0.00047472110135295516, 'first_spike_time': 294.5, 'last_spike_time': 2401.0}, 3.31: {'afferent_type': [[...]], 'num_of_spikes': 2, 'mean_firing_frequency': 0.23849272597185786, 'peak_firing_frequency': 0.0004769854519437157, 'first_spike_time': 330.5, 'last_spike_time': 2427.0}, 3.51: {'afferent_type': [[...]], 'num_of_spikes': 4, 'mean_firing_frequency': 4.867187062506741, 'peak_firing_frequency': 0.009708737864077669, 'first_spike_time': 259.5, 'last_spike_time': 2467.5}, 3.69: {'afferent_type': [[...]], 'num_of_spikes': 4, 'mean_firing_frequency': 5.791175568343162, 'peak_firing_frequency': 0.011494252873563218, 'first_spike_time': 240.0, 'last_spike_time': 2427.5}, 3.89: {'afferent_type': [[...]], 'num_of_spikes': 2, 'mean_firing_frequency': 0.23736055067647757, 'peak_firing_frequency': 0.00047472110135295516, 'first_spike_time': 295.0, 'last_spike_time': 2401.5}, 4.1: {'afferent_type': [[...]], 'num_of_spikes': 2, 'mean_firing_frequency': 0.23741690408357077, 'peak_firing_frequency': 0.0004748338081671415, 'first_spike_time': 297.5, 'last_spike_time': 2403.5}, 4.3: {'afferent_type': [[...]], 'num_of_spikes': 2, 'mean_firing_frequency': 0.23730422401518747, 'peak_firing_frequency': 0.00047460844803037496, 'first_spike_time': 290.0, 'last_spike_time': 2397.0}, 4.49: {'afferent_type': [[...]], 'num_of_spikes': 2, 'mean_firing_frequency': 0.23724792408066428, 'peak_firing_frequency': 0.00047449584816132857, 'first_spike_time': 278.0, 'last_spike_time': 2385.5}, 4.7: {'afferent_type': [[...]], 'num_of_spikes': 2, 'mean_firing_frequency': 0.23730422401518747, 'peak_firing_frequency': 0.00047460844803037496, 'first_spike_time': 274.5, 'last_spike_time': 2381.5}, 4.9: {'afferent_type': [[...]], 'num_of_spikes': 2, 'mean_firing_frequency': 0.23849272597185786, 'peak_firing_frequency': 0.0004769854519437157, 'first_spike_time': 329.5, 'last_spike_time': 2426.0}}\n"
     ]
    }
   ],
   "source": [
    "scaling_factors = np.linspace(0,.5,1000)\n",
    "\n",
    "for sf in scaling_factors:\n",
    "    \n"
   ]
  }
 ],
 "metadata": {
  "kernelspec": {
   "display_name": "Python 3",
   "language": "python",
   "name": "python3"
  },
  "language_info": {
   "codemirror_mode": {
    "name": "ipython",
    "version": 3
   },
   "file_extension": ".py",
   "mimetype": "text/x-python",
   "name": "python",
   "nbconvert_exporter": "python",
   "pygments_lexer": "ipython3",
   "version": "3.12.2"
  }
 },
 "nbformat": 4,
 "nbformat_minor": 2
}
